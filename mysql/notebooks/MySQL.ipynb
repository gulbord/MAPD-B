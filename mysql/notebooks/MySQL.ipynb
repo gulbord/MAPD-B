{
 "cells": [
  {
   "cell_type": "markdown",
   "id": "938f871d",
   "metadata": {},
   "source": [
    "# RDBMS - MySQL \n",
    "\n",
    "## 00 - Introduction\n",
    "\n",
    "Among the Relational DBMSs, the most widely known are Oracle, SQLite, Postgress, MariaDB, MySQL.\n",
    "\n",
    "Each one of them is characterized by a different set of \"variations\" on top of the base SQL language, although usually minor.\n",
    "\n",
    "We will use **MySQL** to run exercises about Relational DB transactions using the SQL language, as it is *today* at the top of the list of most widely used RDBs. \n",
    "\n",
    "https://db-engines.com/en/ranking_trend/relational+dbms\n",
    "\n",
    "https://www.statista.com/statistics/809750/worldwide-popularity-ranking-database-management-systems/\n",
    "\n",
    "https://insights.stackoverflow.com/survey/2021#most-popular-technologies-database"
   ]
  },
  {
   "cell_type": "code",
   "execution_count": 13,
   "id": "3a4bfc33",
   "metadata": {},
   "outputs": [],
   "source": [
    "import matplotlib.pyplot as plt\n",
    "import mysql.connector\n",
    "import numpy as np\n",
    "import pandas as pd"
   ]
  },
  {
   "cell_type": "markdown",
   "id": "3ce38833",
   "metadata": {},
   "source": [
    "MySQL programming interfaces exist for many languages, including C, C++, Go, Java, Perl, PHP, Python, etc...\n",
    "\n",
    "Even simply referring to Python, we can count on several options to connect and interact with the DBs. \n",
    "\n",
    "Let's explore a couple of them..."
   ]
  },
  {
   "cell_type": "markdown",
   "id": "4e97fb3a",
   "metadata": {},
   "source": [
    "## 01 - Create a connection to MySQL \n",
    "\n",
    "A MySQL server is in execution on one of your Docker containers.\n",
    "\n",
    "We can access it via the MySQL server credential we have defined in the docker-compose yml.\n",
    "\n",
    "A `root` user is created by default with:\n",
    "- user: `root`\n",
    "- password: `root_pwd`\n",
    "\n",
    "A non-`root` user is also created by default with:\n",
    "- user: `my_user`\n",
    "- password: `my_pwd`"
   ]
  },
  {
   "cell_type": "markdown",
   "id": "d66684cf",
   "metadata": {},
   "source": [
    "#### Interactive \n",
    "\n",
    "We can interact with the MySQL server by logging in interactively to its docker container.\n",
    "\n",
    "Check the `CONTAINER ID` of the container named `mysql_db` via:\n",
    "    \n",
    "```bash \n",
    "$ docker ps \n",
    "```\n",
    "\n",
    "And run `bash` (or `/bin/bash`) in interactive mode attaching it to the terminal (`-it`) on the container:\n",
    "\n",
    "```bash\n",
    "$ docker exec -it <YOUR CONTAINER ID> bash\n",
    "```\n",
    "\n",
    "From inside the container we can use the RDBMS interface as if we were logged into a remote MySQL server hosting our DBs\n",
    "\n",
    "```bash\n",
    "$ mysql -u <EITHER ROOT OR USER> -p\n",
    "``` "
   ]
  },
  {
   "cell_type": "markdown",
   "id": "1f0cb7ff",
   "metadata": {},
   "source": [
    "We can then inspect the MySQL server to show us all DBs:\n",
    "    \n",
    "```mysql\n",
    "SHOW DATABASES;\n",
    "```\n",
    "\n",
    "_NB_: remember to end a SQL command with a semicolon `;`"
   ]
  },
  {
   "cell_type": "markdown",
   "id": "55d9f2b8",
   "metadata": {},
   "source": [
    "#### mysql.connector"
   ]
  },
  {
   "cell_type": "markdown",
   "id": "bcb48d85",
   "metadata": {},
   "source": [
    "A more pythonic way of communicating with a MySQL server is by using a dedicated driver.\n",
    "\n",
    "We will use `mysql.connector`, which has already been installed in the Jupyter-notebook container for you.\n",
    "\n",
    "The connector offers an interface to declare a connection object to the server, and provides a series of functionalities to issue transactions and fetch records from DBs.\n",
    "\n",
    "We start by declaring a connection to our MySQL server.\n",
    "\n",
    "_NB_: the server is hosted in a different container from the notebook... we are simulating a connection between two differen machines, a client and a server."
   ]
  },
  {
   "cell_type": "code",
   "execution_count": 14,
   "id": "5591a13f",
   "metadata": {},
   "outputs": [
    {
     "name": "stdout",
     "output_type": "stream",
     "text": [
      "<mysql.connector.connection_cext.CMySQLConnection object at 0x7f0996949ee0>\n"
     ]
    }
   ],
   "source": [
    "# declare a connection to the MySQL server \n",
    "# the hostname (or IP) of the server machine should be passed\n",
    "db = mysql.connector.connect(\n",
    "  user = \"root\",\n",
    "  password = \"root_pwd\",\n",
    "  host = \"db\", # in this case 'db' is the equivalent of the IP address of the server \n",
    "               # or 'localhost' if running mysql locally\n",
    ")\n",
    "\n",
    "print(db)"
   ]
  },
  {
   "cell_type": "markdown",
   "id": "93eb72df",
   "metadata": {},
   "source": [
    "At this point a DB connection is enstablished\n",
    "\n",
    "To interact with the DB via python and mysql.connector we need a \"handle\", known as a cursor, which has to be instantiated.\n",
    "\n",
    "Using this connector to interact with the DB, all SQL statements are executed using the cursor."
   ]
  },
  {
   "cell_type": "code",
   "execution_count": 15,
   "id": "052b7a2c",
   "metadata": {},
   "outputs": [],
   "source": [
    "# create our db cursor object\n",
    "dbc = db.cursor()"
   ]
  },
  {
   "cell_type": "markdown",
   "id": "42686539",
   "metadata": {},
   "source": [
    "The cursor allows to execute all SQL transactions on the DB as if we were logged into the server.\n",
    "\n",
    "If a transaction will fetch a result from the DB (a set of records are returned), the connector object will retain the results.\n",
    "\n",
    "This might come in handy for us to use it in a more \"pythonic\" way later on, interfacing our DB query with other Python statements.\n",
    "\n",
    "The syntax for issuing a generic SQL statement is the following:\n",
    "\n",
    "```python\n",
    "connector_object.execute(my_sql_query)\n",
    "```\n",
    "\n",
    "For instance, let's try to execute the same check as before, by asking MySQL to show us all available DBs..."
   ]
  },
  {
   "cell_type": "code",
   "execution_count": 16,
   "id": "2bdcf2ff",
   "metadata": {},
   "outputs": [],
   "source": [
    "# show all available databases\n",
    "dbc.execute(\n",
    "\"SHOW DATABASES\"\n",
    ")"
   ]
  },
  {
   "cell_type": "markdown",
   "id": "e1325e30",
   "metadata": {},
   "source": [
    "No output is printed as the result of this SQL transaction is in fact \"collected\" into the cursor as a list of records (tuples).\n",
    "\n",
    "We can simply loop over them to return the results."
   ]
  },
  {
   "cell_type": "code",
   "execution_count": 17,
   "id": "663dd988",
   "metadata": {},
   "outputs": [
    {
     "name": "stdout",
     "output_type": "stream",
     "text": [
      "('IMDb',)\n",
      "('information_schema',)\n",
      "('mysql',)\n",
      "('performance_schema',)\n",
      "('sys',)\n"
     ]
    }
   ],
   "source": [
    "# loop over the container to fetch the results\n",
    "for _ in dbc:\n",
    "    print(_)"
   ]
  },
  {
   "cell_type": "markdown",
   "id": "b11de704",
   "metadata": {},
   "source": [
    "If we are `root` users in this example, we are able to see inner structure of the mysql server, which already contains a few dbs by default. \n",
    "\n",
    "Once fetched the output of the transaction, the cursor reaches \"the end\" of the records, and is available to perform a new transaction"
   ]
  },
  {
   "cell_type": "code",
   "execution_count": 5,
   "id": "fe7dbbb5",
   "metadata": {},
   "outputs": [],
   "source": [
    "# use fetch to retrieve one, many, or all entries in the cursor\n",
    "dbc.fetchone()\n",
    "\n",
    "# dbc.fetchmany(2)\n",
    "\n",
    "# dbc.fetchall()"
   ]
  },
  {
   "cell_type": "markdown",
   "id": "91be5564",
   "metadata": {},
   "source": [
    "In the case one wants to perform a new transaction without collecting the output of the previos one from the cursor, a reset have to be issued first:\n",
    "\n",
    "```python \n",
    "connector_object.reset()\n",
    "```\n"
   ]
  },
  {
   "cell_type": "markdown",
   "id": "ea86a443",
   "metadata": {},
   "source": [
    "In the case a generic user is instead logged into the db (i.e. non the `root` user), it will not have access to a set of functionalities, and will not be able to see the previous list of all databases.\n",
    "\n",
    "Some of those are in fact protected and used to store additional information on the state of the MySQL server, the users connected, ..."
   ]
  },
  {
   "cell_type": "code",
   "execution_count": 6,
   "id": "1f71b747",
   "metadata": {},
   "outputs": [
    {
     "data": {
      "text/plain": [
       "[('information_schema',), ('performance_schema',)]"
      ]
     },
     "execution_count": 6,
     "metadata": {},
     "output_type": "execute_result"
    }
   ],
   "source": [
    "udb = mysql.connector.connect(\n",
    "  user=\"my_user\",\n",
    "  password=\"my_pwd\",\n",
    "  host=\"db\",\n",
    ")\n",
    "\n",
    "udbc = udb.cursor()\n",
    "\n",
    "udbc.execute(\n",
    "\"SHOW DATABASES\"\n",
    ")\n",
    "\n",
    "udbc.fetchall()"
   ]
  },
  {
   "cell_type": "markdown",
   "id": "b10b13ac",
   "metadata": {},
   "source": [
    "#### iPython magic\n",
    "\n",
    "An alternative way to perform queries from Python over a Jupyter-notebook is by using some notebook \"magic\", based on iPython and SQLAlchemy.\n",
    "\n",
    "This is a similar thing to what is usually done to load inline a figure from matplotlib (the `%matplotlib inline` thingy).\n",
    "\n",
    "To instruct iPython to interpret SQL commands, and to connect to the proper DB we have to: \n",
    "1. load the extension for SQL language\n",
    "2. set the environment variable to point to the connection to the DB"
   ]
  },
  {
   "cell_type": "code",
   "execution_count": 9,
   "id": "ba19dac1",
   "metadata": {},
   "outputs": [
    {
     "name": "stdout",
     "output_type": "stream",
     "text": [
      "env: DATABASE_URL=mysql+mysqlconnector://root:root_pwd@db\n"
     ]
    }
   ],
   "source": [
    "%load_ext sql\n",
    "\n",
    "%env DATABASE_URL=mysql+mysqlconnector://root:root_pwd@db"
   ]
  },
  {
   "cell_type": "markdown",
   "id": "f0ccff35",
   "metadata": {},
   "source": [
    "Now, the notebooks cells can perform SQL transactions directly in plain SQL, by starting the cell with `%%sql`.\n",
    "\n",
    "By default, the result is also printed with the `pretty` pandas-like format."
   ]
  },
  {
   "cell_type": "code",
   "execution_count": 10,
   "id": "1e9995eb",
   "metadata": {},
   "outputs": [
    {
     "name": "stdout",
     "output_type": "stream",
     "text": [
      "5 rows affected.\n"
     ]
    },
    {
     "data": {
      "text/html": [
       "<table>\n",
       "    <tr>\n",
       "        <th>Database</th>\n",
       "    </tr>\n",
       "    <tr>\n",
       "        <td>IMDb</td>\n",
       "    </tr>\n",
       "    <tr>\n",
       "        <td>information_schema</td>\n",
       "    </tr>\n",
       "    <tr>\n",
       "        <td>mysql</td>\n",
       "    </tr>\n",
       "    <tr>\n",
       "        <td>performance_schema</td>\n",
       "    </tr>\n",
       "    <tr>\n",
       "        <td>sys</td>\n",
       "    </tr>\n",
       "</table>"
      ],
      "text/plain": [
       "[('IMDb',),\n",
       " ('information_schema',),\n",
       " ('mysql',),\n",
       " ('performance_schema',),\n",
       " ('sys',)]"
      ]
     },
     "execution_count": 10,
     "metadata": {},
     "output_type": "execute_result"
    }
   ],
   "source": [
    "%%sql\n",
    "\n",
    "SHOW DATABASES;"
   ]
  },
  {
   "cell_type": "markdown",
   "id": "b6c9f988",
   "metadata": {},
   "source": [
    "An additional benefit is that a single `%sql` (not a double `%%sql`) can be used to join a SQL query with any Python command"
   ]
  },
  {
   "cell_type": "code",
   "execution_count": 7,
   "id": "2e3eb6c6",
   "metadata": {},
   "outputs": [
    {
     "name": "stdout",
     "output_type": "stream",
     "text": [
      " * mysql+mysqlconnector://root:***@db\n",
      "5 rows affected.\n",
      "+--------------------+\n",
      "|      Database      |\n",
      "+--------------------+\n",
      "| information_schema |\n",
      "|       mysql        |\n",
      "| performance_schema |\n",
      "|        sys         |\n",
      "|       world        |\n",
      "+--------------------+\n"
     ]
    }
   ],
   "source": [
    "my_python_var = %sql SHOW DATABASES\n",
    "\n",
    "print(my_python_var)"
   ]
  },
  {
   "cell_type": "markdown",
   "id": "d3885276",
   "metadata": {},
   "source": [
    "The combination of either of the two pythonic methods can be used to easily redirect the output of DB transactions to exploit all other well-known python modules, e.g. plotting with matplotlib"
   ]
  },
  {
   "cell_type": "code",
   "execution_count": 8,
   "id": "ec00522f",
   "metadata": {},
   "outputs": [
    {
     "data": {
      "image/png": "[encoded data removed]",
      "text/plain": [
       "<Figure size 640x480 with 1 Axes>"
      ]
     },
     "metadata": {},
     "output_type": "display_data"
    }
   ],
   "source": [
    "%matplotlib inline\n",
    "\n",
    "plt.hist(my_python_var);\n",
    "plt.xticks(rotation='vertical');"
   ]
  },
  {
   "cell_type": "markdown",
   "id": "651dcb6b",
   "metadata": {},
   "source": [
    "## 02 Database and Table creation"
   ]
  },
  {
   "cell_type": "markdown",
   "id": "045ce129",
   "metadata": {},
   "source": [
    "We have already seen how we inspect the server to see which DBs are present via the command:\n",
    "\n",
    "```mysql\n",
    "SHOW DATABASES;\n",
    "```\n",
    "\n",
    "We can start interacting with a specific DB by selecting which one to use via \n",
    "\n",
    "```mysql\n",
    "USE <DB_NAME>;\n",
    "```\n",
    "\n",
    "If instead we want to create a new DB to work with, we can use the command\n",
    "\n",
    "```mysql\n",
    "CREATE DATABASE <DB_NAME>;\n",
    "```\n",
    "\n",
    "A more complex sintax can be used to create a new DB if and only if no other DB with the same name already exists.\n",
    "\n",
    "```mysql\n",
    "CREATE DATABASE IF NOT EXISTS <DB_NAME>;\n",
    "```\n",
    "\n",
    "If the user has been granted the right to access this DB, it's possible to start investigating the content of the DB in use."
   ]
  },
  {
   "cell_type": "markdown",
   "id": "8c848513",
   "metadata": {},
   "source": [
    "Check if a DB named `my_db` exist, and if not, create one. \n",
    "Then, switch to the new DB to start using it."
   ]
  },
  {
   "cell_type": "code",
   "execution_count": null,
   "id": "8edbe225",
   "metadata": {},
   "outputs": [],
   "source": [
    "%%sql\n",
    "\n",
    "CREATE DATABASE IF NOT EXISTS my_db;"
   ]
  },
  {
   "cell_type": "code",
   "execution_count": null,
   "id": "40509cdf",
   "metadata": {},
   "outputs": [],
   "source": [
    "%%sql\n",
    "\n",
    "SHOW DATABASES;"
   ]
  },
  {
   "cell_type": "code",
   "execution_count": 16,
   "id": "a88a58af",
   "metadata": {},
   "outputs": [
    {
     "name": "stdout",
     "output_type": "stream",
     "text": [
      " * mysql+mysqlconnector://root:***@db\n",
      "0 rows affected.\n"
     ]
    },
    {
     "data": {
      "text/plain": [
       "[]"
      ]
     },
     "execution_count": 16,
     "metadata": {},
     "output_type": "execute_result"
    }
   ],
   "source": [
    "%%sql\n",
    "\n",
    "USE my_db;"
   ]
  },
  {
   "cell_type": "markdown",
   "id": "01bd56f7",
   "metadata": {},
   "source": [
    "All tables contained in the DB are shown in a similar way to what used to show all DBs on the server:\n",
    "\n",
    "```mysql\n",
    "SHOW TABLES;\n",
    "```\n",
    "\n",
    "_NB_: we are inspecting the content of a specific DB (the one selected with `USE <DB_NAME>`)"
   ]
  },
  {
   "cell_type": "code",
   "execution_count": 17,
   "id": "bae6e5c7",
   "metadata": {},
   "outputs": [
    {
     "name": "stdout",
     "output_type": "stream",
     "text": [
      " * mysql+mysqlconnector://root:***@db\n",
      "3 rows affected.\n"
     ]
    },
    {
     "data": {
      "text/html": [
       "<table>\n",
       "    <tr>\n",
       "        <th>Tables_in_my_db</th>\n",
       "    </tr>\n",
       "    <tr>\n",
       "        <td>products</td>\n",
       "    </tr>\n",
       "    <tr>\n",
       "        <td>supplier_to_product</td>\n",
       "    </tr>\n",
       "    <tr>\n",
       "        <td>suppliers</td>\n",
       "    </tr>\n",
       "</table>"
      ],
      "text/plain": [
       "[('products',), ('supplier_to_product',), ('suppliers',)]"
      ]
     },
     "execution_count": 17,
     "metadata": {},
     "output_type": "execute_result"
    }
   ],
   "source": [
    "%%sql \n",
    "\n",
    "SHOW TABLES;"
   ]
  },
  {
   "cell_type": "markdown",
   "id": "c27b3ca7",
   "metadata": {},
   "source": [
    "The analogous pythonic way to execute the same list of commands (using the mysql.connector driver) is the following.\n",
    "\n",
    "_NB_: This time, as we are not retrieving results from the server but we are instead creating a DB, we have to specify that we want to _commit_ a change to the server; "
   ]
  },
  {
   "cell_type": "code",
   "execution_count": 25,
   "id": "98b95e6e",
   "metadata": {},
   "outputs": [],
   "source": [
    "# defining the sql command line\n",
    "sql_ = \"CREATE DATABASE IF NOT EXISTS my_db;\"\n",
    "\n",
    "# instructing the cursor to execute it\n",
    "dbc.execute(sql_)\n",
    "\n",
    "# in this case the result of the sql transaction is not to return a list of items \n",
    "# it is instead a change in the DB structure\n",
    "# therefore, for the change to have effect, a the change is to be committed to the DB\n",
    "db.commit() "
   ]
  },
  {
   "cell_type": "markdown",
   "id": "5ece7e17",
   "metadata": {},
   "source": [
    "All other commands, `USE` and `SHOW`, do not require any change to be committed, therefore we can simply issue them via the cursor."
   ]
  },
  {
   "cell_type": "code",
   "execution_count": 26,
   "id": "0d96157a",
   "metadata": {},
   "outputs": [
    {
     "data": {
      "text/plain": [
       "[('products',), ('supplier_to_product',), ('suppliers',)]"
      ]
     },
     "execution_count": 26,
     "metadata": {},
     "output_type": "execute_result"
    }
   ],
   "source": [
    "dbc.execute(\"USE my_db\")\n",
    "\n",
    "dbc.execute(\"SHOW TABLES\")\n",
    "dbc.fetchall()"
   ]
  },
  {
   "cell_type": "markdown",
   "id": "17f8781c",
   "metadata": {},
   "source": [
    "So far the DB is empty, so let's use the same lines presented in the slides to create a dummy `Users` table.\n",
    "\n",
    "Any table can then be inspected to check its schema by listing all attributes.\n",
    "\n",
    "1. Create the `Users` table declaring the schema by defining each attributes\n",
    "2. Check if the table has been created on the DB via a `SHOW` command\n",
    "3. Check the Table schema by issuing `DESCRIBE <TABLE_NAME>`"
   ]
  },
  {
   "cell_type": "code",
   "execution_count": null,
   "id": "db09b101",
   "metadata": {},
   "outputs": [],
   "source": [
    "%%sql\n",
    "\n",
    "CREATE TABLE Users (\n",
    "    UserID varchar(30),\n",
    "    BadgeNum int(16),\n",
    "    FirstName varchar(255),\n",
    "    LastName varchar(255),\n",
    "    Age int,\n",
    "    OtherAttr float\n",
    ");"
   ]
  },
  {
   "cell_type": "code",
   "execution_count": null,
   "id": "d9c98a2c",
   "metadata": {
    "scrolled": true
   },
   "outputs": [],
   "source": [
    "%%sql \n",
    "\n",
    "SHOW TABLES;"
   ]
  },
  {
   "cell_type": "code",
   "execution_count": null,
   "id": "89052ab1",
   "metadata": {},
   "outputs": [],
   "source": [
    "%%sql\n",
    "\n",
    "DESCRIBE Users;"
   ]
  },
  {
   "cell_type": "markdown",
   "id": "959376c7",
   "metadata": {},
   "source": [
    "Following on the lines of the previous examples, perform the same transactions with the `mysql.connector` driver.\n",
    "\n",
    "This time, as the `Users` table already exists, we can create a `Users_py` table.\n",
    "\n",
    "Remember:\n",
    "- Use the DB Cursor to execute the transactions\n",
    "- Transaction that change the content of the DB have to be _committed_ to the DB\n",
    "- Transactions returing the content of the DB host their results _in the cursor_"
   ]
  },
  {
   "cell_type": "code",
   "execution_count": 27,
   "id": "a9d01087",
   "metadata": {},
   "outputs": [],
   "source": [
    "dbc.reset()"
   ]
  },
  {
   "cell_type": "code",
   "execution_count": 28,
   "id": "2159b935",
   "metadata": {},
   "outputs": [],
   "source": [
    "# create table\n",
    "sql_ = \"CREATE TABLE Users_py (\\\n",
    "    UserID varchar(30),\\\n",
    "    BadgeNum int(16),\\\n",
    "    FirstName varchar(255),\\\n",
    "    LastName varchar(255),\\\n",
    "    Age int,\\\n",
    "    OtherAttr float\\\n",
    ");\"\n",
    "\n",
    "dbc.execute(sql_)\n",
    "\n",
    "db.commit()"
   ]
  },
  {
   "cell_type": "code",
   "execution_count": 29,
   "id": "4cb9e6ef",
   "metadata": {},
   "outputs": [],
   "source": [
    "dbc.execute(\"SHOW TABLES\")"
   ]
  },
  {
   "cell_type": "code",
   "execution_count": 30,
   "id": "18992578",
   "metadata": {},
   "outputs": [
    {
     "data": {
      "text/plain": [
       "[('Users_py',), ('products',), ('supplier_to_product',), ('suppliers',)]"
      ]
     },
     "execution_count": 30,
     "metadata": {},
     "output_type": "execute_result"
    }
   ],
   "source": [
    "dbc.fetchall()"
   ]
  },
  {
   "cell_type": "code",
   "execution_count": 31,
   "id": "21233ea2",
   "metadata": {},
   "outputs": [],
   "source": [
    "# describe table\n",
    "dbc.execute(\"DESCRIBE Users_py\")"
   ]
  },
  {
   "cell_type": "code",
   "execution_count": 32,
   "id": "aa0dde33",
   "metadata": {},
   "outputs": [
    {
     "data": {
      "text/plain": [
       "[('UserID', b'varchar(30)', 'YES', '', None, ''),\n",
       " ('BadgeNum', b'int', 'YES', '', None, ''),\n",
       " ('FirstName', b'varchar(255)', 'YES', '', None, ''),\n",
       " ('LastName', b'varchar(255)', 'YES', '', None, ''),\n",
       " ('Age', b'int', 'YES', '', None, ''),\n",
       " ('OtherAttr', b'float', 'YES', '', None, '')]"
      ]
     },
     "execution_count": 32,
     "metadata": {},
     "output_type": "execute_result"
    }
   ],
   "source": [
    "dbc.fetchall()"
   ]
  },
  {
   "cell_type": "markdown",
   "id": "362814c1",
   "metadata": {},
   "source": [
    "## 03 Declaring contstraints and altering tables"
   ]
  },
  {
   "cell_type": "markdown",
   "id": "c0443720",
   "metadata": {},
   "source": [
    "Let's clean up all existing tables in our database.\n",
    "\n",
    "To remove an existing table from a DB we can issue the instruction:\n",
    "    \n",
    "```mysql\n",
    "DROP TABLE IF EXISTS <NAME OF YOUR TABLE>;\n",
    "```\n",
    "\n",
    "Be ***extremely careful*** when doing this... Dropping a Table means losing all records from that table, and severing all connections with other tables based on foreign keys. The entire DB might become unusable!\n"
   ]
  },
  {
   "cell_type": "code",
   "execution_count": 33,
   "id": "04c9db37",
   "metadata": {},
   "outputs": [
    {
     "name": "stdout",
     "output_type": "stream",
     "text": [
      " * mysql+mysqlconnector://root:***@db\n",
      "0 rows affected.\n"
     ]
    },
    {
     "data": {
      "text/plain": [
       "[]"
      ]
     },
     "execution_count": 33,
     "metadata": {},
     "output_type": "execute_result"
    }
   ],
   "source": [
    "%%sql \n",
    "\n",
    "DROP TABLE IF EXISTS Users;"
   ]
  },
  {
   "cell_type": "markdown",
   "id": "710dad35",
   "metadata": {},
   "source": [
    "Let's also drop the `Users_py` table using the Python connetor"
   ]
  },
  {
   "cell_type": "code",
   "execution_count": 34,
   "id": "9e69859f",
   "metadata": {
    "scrolled": true
   },
   "outputs": [],
   "source": [
    "dbc.execute(\"DROP TABLE IF EXISTS Users_py\")\n",
    "db.commit()"
   ]
  },
  {
   "cell_type": "markdown",
   "id": "6e686164",
   "metadata": {},
   "source": [
    "Create a new `products` table with the following schema:\n",
    "\n",
    "| Attribute | Type | Extra info | Constraint | \n",
    "| --- | --- | --- |--- |\n",
    "| productID   | Integer | | NOT NULL AUTO_INCREMENT |\n",
    "| productName | String | Max length 30 | DEFAULT \"\" |\n",
    "| unitPrice   | Float | | NOT NULL DEFAULT 99999.99|\n",
    "| unitsInStock | Integer | Unsigned | NOT NULL DEFAULT 0 |\n",
    "\n",
    "`productID` will also be our `PRIMARY KEY`\n",
    "\n",
    "This can be declared either inline or at the end of the table definition:\n",
    "\n",
    "```mysql\n",
    "productID INT NOT NULL UNIQUE AUTO_INCREMENT PRIMARY KEY\n",
    "```\n",
    "\n",
    "or \n",
    "\n",
    "```mysql\n",
    "productID INT NOT NULL UNIQUE AUTO_INCREMENT\n",
    "...\n",
    "PRIMARY KEY (productID)\n",
    "```"
   ]
  },
  {
   "cell_type": "code",
   "execution_count": null,
   "id": "76607839",
   "metadata": {},
   "outputs": [],
   "source": [
    "%%sql\n",
    "\n",
    "CREATE TABLE IF NOT EXISTS products (\n",
    "         productID    INT          NOT NULL UNIQUE AUTO_INCREMENT PRIMARY KEY,\n",
    "         productName  VARCHAR(30)  DEFAULT \"\" ,\n",
    "         unitPrice    FLOAT        NOT NULL DEFAULT 99999.99,\n",
    "         unitsInStock INT UNSIGNED NOT NULL DEFAULT 0\n",
    ");"
   ]
  },
  {
   "cell_type": "code",
   "execution_count": null,
   "id": "c15a1cad",
   "metadata": {
    "scrolled": true
   },
   "outputs": [],
   "source": [
    "%%sql\n",
    "\n",
    "DESCRIBE products;"
   ]
  },
  {
   "cell_type": "markdown",
   "id": "d6603107",
   "metadata": {},
   "source": [
    "The table does not contain any constraint, default values, or keys.\n",
    "\n",
    "A table can be altered by adding/removing Attributes, as well as by adding constraints.\n",
    "\n",
    "Let's first add a new attribute to the table:\n",
    "\n",
    "| Attribute | Type | Extra info | Constraint | \n",
    "| --- | --- | --- |--- |\n",
    "| productID   | Integer | | NOT NULL AUTO_INCREMENT |\n",
    "| productName | String | Max length 30 | DEFAULT \"\" |\n",
    "| unitPrice   | Float | | NOT NULL DEFAULT 99999.99|\n",
    "| unitsInStock | Integer | Unsigned | NOT NULL DEFAULT 0 |\n",
    "| **isDiscontinued**  | **Bool** | | NOT NULL |\n",
    "\n",
    "To alter a table and create a new column we can act on it with:\n",
    "\n",
    "```mysql\n",
    "ALTER TABLE <THE TABLE>\n",
    "ADD COLUMN <NEW COL> <THE NEW ATTRIBUTE DECLARATION>;\n",
    "```\n"
   ]
  },
  {
   "cell_type": "markdown",
   "id": "d0dda2e9",
   "metadata": {},
   "source": [
    "Alter the `products` table and add the `isDiscontinued` attribute"
   ]
  },
  {
   "cell_type": "code",
   "execution_count": null,
   "id": "56c92834",
   "metadata": {},
   "outputs": [],
   "source": [
    "%%sql\n",
    "\n",
    "ALTER TABLE products\n",
    "ADD COLUMN isDiscontinued BOOL NOT NULL;"
   ]
  },
  {
   "cell_type": "code",
   "execution_count": null,
   "id": "1898ced9",
   "metadata": {},
   "outputs": [],
   "source": [
    "%%sql \n",
    "\n",
    "DESCRIBE products;"
   ]
  },
  {
   "cell_type": "markdown",
   "id": "fb44152a",
   "metadata": {},
   "source": [
    "`isDiscontinued` does however not contain any meaningful constraint or default value.\n",
    "Let's consider `0` as a good default value:\n",
    "\n",
    "| Attribute | Type | Extra info | Constraint | \n",
    "| --- | --- | --- |--- |\n",
    "| productID   | Integer | | NOT NULL AUTO_INCREMENT |\n",
    "| productName | String | Max length 30 | DEFAULT \"\" |\n",
    "| unitPrice   | Float | | NOT NULL DEFAULT 99999.99|\n",
    "| unitsInStock | Integer | Unsigned | NOT NULL DEFAULT 0 |\n",
    "| isDiscontinued  | Bool | | NOT NULL **DEFAULT 0** |\n",
    "\n",
    "\n",
    "We can use the same `ALTER TABLE` instruction to do this:\n",
    "    \n",
    "```mysql\n",
    "ALTER TABLE <THE TABLE>\n",
    "ALTER <ATTRIBUTE> SET DEFAULT <NEW DEFAULT>;\n",
    "```"
   ]
  },
  {
   "cell_type": "code",
   "execution_count": null,
   "id": "588dca8b",
   "metadata": {},
   "outputs": [],
   "source": [
    "%%sql\n",
    "\n",
    "ALTER TABLE products\n",
    "ALTER isDiscontinued SET DEFAULT 0;"
   ]
  },
  {
   "cell_type": "code",
   "execution_count": null,
   "id": "93517bd8",
   "metadata": {},
   "outputs": [],
   "source": [
    "%%sql \n",
    "\n",
    "DESCRIBE products;"
   ]
  },
  {
   "cell_type": "markdown",
   "id": "1500dc54",
   "metadata": {},
   "source": [
    "We can also impose `productName` to be not-null altering the table one final time.\n",
    "\n",
    "| Attribute | Type | Extra info | Constraint | \n",
    "| --- | --- | --- |--- |\n",
    "| productID   | Integer | | NOT NULL AUTO_INCREMENT |\n",
    "| productName | String | Max length 30 | **NOT NULL** DEFAULT \"\" |\n",
    "| unitPrice   | Float | | NOT NULL DEFAULT 99999.99|\n",
    "| unitsInStock | Integer | Unsigned | NOT NULL DEFAULT 0 |\n",
    "| isDiscontinued  | Bool | | NOT NULL DEFAULT 0 |\n",
    "\n",
    "\n",
    "In MySQL, this implies to modify the entire attribute, thus the Type will have to be re-stated:\n",
    "    \n",
    "```mysql\n",
    "ALTER TABLE <THE TABLE>\n",
    "MODIFY <ATTRIBUTE> <ATTRIBUTE TYPE> <CONSTRAINT>;\n",
    "```"
   ]
  },
  {
   "cell_type": "code",
   "execution_count": null,
   "id": "ab4bb7ea",
   "metadata": {},
   "outputs": [],
   "source": [
    "%%sql\n",
    "\n",
    "ALTER TABLE products\n",
    "MODIFY productName VARCHAR(30) NOT NULL DEFAULT \"\";"
   ]
  },
  {
   "cell_type": "code",
   "execution_count": null,
   "id": "0a7aeef5",
   "metadata": {},
   "outputs": [],
   "source": [
    "%%sql\n",
    "\n",
    "DESCRIBE products;"
   ]
  },
  {
   "cell_type": "markdown",
   "id": "4f0cc301",
   "metadata": {},
   "source": [
    "Let's now create a `suppliers` table with the following description:\n",
    "\n",
    "| Attribute | Type | Extra info | Constraint | \n",
    "| --- | --- | --- |--- |\n",
    "| supplierID   | Integer | | NOT NULL AUTO_INCREMENT |\n",
    "| supplierName | String | Max length 30 | NOT NULL DEFAULT \"\" |\n",
    "| countryCode   | Char | Length 3 | NOT NULL |\n",
    "| email   | String | Max length 30  | NOT NULL |\n",
    "\n",
    "`supplierID` is going to act as the table's primary key in this case."
   ]
  },
  {
   "cell_type": "code",
   "execution_count": null,
   "id": "6148bc2a",
   "metadata": {},
   "outputs": [],
   "source": [
    "%%sql\n",
    "\n",
    "CREATE TABLE suppliers (\n",
    "    supplierID      INT NOT NULL UNIQUE AUTO_INCREMENT PRIMARY KEY,\n",
    "    supplierName    VARCHAR(30) NOT NULL DEFAULT \"\",\n",
    "    countryCode     CHAR(3) NOT NULL,\n",
    "    email           VARCHAR(30) NOT NULL\n",
    ");"
   ]
  },
  {
   "cell_type": "code",
   "execution_count": null,
   "id": "be2bcf16",
   "metadata": {},
   "outputs": [],
   "source": [
    "%%sql\n",
    "\n",
    "DESCRIBE suppliers;"
   ]
  },
  {
   "cell_type": "markdown",
   "id": "20235130",
   "metadata": {},
   "source": [
    "Alter the table to include a default \"ITA\" for `countryCode`"
   ]
  },
  {
   "cell_type": "code",
   "execution_count": null,
   "id": "b281a56f",
   "metadata": {},
   "outputs": [],
   "source": [
    "%%sql \n",
    "\n",
    "ALTER TABLE suppliers \n",
    "ALTER countryCode SET DEFAULT \"ITA\";"
   ]
  },
  {
   "cell_type": "code",
   "execution_count": null,
   "id": "1429a26a",
   "metadata": {},
   "outputs": [],
   "source": [
    "%%sql\n",
    "\n",
    "DESCRIBE suppliers;"
   ]
  },
  {
   "cell_type": "code",
   "execution_count": null,
   "id": "d6781a55",
   "metadata": {},
   "outputs": [],
   "source": [
    "%%sql\n",
    "\n",
    "SHOW TABLES;"
   ]
  },
  {
   "cell_type": "markdown",
   "id": "dc1acf30",
   "metadata": {},
   "source": [
    "To enstablish a relation between the `products` and `suppliers` tables, we have to consider that:\n",
    "    \n",
    "- a supplier can supply multiple products\n",
    "- a product can be supplied by multiple suppliers\n",
    "\n",
    "This is a many-to-many relationship, which requires a supporting external table.\n",
    "\n",
    "Create a new `supplier_to_product` table with the following attributes:\n",
    "    \n",
    "| Attribute | Type | Extra info | Constraint | \n",
    "| --- | --- | --- |--- |\n",
    "| prodID   | Integer | | NOT NULL |\n",
    "| supID    | Integer | | NOT NULL |\n"
   ]
  },
  {
   "cell_type": "code",
   "execution_count": null,
   "id": "db88cd48",
   "metadata": {},
   "outputs": [],
   "source": [
    "%%sql \n",
    "\n",
    "CREATE TABLE supplier_to_product(\n",
    "    prodID INT NOT NULL,\n",
    "    supID  INT NOT NULL\n",
    ");"
   ]
  },
  {
   "cell_type": "code",
   "execution_count": null,
   "id": "423c0c9d",
   "metadata": {},
   "outputs": [],
   "source": [
    "%%sql \n",
    "\n",
    "DESCRIBE supplier_to_product;"
   ]
  },
  {
   "cell_type": "markdown",
   "id": "c4a331ac",
   "metadata": {},
   "source": [
    "Neither prodID nor supID is a good primary key in this case, as we can have both appearing multiple times in the table.\n",
    "\n",
    "However, a good primary key for this table is the combination (prodID,supID) which is absolutely unique, and thus, a good key.\n",
    "\n",
    "We can alter the table to add the primary key statement:\n",
    "    \n",
    "```mysql\n",
    "ALTER TABLE <TABLE>\n",
    "ADD PRIMARY KEY <ATTRIBUTE COMBINATION>;\n",
    "```"
   ]
  },
  {
   "cell_type": "code",
   "execution_count": null,
   "id": "c9af8305",
   "metadata": {},
   "outputs": [],
   "source": [
    "%%sql\n",
    "\n",
    "ALTER TABLE supplier_to_product\n",
    "ADD PRIMARY KEY (prodID,supID);"
   ]
  },
  {
   "cell_type": "code",
   "execution_count": null,
   "id": "bcf46951",
   "metadata": {},
   "outputs": [],
   "source": [
    "%%sql\n",
    "\n",
    "DESCRIBE supplier_to_product;"
   ]
  },
  {
   "cell_type": "markdown",
   "id": "0cdf1d3f",
   "metadata": {},
   "source": [
    "Finally, we can link the 3 tables together by stating which attributes act as the foreign keys in the `supplier_to_product` table, and to which Attributes in the parent tables they refer to.\n",
    "\n",
    "- `prodID` points to the `productID` attribute of `products` table\n",
    "- `supID` points to the `supplierID` attribute of `supplier` table\n",
    "\n",
    "```mysql\n",
    "ALTER TABLE <TABLE>\n",
    "ADD FOREIGN KEY (<ATTRIBUTE IN THIS TABLE>) REFERENCES <OTHER TABLE>(<ATTRIBUTE IN OTHER TABLE>);\n",
    "```"
   ]
  },
  {
   "cell_type": "code",
   "execution_count": null,
   "id": "18a93107",
   "metadata": {},
   "outputs": [],
   "source": [
    "%%sql \n",
    "\n",
    "ALTER TABLE supplier_to_product \n",
    "ADD CONSTRAINT FK_prod\n",
    "FOREIGN KEY (prodID) REFERENCES products(productID);"
   ]
  },
  {
   "cell_type": "code",
   "execution_count": null,
   "id": "be11f100",
   "metadata": {},
   "outputs": [],
   "source": [
    "%%sql \n",
    "\n",
    "ALTER TABLE supplier_to_product \n",
    "ADD CONSTRAINT FK_sup\n",
    "FOREIGN KEY (supID) REFERENCES suppliers(supplierID);"
   ]
  },
  {
   "cell_type": "code",
   "execution_count": null,
   "id": "93af46b3",
   "metadata": {},
   "outputs": [],
   "source": [
    "%%sql\n",
    "\n",
    "DESCRIBE supplier_to_product;"
   ]
  },
  {
   "cell_type": "markdown",
   "id": "f814bec8",
   "metadata": {},
   "source": [
    "## 04 Inserting Updating and Deleting records"
   ]
  },
  {
   "cell_type": "markdown",
   "id": "fe24a550",
   "metadata": {},
   "source": [
    "The tables are currently empty. \n",
    "We can inspect the content of the tables by performing a simple query.\n",
    "\n",
    "```mysql\n",
    "SELECT * FROM <TABLE>;\n",
    "```\n",
    "\n",
    "To insert a single record into a table we can proceed in either of the two following ways:\n",
    "\n",
    "1. By explicitly specifying the names of the columns when passing the tuple containing the values\n",
    "```mysql\n",
    "INSERT INTO <TABLE> (<COLUMN1>, <COLUMN2>, <COLUMN3>, ...)\n",
    "VALUES (<VALUE1>, <VALUE2>, <VALUE3>, ...);\n",
    "```\n",
    "This will work also in the case attributes with a default value will not be explicitely passed\n",
    "\n",
    "\n",
    "2. By implicitly using all the columns when passing the tuple containing the values\n",
    "```mysql\n",
    "INSERT INTO <TABLE> \n",
    "VALUES (<VALUE1>, <VALUE2>, ..., <VALUEn>);\n",
    "```\n",
    "\n",
    "\n",
    "_NB_: 1. is the usually recommended way to perform a data insertion in SQL."
   ]
  },
  {
   "cell_type": "markdown",
   "id": "1df79446",
   "metadata": {},
   "source": [
    "Using the `mysql.connector` we can formulate the insert in a more pythonic way, e.g. to include this statement programmatically into a loop or a function call:\n",
    "    \n",
    "```python\n",
    "sql_ = \"INSERT INTO <TABLE> (<COLUMN1>, <COLUMN2>, <COLUMN3>, ...) VALUES (%s, %s, %s, ...)\"\n",
    "val_ = (<VALUE1>, <VALUE2>, <VALUE3>, ...)\n",
    "db_cursor.execute(sql_, val_)\n",
    "db.commit()\n",
    "```\n",
    "\n",
    "Being an active change to the DB istance (the data contained in the DB itself), remember to commit the insert."
   ]
  },
  {
   "cell_type": "markdown",
   "id": "1729007b",
   "metadata": {},
   "source": [
    "- Verify that the product table is actually empty\n",
    "- Isert the following list of products in the `products` table\n",
    "- Check the content of the table after the transaction, to verify that both the AUTO_INCREMENT key and the default values have taken into account\n",
    "\n",
    "\n",
    "| productName | unitPrice | unitsInStock | isDiscontinued | \n",
    "| --- | --- | --- |--- |\n",
    "| \"Founders Porter\" | 4.9 | 12 | 0 |\n"
   ]
  },
  {
   "cell_type": "code",
   "execution_count": null,
   "id": "0f48e84c",
   "metadata": {},
   "outputs": [],
   "source": [
    "%%sql\n",
    "\n",
    "SELECT * FROM products;"
   ]
  },
  {
   "cell_type": "code",
   "execution_count": null,
   "id": "5d0b4661",
   "metadata": {},
   "outputs": [],
   "source": [
    "%%sql\n",
    "\n",
    "INSERT INTO products (productName, unitPrice, unitsInStock, isDiscontinued)\n",
    "VALUES (\"Founders Porter\", 4.9, 12, 0);"
   ]
  },
  {
   "cell_type": "code",
   "execution_count": null,
   "id": "57ade142",
   "metadata": {},
   "outputs": [],
   "source": [
    "%%sql\n",
    "\n",
    "SELECT * FROM products;"
   ]
  },
  {
   "cell_type": "markdown",
   "id": "df5f4ee3",
   "metadata": {},
   "source": [
    "Multi-values insert can be performed in a completely similar way, by separating multiple tuples by a comma:\n",
    "    \n",
    "```mysql\n",
    "INSERT INTO <TABLE> (<COLUMN1>, <COLUMN2>, <COLUMN3>, ...)\n",
    "VALUES \n",
    "(<VALUE11>, <VALUE12>, <VALUE13>, ...), \n",
    "(<VALUE21>, <VALUE22>, <VALUE23>, ...), \n",
    "(<VALUE31>, <VALUE32>, <VALUE33>, ...), \n",
    "\n",
    "```\n",
    "\n",
    "The python-based command is similar to the previous one, but is drop the `execute` in favor of `executemany`, using as value a list of tuples\n",
    "\n",
    "```python\n",
    "sql_ = \"INSERT INTO <TABLE> (<COLUMN1>, <COLUMN2>, <COLUMN3>, ...) VALUES (%s, %s, %s, ...)\"\n",
    "val_ = [\n",
    "    (<VALUE11>, <VALUE12>, <VALUE13>, ...),\n",
    "    (<VALUE21>, <VALUE22>, <VALUE23>, ...),\n",
    "    (<VALUE31>, <VALUE32>, <VALUE33>, ...) ]\n",
    "db_cursor.executemany(sql_, val_)\n",
    "db.commit()\n",
    "```\n"
   ]
  },
  {
   "cell_type": "markdown",
   "id": "f463c2ef",
   "metadata": {},
   "source": [
    "Add a few more products to the `product` table:\n",
    "    \n",
    "| productName | unitPrice | unitsInStock | isDiscontinued | \n",
    "| --- | --- | --- |--- |\n",
    "| \"Punk IPA\" | 5.2 | 45 |  |\n",
    "| \"HB Dunkel\" | 4.5 | 250 |  |\n",
    "| \"Forst Xmas \" | 8.0 | 2 |  |\n",
    "| \"Damm Complot \" | 3.7 | 120 |  |\n",
    "     "
   ]
  },
  {
   "cell_type": "code",
   "execution_count": null,
   "id": "7f91ae53",
   "metadata": {},
   "outputs": [],
   "source": [
    "%%sql\n",
    "\n",
    "INSERT INTO products (productName, unitPrice, unitsInStock)\n",
    "VALUES     ('Punk IPA',     5.2,  45),\n",
    "    ('HB Dunkel',    4.5, 250),\n",
    "    ('Forst Xmas',   8.0,   2),\n",
    "    ('Damm Complot', 3.7, 120);"
   ]
  },
  {
   "cell_type": "code",
   "execution_count": null,
   "id": "c172ab09",
   "metadata": {},
   "outputs": [],
   "source": [
    "%%sql \n",
    "\n",
    "SELECT * FROM products;"
   ]
  },
  {
   "cell_type": "markdown",
   "id": "48a71bab",
   "metadata": {},
   "source": [
    "Updating entries is a more delicate issue, as in a DB we can in principle modify all records associated with a number of conditions.\n",
    "This makes the update operation quite powerful and possibly very error prone if not performed with extreme caution.\n",
    "\n",
    "```mysql\n",
    "UPDATE <TABLE>\n",
    "SET <ATTRIBUTE> = <NEW VALUE>\n",
    "WHERE <CONDITION>;\n",
    "```\n",
    "\n",
    "or\n",
    "\n",
    "```python\n",
    "sql_ = \"UPDATE <TABLE> SET <ATTRIBUTE> = <NEW VALUE> WHERE <CONDITION>\"\n",
    "db_cursor.execute(sql)\n",
    "db.commit()\n",
    "\n",
    "```\n",
    "\n",
    "Let's update a single record with a \"very explicit\" condition statement:\n",
    "\n",
    "- Assign `isDiscontinued` equal to 1 to the \"Forst Xmas\" product\n",
    "- Check if the update has taken place"
   ]
  },
  {
   "cell_type": "code",
   "execution_count": null,
   "id": "f2a45dbd",
   "metadata": {},
   "outputs": [],
   "source": [
    "%%sql\n",
    "\n",
    "UPDATE products\n",
    "SET isDiscontinued = 1\n",
    "WHERE (productName = \"Forst Xmas\");"
   ]
  },
  {
   "cell_type": "code",
   "execution_count": null,
   "id": "3c3ee12d",
   "metadata": {},
   "outputs": [],
   "source": [
    "%%sql\n",
    "\n",
    "SELECT * FROM products;"
   ]
  },
  {
   "cell_type": "markdown",
   "id": "211e9d47",
   "metadata": {},
   "source": [
    "Similarly, deleting entries is quite a risky task if not done with plenty of caution, as a wrong `WHERE` condition might inadvertly lead to the deletion of a large part of your DB records. \n",
    "\n",
    "Remember, with `DELETE` we do remove entire records (i.e. tuples) from the DB, not just the content of the `WHERE` conditional statement. \n",
    "\n",
    "```mysql\n",
    "DELETE FROM <TABLE>\n",
    "WHERE <CONDITION>;\n",
    "```\n",
    "\n",
    "or\n",
    "\n",
    "```python\n",
    "sql_ = \"DELETE FROM <TABLE> WHERE <CONDITION>\"\n",
    "db_cursor.execute(sql)\n",
    "db.commit()\n",
    "\n",
    "```\n",
    "\n",
    "- Delete all products whose name begins with 'F' and ends with 's'\n",
    "- Check if the update has taken place"
   ]
  },
  {
   "cell_type": "code",
   "execution_count": null,
   "id": "3d21c7f8",
   "metadata": {},
   "outputs": [],
   "source": [
    "%%sql\n",
    "\n",
    "DELETE FROM products\n",
    "WHERE (productName LIKE 'F%s');"
   ]
  },
  {
   "cell_type": "code",
   "execution_count": null,
   "id": "e97c9569",
   "metadata": {},
   "outputs": [],
   "source": [
    "%%sql\n",
    "\n",
    "SELECT * FROM products;"
   ]
  },
  {
   "cell_type": "markdown",
   "id": "b1d2c12b",
   "metadata": {},
   "source": [
    "- Populate the `suppliers` table according to the following list\n",
    "\n",
    "\n",
    "| supplierName | countryCode | email|\n",
    "| --- | --- | ---|\n",
    "| \"A hop in the park\" | \"USA\" | \"contactme@ahop.com\" |\n",
    "| \"Allez Hops! Cave à bièr\" | \"FRA\" | \"itsme@allezhops.com\" |\n",
    "| \"Wild Hops \" | \"ITA\" | \"myemail@wildhops.it\" |\n",
    "|\"Beer Paradise\"|\"ITA\"|\"beer@beerparadise.it\"|\n"
   ]
  },
  {
   "cell_type": "code",
   "execution_count": null,
   "id": "66a22046",
   "metadata": {},
   "outputs": [],
   "source": [
    "%%sql\n",
    "\n",
    "INSERT INTO suppliers (supplierName, countryCode, email) \n",
    "VALUES\n",
    "(\"A hop in the park\",\"USA\",\"contactme@ahop.com\"),\n",
    "(\"Allez Hops! Cave à bièr\",\"FRA\",\"itsme@allezhops.com\"),\n",
    "(\"Wild Hops\",\"ITA\",\"myemail@wildhops.it\"),\n",
    "(\"Beer Paradise\",\"ITA\",\"beer@beerparadise.it\");"
   ]
  },
  {
   "cell_type": "code",
   "execution_count": null,
   "id": "c7c83f1c",
   "metadata": {},
   "outputs": [],
   "source": [
    "%%sql\n",
    "\n",
    "SELECT * FROM suppliers;"
   ]
  },
  {
   "cell_type": "code",
   "execution_count": null,
   "id": "72c63eff",
   "metadata": {},
   "outputs": [],
   "source": [
    "%%sql\n",
    "\n",
    "SELECT supplierName, countryCode FROM suppliers;"
   ]
  },
  {
   "cell_type": "markdown",
   "id": "1ae2a140",
   "metadata": {},
   "source": [
    "Complete the DB with the two additional steps:\n",
    "\n",
    "- Update the \"A hop in the park\" email address to \"anewemail@ahop.com\"\n",
    "- Populate the table of connections between products and suppliers\n",
    "    - Remember that the `supplier_to_product` table is linked to the other two via the respective Foreign Keys \n",
    "\n",
    "| supplier | products provided |\n",
    "| --- | --- | \n",
    "| \"A hop in the park\" | \"Punk IPA\", \"HB Dunkel\" |"
   ]
  },
  {
   "cell_type": "code",
   "execution_count": null,
   "id": "fe906041",
   "metadata": {},
   "outputs": [],
   "source": [
    "sql_ = \"UPDATE suppliers SET email = %s WHERE supplierName LIKE %s;\"\n",
    "val_ = ('anewemail@ahop.com', 'A hop%')\n",
    "dbc.execute(sql_, val_)\n",
    "db.commit()\n",
    "     \n",
    "dbc.execute(\"SELECT * FROM suppliers\"); \n",
    "dbc.fetchall()"
   ]
  },
  {
   "cell_type": "code",
   "execution_count": null,
   "id": "60cf0f77",
   "metadata": {},
   "outputs": [],
   "source": [
    "%%sql \n",
    "\n",
    "SELECT * FROM products;"
   ]
  },
  {
   "cell_type": "code",
   "execution_count": null,
   "id": "40a10f7a",
   "metadata": {},
   "outputs": [],
   "source": [
    "%%sql \n",
    "\n",
    "SELECT * FROM suppliers;"
   ]
  },
  {
   "cell_type": "code",
   "execution_count": null,
   "id": "8b603496",
   "metadata": {},
   "outputs": [],
   "source": [
    "%%sql\n",
    "\n",
    "DESCRIBE supplier_to_product;"
   ]
  },
  {
   "cell_type": "code",
   "execution_count": null,
   "id": "ffeaa6eb",
   "metadata": {},
   "outputs": [],
   "source": [
    "%%sql\n",
    "\n",
    "INSERT INTO supplier_to_product (supID, prodID)\n",
    "VALUES (1, 2),\n",
    "       (1, 3);"
   ]
  },
  {
   "cell_type": "code",
   "execution_count": null,
   "id": "0770fc67",
   "metadata": {},
   "outputs": [],
   "source": [
    "%%sql \n",
    "\n",
    "SELECT * FROM supplier_to_product;"
   ]
  },
  {
   "cell_type": "markdown",
   "id": "6efb0512",
   "metadata": {},
   "source": [
    "Export the DB you have created into a .sql file, and store it for later use.\n",
    "\n",
    "1. connect to the \"server\" docker container using bash\n",
    "2. dump the DB via the command:\n",
    "    \n",
    "```bash\n",
    "$ mysqldump -u <USER> -p <DB NAME>  >  <FULL/PATH/TO/NEW/DB_DUMP.sql>\n",
    "```\n",
    "\n",
    "3. use the folder `/mapd-workspace/dbs` to store the file, as it's the one currently visible from both in- and out-side the container"
   ]
  },
  {
   "cell_type": "code",
   "execution_count": null,
   "id": "464e83d4",
   "metadata": {},
   "outputs": [],
   "source": [
    "%%sql\n",
    "\n",
    "SHOW DATABASES;"
   ]
  },
  {
   "cell_type": "code",
   "execution_count": null,
   "id": "f35de536",
   "metadata": {},
   "outputs": [],
   "source": [
    "%%sql\n",
    "\n",
    "SHOW TABLES;"
   ]
  },
  {
   "cell_type": "markdown",
   "id": "b6e3c94e",
   "metadata": {},
   "source": [
    "## 04 Basic queries "
   ]
  },
  {
   "cell_type": "markdown",
   "id": "cbdbb924",
   "metadata": {},
   "source": [
    "### EDIT (same info in Section 05) ###\n",
    "\n",
    "If you have saved your DB locally into a `.sql` file, you can restore it by loading it into the server.\n",
    "\n",
    "1. Create a new DB named `my_db`\n",
    "```\n",
    "CREATE DATABASE IF NOT EXISTS my_db;\n",
    "```\n",
    "2. Login in interactive mode into the MySQL server \n",
    "```bash \n",
    "$ docker exec -it mysql_db_1 bash\n",
    "```\n",
    "2. Import the content of the `.sql` file (e.g. `/mapd-workspace/dbs/my_db.sql`) into the newly created DB\n",
    "    \n",
    "```bash\n",
    "$ mysql -u root -p my_db < /mapd-workspace/dbs/my_db.sql\n",
    "```\n"
   ]
  },
  {
   "cell_type": "markdown",
   "id": "7f903ed5",
   "metadata": {},
   "source": [
    "The `SELECT` statement allows to perform queries and to retrieve data from a DB.\n",
    "\n",
    "We can perform queries on 1 single Table in the DB, as well as perform complex queries that span multiple interconnected Tables, with one-to-one, one-to-many and many-to-many relationships across records.\n",
    "\n",
    "Any `SELECT` statement is composed by at least:\n",
    "    \n",
    "```mysql\n",
    "SELECT <TABLE2.ATTRIBUTE1>, <TABLE1.ATTRIBUTE2>   --# the list of attributes to show\n",
    "                                                  --# the * wildcard symbol means ALL attributes\n",
    "    \n",
    "FROM <TABLE1>, <TABLE2>                           --# the table, or list of tables \n",
    "                                                  --# from which to extract the attributes\n",
    "\n",
    "WHERE <CONDITIONS>                                --# (optional) condition statement\n",
    "```\n",
    "\n",
    "The same goes for the pythonc connector-based way\n",
    "\n",
    "```python\n",
    "db_cursor.execute(\"\"\"SELECT <TABLE2.ATTRIBUTE1>, <TABLE1.ATTRIBUTE2>\"\"\"\n",
    "                  \"\"\"FROM <TABLE1>, <TABLE2>\"\"\"\n",
    "                  \"\"\"WHERE <CONDITIONS>\"\"\")\n",
    "res_ = db_cursor.fetchall()\n",
    "for _ in res_:\n",
    "    print(_)\n",
    "```\n",
    "\n",
    "As an alternative, `db_cursor.fetchone()` can be used to printout only 1 out of possibly many records.\n"
   ]
  },
  {
   "cell_type": "markdown",
   "id": "2a3bae29",
   "metadata": {},
   "source": [
    "- Get the email of all suppliers from Italy"
   ]
  },
  {
   "cell_type": "code",
   "execution_count": 11,
   "id": "cd1ed864",
   "metadata": {},
   "outputs": [
    {
     "name": "stdout",
     "output_type": "stream",
     "text": [
      " * mysql+mysqlconnector://root:***@db\n",
      "0 rows affected.\n",
      "3 rows affected.\n"
     ]
    },
    {
     "data": {
      "text/html": [
       "<table>\n",
       "    <tr>\n",
       "        <th>Tables_in_my_db</th>\n",
       "    </tr>\n",
       "    <tr>\n",
       "        <td>products</td>\n",
       "    </tr>\n",
       "    <tr>\n",
       "        <td>supplier_to_product</td>\n",
       "    </tr>\n",
       "    <tr>\n",
       "        <td>suppliers</td>\n",
       "    </tr>\n",
       "</table>"
      ],
      "text/plain": [
       "[('products',), ('supplier_to_product',), ('suppliers',)]"
      ]
     },
     "execution_count": 11,
     "metadata": {},
     "output_type": "execute_result"
    }
   ],
   "source": [
    "%%sql\n",
    "\n",
    "USE my_db;\n",
    "SHOW TABLES;"
   ]
  },
  {
   "cell_type": "code",
   "execution_count": 12,
   "id": "0e551aca",
   "metadata": {},
   "outputs": [
    {
     "name": "stdout",
     "output_type": "stream",
     "text": [
      " * mysql+mysqlconnector://root:***@db\n",
      "4 rows affected.\n"
     ]
    },
    {
     "data": {
      "text/html": [
       "<table>\n",
       "    <tr>\n",
       "        <th>Field</th>\n",
       "        <th>Type</th>\n",
       "        <th>Null</th>\n",
       "        <th>Key</th>\n",
       "        <th>Default</th>\n",
       "        <th>Extra</th>\n",
       "    </tr>\n",
       "    <tr>\n",
       "        <td>supplierID</td>\n",
       "        <td>b&#x27;int&#x27;</td>\n",
       "        <td>NO</td>\n",
       "        <td>PRI</td>\n",
       "        <td>None</td>\n",
       "        <td>auto_increment</td>\n",
       "    </tr>\n",
       "    <tr>\n",
       "        <td>supplierName</td>\n",
       "        <td>b&#x27;varchar(30)&#x27;</td>\n",
       "        <td>NO</td>\n",
       "        <td></td>\n",
       "        <td>b&#x27;&#x27;</td>\n",
       "        <td></td>\n",
       "    </tr>\n",
       "    <tr>\n",
       "        <td>countryCode</td>\n",
       "        <td>b&#x27;char(3)&#x27;</td>\n",
       "        <td>NO</td>\n",
       "        <td></td>\n",
       "        <td>b&#x27;ITA&#x27;</td>\n",
       "        <td></td>\n",
       "    </tr>\n",
       "    <tr>\n",
       "        <td>email</td>\n",
       "        <td>b&#x27;varchar(30)&#x27;</td>\n",
       "        <td>NO</td>\n",
       "        <td></td>\n",
       "        <td>None</td>\n",
       "        <td></td>\n",
       "    </tr>\n",
       "</table>"
      ],
      "text/plain": [
       "[('supplierID', b'int', 'NO', 'PRI', None, 'auto_increment'),\n",
       " ('supplierName', b'varchar(30)', 'NO', '', b'', ''),\n",
       " ('countryCode', b'char(3)', 'NO', '', b'ITA', ''),\n",
       " ('email', b'varchar(30)', 'NO', '', None, '')]"
      ]
     },
     "execution_count": 12,
     "metadata": {},
     "output_type": "execute_result"
    }
   ],
   "source": [
    "%%sql\n",
    "\n",
    "DESCRIBE suppliers;"
   ]
  },
  {
   "cell_type": "code",
   "execution_count": 13,
   "id": "ca3bdc10",
   "metadata": {},
   "outputs": [
    {
     "name": "stdout",
     "output_type": "stream",
     "text": [
      " * mysql+mysqlconnector://root:***@db\n",
      "2 rows affected.\n"
     ]
    },
    {
     "data": {
      "text/html": [
       "<table>\n",
       "    <tr>\n",
       "        <th>email</th>\n",
       "    </tr>\n",
       "    <tr>\n",
       "        <td>myemail@wildhops.it</td>\n",
       "    </tr>\n",
       "    <tr>\n",
       "        <td>beer@beerparadise.it</td>\n",
       "    </tr>\n",
       "</table>"
      ],
      "text/plain": [
       "[('myemail@wildhops.it',), ('beer@beerparadise.it',)]"
      ]
     },
     "execution_count": 13,
     "metadata": {},
     "output_type": "execute_result"
    }
   ],
   "source": [
    "%%sql\n",
    "\n",
    "SELECT email\n",
    "FROM suppliers\n",
    "WHERE (countryCode = \"ITA\");"
   ]
  },
  {
   "cell_type": "markdown",
   "id": "204da1bf",
   "metadata": {},
   "source": [
    "- Get all information for products with unit price greater than 4"
   ]
  },
  {
   "cell_type": "code",
   "execution_count": 14,
   "id": "da6f4538",
   "metadata": {},
   "outputs": [
    {
     "name": "stdout",
     "output_type": "stream",
     "text": [
      " * mysql+mysqlconnector://root:***@db\n",
      "5 rows affected.\n"
     ]
    },
    {
     "data": {
      "text/html": [
       "<table>\n",
       "    <tr>\n",
       "        <th>Field</th>\n",
       "        <th>Type</th>\n",
       "        <th>Null</th>\n",
       "        <th>Key</th>\n",
       "        <th>Default</th>\n",
       "        <th>Extra</th>\n",
       "    </tr>\n",
       "    <tr>\n",
       "        <td>productID</td>\n",
       "        <td>b&#x27;int&#x27;</td>\n",
       "        <td>NO</td>\n",
       "        <td>PRI</td>\n",
       "        <td>None</td>\n",
       "        <td>auto_increment</td>\n",
       "    </tr>\n",
       "    <tr>\n",
       "        <td>productName</td>\n",
       "        <td>b&#x27;varchar(30)&#x27;</td>\n",
       "        <td>NO</td>\n",
       "        <td></td>\n",
       "        <td>b&#x27;&#x27;</td>\n",
       "        <td></td>\n",
       "    </tr>\n",
       "    <tr>\n",
       "        <td>unitPrice</td>\n",
       "        <td>b&#x27;float&#x27;</td>\n",
       "        <td>NO</td>\n",
       "        <td></td>\n",
       "        <td>b&#x27;100000&#x27;</td>\n",
       "        <td></td>\n",
       "    </tr>\n",
       "    <tr>\n",
       "        <td>unitsInStock</td>\n",
       "        <td>b&#x27;int unsigned&#x27;</td>\n",
       "        <td>NO</td>\n",
       "        <td></td>\n",
       "        <td>b&#x27;0&#x27;</td>\n",
       "        <td></td>\n",
       "    </tr>\n",
       "    <tr>\n",
       "        <td>isDiscontinued</td>\n",
       "        <td>b&#x27;tinyint(1)&#x27;</td>\n",
       "        <td>NO</td>\n",
       "        <td></td>\n",
       "        <td>b&#x27;0&#x27;</td>\n",
       "        <td></td>\n",
       "    </tr>\n",
       "</table>"
      ],
      "text/plain": [
       "[('productID', b'int', 'NO', 'PRI', None, 'auto_increment'),\n",
       " ('productName', b'varchar(30)', 'NO', '', b'', ''),\n",
       " ('unitPrice', b'float', 'NO', '', b'100000', ''),\n",
       " ('unitsInStock', b'int unsigned', 'NO', '', b'0', ''),\n",
       " ('isDiscontinued', b'tinyint(1)', 'NO', '', b'0', '')]"
      ]
     },
     "execution_count": 14,
     "metadata": {},
     "output_type": "execute_result"
    }
   ],
   "source": [
    "%%sql\n",
    "\n",
    "DESCRIBE products;"
   ]
  },
  {
   "cell_type": "code",
   "execution_count": 15,
   "id": "e4251397",
   "metadata": {},
   "outputs": [
    {
     "name": "stdout",
     "output_type": "stream",
     "text": [
      " * mysql+mysqlconnector://root:***@db\n",
      "3 rows affected.\n"
     ]
    },
    {
     "data": {
      "text/html": [
       "<table>\n",
       "    <tr>\n",
       "        <th>productID</th>\n",
       "        <th>productName</th>\n",
       "        <th>unitPrice</th>\n",
       "        <th>unitsInStock</th>\n",
       "        <th>isDiscontinued</th>\n",
       "    </tr>\n",
       "    <tr>\n",
       "        <td>1</td>\n",
       "        <td>Founders Porter</td>\n",
       "        <td>4.9</td>\n",
       "        <td>12</td>\n",
       "        <td>0</td>\n",
       "    </tr>\n",
       "    <tr>\n",
       "        <td>2</td>\n",
       "        <td>Punk IPA</td>\n",
       "        <td>5.2</td>\n",
       "        <td>45</td>\n",
       "        <td>0</td>\n",
       "    </tr>\n",
       "    <tr>\n",
       "        <td>3</td>\n",
       "        <td>HB Dunkel</td>\n",
       "        <td>4.5</td>\n",
       "        <td>250</td>\n",
       "        <td>0</td>\n",
       "    </tr>\n",
       "</table>"
      ],
      "text/plain": [
       "[(1, 'Founders Porter', 4.9, 12, 0),\n",
       " (2, 'Punk IPA', 5.2, 45, 0),\n",
       " (3, 'HB Dunkel', 4.5, 250, 0)]"
      ]
     },
     "execution_count": 15,
     "metadata": {},
     "output_type": "execute_result"
    }
   ],
   "source": [
    "%%sql\n",
    "\n",
    "SELECT *\n",
    "FROM products\n",
    "WHERE (unitPrice > 4);"
   ]
  },
  {
   "cell_type": "markdown",
   "id": "3c3c7ce0",
   "metadata": {},
   "source": [
    "- Select all products with unit cost less than 5 and list them in descending order of units in stock"
   ]
  },
  {
   "cell_type": "code",
   "execution_count": 17,
   "id": "3fd373ea",
   "metadata": {},
   "outputs": [
    {
     "name": "stdout",
     "output_type": "stream",
     "text": [
      " * mysql+mysqlconnector://root:***@db\n",
      "3 rows affected.\n"
     ]
    },
    {
     "data": {
      "text/html": [
       "<table>\n",
       "    <tr>\n",
       "        <th>productID</th>\n",
       "        <th>productName</th>\n",
       "        <th>unitPrice</th>\n",
       "        <th>unitsInStock</th>\n",
       "        <th>isDiscontinued</th>\n",
       "    </tr>\n",
       "    <tr>\n",
       "        <td>3</td>\n",
       "        <td>HB Dunkel</td>\n",
       "        <td>4.5</td>\n",
       "        <td>250</td>\n",
       "        <td>0</td>\n",
       "    </tr>\n",
       "    <tr>\n",
       "        <td>5</td>\n",
       "        <td>Damm Complot</td>\n",
       "        <td>3.7</td>\n",
       "        <td>120</td>\n",
       "        <td>0</td>\n",
       "    </tr>\n",
       "    <tr>\n",
       "        <td>1</td>\n",
       "        <td>Founders Porter</td>\n",
       "        <td>4.9</td>\n",
       "        <td>12</td>\n",
       "        <td>0</td>\n",
       "    </tr>\n",
       "</table>"
      ],
      "text/plain": [
       "[(3, 'HB Dunkel', 4.5, 250, 0),\n",
       " (5, 'Damm Complot', 3.7, 120, 0),\n",
       " (1, 'Founders Porter', 4.9, 12, 0)]"
      ]
     },
     "execution_count": 17,
     "metadata": {},
     "output_type": "execute_result"
    }
   ],
   "source": [
    "%%sql\n",
    "\n",
    "SELECT *\n",
    "FROM products\n",
    "WHERE (unitPrice < 5)\n",
    "ORDER BY unitsInStock DESC;"
   ]
  },
  {
   "cell_type": "markdown",
   "id": "3c3b89b1",
   "metadata": {},
   "source": [
    "**Group by** is a common statement which allows to perform data aggregation.\n",
    "\n",
    "If familiar with `pandas`, this should not come any new to you.\n",
    "\n",
    "Just remember:\n",
    "1. No group by statement is possible without an aggregation function.\n",
    "2. Group by are quite computationally expensive. In case of large databases group by operations might require a long time to execute"
   ]
  },
  {
   "cell_type": "markdown",
   "id": "6ec4ca2b",
   "metadata": {},
   "source": [
    "- plot the distribution of suppliers by country"
   ]
  },
  {
   "cell_type": "code",
   "execution_count": 19,
   "id": "e93889be",
   "metadata": {},
   "outputs": [
    {
     "name": "stdout",
     "output_type": "stream",
     "text": [
      " * mysql+mysqlconnector://root:***@db\n",
      "3 rows affected.\n"
     ]
    },
    {
     "data": {
      "text/html": [
       "<table>\n",
       "    <tr>\n",
       "        <th>countryCode</th>\n",
       "        <th>nSupp</th>\n",
       "    </tr>\n",
       "    <tr>\n",
       "        <td>USA</td>\n",
       "        <td>1</td>\n",
       "    </tr>\n",
       "    <tr>\n",
       "        <td>FRA</td>\n",
       "        <td>1</td>\n",
       "    </tr>\n",
       "    <tr>\n",
       "        <td>ITA</td>\n",
       "        <td>2</td>\n",
       "    </tr>\n",
       "</table>"
      ],
      "text/plain": [
       "[('USA', 1), ('FRA', 1), ('ITA', 2)]"
      ]
     },
     "execution_count": 19,
     "metadata": {},
     "output_type": "execute_result"
    }
   ],
   "source": [
    "%%sql\n",
    "\n",
    "SELECT countryCode, COUNT(countryCode) AS nSupp\n",
    "FROM suppliers\n",
    "GROUP BY countryCode;"
   ]
  },
  {
   "cell_type": "code",
   "execution_count": 20,
   "id": "a201f6eb",
   "metadata": {},
   "outputs": [
    {
     "name": "stdout",
     "output_type": "stream",
     "text": [
      " * mysql+mysqlconnector://root:***@db\n",
      "3 rows affected.\n",
      "+-------+-------------+\n",
      "| count | countryCode |\n",
      "+-------+-------------+\n",
      "|   1   |     USA     |\n",
      "|   1   |     FRA     |\n",
      "|   2   |     ITA     |\n",
      "+-------+-------------+\n"
     ]
    }
   ],
   "source": [
    "res_ = %sql SELECT COUNT(countryCode) AS count, countryCode FROM suppliers GROUP BY countryCode;\n",
    "\n",
    "print (res_);"
   ]
  },
  {
   "cell_type": "code",
   "execution_count": 21,
   "id": "f509fa26",
   "metadata": {},
   "outputs": [
    {
     "data": {
      "image/png": "[encoded data removed]",
      "text/plain": [
       "<Figure size 640x480 with 1 Axes>"
      ]
     },
     "metadata": {},
     "output_type": "display_data"
    }
   ],
   "source": [
    "res_.bar();"
   ]
  },
  {
   "cell_type": "markdown",
   "id": "6e432001",
   "metadata": {},
   "source": [
    "The main strength of Relational DBs is the possibility of matching information from different tables though **Join** operations.\n",
    "\n",
    "A join, either performed explicitely or implicitely is:\n",
    "\n",
    "Just remember:\n",
    "1. Computationally expensive. In case of large databases group by operations might require a long time to execute\n",
    "2. Very easy to be done wrong, thus resulting in non-meaningful results\n",
    "\n",
    "Be sure on which attributes (most often keys) you are performing a join operation."
   ]
  },
  {
   "cell_type": "markdown",
   "id": "11a1d6a9",
   "metadata": {},
   "source": [
    "- Join the `supplier_to_product` table with the `suppliers` table "
   ]
  },
  {
   "cell_type": "code",
   "execution_count": 22,
   "id": "9413d43c",
   "metadata": {},
   "outputs": [
    {
     "name": "stdout",
     "output_type": "stream",
     "text": [
      " * mysql+mysqlconnector://root:***@db\n",
      "4 rows affected.\n"
     ]
    },
    {
     "data": {
      "text/html": [
       "<table>\n",
       "    <tr>\n",
       "        <th>Field</th>\n",
       "        <th>Type</th>\n",
       "        <th>Null</th>\n",
       "        <th>Key</th>\n",
       "        <th>Default</th>\n",
       "        <th>Extra</th>\n",
       "    </tr>\n",
       "    <tr>\n",
       "        <td>supplierID</td>\n",
       "        <td>b&#x27;int&#x27;</td>\n",
       "        <td>NO</td>\n",
       "        <td>PRI</td>\n",
       "        <td>None</td>\n",
       "        <td>auto_increment</td>\n",
       "    </tr>\n",
       "    <tr>\n",
       "        <td>supplierName</td>\n",
       "        <td>b&#x27;varchar(30)&#x27;</td>\n",
       "        <td>NO</td>\n",
       "        <td></td>\n",
       "        <td>b&#x27;&#x27;</td>\n",
       "        <td></td>\n",
       "    </tr>\n",
       "    <tr>\n",
       "        <td>countryCode</td>\n",
       "        <td>b&#x27;char(3)&#x27;</td>\n",
       "        <td>NO</td>\n",
       "        <td></td>\n",
       "        <td>b&#x27;ITA&#x27;</td>\n",
       "        <td></td>\n",
       "    </tr>\n",
       "    <tr>\n",
       "        <td>email</td>\n",
       "        <td>b&#x27;varchar(30)&#x27;</td>\n",
       "        <td>NO</td>\n",
       "        <td></td>\n",
       "        <td>None</td>\n",
       "        <td></td>\n",
       "    </tr>\n",
       "</table>"
      ],
      "text/plain": [
       "[('supplierID', b'int', 'NO', 'PRI', None, 'auto_increment'),\n",
       " ('supplierName', b'varchar(30)', 'NO', '', b'', ''),\n",
       " ('countryCode', b'char(3)', 'NO', '', b'ITA', ''),\n",
       " ('email', b'varchar(30)', 'NO', '', None, '')]"
      ]
     },
     "execution_count": 22,
     "metadata": {},
     "output_type": "execute_result"
    }
   ],
   "source": [
    "%%sql\n",
    "\n",
    "DESCRIBE suppliers;"
   ]
  },
  {
   "cell_type": "code",
   "execution_count": 23,
   "id": "d698cff7",
   "metadata": {},
   "outputs": [
    {
     "name": "stdout",
     "output_type": "stream",
     "text": [
      " * mysql+mysqlconnector://root:***@db\n",
      "2 rows affected.\n"
     ]
    },
    {
     "data": {
      "text/html": [
       "<table>\n",
       "    <tr>\n",
       "        <th>Field</th>\n",
       "        <th>Type</th>\n",
       "        <th>Null</th>\n",
       "        <th>Key</th>\n",
       "        <th>Default</th>\n",
       "        <th>Extra</th>\n",
       "    </tr>\n",
       "    <tr>\n",
       "        <td>prodID</td>\n",
       "        <td>b&#x27;int&#x27;</td>\n",
       "        <td>NO</td>\n",
       "        <td>PRI</td>\n",
       "        <td>None</td>\n",
       "        <td></td>\n",
       "    </tr>\n",
       "    <tr>\n",
       "        <td>supID</td>\n",
       "        <td>b&#x27;int&#x27;</td>\n",
       "        <td>NO</td>\n",
       "        <td>PRI</td>\n",
       "        <td>None</td>\n",
       "        <td></td>\n",
       "    </tr>\n",
       "</table>"
      ],
      "text/plain": [
       "[('prodID', b'int', 'NO', 'PRI', None, ''),\n",
       " ('supID', b'int', 'NO', 'PRI', None, '')]"
      ]
     },
     "execution_count": 23,
     "metadata": {},
     "output_type": "execute_result"
    }
   ],
   "source": [
    "%%sql\n",
    "\n",
    "DESCRIBE supplier_to_product;"
   ]
  },
  {
   "cell_type": "code",
   "execution_count": 24,
   "id": "40086239",
   "metadata": {},
   "outputs": [
    {
     "name": "stdout",
     "output_type": "stream",
     "text": [
      " * mysql+mysqlconnector://root:***@db\n",
      "2 rows affected.\n"
     ]
    },
    {
     "data": {
      "text/html": [
       "<table>\n",
       "    <tr>\n",
       "        <th>supplierID</th>\n",
       "        <th>supplierName</th>\n",
       "        <th>countryCode</th>\n",
       "        <th>email</th>\n",
       "        <th>prodID</th>\n",
       "        <th>supID</th>\n",
       "    </tr>\n",
       "    <tr>\n",
       "        <td>1</td>\n",
       "        <td>A hop in the park</td>\n",
       "        <td>USA</td>\n",
       "        <td>anewemail@ahop.com</td>\n",
       "        <td>2</td>\n",
       "        <td>1</td>\n",
       "    </tr>\n",
       "    <tr>\n",
       "        <td>1</td>\n",
       "        <td>A hop in the park</td>\n",
       "        <td>USA</td>\n",
       "        <td>anewemail@ahop.com</td>\n",
       "        <td>3</td>\n",
       "        <td>1</td>\n",
       "    </tr>\n",
       "</table>"
      ],
      "text/plain": [
       "[(1, 'A hop in the park', 'USA', 'anewemail@ahop.com', 2, 1),\n",
       " (1, 'A hop in the park', 'USA', 'anewemail@ahop.com', 3, 1)]"
      ]
     },
     "execution_count": 24,
     "metadata": {},
     "output_type": "execute_result"
    }
   ],
   "source": [
    "%%sql\n",
    "\n",
    "SELECT *\n",
    "FROM suppliers, supplier_to_product\n",
    "WHERE suppliers.supplierID = supplier_to_product.supID;"
   ]
  },
  {
   "cell_type": "code",
   "execution_count": 25,
   "id": "61d90336",
   "metadata": {},
   "outputs": [
    {
     "name": "stdout",
     "output_type": "stream",
     "text": [
      " * mysql+mysqlconnector://root:***@db\n",
      "2 rows affected.\n"
     ]
    },
    {
     "data": {
      "text/html": [
       "<table>\n",
       "    <tr>\n",
       "        <th>supplierID</th>\n",
       "        <th>supplierName</th>\n",
       "        <th>countryCode</th>\n",
       "        <th>email</th>\n",
       "        <th>prodID</th>\n",
       "        <th>supID</th>\n",
       "    </tr>\n",
       "    <tr>\n",
       "        <td>1</td>\n",
       "        <td>A hop in the park</td>\n",
       "        <td>USA</td>\n",
       "        <td>anewemail@ahop.com</td>\n",
       "        <td>2</td>\n",
       "        <td>1</td>\n",
       "    </tr>\n",
       "    <tr>\n",
       "        <td>1</td>\n",
       "        <td>A hop in the park</td>\n",
       "        <td>USA</td>\n",
       "        <td>anewemail@ahop.com</td>\n",
       "        <td>3</td>\n",
       "        <td>1</td>\n",
       "    </tr>\n",
       "</table>"
      ],
      "text/plain": [
       "[(1, 'A hop in the park', 'USA', 'anewemail@ahop.com', 2, 1),\n",
       " (1, 'A hop in the park', 'USA', 'anewemail@ahop.com', 3, 1)]"
      ]
     },
     "execution_count": 25,
     "metadata": {},
     "output_type": "execute_result"
    }
   ],
   "source": [
    "%%sql\n",
    "\n",
    "SELECT *\n",
    "FROM suppliers\n",
    "INNER JOIN supplier_to_product ON suppliers.supplierID = supplier_to_product.supID;"
   ]
  },
  {
   "cell_type": "code",
   "execution_count": 26,
   "id": "beb373b1",
   "metadata": {},
   "outputs": [
    {
     "name": "stdout",
     "output_type": "stream",
     "text": [
      " * mysql+mysqlconnector://root:***@db\n",
      "5 rows affected.\n"
     ]
    },
    {
     "data": {
      "text/html": [
       "<table>\n",
       "    <tr>\n",
       "        <th>supplierID</th>\n",
       "        <th>supplierName</th>\n",
       "        <th>countryCode</th>\n",
       "        <th>email</th>\n",
       "        <th>prodID</th>\n",
       "        <th>supID</th>\n",
       "    </tr>\n",
       "    <tr>\n",
       "        <td>1</td>\n",
       "        <td>A hop in the park</td>\n",
       "        <td>USA</td>\n",
       "        <td>anewemail@ahop.com</td>\n",
       "        <td>2</td>\n",
       "        <td>1</td>\n",
       "    </tr>\n",
       "    <tr>\n",
       "        <td>1</td>\n",
       "        <td>A hop in the park</td>\n",
       "        <td>USA</td>\n",
       "        <td>anewemail@ahop.com</td>\n",
       "        <td>3</td>\n",
       "        <td>1</td>\n",
       "    </tr>\n",
       "    <tr>\n",
       "        <td>2</td>\n",
       "        <td>Allez Hops! Cave à bièr</td>\n",
       "        <td>FRA</td>\n",
       "        <td>itsme@allezhops.com</td>\n",
       "        <td>None</td>\n",
       "        <td>None</td>\n",
       "    </tr>\n",
       "    <tr>\n",
       "        <td>3</td>\n",
       "        <td>Wild Hops</td>\n",
       "        <td>ITA</td>\n",
       "        <td>myemail@wildhops.it</td>\n",
       "        <td>None</td>\n",
       "        <td>None</td>\n",
       "    </tr>\n",
       "    <tr>\n",
       "        <td>4</td>\n",
       "        <td>Beer Paradise</td>\n",
       "        <td>ITA</td>\n",
       "        <td>beer@beerparadise.it</td>\n",
       "        <td>None</td>\n",
       "        <td>None</td>\n",
       "    </tr>\n",
       "</table>"
      ],
      "text/plain": [
       "[(1, 'A hop in the park', 'USA', 'anewemail@ahop.com', 2, 1),\n",
       " (1, 'A hop in the park', 'USA', 'anewemail@ahop.com', 3, 1),\n",
       " (2, 'Allez Hops! Cave à bièr', 'FRA', 'itsme@allezhops.com', None, None),\n",
       " (3, 'Wild Hops', 'ITA', 'myemail@wildhops.it', None, None),\n",
       " (4, 'Beer Paradise', 'ITA', 'beer@beerparadise.it', None, None)]"
      ]
     },
     "execution_count": 26,
     "metadata": {},
     "output_type": "execute_result"
    }
   ],
   "source": [
    "%%sql\n",
    "\n",
    "SELECT *\n",
    "FROM suppliers\n",
    "LEFT JOIN supplier_to_product ON suppliers.supplierID = supplier_to_product.supID;"
   ]
  },
  {
   "cell_type": "code",
   "execution_count": 27,
   "id": "8ec58e74",
   "metadata": {},
   "outputs": [
    {
     "name": "stdout",
     "output_type": "stream",
     "text": [
      " * mysql+mysqlconnector://root:***@db\n",
      "2 rows affected.\n"
     ]
    },
    {
     "data": {
      "text/html": [
       "<table>\n",
       "    <tr>\n",
       "        <th>supplierID</th>\n",
       "        <th>supplierName</th>\n",
       "        <th>countryCode</th>\n",
       "        <th>email</th>\n",
       "        <th>prodID</th>\n",
       "        <th>supID</th>\n",
       "    </tr>\n",
       "    <tr>\n",
       "        <td>1</td>\n",
       "        <td>A hop in the park</td>\n",
       "        <td>USA</td>\n",
       "        <td>anewemail@ahop.com</td>\n",
       "        <td>2</td>\n",
       "        <td>1</td>\n",
       "    </tr>\n",
       "    <tr>\n",
       "        <td>1</td>\n",
       "        <td>A hop in the park</td>\n",
       "        <td>USA</td>\n",
       "        <td>anewemail@ahop.com</td>\n",
       "        <td>3</td>\n",
       "        <td>1</td>\n",
       "    </tr>\n",
       "</table>"
      ],
      "text/plain": [
       "[(1, 'A hop in the park', 'USA', 'anewemail@ahop.com', 2, 1),\n",
       " (1, 'A hop in the park', 'USA', 'anewemail@ahop.com', 3, 1)]"
      ]
     },
     "execution_count": 27,
     "metadata": {},
     "output_type": "execute_result"
    }
   ],
   "source": [
    "%%sql\n",
    "\n",
    "SELECT *\n",
    "FROM suppliers\n",
    "RIGHT JOIN supplier_to_product ON suppliers.supplierID = supplier_to_product.supID;"
   ]
  },
  {
   "cell_type": "markdown",
   "id": "caf6e72f",
   "metadata": {},
   "source": [
    "We can concatenate multiple join operations to extract higher level information out of the connections stored in the DB\n",
    "\n",
    "- Add the corresponding product names the the previous join"
   ]
  },
  {
   "cell_type": "code",
   "execution_count": 28,
   "id": "bcef0fc0",
   "metadata": {},
   "outputs": [
    {
     "name": "stdout",
     "output_type": "stream",
     "text": [
      " * mysql+mysqlconnector://root:***@db\n",
      "5 rows affected.\n"
     ]
    },
    {
     "data": {
      "text/html": [
       "<table>\n",
       "    <tr>\n",
       "        <th>Field</th>\n",
       "        <th>Type</th>\n",
       "        <th>Null</th>\n",
       "        <th>Key</th>\n",
       "        <th>Default</th>\n",
       "        <th>Extra</th>\n",
       "    </tr>\n",
       "    <tr>\n",
       "        <td>productID</td>\n",
       "        <td>b&#x27;int&#x27;</td>\n",
       "        <td>NO</td>\n",
       "        <td>PRI</td>\n",
       "        <td>None</td>\n",
       "        <td>auto_increment</td>\n",
       "    </tr>\n",
       "    <tr>\n",
       "        <td>productName</td>\n",
       "        <td>b&#x27;varchar(30)&#x27;</td>\n",
       "        <td>NO</td>\n",
       "        <td></td>\n",
       "        <td>b&#x27;&#x27;</td>\n",
       "        <td></td>\n",
       "    </tr>\n",
       "    <tr>\n",
       "        <td>unitPrice</td>\n",
       "        <td>b&#x27;float&#x27;</td>\n",
       "        <td>NO</td>\n",
       "        <td></td>\n",
       "        <td>b&#x27;100000&#x27;</td>\n",
       "        <td></td>\n",
       "    </tr>\n",
       "    <tr>\n",
       "        <td>unitsInStock</td>\n",
       "        <td>b&#x27;int unsigned&#x27;</td>\n",
       "        <td>NO</td>\n",
       "        <td></td>\n",
       "        <td>b&#x27;0&#x27;</td>\n",
       "        <td></td>\n",
       "    </tr>\n",
       "    <tr>\n",
       "        <td>isDiscontinued</td>\n",
       "        <td>b&#x27;tinyint(1)&#x27;</td>\n",
       "        <td>NO</td>\n",
       "        <td></td>\n",
       "        <td>b&#x27;0&#x27;</td>\n",
       "        <td></td>\n",
       "    </tr>\n",
       "</table>"
      ],
      "text/plain": [
       "[('productID', b'int', 'NO', 'PRI', None, 'auto_increment'),\n",
       " ('productName', b'varchar(30)', 'NO', '', b'', ''),\n",
       " ('unitPrice', b'float', 'NO', '', b'100000', ''),\n",
       " ('unitsInStock', b'int unsigned', 'NO', '', b'0', ''),\n",
       " ('isDiscontinued', b'tinyint(1)', 'NO', '', b'0', '')]"
      ]
     },
     "execution_count": 28,
     "metadata": {},
     "output_type": "execute_result"
    }
   ],
   "source": [
    "%%sql\n",
    "\n",
    "DESCRIBE products;"
   ]
  },
  {
   "cell_type": "code",
   "execution_count": 31,
   "id": "48a34de8",
   "metadata": {},
   "outputs": [
    {
     "name": "stdout",
     "output_type": "stream",
     "text": [
      " * mysql+mysqlconnector://root:***@db\n",
      "2 rows affected.\n"
     ]
    },
    {
     "data": {
      "text/html": [
       "<table>\n",
       "    <tr>\n",
       "        <th>prodID</th>\n",
       "        <th>supID</th>\n",
       "        <th>supplierID</th>\n",
       "        <th>supplierName</th>\n",
       "        <th>countryCode</th>\n",
       "        <th>email</th>\n",
       "        <th>productID</th>\n",
       "        <th>productName</th>\n",
       "        <th>unitPrice</th>\n",
       "        <th>unitsInStock</th>\n",
       "        <th>isDiscontinued</th>\n",
       "    </tr>\n",
       "    <tr>\n",
       "        <td>2</td>\n",
       "        <td>1</td>\n",
       "        <td>1</td>\n",
       "        <td>A hop in the park</td>\n",
       "        <td>USA</td>\n",
       "        <td>anewemail@ahop.com</td>\n",
       "        <td>2</td>\n",
       "        <td>Punk IPA</td>\n",
       "        <td>5.2</td>\n",
       "        <td>45</td>\n",
       "        <td>0</td>\n",
       "    </tr>\n",
       "    <tr>\n",
       "        <td>3</td>\n",
       "        <td>1</td>\n",
       "        <td>1</td>\n",
       "        <td>A hop in the park</td>\n",
       "        <td>USA</td>\n",
       "        <td>anewemail@ahop.com</td>\n",
       "        <td>3</td>\n",
       "        <td>HB Dunkel</td>\n",
       "        <td>4.5</td>\n",
       "        <td>250</td>\n",
       "        <td>0</td>\n",
       "    </tr>\n",
       "</table>"
      ],
      "text/plain": [
       "[(2, 1, 1, 'A hop in the park', 'USA', 'anewemail@ahop.com', 2, 'Punk IPA', 5.2, 45, 0),\n",
       " (3, 1, 1, 'A hop in the park', 'USA', 'anewemail@ahop.com', 3, 'HB Dunkel', 4.5, 250, 0)]"
      ]
     },
     "execution_count": 31,
     "metadata": {},
     "output_type": "execute_result"
    }
   ],
   "source": [
    "%%sql\n",
    "\n",
    "SELECT *\n",
    "FROM supplier_to_product\n",
    "INNER JOIN suppliers ON suppliers.supplierID = supplier_to_product.supID\n",
    "INNER JOIN products  ON products.productID   = supplier_to_product.prodID;"
   ]
  },
  {
   "cell_type": "markdown",
   "id": "bdc02965",
   "metadata": {},
   "source": [
    "The conjunction of `SELECT`, `GROUP BY` and `JOIN` statements will allow us to extract non trivial information out of any Relational DB.\n",
    "\n",
    "Add the following records to the `supplier_to_product` table and perform the following queries:\n",
    "    \n",
    "| supplier | products provided |\n",
    "| --- | --- | \n",
    "| \"Wild Hops\" | \"Founders Porter\", \"Punk IPA\", \"HB Dunkel\", \"Damm Complot\" |    \n",
    "| \"Beer Paradise\" | \"Punk IPA\", \"Damm Complot\" |    \n",
    "| \"Allez Hops! Cave à bièr\" | \"Founders Porter\", \"HB Dunkel\" |    \n",
    "\n",
    "1. show all suppliers of \"Damm Complot\"\n",
    "2. retrieve the email address of all possible suppliers of \"Punk IPA\"\n",
    "3. list the unit price of all products supplied by Italian firms, listed in descending order   "
   ]
  },
  {
   "cell_type": "code",
   "execution_count": 37,
   "id": "54705bcd",
   "metadata": {},
   "outputs": [
    {
     "name": "stdout",
     "output_type": "stream",
     "text": [
      "(2, 1)\n",
      "(3, 1)\n",
      "(1, 2)\n",
      "(3, 2)\n",
      "(1, 3)\n",
      "(2, 3)\n",
      "(3, 3)\n",
      "(5, 3)\n",
      "(2, 4)\n",
      "(5, 4)\n"
     ]
    }
   ],
   "source": [
    "sql_ = \"INSERT INTO supplier_to_product (prodID, supID) VALUES (%s, %s)\"\n",
    "val_ = [\n",
    "    # supplier Allez Hops\n",
    "    (1, 2),\n",
    "    (3, 2),\n",
    "\n",
    "    # supplier Wild Hops\n",
    "    (1, 3),\n",
    "    (2, 3),\n",
    "    (3, 3),\n",
    "    (5, 3),\n",
    "\n",
    "    # supplier Beer Paradise\n",
    "    (2, 4),\n",
    "    (5, 4),\n",
    "]\n",
    "\n",
    "dbc.executemany(sql_, val_)\n",
    "db.commit()\n",
    "     \n",
    "dbc.execute(\"SELECT * FROM supplier_to_product\"); \n",
    "for _ in dbc:\n",
    "     print(_)"
   ]
  },
  {
   "cell_type": "markdown",
   "id": "5c00a32b",
   "metadata": {},
   "source": [
    "#### 1 - show all suppliers of \"Damm Complot\""
   ]
  },
  {
   "cell_type": "code",
   "execution_count": 38,
   "id": "f5a5c7b1",
   "metadata": {},
   "outputs": [
    {
     "name": "stdout",
     "output_type": "stream",
     "text": [
      " * mysql+mysqlconnector://root:***@db\n",
      "2 rows affected.\n"
     ]
    },
    {
     "data": {
      "text/html": [
       "<table>\n",
       "    <tr>\n",
       "        <th>supplierName</th>\n",
       "    </tr>\n",
       "    <tr>\n",
       "        <td>Wild Hops</td>\n",
       "    </tr>\n",
       "    <tr>\n",
       "        <td>Beer Paradise</td>\n",
       "    </tr>\n",
       "</table>"
      ],
      "text/plain": [
       "[('Wild Hops',), ('Beer Paradise',)]"
      ]
     },
     "execution_count": 38,
     "metadata": {},
     "output_type": "execute_result"
    }
   ],
   "source": [
    "%%sql\n",
    "\n",
    "SELECT suppliers.supplierName\n",
    "FROM supplier_to_product\n",
    "INNER JOIN suppliers ON supplier_to_product.supID = suppliers.supplierID\n",
    "INNER JOIN products ON supplier_to_product.prodID = products.productID\n",
    "WHERE products.productName = \"Damm Complot\";"
   ]
  },
  {
   "cell_type": "markdown",
   "id": "c98de550",
   "metadata": {},
   "source": [
    "#### 2 - retrieve the email address of all possible suppliers of \"Punk IPA\""
   ]
  },
  {
   "cell_type": "code",
   "execution_count": 44,
   "id": "539cc19f",
   "metadata": {
    "scrolled": true
   },
   "outputs": [
    {
     "name": "stdout",
     "output_type": "stream",
     "text": [
      " * mysql+mysqlconnector://root:***@db\n",
      "3 rows affected.\n"
     ]
    },
    {
     "data": {
      "text/html": [
       "<table>\n",
       "    <tr>\n",
       "        <th>supplierName</th>\n",
       "        <th>email</th>\n",
       "    </tr>\n",
       "    <tr>\n",
       "        <td>A hop in the park</td>\n",
       "        <td>anewemail@ahop.com</td>\n",
       "    </tr>\n",
       "    <tr>\n",
       "        <td>Wild Hops</td>\n",
       "        <td>myemail@wildhops.it</td>\n",
       "    </tr>\n",
       "    <tr>\n",
       "        <td>Beer Paradise</td>\n",
       "        <td>beer@beerparadise.it</td>\n",
       "    </tr>\n",
       "</table>"
      ],
      "text/plain": [
       "[('A hop in the park', 'anewemail@ahop.com'),\n",
       " ('Wild Hops', 'myemail@wildhops.it'),\n",
       " ('Beer Paradise', 'beer@beerparadise.it')]"
      ]
     },
     "execution_count": 44,
     "metadata": {},
     "output_type": "execute_result"
    }
   ],
   "source": [
    "%%sql\n",
    "\n",
    "SELECT suppliers.supplierName, suppliers.email\n",
    "FROM supplier_to_product\n",
    "INNER JOIN suppliers ON supplier_to_product.supID = suppliers.supplierID\n",
    "INNER JOIN products ON supplier_to_product.prodID = products.productID\n",
    "WHERE products.productName = \"Punk IPA\";"
   ]
  },
  {
   "cell_type": "markdown",
   "id": "2a352e19",
   "metadata": {},
   "source": [
    "#### 3 - list the unit price of all products supplied by Italian firms, listed in descending order   "
   ]
  },
  {
   "cell_type": "code",
   "execution_count": 45,
   "id": "4e189810",
   "metadata": {},
   "outputs": [
    {
     "name": "stdout",
     "output_type": "stream",
     "text": [
      " * mysql+mysqlconnector://root:***@db\n",
      "4 rows affected.\n"
     ]
    },
    {
     "data": {
      "text/html": [
       "<table>\n",
       "    <tr>\n",
       "        <th>unitPrice</th>\n",
       "        <th>productName</th>\n",
       "    </tr>\n",
       "    <tr>\n",
       "        <td>5.2</td>\n",
       "        <td>Punk IPA</td>\n",
       "    </tr>\n",
       "    <tr>\n",
       "        <td>4.9</td>\n",
       "        <td>Founders Porter</td>\n",
       "    </tr>\n",
       "    <tr>\n",
       "        <td>4.5</td>\n",
       "        <td>HB Dunkel</td>\n",
       "    </tr>\n",
       "    <tr>\n",
       "        <td>3.7</td>\n",
       "        <td>Damm Complot</td>\n",
       "    </tr>\n",
       "</table>"
      ],
      "text/plain": [
       "[(5.2, 'Punk IPA'),\n",
       " (4.9, 'Founders Porter'),\n",
       " (4.5, 'HB Dunkel'),\n",
       " (3.7, 'Damm Complot')]"
      ]
     },
     "execution_count": 45,
     "metadata": {},
     "output_type": "execute_result"
    }
   ],
   "source": [
    "%%sql\n",
    "\n",
    "SELECT DISTINCT products.unitPrice, products.productName\n",
    "FROM supplier_to_product\n",
    "INNER JOIN suppliers ON supplier_to_product.supID = suppliers.supplierID\n",
    "INNER JOIN products ON supplier_to_product.prodID = products.productID\n",
    "WHERE suppliers.countryCode = \"ITA\"\n",
    "ORDER BY unitPrice DESC;"
   ]
  },
  {
   "cell_type": "markdown",
   "id": "213be6c6",
   "metadata": {},
   "source": [
    "## 05 Queries on well-formed DBs\n",
    "\n",
    "In MySQL we can load entire DBs from external files.\n",
    "\n",
    "The files will contain the full DB structure (tables and constraints) and will populate all tables with all records \n",
    "\n",
    "To load a DB into the MySQL server from the interactive docker shell, we can simply do the following:\n",
    "\n",
    "1. Create a new DB named `world`\n",
    "2. Import the content of the file `/mapd-workspace/dbs/world.sql` into the newly created DB via\n",
    "    \n",
    "```bash\n",
    "$ mysql -u root -p world < /mapd-workspace/dbs/world.sql\n",
    "```\n",
    "\n",
    "_NB_: The `opt/workspace` directory has been defined as a Docker Volume, and is a shared location with your computer..."
   ]
  },
  {
   "cell_type": "markdown",
   "id": "33389e65",
   "metadata": {},
   "source": [
    "Using the `world` DB, perform queries to answer the folliwing questions.\n",
    "\n",
    "Additional references can be found here https://dev.mysql.com/doc/world-setup/en/\n",
    "\n",
    "\n",
    "Use a single query to answer the questions\n",
    "\n",
    "1. Which country has the largest population?\n",
    "2. Get the total number of cities in Canada.\n",
    "3. Select the country with the most cities.\n",
    "4. List all the languages spoken in the Southeast Asia region.\n",
    "5. Identify the 5 most spoken language by number of countries.\n",
    "6. What is the total population of the cities in the Caribbean region?\n",
    "7. What Countries have a City named \"Kingston\"?\n",
    "8. Plot the population density by country, limiting to the 25 with least density.\n",
    "9. Plot the GNP (Gross Nation Product) of all countries that become independent between 1850 and 1910, limiting to the 10 with highest GNP.\n",
    "10. Create a scatter plot of the life expentency vs the GNP of all countries that have Spanish as their Official language.\n",
    "\n",
    "\n",
    "Suggestions:\n",
    "- Start by inspecting the DB tables structure\n",
    "- When in doubt, check the table content by selecting a few lines (use `LIMIT` to avoid returining all records)\n",
    "- Before finalizing the query, you can always perform \"intermediate\" queries to check if complex operations (groupby and join mostly) are stated correctly"
   ]
  },
  {
   "cell_type": "code",
   "execution_count": 10,
   "id": "55584aaf",
   "metadata": {},
   "outputs": [
    {
     "name": "stdout",
     "output_type": "stream",
     "text": [
      " * mysql+mysqlconnector://root:***@db\n",
      "0 rows affected.\n",
      "3 rows affected.\n"
     ]
    },
    {
     "data": {
      "text/html": [
       "<table>\n",
       "    <tr>\n",
       "        <th>Tables_in_world</th>\n",
       "    </tr>\n",
       "    <tr>\n",
       "        <td>city</td>\n",
       "    </tr>\n",
       "    <tr>\n",
       "        <td>country</td>\n",
       "    </tr>\n",
       "    <tr>\n",
       "        <td>countrylanguage</td>\n",
       "    </tr>\n",
       "</table>"
      ],
      "text/plain": [
       "[('city',), ('country',), ('countrylanguage',)]"
      ]
     },
     "execution_count": 10,
     "metadata": {},
     "output_type": "execute_result"
    }
   ],
   "source": [
    "%%sql\n",
    "\n",
    "USE world; \n",
    "\n",
    "SHOW TABLES;"
   ]
  },
  {
   "cell_type": "markdown",
   "id": "962bf1c9",
   "metadata": {},
   "source": [
    "#### 1 - Which country has the largest population?"
   ]
  },
  {
   "cell_type": "code",
   "execution_count": 11,
   "id": "82ba1e41",
   "metadata": {},
   "outputs": [
    {
     "name": "stdout",
     "output_type": "stream",
     "text": [
      " * mysql+mysqlconnector://root:***@db\n",
      "1 rows affected.\n"
     ]
    },
    {
     "data": {
      "text/html": [
       "<table>\n",
       "    <tr>\n",
       "        <th>Name</th>\n",
       "        <th>Population</th>\n",
       "    </tr>\n",
       "    <tr>\n",
       "        <td>China</td>\n",
       "        <td>1277558000</td>\n",
       "    </tr>\n",
       "</table>"
      ],
      "text/plain": [
       "[('China', 1277558000)]"
      ]
     },
     "execution_count": 11,
     "metadata": {},
     "output_type": "execute_result"
    }
   ],
   "source": [
    "%%sql \n",
    "\n",
    "SELECT Name, Population\n",
    "FROM country\n",
    "ORDER BY Population DESC\n",
    "LIMIT 1;"
   ]
  },
  {
   "cell_type": "markdown",
   "id": "132f54ba",
   "metadata": {},
   "source": [
    "#### 2 - Get the total number of cities in Canada."
   ]
  },
  {
   "cell_type": "code",
   "execution_count": 14,
   "id": "221ca3ab",
   "metadata": {},
   "outputs": [
    {
     "name": "stdout",
     "output_type": "stream",
     "text": [
      " * mysql+mysqlconnector://root:***@db\n",
      "1 rows affected.\n"
     ]
    },
    {
     "data": {
      "text/html": [
       "<table>\n",
       "    <tr>\n",
       "        <th>CitiesInCanada</th>\n",
       "    </tr>\n",
       "    <tr>\n",
       "        <td>49</td>\n",
       "    </tr>\n",
       "</table>"
      ],
      "text/plain": [
       "[(49,)]"
      ]
     },
     "execution_count": 14,
     "metadata": {},
     "output_type": "execute_result"
    }
   ],
   "source": [
    "%%sql\n",
    "\n",
    "SELECT COUNT(1) AS CitiesInCanada\n",
    "FROM city\n",
    "WHERE (CountryCode = \"CAN\");"
   ]
  },
  {
   "cell_type": "markdown",
   "id": "3aa6bf99",
   "metadata": {},
   "source": [
    "#### 3 - Select the country with the most cities."
   ]
  },
  {
   "cell_type": "code",
   "execution_count": 15,
   "id": "d934f4d9",
   "metadata": {},
   "outputs": [
    {
     "name": "stdout",
     "output_type": "stream",
     "text": [
      " * mysql+mysqlconnector://root:***@db\n",
      "10 rows affected.\n"
     ]
    },
    {
     "data": {
      "text/html": [
       "<table>\n",
       "    <tr>\n",
       "        <th>Name</th>\n",
       "        <th>CityCount</th>\n",
       "    </tr>\n",
       "    <tr>\n",
       "        <td>China</td>\n",
       "        <td>363</td>\n",
       "    </tr>\n",
       "    <tr>\n",
       "        <td>India</td>\n",
       "        <td>341</td>\n",
       "    </tr>\n",
       "    <tr>\n",
       "        <td>United States</td>\n",
       "        <td>274</td>\n",
       "    </tr>\n",
       "    <tr>\n",
       "        <td>Brazil</td>\n",
       "        <td>250</td>\n",
       "    </tr>\n",
       "    <tr>\n",
       "        <td>Japan</td>\n",
       "        <td>248</td>\n",
       "    </tr>\n",
       "    <tr>\n",
       "        <td>Russian Federation</td>\n",
       "        <td>189</td>\n",
       "    </tr>\n",
       "    <tr>\n",
       "        <td>Mexico</td>\n",
       "        <td>173</td>\n",
       "    </tr>\n",
       "    <tr>\n",
       "        <td>Philippines</td>\n",
       "        <td>136</td>\n",
       "    </tr>\n",
       "    <tr>\n",
       "        <td>Germany</td>\n",
       "        <td>93</td>\n",
       "    </tr>\n",
       "    <tr>\n",
       "        <td>Indonesia</td>\n",
       "        <td>85</td>\n",
       "    </tr>\n",
       "</table>"
      ],
      "text/plain": [
       "[('China', 363),\n",
       " ('India', 341),\n",
       " ('United States', 274),\n",
       " ('Brazil', 250),\n",
       " ('Japan', 248),\n",
       " ('Russian Federation', 189),\n",
       " ('Mexico', 173),\n",
       " ('Philippines', 136),\n",
       " ('Germany', 93),\n",
       " ('Indonesia', 85)]"
      ]
     },
     "execution_count": 15,
     "metadata": {},
     "output_type": "execute_result"
    }
   ],
   "source": [
    "%%sql \n",
    "\n",
    "SELECT country.Name, COUNT(*) AS CityCount\n",
    "FROM city\n",
    "INNER JOIN country ON country.Code = CountryCode\n",
    "GROUP BY CountryCode\n",
    "ORDER BY CityCount DESC\n",
    "LIMIT 10;"
   ]
  },
  {
   "cell_type": "markdown",
   "id": "ede586ff",
   "metadata": {},
   "source": [
    "#### 4 - List all the languages spoken in the 'Southeast Asia' region."
   ]
  },
  {
   "cell_type": "code",
   "execution_count": 17,
   "id": "9b49e27b",
   "metadata": {},
   "outputs": [
    {
     "name": "stdout",
     "output_type": "stream",
     "text": [
      " * mysql+mysqlconnector://root:***@db\n",
      "3 rows affected.\n"
     ]
    },
    {
     "data": {
      "text/html": [
       "<table>\n",
       "    <tr>\n",
       "        <th>Region</th>\n",
       "        <th>COUNT(1)</th>\n",
       "    </tr>\n",
       "    <tr>\n",
       "        <td>Southern and Central Asia</td>\n",
       "        <td>14</td>\n",
       "    </tr>\n",
       "    <tr>\n",
       "        <td>Southeast Asia</td>\n",
       "        <td>11</td>\n",
       "    </tr>\n",
       "    <tr>\n",
       "        <td>Eastern Asia</td>\n",
       "        <td>8</td>\n",
       "    </tr>\n",
       "</table>"
      ],
      "text/plain": [
       "[('Southern and Central Asia', 14),\n",
       " ('Southeast Asia', 11),\n",
       " ('Eastern Asia', 8)]"
      ]
     },
     "execution_count": 17,
     "metadata": {},
     "output_type": "execute_result"
    }
   ],
   "source": [
    "%%sql\n",
    "\n",
    "SELECT Region, COUNT(*)\n",
    "FROM country\n",
    "WHERE (Region LIKE \"%Asia\")\n",
    "GROUP BY Region;"
   ]
  },
  {
   "cell_type": "code",
   "execution_count": 18,
   "id": "cdbcecc3",
   "metadata": {},
   "outputs": [
    {
     "name": "stdout",
     "output_type": "stream",
     "text": [
      " * mysql+mysqlconnector://root:***@db\n",
      "47 rows affected.\n"
     ]
    },
    {
     "data": {
      "text/html": [
       "<table>\n",
       "    <tr>\n",
       "        <th>Language</th>\n",
       "    </tr>\n",
       "    <tr>\n",
       "        <td>Bali</td>\n",
       "    </tr>\n",
       "    <tr>\n",
       "        <td>Banja</td>\n",
       "    </tr>\n",
       "    <tr>\n",
       "        <td>Batakki</td>\n",
       "    </tr>\n",
       "    <tr>\n",
       "        <td>Bicol</td>\n",
       "    </tr>\n",
       "    <tr>\n",
       "        <td>Bugi</td>\n",
       "    </tr>\n",
       "    <tr>\n",
       "        <td>Burmese</td>\n",
       "    </tr>\n",
       "    <tr>\n",
       "        <td>Cebuano</td>\n",
       "    </tr>\n",
       "    <tr>\n",
       "        <td>Chin</td>\n",
       "    </tr>\n",
       "    <tr>\n",
       "        <td>Chinese</td>\n",
       "    </tr>\n",
       "    <tr>\n",
       "        <td>Dusun</td>\n",
       "    </tr>\n",
       "    <tr>\n",
       "        <td>English</td>\n",
       "    </tr>\n",
       "    <tr>\n",
       "        <td>Hiligaynon</td>\n",
       "    </tr>\n",
       "    <tr>\n",
       "        <td>Iban</td>\n",
       "    </tr>\n",
       "    <tr>\n",
       "        <td>Ilocano</td>\n",
       "    </tr>\n",
       "    <tr>\n",
       "        <td>Javanese</td>\n",
       "    </tr>\n",
       "    <tr>\n",
       "        <td>Kachin</td>\n",
       "    </tr>\n",
       "    <tr>\n",
       "        <td>Karen</td>\n",
       "    </tr>\n",
       "    <tr>\n",
       "        <td>Kayah</td>\n",
       "    </tr>\n",
       "    <tr>\n",
       "        <td>Khmer</td>\n",
       "    </tr>\n",
       "    <tr>\n",
       "        <td>Kuy</td>\n",
       "    </tr>\n",
       "    <tr>\n",
       "        <td>Lao</td>\n",
       "    </tr>\n",
       "    <tr>\n",
       "        <td>Lao-Soung</td>\n",
       "    </tr>\n",
       "    <tr>\n",
       "        <td>Madura</td>\n",
       "    </tr>\n",
       "    <tr>\n",
       "        <td>Maguindanao</td>\n",
       "    </tr>\n",
       "    <tr>\n",
       "        <td>Malay</td>\n",
       "    </tr>\n",
       "    <tr>\n",
       "        <td>Malay-English</td>\n",
       "    </tr>\n",
       "    <tr>\n",
       "        <td>Man</td>\n",
       "    </tr>\n",
       "    <tr>\n",
       "        <td>Maranao</td>\n",
       "    </tr>\n",
       "    <tr>\n",
       "        <td>Miao</td>\n",
       "    </tr>\n",
       "    <tr>\n",
       "        <td>Minangkabau</td>\n",
       "    </tr>\n",
       "    <tr>\n",
       "        <td>Mon</td>\n",
       "    </tr>\n",
       "    <tr>\n",
       "        <td>Mon-khmer</td>\n",
       "    </tr>\n",
       "    <tr>\n",
       "        <td>Muong</td>\n",
       "    </tr>\n",
       "    <tr>\n",
       "        <td>Nung</td>\n",
       "    </tr>\n",
       "    <tr>\n",
       "        <td>Pampango</td>\n",
       "    </tr>\n",
       "    <tr>\n",
       "        <td>Pangasinan</td>\n",
       "    </tr>\n",
       "    <tr>\n",
       "        <td>Pilipino</td>\n",
       "    </tr>\n",
       "    <tr>\n",
       "        <td>Portuguese</td>\n",
       "    </tr>\n",
       "    <tr>\n",
       "        <td>Rakhine</td>\n",
       "    </tr>\n",
       "    <tr>\n",
       "        <td>Shan</td>\n",
       "    </tr>\n",
       "    <tr>\n",
       "        <td>Sunda</td>\n",
       "    </tr>\n",
       "    <tr>\n",
       "        <td>Tamil</td>\n",
       "    </tr>\n",
       "    <tr>\n",
       "        <td>Thai</td>\n",
       "    </tr>\n",
       "    <tr>\n",
       "        <td>Tho</td>\n",
       "    </tr>\n",
       "    <tr>\n",
       "        <td>Tšam</td>\n",
       "    </tr>\n",
       "    <tr>\n",
       "        <td>Vietnamese</td>\n",
       "    </tr>\n",
       "    <tr>\n",
       "        <td>Waray-waray</td>\n",
       "    </tr>\n",
       "</table>"
      ],
      "text/plain": [
       "[('Bali',),\n",
       " ('Banja',),\n",
       " ('Batakki',),\n",
       " ('Bicol',),\n",
       " ('Bugi',),\n",
       " ('Burmese',),\n",
       " ('Cebuano',),\n",
       " ('Chin',),\n",
       " ('Chinese',),\n",
       " ('Dusun',),\n",
       " ('English',),\n",
       " ('Hiligaynon',),\n",
       " ('Iban',),\n",
       " ('Ilocano',),\n",
       " ('Javanese',),\n",
       " ('Kachin',),\n",
       " ('Karen',),\n",
       " ('Kayah',),\n",
       " ('Khmer',),\n",
       " ('Kuy',),\n",
       " ('Lao',),\n",
       " ('Lao-Soung',),\n",
       " ('Madura',),\n",
       " ('Maguindanao',),\n",
       " ('Malay',),\n",
       " ('Malay-English',),\n",
       " ('Man',),\n",
       " ('Maranao',),\n",
       " ('Miao',),\n",
       " ('Minangkabau',),\n",
       " ('Mon',),\n",
       " ('Mon-khmer',),\n",
       " ('Muong',),\n",
       " ('Nung',),\n",
       " ('Pampango',),\n",
       " ('Pangasinan',),\n",
       " ('Pilipino',),\n",
       " ('Portuguese',),\n",
       " ('Rakhine',),\n",
       " ('Shan',),\n",
       " ('Sunda',),\n",
       " ('Tamil',),\n",
       " ('Thai',),\n",
       " ('Tho',),\n",
       " ('Tšam',),\n",
       " ('Vietnamese',),\n",
       " ('Waray-waray',)]"
      ]
     },
     "execution_count": 18,
     "metadata": {},
     "output_type": "execute_result"
    }
   ],
   "source": [
    "%%sql\n",
    "\n",
    "SELECT DISTINCT Language\n",
    "FROM countrylanguage\n",
    "INNER JOIN country ON country.Code = CountryCode\n",
    "WHERE (country.Region = \"Southeast Asia\")\n",
    "ORDER BY Language;"
   ]
  },
  {
   "cell_type": "markdown",
   "id": "e78c356c",
   "metadata": {},
   "source": [
    "#### 5 - Identify the 5 most spoken language by number of countries."
   ]
  },
  {
   "cell_type": "code",
   "execution_count": 19,
   "id": "f0a4bd62",
   "metadata": {},
   "outputs": [
    {
     "name": "stdout",
     "output_type": "stream",
     "text": [
      " * mysql+mysqlconnector://root:***@db\n",
      "5 rows affected.\n"
     ]
    },
    {
     "data": {
      "text/html": [
       "<table>\n",
       "    <tr>\n",
       "        <th>Language</th>\n",
       "        <th>CountryCount</th>\n",
       "    </tr>\n",
       "    <tr>\n",
       "        <td>English</td>\n",
       "        <td>60</td>\n",
       "    </tr>\n",
       "    <tr>\n",
       "        <td>Arabic</td>\n",
       "        <td>33</td>\n",
       "    </tr>\n",
       "    <tr>\n",
       "        <td>Spanish</td>\n",
       "        <td>28</td>\n",
       "    </tr>\n",
       "    <tr>\n",
       "        <td>French</td>\n",
       "        <td>25</td>\n",
       "    </tr>\n",
       "    <tr>\n",
       "        <td>German</td>\n",
       "        <td>19</td>\n",
       "    </tr>\n",
       "</table>"
      ],
      "text/plain": [
       "[('English', 60),\n",
       " ('Arabic', 33),\n",
       " ('Spanish', 28),\n",
       " ('French', 25),\n",
       " ('German', 19)]"
      ]
     },
     "execution_count": 19,
     "metadata": {},
     "output_type": "execute_result"
    }
   ],
   "source": [
    "%%sql\n",
    "\n",
    "SELECT Language, COUNT(*) AS CountryCount\n",
    "FROM countrylanguage\n",
    "GROUP BY Language\n",
    "ORDER BY CountryCount DESC\n",
    "LIMIT 5;"
   ]
  },
  {
   "cell_type": "markdown",
   "id": "0c6bd462",
   "metadata": {},
   "source": [
    "#### 6 - What is the total population of the cities in the Caribbean region?"
   ]
  },
  {
   "cell_type": "code",
   "execution_count": 20,
   "id": "e9391107",
   "metadata": {},
   "outputs": [
    {
     "name": "stdout",
     "output_type": "stream",
     "text": [
      " * mysql+mysqlconnector://root:***@db\n",
      "1 rows affected.\n"
     ]
    },
    {
     "data": {
      "text/html": [
       "<table>\n",
       "    <tr>\n",
       "        <th>CaribbeanPopulation</th>\n",
       "    </tr>\n",
       "    <tr>\n",
       "        <td>11067550</td>\n",
       "    </tr>\n",
       "</table>"
      ],
      "text/plain": [
       "[(Decimal('11067550'),)]"
      ]
     },
     "execution_count": 20,
     "metadata": {},
     "output_type": "execute_result"
    }
   ],
   "source": [
    "%%sql\n",
    "\n",
    "SELECT SUM(city.Population) AS CaribbeanPopulation\n",
    "FROM city\n",
    "LEFT JOIN country ON country.Code = city.CountryCode\n",
    "# = compares the entire string, LIKE compares one character at a time\n",
    "WHERE (country.Region = \"Caribbean\");"
   ]
  },
  {
   "cell_type": "markdown",
   "id": "88ca7683",
   "metadata": {},
   "source": [
    "#### 7 - What Countries have a City named \"Kingston\"?"
   ]
  },
  {
   "cell_type": "code",
   "execution_count": 21,
   "id": "39ed0c03",
   "metadata": {},
   "outputs": [
    {
     "name": "stdout",
     "output_type": "stream",
     "text": [
      " * mysql+mysqlconnector://root:***@db\n",
      "2 rows affected.\n"
     ]
    },
    {
     "data": {
      "text/html": [
       "<table>\n",
       "    <tr>\n",
       "        <th>Name</th>\n",
       "    </tr>\n",
       "    <tr>\n",
       "        <td>Jamaica</td>\n",
       "    </tr>\n",
       "    <tr>\n",
       "        <td>Norfolk Island</td>\n",
       "    </tr>\n",
       "</table>"
      ],
      "text/plain": [
       "[('Jamaica',), ('Norfolk Island',)]"
      ]
     },
     "execution_count": 21,
     "metadata": {},
     "output_type": "execute_result"
    }
   ],
   "source": [
    "%%sql\n",
    "\n",
    "SELECT country.Name\n",
    "FROM country\n",
    "RIGHT JOIN city ON country.Code = city.CountryCode\n",
    "WHERE (city.Name = \"Kingston\");"
   ]
  },
  {
   "cell_type": "markdown",
   "id": "51b4dbf2",
   "metadata": {},
   "source": [
    "#### 8 - Plot the population density by country, limiting to the 25 with least density."
   ]
  },
  {
   "cell_type": "code",
   "execution_count": 26,
   "id": "7f953dd0",
   "metadata": {},
   "outputs": [
    {
     "name": "stdout",
     "output_type": "stream",
     "text": [
      " * mysql+mysqlconnector://root:***@db\n",
      "25 rows affected.\n",
      "+--------------------------+------------+\n",
      "|           Name           | PopDensity |\n",
      "+--------------------------+------------+\n",
      "|        Greenland         |   0.0259   |\n",
      "|  Svalbard and Jan Mayen  |   0.0513   |\n",
      "|     Falkland Islands     |   0.1643   |\n",
      "|         Pitcairn         |   1.0204   |\n",
      "|      Western Sahara      |   1.1015   |\n",
      "|         Mongolia         |   1.6993   |\n",
      "|      French Guiana       |   2.0111   |\n",
      "|         Namibia          |   2.0939   |\n",
      "|        Australia         |   2.4397   |\n",
      "|         Suriname         |   2.5541   |\n",
      "|        Mauritania        |   2.6036   |\n",
      "|         Iceland          |   2.7087   |\n",
      "|         Botswana         |   2.7882   |\n",
      "|          Canada          |   3.1239   |\n",
      "|  Libyan Arab Jamahiriya  |   3.1855   |\n",
      "|          Guyana          |   4.0052   |\n",
      "|          Gabon           |   4.5803   |\n",
      "| Central African Republic |   5.8027   |\n",
      "|        Kazakstan         |   5.9536   |\n",
      "|           Chad           |   5.9587   |\n",
      "|         Bolivia          |   7.5816   |\n",
      "|           Niue           |   7.6923   |\n",
      "|           Oman           |   8.2132   |\n",
      "|          Niger           |   8.4688   |\n",
      "|    Russian Federation    |   8.6050   |\n",
      "+--------------------------+------------+\n"
     ]
    },
    {
     "data": {
      "image/png": "[encoded data removed]",
      "text/plain": [
       "<Figure size 1600x300 with 1 Axes>"
      ]
     },
     "metadata": {},
     "output_type": "display_data"
    }
   ],
   "source": [
    "res_ = %sql SELECT Name, Population / SurfaceArea AS PopDensity \\\n",
    "            FROM country \\\n",
    "            WHERE (Population > 0) \\\n",
    "            ORDER BY PopDensity \\\n",
    "            LIMIT 25;\n",
    "\n",
    "print(res_)\n",
    "\n",
    "plt.figure(figsize=(16, 3))\n",
    "res_.bar();\n",
    "plt.xticks(rotation='vertical');"
   ]
  },
  {
   "cell_type": "markdown",
   "id": "03f10978",
   "metadata": {},
   "source": [
    "#### 9 - Plot the GNP (Gross Nation Product) of all countries that become independent between 1850 and 1910, limiting to the 10 with highest GNP."
   ]
  },
  {
   "cell_type": "code",
   "execution_count": 27,
   "id": "1c792e1b",
   "metadata": {},
   "outputs": [
    {
     "name": "stdout",
     "output_type": "stream",
     "text": [
      " * mysql+mysqlconnector://root:***@db\n",
      "10 rows affected.\n",
      "+--------------+------------+\n",
      "|     Name     |    GNP     |\n",
      "+--------------+------------+\n",
      "|    Italy     | 1161755.00 |\n",
      "|    Canada    | 598862.00  |\n",
      "|  Australia   | 351182.00  |\n",
      "|     Iran     | 195746.00  |\n",
      "|    Norway    | 145895.00  |\n",
      "| South Africa | 116729.00  |\n",
      "| New Zealand  |  54669.00  |\n",
      "|   Romania    |  38158.00  |\n",
      "|     Cuba     |  17843.00  |\n",
      "|  Luxembourg  |  16321.00  |\n",
      "+--------------+------------+\n"
     ]
    },
    {
     "data": {
      "image/png": "[encoded data removed]",
      "text/plain": [
       "<Figure size 1600x300 with 1 Axes>"
      ]
     },
     "metadata": {},
     "output_type": "display_data"
    }
   ],
   "source": [
    "res_ = %sql SELECT Name, GNP \\\n",
    "            FROM country \\\n",
    "            WHERE (IndepYear BETWEEN 1850 AND 1910) \\\n",
    "            ORDER BY GNP DESC \\\n",
    "            LIMIT 10;\n",
    "\n",
    "print(res_)\n",
    "\n",
    "plt.figure(figsize=(16,3))\n",
    "res_.bar();\n",
    "plt.xticks(rotation='vertical');"
   ]
  },
  {
   "cell_type": "markdown",
   "id": "ca8c72b6",
   "metadata": {},
   "source": [
    "#### 10 - Create a scatter plot of the life expectancy vs the GNP of all countries that have Spanish as their Official language."
   ]
  },
  {
   "cell_type": "code",
   "execution_count": 30,
   "id": "8879653b",
   "metadata": {},
   "outputs": [
    {
     "name": "stdout",
     "output_type": "stream",
     "text": [
      " * mysql+mysqlconnector://root:***@db\n",
      "20 rows affected.\n",
      "+----------------+-----------+--------------------+\n",
      "| LifeExpectancy |    GNP    |        Name        |\n",
      "+----------------+-----------+--------------------+\n",
      "|      75.1      | 340238.00 |     Argentina      |\n",
      "|      63.7      |  8571.00  |      Bolivia       |\n",
      "|      75.7      |  72949.00 |       Chile        |\n",
      "|      70.3      | 102896.00 |      Colombia      |\n",
      "|      75.8      |  10226.00 |     Costa Rica     |\n",
      "|      76.2      |  17843.00 |        Cuba        |\n",
      "|      73.2      |  15846.00 | Dominican Republic |\n",
      "|      71.1      |  19770.00 |      Ecuador       |\n",
      "|      78.8      | 553233.00 |       Spain        |\n",
      "|      66.2      |  19008.00 |     Guatemala      |\n",
      "|      69.9      |  5333.00  |      Honduras      |\n",
      "|      71.5      | 414972.00 |       Mexico       |\n",
      "|      68.7      |  1988.00  |     Nicaragua      |\n",
      "|      75.5      |  9131.00  |       Panama       |\n",
      "|      70.0      |  64140.00 |        Peru        |\n",
      "|      75.6      |  34100.00 |    Puerto Rico     |\n",
      "|      73.7      |  8444.00  |      Paraguay      |\n",
      "|      69.7      |  11863.00 |    El Salvador     |\n",
      "|      75.2      |  20831.00 |      Uruguay       |\n",
      "|      73.1      |  95023.00 |     Venezuela      |\n",
      "+----------------+-----------+--------------------+\n"
     ]
    },
    {
     "data": {
      "text/plain": [
       "Text(0.5, 0, 'LifeExpectancy')"
      ]
     },
     "execution_count": 30,
     "metadata": {},
     "output_type": "execute_result"
    },
    {
     "data": {
      "image/png": "[encoded data removed]",
      "text/plain": [
       "<Figure size 800x600 with 1 Axes>"
      ]
     },
     "metadata": {},
     "output_type": "display_data"
    }
   ],
   "source": [
    "res_ = %sql SELECT co.LifeExpectancy, co.GNP, co.Name \\\n",
    "            FROM country co \\\n",
    "            INNER JOIN countrylanguage cl ON co.Code = cl.CountryCode \\\n",
    "            WHERE (cl.Language = \"Spanish\") \\\n",
    "            AND IsOfficial = TRUE;\n",
    "\n",
    "print(res_)\n",
    "\n",
    "plt.figure(figsize=(8,6))\n",
    "for _ in res_:\n",
    "    plt.scatter(_[0], _[1], s=50);\n",
    "    plt.annotate(_[2], (float(_[0]) * 1.002, float(_[1]) * 1.002));\n",
    "plt.ylabel('GNP')\n",
    "plt.xlabel('LifeExpectancy')\n"
   ]
  },
  {
   "cell_type": "markdown",
   "id": "f65b5e6a",
   "metadata": {},
   "source": [
    "## 06 More on queries "
   ]
  },
  {
   "cell_type": "markdown",
   "id": "4d0da673",
   "metadata": {},
   "source": [
    "Let' import a well-structured DB, with several tables and relationships, to be used as a sandbox for further exercises on queries.\n",
    "\n",
    "The `.sql` file can be found at: `/mapd-workspace/dbs/IMDb_pruned.sql`.\n",
    "\n",
    "The DB is freely available and is taken from the IMDb (Internet Movie Database) website (https://www.imdb.com/interfaces/).\n",
    "\n",
    "The entire database is composed of a dozen of tables, hosing all people involved in Movies, Shorts, TV Show Epidoses and more since the 1890s. \n",
    "\n",
    "To simplify the execution of queries, we will work with a slimmed-down version of the entire DB, with still plenty of records for us to extract interesting information."
   ]
  },
  {
   "cell_type": "markdown",
   "id": "aa986853",
   "metadata": {},
   "source": [
    "1. Create a new DB named `IMDb`\n",
    "2. Import the content of the file `/mapd-workspace/dbs/IMDb_pruned.sql` into the newly created DB\n",
    "(this might take a minute or two...)"
   ]
  },
  {
   "cell_type": "markdown",
   "id": "33480edc",
   "metadata": {},
   "source": [
    "### Check which tables are available"
   ]
  },
  {
   "cell_type": "code",
   "execution_count": 89,
   "id": "afa74a9f",
   "metadata": {},
   "outputs": [
    {
     "name": "stdout",
     "output_type": "stream",
     "text": [
      " * mysql+mysqlconnector://root:***@db\n",
      "0 rows affected.\n",
      "7 rows affected.\n"
     ]
    },
    {
     "data": {
      "text/html": [
       "<table>\n",
       "    <tr>\n",
       "        <th>Tables_in_IMDb</th>\n",
       "    </tr>\n",
       "    <tr>\n",
       "        <td>Directors</td>\n",
       "    </tr>\n",
       "    <tr>\n",
       "        <td>Episode_belongs_to</td>\n",
       "    </tr>\n",
       "    <tr>\n",
       "        <td>Had_role</td>\n",
       "    </tr>\n",
       "    <tr>\n",
       "        <td>Names_</td>\n",
       "    </tr>\n",
       "    <tr>\n",
       "        <td>Title_genres</td>\n",
       "    </tr>\n",
       "    <tr>\n",
       "        <td>Title_ratings</td>\n",
       "    </tr>\n",
       "    <tr>\n",
       "        <td>Titles</td>\n",
       "    </tr>\n",
       "</table>"
      ],
      "text/plain": [
       "[('Directors',),\n",
       " ('Episode_belongs_to',),\n",
       " ('Had_role',),\n",
       " ('Names_',),\n",
       " ('Title_genres',),\n",
       " ('Title_ratings',),\n",
       " ('Titles',)]"
      ]
     },
     "execution_count": 89,
     "metadata": {},
     "output_type": "execute_result"
    }
   ],
   "source": [
    "%%sql\n",
    "\n",
    "USE IMDb;\n",
    "SHOW tables;"
   ]
  },
  {
   "cell_type": "markdown",
   "id": "3f1328fb",
   "metadata": {},
   "source": [
    "### Describe the content of table Names_"
   ]
  },
  {
   "cell_type": "code",
   "execution_count": 90,
   "id": "01d462ae",
   "metadata": {},
   "outputs": [
    {
     "name": "stdout",
     "output_type": "stream",
     "text": [
      " * mysql+mysqlconnector://root:***@db\n",
      "4 rows affected.\n"
     ]
    },
    {
     "data": {
      "text/html": [
       "<table>\n",
       "    <tr>\n",
       "        <th>Field</th>\n",
       "        <th>Type</th>\n",
       "        <th>Null</th>\n",
       "        <th>Key</th>\n",
       "        <th>Default</th>\n",
       "        <th>Extra</th>\n",
       "    </tr>\n",
       "    <tr>\n",
       "        <td>name_id</td>\n",
       "        <td>b&#x27;varchar(255)&#x27;</td>\n",
       "        <td>NO</td>\n",
       "        <td></td>\n",
       "        <td>None</td>\n",
       "        <td></td>\n",
       "    </tr>\n",
       "    <tr>\n",
       "        <td>name_</td>\n",
       "        <td>b&#x27;varchar(255)&#x27;</td>\n",
       "        <td>NO</td>\n",
       "        <td></td>\n",
       "        <td>None</td>\n",
       "        <td></td>\n",
       "    </tr>\n",
       "    <tr>\n",
       "        <td>birth_year</td>\n",
       "        <td>b&#x27;smallint&#x27;</td>\n",
       "        <td>YES</td>\n",
       "        <td></td>\n",
       "        <td>None</td>\n",
       "        <td></td>\n",
       "    </tr>\n",
       "    <tr>\n",
       "        <td>death_year</td>\n",
       "        <td>b&#x27;smallint&#x27;</td>\n",
       "        <td>YES</td>\n",
       "        <td></td>\n",
       "        <td>None</td>\n",
       "        <td></td>\n",
       "    </tr>\n",
       "</table>"
      ],
      "text/plain": [
       "[('name_id', b'varchar(255)', 'NO', '', None, ''),\n",
       " ('name_', b'varchar(255)', 'NO', '', None, ''),\n",
       " ('birth_year', b'smallint', 'YES', '', None, ''),\n",
       " ('death_year', b'smallint', 'YES', '', None, '')]"
      ]
     },
     "execution_count": 90,
     "metadata": {},
     "output_type": "execute_result"
    }
   ],
   "source": [
    "%%sql\n",
    "\n",
    "DESCRIBE Names_;"
   ]
  },
  {
   "cell_type": "markdown",
   "id": "f5c88b21",
   "metadata": {},
   "source": [
    "### People by birth year\n",
    "\n",
    "A) Start by limiting the query to 1000 entries\n",
    "\n",
    "1. Draw an histogram of the year of birth\n",
    "2. Draw a second histogram with the year of birth of the 1000 youngest people in the list"
   ]
  },
  {
   "cell_type": "code",
   "execution_count": 91,
   "id": "104f01c6",
   "metadata": {},
   "outputs": [
    {
     "data": {
      "image/png": "[encoded data removed]",
      "text/plain": [
       "<Figure size 640x480 with 1 Axes>"
      ]
     },
     "metadata": {},
     "output_type": "display_data"
    }
   ],
   "source": [
    "db = mysql.connector.connect(\n",
    "    user=\"root\",\n",
    "    password=\"root_pwd\",\n",
    "    host=\"db\"\n",
    ")\n",
    "\n",
    "dbc = db.cursor()\n",
    "dbc.execute(\"USE IMDb\")\n",
    "dbc.execute(\"SELECT birth_year FROM Names_ LIMIT 1000\")\n",
    "plt.hist([i[0] for i in dbc.fetchall()])\n",
    "plt.show()"
   ]
  },
  {
   "cell_type": "code",
   "execution_count": 92,
   "id": "f30292c0",
   "metadata": {},
   "outputs": [
    {
     "data": {
      "image/png": "[encoded data removed]",
      "text/plain": [
       "<Figure size 640x480 with 1 Axes>"
      ]
     },
     "metadata": {},
     "output_type": "display_data"
    }
   ],
   "source": [
    "dbc.execute(\"SELECT birth_year FROM Names_ ORDER BY birth_year DESC LIMIT 1000\")\n",
    "plt.hist([i[0] for i in dbc.fetchall()])\n",
    "plt.show()"
   ]
  },
  {
   "cell_type": "markdown",
   "id": "4ddda65c",
   "metadata": {},
   "source": [
    "B) Extend the query to all records in the table\n",
    "\n",
    "1. Check for outliers (inspect min and max)\n",
    "2. If any outlier is found, limit the query to a reasonable range (at least people born after 1850)\n",
    "3. Draw a new histogram with the year of birth\n",
    "4. Compute the mean and std of year of birth"
   ]
  },
  {
   "cell_type": "code",
   "execution_count": 93,
   "id": "89f6b059",
   "metadata": {},
   "outputs": [
    {
     "name": "stdout",
     "output_type": "stream",
     "text": [
      " * mysql+mysqlconnector://root:***@db\n",
      "1 rows affected.\n"
     ]
    },
    {
     "data": {
      "text/html": [
       "<table>\n",
       "    <tr>\n",
       "        <th>MIN(birth_year)</th>\n",
       "        <th>MAX(birth_year)</th>\n",
       "    </tr>\n",
       "    <tr>\n",
       "        <td>13</td>\n",
       "        <td>2021</td>\n",
       "    </tr>\n",
       "</table>"
      ],
      "text/plain": [
       "[(13, 2021)]"
      ]
     },
     "execution_count": 93,
     "metadata": {},
     "output_type": "execute_result"
    }
   ],
   "source": [
    "%%sql\n",
    "\n",
    "SELECT MIN(birth_year), MAX(birth_year) FROM Names_;"
   ]
  },
  {
   "cell_type": "code",
   "execution_count": 94,
   "id": "080eec52",
   "metadata": {
    "scrolled": true
   },
   "outputs": [
    {
     "name": "stdout",
     "output_type": "stream",
     "text": [
      " * mysql+mysqlconnector://root:***@db\n",
      "2 rows affected.\n"
     ]
    },
    {
     "data": {
      "text/html": [
       "<table>\n",
       "    <tr>\n",
       "        <th>name_id</th>\n",
       "        <th>name_</th>\n",
       "        <th>birth_year</th>\n",
       "        <th>death_year</th>\n",
       "    </tr>\n",
       "    <tr>\n",
       "        <td>nm1620433</td>\n",
       "        <td>Karen Abercrombie</td>\n",
       "        <td>13</td>\n",
       "        <td>None</td>\n",
       "    </tr>\n",
       "    <tr>\n",
       "        <td>nm8066610</td>\n",
       "        <td>Sophie Oliver</td>\n",
       "        <td>1088</td>\n",
       "        <td>None</td>\n",
       "    </tr>\n",
       "</table>"
      ],
      "text/plain": [
       "[('nm1620433', 'Karen Abercrombie', 13, None),\n",
       " ('nm8066610', 'Sophie Oliver', 1088, None)]"
      ]
     },
     "execution_count": 94,
     "metadata": {},
     "output_type": "execute_result"
    }
   ],
   "source": [
    "%%sql\n",
    "\n",
    "SELECT *\n",
    "FROM Names_\n",
    "WHERE (birth_year < 1850);"
   ]
  },
  {
   "cell_type": "code",
   "execution_count": 67,
   "id": "27bd8fe6",
   "metadata": {},
   "outputs": [
    {
     "data": {
      "image/png": "[encoded data removed]",
      "text/plain": [
       "<Figure size 640x480 with 1 Axes>"
      ]
     },
     "metadata": {},
     "output_type": "display_data"
    }
   ],
   "source": [
    "dbc.execute(\"SELECT birth_year FROM Names_ WHERE birth_year > 1850\")\n",
    "plt.hist([i[0] for i in dbc.fetchall()], bins=50)\n",
    "plt.show()"
   ]
  },
  {
   "cell_type": "code",
   "execution_count": 70,
   "id": "4fd5c24f",
   "metadata": {},
   "outputs": [
    {
     "name": "stdout",
     "output_type": "stream",
     "text": [
      " * mysql+mysqlconnector://root:***@db\n",
      "1 rows affected.\n"
     ]
    },
    {
     "data": {
      "text/html": [
       "<table>\n",
       "    <tr>\n",
       "        <th>mean</th>\n",
       "        <th>std</th>\n",
       "    </tr>\n",
       "    <tr>\n",
       "        <td>1965.4513</td>\n",
       "        <td>19.99205313179966</td>\n",
       "    </tr>\n",
       "</table>"
      ],
      "text/plain": [
       "[(Decimal('1965.4513'), 19.99205313179966)]"
      ]
     },
     "execution_count": 70,
     "metadata": {},
     "output_type": "execute_result"
    }
   ],
   "source": [
    "%%sql\n",
    "\n",
    "SELECT AVG(birth_year) AS mean, STD(birth_year) AS std\n",
    "FROM Names_\n",
    "WHERE (birth_year > 1850);"
   ]
  },
  {
   "cell_type": "markdown",
   "id": "3b00fe99",
   "metadata": {},
   "source": [
    "### Movie stats\n",
    "\n",
    "1. Plot how many titles can be found in the DB per year, over the past 25 years\n",
    "2. List the names of all actors who have had the role of Spider-Man and the corresponding Title\n",
    "3. List and count the 10 people who appeared the most in movies by \"Wes Anderson\""
   ]
  },
  {
   "cell_type": "markdown",
   "id": "892b2c35",
   "metadata": {},
   "source": [
    "#### 1 - Plot how many titles can be found in the DB per year, over the past 25 years"
   ]
  },
  {
   "cell_type": "code",
   "execution_count": 95,
   "id": "650e01bc",
   "metadata": {},
   "outputs": [
    {
     "name": "stdout",
     "output_type": "stream",
     "text": [
      " * mysql+mysqlconnector://root:***@db\n",
      "29 rows affected.\n"
     ]
    },
    {
     "data": {
      "image/png": "[encoded data removed]",
      "text/plain": [
       "<Figure size 640x480 with 1 Axes>"
      ]
     },
     "metadata": {},
     "output_type": "display_data"
    }
   ],
   "source": [
    "res = %sql SELECT start_year AS year, COUNT(*) AS count \\\n",
    "           FROM Titles \\\n",
    "           WHERE start_year > 1998 \\\n",
    "           GROUP BY start_year \\\n",
    "           ORDER BY start_year\n",
    "\n",
    "res = pd.DataFrame(res)\n",
    "plt.plot(res[\"year\"], res[\"count\"])\n",
    "plt.xlabel(\"Year\")\n",
    "plt.ylabel(\"Count\")\n",
    "plt.show()"
   ]
  },
  {
   "cell_type": "markdown",
   "id": "5022d3c3",
   "metadata": {},
   "source": [
    "#### 2 - List the names of all actors who have had the role of Spider-Man and the corresponding Title "
   ]
  },
  {
   "cell_type": "code",
   "execution_count": 101,
   "id": "19acd547",
   "metadata": {
    "scrolled": true
   },
   "outputs": [
    {
     "name": "stdout",
     "output_type": "stream",
     "text": [
      " * mysql+mysqlconnector://root:***@db\n",
      "4 rows affected.\n"
     ]
    },
    {
     "data": {
      "text/html": [
       "<table>\n",
       "    <tr>\n",
       "        <th>Field</th>\n",
       "        <th>Type</th>\n",
       "        <th>Null</th>\n",
       "        <th>Key</th>\n",
       "        <th>Default</th>\n",
       "        <th>Extra</th>\n",
       "    </tr>\n",
       "    <tr>\n",
       "        <td>name_id</td>\n",
       "        <td>b&#x27;varchar(255)&#x27;</td>\n",
       "        <td>NO</td>\n",
       "        <td></td>\n",
       "        <td>None</td>\n",
       "        <td></td>\n",
       "    </tr>\n",
       "    <tr>\n",
       "        <td>name_</td>\n",
       "        <td>b&#x27;varchar(255)&#x27;</td>\n",
       "        <td>NO</td>\n",
       "        <td></td>\n",
       "        <td>None</td>\n",
       "        <td></td>\n",
       "    </tr>\n",
       "    <tr>\n",
       "        <td>birth_year</td>\n",
       "        <td>b&#x27;smallint&#x27;</td>\n",
       "        <td>YES</td>\n",
       "        <td></td>\n",
       "        <td>None</td>\n",
       "        <td></td>\n",
       "    </tr>\n",
       "    <tr>\n",
       "        <td>death_year</td>\n",
       "        <td>b&#x27;smallint&#x27;</td>\n",
       "        <td>YES</td>\n",
       "        <td></td>\n",
       "        <td>None</td>\n",
       "        <td></td>\n",
       "    </tr>\n",
       "</table>"
      ],
      "text/plain": [
       "[('name_id', b'varchar(255)', 'NO', '', None, ''),\n",
       " ('name_', b'varchar(255)', 'NO', '', None, ''),\n",
       " ('birth_year', b'smallint', 'YES', '', None, ''),\n",
       " ('death_year', b'smallint', 'YES', '', None, '')]"
      ]
     },
     "execution_count": 101,
     "metadata": {},
     "output_type": "execute_result"
    }
   ],
   "source": [
    "%sql DESCRIBE Names_;"
   ]
  },
  {
   "cell_type": "code",
   "execution_count": 99,
   "id": "d9b7de8a",
   "metadata": {},
   "outputs": [
    {
     "name": "stdout",
     "output_type": "stream",
     "text": [
      " * mysql+mysqlconnector://root:***@db\n",
      "5 rows affected.\n"
     ]
    },
    {
     "data": {
      "text/html": [
       "<table>\n",
       "    <tr>\n",
       "        <th>Field</th>\n",
       "        <th>Type</th>\n",
       "        <th>Null</th>\n",
       "        <th>Key</th>\n",
       "        <th>Default</th>\n",
       "        <th>Extra</th>\n",
       "    </tr>\n",
       "    <tr>\n",
       "        <td>title_id</td>\n",
       "        <td>b&#x27;varchar(255)&#x27;</td>\n",
       "        <td>NO</td>\n",
       "        <td></td>\n",
       "        <td>None</td>\n",
       "        <td></td>\n",
       "    </tr>\n",
       "    <tr>\n",
       "        <td>title_type</td>\n",
       "        <td>b&#x27;varchar(50)&#x27;</td>\n",
       "        <td>YES</td>\n",
       "        <td></td>\n",
       "        <td>None</td>\n",
       "        <td></td>\n",
       "    </tr>\n",
       "    <tr>\n",
       "        <td>primary_title</td>\n",
       "        <td>b&#x27;text&#x27;</td>\n",
       "        <td>YES</td>\n",
       "        <td></td>\n",
       "        <td>None</td>\n",
       "        <td></td>\n",
       "    </tr>\n",
       "    <tr>\n",
       "        <td>start_year</td>\n",
       "        <td>b&#x27;int&#x27;</td>\n",
       "        <td>YES</td>\n",
       "        <td></td>\n",
       "        <td>None</td>\n",
       "        <td></td>\n",
       "    </tr>\n",
       "    <tr>\n",
       "        <td>runtime_minutes</td>\n",
       "        <td>b&#x27;int&#x27;</td>\n",
       "        <td>YES</td>\n",
       "        <td></td>\n",
       "        <td>None</td>\n",
       "        <td></td>\n",
       "    </tr>\n",
       "</table>"
      ],
      "text/plain": [
       "[('title_id', b'varchar(255)', 'NO', '', None, ''),\n",
       " ('title_type', b'varchar(50)', 'YES', '', None, ''),\n",
       " ('primary_title', b'text', 'YES', '', None, ''),\n",
       " ('start_year', b'int', 'YES', '', None, ''),\n",
       " ('runtime_minutes', b'int', 'YES', '', None, '')]"
      ]
     },
     "execution_count": 99,
     "metadata": {},
     "output_type": "execute_result"
    }
   ],
   "source": [
    "%sql DESCRIBE Titles;"
   ]
  },
  {
   "cell_type": "code",
   "execution_count": 102,
   "id": "71a1b011",
   "metadata": {},
   "outputs": [
    {
     "name": "stdout",
     "output_type": "stream",
     "text": [
      " * mysql+mysqlconnector://root:***@db\n",
      "3 rows affected.\n"
     ]
    },
    {
     "data": {
      "text/html": [
       "<table>\n",
       "    <tr>\n",
       "        <th>Field</th>\n",
       "        <th>Type</th>\n",
       "        <th>Null</th>\n",
       "        <th>Key</th>\n",
       "        <th>Default</th>\n",
       "        <th>Extra</th>\n",
       "    </tr>\n",
       "    <tr>\n",
       "        <td>title_id</td>\n",
       "        <td>b&#x27;varchar(255)&#x27;</td>\n",
       "        <td>NO</td>\n",
       "        <td></td>\n",
       "        <td>None</td>\n",
       "        <td></td>\n",
       "    </tr>\n",
       "    <tr>\n",
       "        <td>name_id</td>\n",
       "        <td>b&#x27;varchar(255)&#x27;</td>\n",
       "        <td>NO</td>\n",
       "        <td></td>\n",
       "        <td>None</td>\n",
       "        <td></td>\n",
       "    </tr>\n",
       "    <tr>\n",
       "        <td>role_</td>\n",
       "        <td>b&#x27;text&#x27;</td>\n",
       "        <td>NO</td>\n",
       "        <td></td>\n",
       "        <td>None</td>\n",
       "        <td></td>\n",
       "    </tr>\n",
       "</table>"
      ],
      "text/plain": [
       "[('title_id', b'varchar(255)', 'NO', '', None, ''),\n",
       " ('name_id', b'varchar(255)', 'NO', '', None, ''),\n",
       " ('role_', b'text', 'NO', '', None, '')]"
      ]
     },
     "execution_count": 102,
     "metadata": {},
     "output_type": "execute_result"
    }
   ],
   "source": [
    "%sql DESCRIBE Had_role;"
   ]
  },
  {
   "cell_type": "code",
   "execution_count": 106,
   "id": "92cf36e0",
   "metadata": {},
   "outputs": [
    {
     "name": "stdout",
     "output_type": "stream",
     "text": [
      " * mysql+mysqlconnector://root:***@db\n",
      "310 rows affected.\n"
     ]
    },
    {
     "data": {
      "text/html": [
       "<table>\n",
       "    <tr>\n",
       "        <th>name_</th>\n",
       "        <th>primary_title</th>\n",
       "        <th>title_type</th>\n",
       "        <th>start_year</th>\n",
       "    </tr>\n",
       "    <tr>\n",
       "        <td>Christopher Daniel Barnes</td>\n",
       "        <td>b&#x27;Night of the Lizard&#x27;</td>\n",
       "        <td>tvEpisode</td>\n",
       "        <td>1994</td>\n",
       "    </tr>\n",
       "    <tr>\n",
       "        <td>Christopher Daniel Barnes</td>\n",
       "        <td>b&#x27;Spider-Man: The Animated Series&#x27;</td>\n",
       "        <td>tvSeries</td>\n",
       "        <td>1994</td>\n",
       "    </tr>\n",
       "    <tr>\n",
       "        <td>Christopher Daniel Barnes</td>\n",
       "        <td>b&#x27;Day of the Chameleon&#x27;</td>\n",
       "        <td>tvEpisode</td>\n",
       "        <td>1995</td>\n",
       "    </tr>\n",
       "    <tr>\n",
       "        <td>Christopher Daniel Barnes</td>\n",
       "        <td>b&#x27;Doctor Octopus: Armed and Dangerous&#x27;</td>\n",
       "        <td>tvEpisode</td>\n",
       "        <td>1995</td>\n",
       "    </tr>\n",
       "    <tr>\n",
       "        <td>Christopher Daniel Barnes</td>\n",
       "        <td>b&#x27;Kraven the Hunter&#x27;</td>\n",
       "        <td>tvEpisode</td>\n",
       "        <td>1995</td>\n",
       "    </tr>\n",
       "    <tr>\n",
       "        <td>Christopher Daniel Barnes</td>\n",
       "        <td>b&#x27;Neogenic Nightmare Chapter 11: Tablet of Time&#x27;</td>\n",
       "        <td>tvEpisode</td>\n",
       "        <td>1995</td>\n",
       "    </tr>\n",
       "    <tr>\n",
       "        <td>Christopher Daniel Barnes</td>\n",
       "        <td>b&#x27;Neogenic Nightmare Chapter 12: Ravages of Time&#x27;</td>\n",
       "        <td>tvEpisode</td>\n",
       "        <td>1995</td>\n",
       "    </tr>\n",
       "    <tr>\n",
       "        <td>Christopher Daniel Barnes</td>\n",
       "        <td>b&#x27;Neogenic Nightmare Chapter 1: The Insidious Six&#x27;</td>\n",
       "        <td>tvEpisode</td>\n",
       "        <td>1995</td>\n",
       "    </tr>\n",
       "    <tr>\n",
       "        <td>Christopher Daniel Barnes</td>\n",
       "        <td>b&#x27;Neogenic Nightmare Chapter 2: Battle of the Insidious Six&#x27;</td>\n",
       "        <td>tvEpisode</td>\n",
       "        <td>1995</td>\n",
       "    </tr>\n",
       "    <tr>\n",
       "        <td>Christopher Daniel Barnes</td>\n",
       "        <td>b&#x27;Neogenic Nightmare Chapter 3: Hydro-Man&#x27;</td>\n",
       "        <td>tvEpisode</td>\n",
       "        <td>1995</td>\n",
       "    </tr>\n",
       "    <tr>\n",
       "        <td>Christopher Daniel Barnes</td>\n",
       "        <td>b&#x27;Neogenic Nightmare Chapter 4: The Mutant Agenda&#x27;</td>\n",
       "        <td>tvEpisode</td>\n",
       "        <td>1995</td>\n",
       "    </tr>\n",
       "    <tr>\n",
       "        <td>Christopher Daniel Barnes</td>\n",
       "        <td>b&#x27;Neogenic Nightmare Chapter 5: Mutants Revenge&#x27;</td>\n",
       "        <td>tvEpisode</td>\n",
       "        <td>1995</td>\n",
       "    </tr>\n",
       "    <tr>\n",
       "        <td>Christopher Daniel Barnes</td>\n",
       "        <td>b&#x27;Neogenic Nightmare Chapter 6: Morbius&#x27;</td>\n",
       "        <td>tvEpisode</td>\n",
       "        <td>1995</td>\n",
       "    </tr>\n",
       "    <tr>\n",
       "        <td>Christopher Daniel Barnes</td>\n",
       "        <td>b&#x27;Neogenic Nightmare Chapter 7: Enter the Punisher&#x27;</td>\n",
       "        <td>tvEpisode</td>\n",
       "        <td>1995</td>\n",
       "    </tr>\n",
       "    <tr>\n",
       "        <td>Christopher Daniel Barnes</td>\n",
       "        <td>b&#x27;Neogenic Nightmare Chapter 8: Duel of the Hunters&#x27;</td>\n",
       "        <td>tvEpisode</td>\n",
       "        <td>1995</td>\n",
       "    </tr>\n",
       "    <tr>\n",
       "        <td>Christopher Daniel Barnes</td>\n",
       "        <td>b&#x27;The Alien Costume: Part 1&#x27;</td>\n",
       "        <td>tvEpisode</td>\n",
       "        <td>1995</td>\n",
       "    </tr>\n",
       "    <tr>\n",
       "        <td>Christopher Daniel Barnes</td>\n",
       "        <td>b&#x27;The Alien Costume: Part 2&#x27;</td>\n",
       "        <td>tvEpisode</td>\n",
       "        <td>1995</td>\n",
       "    </tr>\n",
       "    <tr>\n",
       "        <td>Christopher Daniel Barnes</td>\n",
       "        <td>b&#x27;The Alien Costume: Part 3&#x27;</td>\n",
       "        <td>tvEpisode</td>\n",
       "        <td>1995</td>\n",
       "    </tr>\n",
       "    <tr>\n",
       "        <td>Christopher Daniel Barnes</td>\n",
       "        <td>b&#x27;The Hobgoblin: Part 1&#x27;</td>\n",
       "        <td>tvEpisode</td>\n",
       "        <td>1995</td>\n",
       "    </tr>\n",
       "    <tr>\n",
       "        <td>Christopher Daniel Barnes</td>\n",
       "        <td>b&#x27;The Hobgoblin: Part 2&#x27;</td>\n",
       "        <td>tvEpisode</td>\n",
       "        <td>1995</td>\n",
       "    </tr>\n",
       "    <tr>\n",
       "        <td>Christopher Daniel Barnes</td>\n",
       "        <td>b&#x27;The Menace of Mysterio&#x27;</td>\n",
       "        <td>tvEpisode</td>\n",
       "        <td>1995</td>\n",
       "    </tr>\n",
       "    <tr>\n",
       "        <td>Christopher Daniel Barnes</td>\n",
       "        <td>b&#x27;The Return of the Spider-Slayers&#x27;</td>\n",
       "        <td>tvEpisode</td>\n",
       "        <td>1995</td>\n",
       "    </tr>\n",
       "    <tr>\n",
       "        <td>Christopher Daniel Barnes</td>\n",
       "        <td>b&#x27;The Spider Slayer&#x27;</td>\n",
       "        <td>tvEpisode</td>\n",
       "        <td>1995</td>\n",
       "    </tr>\n",
       "    <tr>\n",
       "        <td>Christopher Daniel Barnes</td>\n",
       "        <td>b&#x27;The Sting of the Scorpion&#x27;</td>\n",
       "        <td>tvEpisode</td>\n",
       "        <td>1995</td>\n",
       "    </tr>\n",
       "    <tr>\n",
       "        <td>Christopher Daniel Barnes</td>\n",
       "        <td>b&#x27;Neogenic Nightmare Chapter 10: The Immortal Vampire&#x27;</td>\n",
       "        <td>tvEpisode</td>\n",
       "        <td>1996</td>\n",
       "    </tr>\n",
       "    <tr>\n",
       "        <td>Christopher Daniel Barnes</td>\n",
       "        <td>b&#x27;Neogenic Nightmare Chapter 13: Shriek of the Vulture&#x27;</td>\n",
       "        <td>tvEpisode</td>\n",
       "        <td>1996</td>\n",
       "    </tr>\n",
       "    <tr>\n",
       "        <td>Christopher Daniel Barnes</td>\n",
       "        <td>b&#x27;Neogenic Nightmare Chapter 14: The Final Nightmare&#x27;</td>\n",
       "        <td>tvEpisode</td>\n",
       "        <td>1996</td>\n",
       "    </tr>\n",
       "    <tr>\n",
       "        <td>Christopher Daniel Barnes</td>\n",
       "        <td>b&#x27;Neogenic Nightmare Chapter 9: Blade the Vampire Hunter&#x27;</td>\n",
       "        <td>tvEpisode</td>\n",
       "        <td>1996</td>\n",
       "    </tr>\n",
       "    <tr>\n",
       "        <td>Christopher Daniel Barnes</td>\n",
       "        <td>b&#x27;Sins of the Fathers Chapter 10: Venom Returns&#x27;</td>\n",
       "        <td>tvEpisode</td>\n",
       "        <td>1996</td>\n",
       "    </tr>\n",
       "    <tr>\n",
       "        <td>Christopher Daniel Barnes</td>\n",
       "        <td>b&#x27;Sins of the Fathers Chapter 11: Carnage&#x27;</td>\n",
       "        <td>tvEpisode</td>\n",
       "        <td>1996</td>\n",
       "    </tr>\n",
       "    <tr>\n",
       "        <td>Christopher Daniel Barnes</td>\n",
       "        <td>b&#x27;Sins of the Fathers Chapter 12: The Spot&#x27;</td>\n",
       "        <td>tvEpisode</td>\n",
       "        <td>1996</td>\n",
       "    </tr>\n",
       "    <tr>\n",
       "        <td>Christopher Daniel Barnes</td>\n",
       "        <td>b&#x27;Sins of the Fathers Chapter 13: Goblin War!&#x27;</td>\n",
       "        <td>tvEpisode</td>\n",
       "        <td>1996</td>\n",
       "    </tr>\n",
       "    <tr>\n",
       "        <td>Christopher Daniel Barnes</td>\n",
       "        <td>b&#x27;Sins of the Fathers Chapter 14: The Turning Point&#x27;</td>\n",
       "        <td>tvEpisode</td>\n",
       "        <td>1996</td>\n",
       "    </tr>\n",
       "    <tr>\n",
       "        <td>Christopher Daniel Barnes</td>\n",
       "        <td>b&#x27;Sins of the Fathers Chapter 1: Doctor Strange&#x27;</td>\n",
       "        <td>tvEpisode</td>\n",
       "        <td>1996</td>\n",
       "    </tr>\n",
       "    <tr>\n",
       "        <td>Christopher Daniel Barnes</td>\n",
       "        <td>b&#x27;Sins of the Fathers Chapter 2: Make a Wish&#x27;</td>\n",
       "        <td>tvEpisode</td>\n",
       "        <td>1996</td>\n",
       "    </tr>\n",
       "    <tr>\n",
       "        <td>Christopher Daniel Barnes</td>\n",
       "        <td>b&#x27;Sins of the Fathers Chapter 3: Attack of the Octobot&#x27;</td>\n",
       "        <td>tvEpisode</td>\n",
       "        <td>1996</td>\n",
       "    </tr>\n",
       "    <tr>\n",
       "        <td>Christopher Daniel Barnes</td>\n",
       "        <td>b&#x27;Sins of the Fathers Chapter 4: Enter the Green Goblin&#x27;</td>\n",
       "        <td>tvEpisode</td>\n",
       "        <td>1996</td>\n",
       "    </tr>\n",
       "    <tr>\n",
       "        <td>Christopher Daniel Barnes</td>\n",
       "        <td>b&#x27;Sins of the Fathers Chapter 5: The Rocket Racer&#x27;</td>\n",
       "        <td>tvEpisode</td>\n",
       "        <td>1996</td>\n",
       "    </tr>\n",
       "    <tr>\n",
       "        <td>Christopher Daniel Barnes</td>\n",
       "        <td>b&#x27;Sins of the Fathers Chapter 6: Framed&#x27;</td>\n",
       "        <td>tvEpisode</td>\n",
       "        <td>1996</td>\n",
       "    </tr>\n",
       "    <tr>\n",
       "        <td>Christopher Daniel Barnes</td>\n",
       "        <td>b&#x27;Sins of the Fathers Chapter 7: The Man Without Fear&#x27;</td>\n",
       "        <td>tvEpisode</td>\n",
       "        <td>1996</td>\n",
       "    </tr>\n",
       "    <tr>\n",
       "        <td>Christopher Daniel Barnes</td>\n",
       "        <td>b&#x27;Sins of the Fathers Chapter 8: The Ultimate Slayer&#x27;</td>\n",
       "        <td>tvEpisode</td>\n",
       "        <td>1996</td>\n",
       "    </tr>\n",
       "    <tr>\n",
       "        <td>Christopher Daniel Barnes</td>\n",
       "        <td>b&#x27;Sins of the Fathers Chapter 9: Tombstone&#x27;</td>\n",
       "        <td>tvEpisode</td>\n",
       "        <td>1996</td>\n",
       "    </tr>\n",
       "    <tr>\n",
       "        <td>Christopher Daniel Barnes</td>\n",
       "        <td>b&#x27;Partners in Danger Chapter 10: Lizard King&#x27;</td>\n",
       "        <td>tvEpisode</td>\n",
       "        <td>1997</td>\n",
       "    </tr>\n",
       "    <tr>\n",
       "        <td>Christopher Daniel Barnes</td>\n",
       "        <td>b&#x27;Partners in Danger Chapter 11: The Prowler&#x27;</td>\n",
       "        <td>tvEpisode</td>\n",
       "        <td>1997</td>\n",
       "    </tr>\n",
       "    <tr>\n",
       "        <td>Christopher Daniel Barnes</td>\n",
       "        <td>b&#x27;Partners in Danger Chapter 1: Guilty&#x27;</td>\n",
       "        <td>tvEpisode</td>\n",
       "        <td>1997</td>\n",
       "    </tr>\n",
       "    <tr>\n",
       "        <td>Christopher Daniel Barnes</td>\n",
       "        <td>b&#x27;Partners in Danger Chapter 2: The Cat&#x27;</td>\n",
       "        <td>tvEpisode</td>\n",
       "        <td>1997</td>\n",
       "    </tr>\n",
       "    <tr>\n",
       "        <td>Christopher Daniel Barnes</td>\n",
       "        <td>b&#x27;Partners in Danger Chapter 3: The Black Cat&#x27;</td>\n",
       "        <td>tvEpisode</td>\n",
       "        <td>1997</td>\n",
       "    </tr>\n",
       "    <tr>\n",
       "        <td>Christopher Daniel Barnes</td>\n",
       "        <td>b&#x27;Partners in Danger Chapter 4: Return of Kraven&#x27;</td>\n",
       "        <td>tvEpisode</td>\n",
       "        <td>1997</td>\n",
       "    </tr>\n",
       "    <tr>\n",
       "        <td>Christopher Daniel Barnes</td>\n",
       "        <td>b&#x27;Partners in Danger Chapter 5: Partners&#x27;</td>\n",
       "        <td>tvEpisode</td>\n",
       "        <td>1997</td>\n",
       "    </tr>\n",
       "    <tr>\n",
       "        <td>Christopher Daniel Barnes</td>\n",
       "        <td>b&#x27;Partners in Danger Chapter 6: The Awakening&#x27;</td>\n",
       "        <td>tvEpisode</td>\n",
       "        <td>1997</td>\n",
       "    </tr>\n",
       "    <tr>\n",
       "        <td>Christopher Daniel Barnes</td>\n",
       "        <td>b&#x27;Partners in Danger Chapter 7: The Vampire Queen&#x27;</td>\n",
       "        <td>tvEpisode</td>\n",
       "        <td>1997</td>\n",
       "    </tr>\n",
       "    <tr>\n",
       "        <td>Christopher Daniel Barnes</td>\n",
       "        <td>b&#x27;Partners in Danger Chapter 8: The Return of the Green Goblin&#x27;</td>\n",
       "        <td>tvEpisode</td>\n",
       "        <td>1997</td>\n",
       "    </tr>\n",
       "    <tr>\n",
       "        <td>Christopher Daniel Barnes</td>\n",
       "        <td>b&#x27;Partners in Danger Chapter 9: The Haunting of Mary Jane&#x27;</td>\n",
       "        <td>tvEpisode</td>\n",
       "        <td>1997</td>\n",
       "    </tr>\n",
       "    <tr>\n",
       "        <td>Christopher Daniel Barnes</td>\n",
       "        <td>b&#x27;Secret Wars, Chapter 1: Arrival&#x27;</td>\n",
       "        <td>tvEpisode</td>\n",
       "        <td>1997</td>\n",
       "    </tr>\n",
       "    <tr>\n",
       "        <td>Christopher Daniel Barnes</td>\n",
       "        <td>b&#x27;Secret Wars, Chapter 2: The Gauntlet of the Red Skull&#x27;</td>\n",
       "        <td>tvEpisode</td>\n",
       "        <td>1997</td>\n",
       "    </tr>\n",
       "    <tr>\n",
       "        <td>Christopher Daniel Barnes</td>\n",
       "        <td>b&#x27;Secret Wars, Chapter 3: Doom&#x27;</td>\n",
       "        <td>tvEpisode</td>\n",
       "        <td>1997</td>\n",
       "    </tr>\n",
       "    <tr>\n",
       "        <td>Christopher Daniel Barnes</td>\n",
       "        <td>b&#x27;Six Forgotten Warriors Chapter 1&#x27;</td>\n",
       "        <td>tvEpisode</td>\n",
       "        <td>1997</td>\n",
       "    </tr>\n",
       "    <tr>\n",
       "        <td>Christopher Daniel Barnes</td>\n",
       "        <td>b&#x27;Six Forgotten Warriors Chapter 2: Unclaimed Legacy&#x27;</td>\n",
       "        <td>tvEpisode</td>\n",
       "        <td>1997</td>\n",
       "    </tr>\n",
       "    <tr>\n",
       "        <td>Christopher Daniel Barnes</td>\n",
       "        <td>b&#x27;Six Forgotten Warriors Chapter 3: Secrets of the Six&#x27;</td>\n",
       "        <td>tvEpisode</td>\n",
       "        <td>1997</td>\n",
       "    </tr>\n",
       "    <tr>\n",
       "        <td>Christopher Daniel Barnes</td>\n",
       "        <td>b&#x27;Six Forgotten Warriors Chapter 4: The Six Fight Again&#x27;</td>\n",
       "        <td>tvEpisode</td>\n",
       "        <td>1997</td>\n",
       "    </tr>\n",
       "    <tr>\n",
       "        <td>Christopher Daniel Barnes</td>\n",
       "        <td>b&#x27;Six Forgotten Warriors Chapter 5: The Price of Heroism&#x27;</td>\n",
       "        <td>tvEpisode</td>\n",
       "        <td>1997</td>\n",
       "    </tr>\n",
       "    <tr>\n",
       "        <td>Christopher Daniel Barnes</td>\n",
       "        <td>b&#x27;The Return of Hydro-Man: Part 2&#x27;</td>\n",
       "        <td>tvEpisode</td>\n",
       "        <td>1997</td>\n",
       "    </tr>\n",
       "    <tr>\n",
       "        <td>Christopher Daniel Barnes</td>\n",
       "        <td>b&#x27;The Wedding&#x27;</td>\n",
       "        <td>tvEpisode</td>\n",
       "        <td>1997</td>\n",
       "    </tr>\n",
       "    <tr>\n",
       "        <td>Christopher Daniel Barnes</td>\n",
       "        <td>b&#x27;Spider Wars, Chapter 1: I Really, Really Hate Clones&#x27;</td>\n",
       "        <td>tvEpisode</td>\n",
       "        <td>1998</td>\n",
       "    </tr>\n",
       "    <tr>\n",
       "        <td>Christopher Daniel Barnes</td>\n",
       "        <td>b&#x27;Spider Wars, Chapter 2: Farewell Spider-Man&#x27;</td>\n",
       "        <td>tvEpisode</td>\n",
       "        <td>1998</td>\n",
       "    </tr>\n",
       "    <tr>\n",
       "        <td>Rino Romano</td>\n",
       "        <td>b&#x27;Spider-Man Unlimited&#x27;</td>\n",
       "        <td>tvSeries</td>\n",
       "        <td>1999</td>\n",
       "    </tr>\n",
       "    <tr>\n",
       "        <td>Rino Romano</td>\n",
       "        <td>b&#x27;Where Evil Nests&#x27;</td>\n",
       "        <td>tvEpisode</td>\n",
       "        <td>1999</td>\n",
       "    </tr>\n",
       "    <tr>\n",
       "        <td>Rino Romano</td>\n",
       "        <td>b&#x27;Worlds Apart: Part 1&#x27;</td>\n",
       "        <td>tvEpisode</td>\n",
       "        <td>1999</td>\n",
       "    </tr>\n",
       "    <tr>\n",
       "        <td>Rino Romano</td>\n",
       "        <td>b&#x27;Worlds Apart: Part 2&#x27;</td>\n",
       "        <td>tvEpisode</td>\n",
       "        <td>1999</td>\n",
       "    </tr>\n",
       "    <tr>\n",
       "        <td>Rino Romano</td>\n",
       "        <td>b&#x27;Deadly Choices&#x27;</td>\n",
       "        <td>tvEpisode</td>\n",
       "        <td>2000</td>\n",
       "    </tr>\n",
       "    <tr>\n",
       "        <td>Rino Romano</td>\n",
       "        <td>b&#x27;Cry Vulture&#x27;</td>\n",
       "        <td>tvEpisode</td>\n",
       "        <td>2001</td>\n",
       "    </tr>\n",
       "    <tr>\n",
       "        <td>Rino Romano</td>\n",
       "        <td>b&#x27;Destiny Unleashed&#x27;</td>\n",
       "        <td>tvEpisode</td>\n",
       "        <td>2001</td>\n",
       "    </tr>\n",
       "    <tr>\n",
       "        <td>Rino Romano</td>\n",
       "        <td>b&#x27;Enter the Hunter!&#x27;</td>\n",
       "        <td>tvEpisode</td>\n",
       "        <td>2001</td>\n",
       "    </tr>\n",
       "    <tr>\n",
       "        <td>Rino Romano</td>\n",
       "        <td>b&#x27;Ill-Met by Moonlight&#x27;</td>\n",
       "        <td>tvEpisode</td>\n",
       "        <td>2001</td>\n",
       "    </tr>\n",
       "    <tr>\n",
       "        <td>Rino Romano</td>\n",
       "        <td>b&#x27;Matters of the Heart&#x27;</td>\n",
       "        <td>tvEpisode</td>\n",
       "        <td>2001</td>\n",
       "    </tr>\n",
       "    <tr>\n",
       "        <td>Rino Romano</td>\n",
       "        <td>b&#x27;One Is the Loneliest Number&#x27;</td>\n",
       "        <td>tvEpisode</td>\n",
       "        <td>2001</td>\n",
       "    </tr>\n",
       "    <tr>\n",
       "        <td>Rino Romano</td>\n",
       "        <td>b&#x27;Sins of the Fathers&#x27;</td>\n",
       "        <td>tvEpisode</td>\n",
       "        <td>2001</td>\n",
       "    </tr>\n",
       "    <tr>\n",
       "        <td>Rino Romano</td>\n",
       "        <td>b&#x27;Steel Cold Heart&#x27;</td>\n",
       "        <td>tvEpisode</td>\n",
       "        <td>2001</td>\n",
       "    </tr>\n",
       "    <tr>\n",
       "        <td>Rino Romano</td>\n",
       "        <td>b&#x27;Sustenance&#x27;</td>\n",
       "        <td>tvEpisode</td>\n",
       "        <td>2001</td>\n",
       "    </tr>\n",
       "    <tr>\n",
       "        <td>Tobey Maguire</td>\n",
       "        <td>b&#x27;Spider-Man&#x27;</td>\n",
       "        <td>movie</td>\n",
       "        <td>2002</td>\n",
       "    </tr>\n",
       "    <tr>\n",
       "        <td>Neil Patrick Harris</td>\n",
       "        <td>b&#x27;Flash Memory&#x27;</td>\n",
       "        <td>tvEpisode</td>\n",
       "        <td>2003</td>\n",
       "    </tr>\n",
       "    <tr>\n",
       "        <td>Neil Patrick Harris</td>\n",
       "        <td>b&#x27;Head Over Heels&#x27;</td>\n",
       "        <td>tvEpisode</td>\n",
       "        <td>2003</td>\n",
       "    </tr>\n",
       "    <tr>\n",
       "        <td>Neil Patrick Harris</td>\n",
       "        <td>b&#x27;Heroes and Villains&#x27;</td>\n",
       "        <td>tvEpisode</td>\n",
       "        <td>2003</td>\n",
       "    </tr>\n",
       "    <tr>\n",
       "        <td>Neil Patrick Harris</td>\n",
       "        <td>b&#x27;Keeping Secrets&#x27;</td>\n",
       "        <td>tvEpisode</td>\n",
       "        <td>2003</td>\n",
       "    </tr>\n",
       "    <tr>\n",
       "        <td>Neil Patrick Harris</td>\n",
       "        <td>b&#x27;Law of the Jungle&#x27;</td>\n",
       "        <td>tvEpisode</td>\n",
       "        <td>2003</td>\n",
       "    </tr>\n",
       "    <tr>\n",
       "        <td>Neil Patrick Harris</td>\n",
       "        <td>b&#x27;Mind Games: Part 1&#x27;</td>\n",
       "        <td>tvEpisode</td>\n",
       "        <td>2003</td>\n",
       "    </tr>\n",
       "    <tr>\n",
       "        <td>Neil Patrick Harris</td>\n",
       "        <td>b&#x27;Mind Games: Part 2&#x27;</td>\n",
       "        <td>tvEpisode</td>\n",
       "        <td>2003</td>\n",
       "    </tr>\n",
       "    <tr>\n",
       "        <td>Neil Patrick Harris</td>\n",
       "        <td>b&#x27;Royal Scam&#x27;</td>\n",
       "        <td>tvEpisode</td>\n",
       "        <td>2003</td>\n",
       "    </tr>\n",
       "    <tr>\n",
       "        <td>Neil Patrick Harris</td>\n",
       "        <td>b&#x27;Spider-Man&#x27;</td>\n",
       "        <td>tvSeries</td>\n",
       "        <td>2003</td>\n",
       "    </tr>\n",
       "    <tr>\n",
       "        <td>Neil Patrick Harris</td>\n",
       "        <td>b&#x27;Spider-Man Dis-Abled&#x27;</td>\n",
       "        <td>tvEpisode</td>\n",
       "        <td>2003</td>\n",
       "    </tr>\n",
       "    <tr>\n",
       "        <td>Neil Patrick Harris</td>\n",
       "        <td>b&#x27;Sword of Shikata&#x27;</td>\n",
       "        <td>tvEpisode</td>\n",
       "        <td>2003</td>\n",
       "    </tr>\n",
       "    <tr>\n",
       "        <td>Neil Patrick Harris</td>\n",
       "        <td>b&#x27;The Party&#x27;</td>\n",
       "        <td>tvEpisode</td>\n",
       "        <td>2003</td>\n",
       "    </tr>\n",
       "    <tr>\n",
       "        <td>Neil Patrick Harris</td>\n",
       "        <td>b&#x27;Tight Squeeze&#x27;</td>\n",
       "        <td>tvEpisode</td>\n",
       "        <td>2003</td>\n",
       "    </tr>\n",
       "    <tr>\n",
       "        <td>Neil Patrick Harris</td>\n",
       "        <td>b&#x27;When Sparks Fly&#x27;</td>\n",
       "        <td>tvEpisode</td>\n",
       "        <td>2003</td>\n",
       "    </tr>\n",
       "    <tr>\n",
       "        <td>Tobey Maguire</td>\n",
       "        <td>b&#x27;Spider-Man 2&#x27;</td>\n",
       "        <td>movie</td>\n",
       "        <td>2004</td>\n",
       "    </tr>\n",
       "    <tr>\n",
       "        <td>Tobey Maguire</td>\n",
       "        <td>b&#x27;Spider-Man 2&#x27;</td>\n",
       "        <td>tvEpisode</td>\n",
       "        <td>2004</td>\n",
       "    </tr>\n",
       "    <tr>\n",
       "        <td>Forrest Whaley</td>\n",
       "        <td>b&#x27;The Lego Batman, Spider-Man, &amp; Chewbacca Movie&#x27;</td>\n",
       "        <td>tvEpisode</td>\n",
       "        <td>2007</td>\n",
       "    </tr>\n",
       "    <tr>\n",
       "        <td>Forrest Whaley</td>\n",
       "        <td>b&#x27;The Spider-Man Team-Up!&#x27;</td>\n",
       "        <td>tvEpisode</td>\n",
       "        <td>2007</td>\n",
       "    </tr>\n",
       "    <tr>\n",
       "        <td>Tobey Maguire</td>\n",
       "        <td>b&#x27;Spider-Man 3&#x27;</td>\n",
       "        <td>movie</td>\n",
       "        <td>2007</td>\n",
       "    </tr>\n",
       "    <tr>\n",
       "        <td>Forrest Whaley</td>\n",
       "        <td>b&#x27;The Robin&#x27;</td>\n",
       "        <td>tvEpisode</td>\n",
       "        <td>2008</td>\n",
       "    </tr>\n",
       "    <tr>\n",
       "        <td>Josh Keaton</td>\n",
       "        <td>b&#x27;Catalysts&#x27;</td>\n",
       "        <td>tvEpisode</td>\n",
       "        <td>2008</td>\n",
       "    </tr>\n",
       "    <tr>\n",
       "        <td>Josh Keaton</td>\n",
       "        <td>b&#x27;Competition&#x27;</td>\n",
       "        <td>tvEpisode</td>\n",
       "        <td>2008</td>\n",
       "    </tr>\n",
       "    <tr>\n",
       "        <td>Josh Keaton</td>\n",
       "        <td>b&#x27;Group Therapy&#x27;</td>\n",
       "        <td>tvEpisode</td>\n",
       "        <td>2008</td>\n",
       "    </tr>\n",
       "    <tr>\n",
       "        <td>Josh Keaton</td>\n",
       "        <td>b&#x27;Interactions&#x27;</td>\n",
       "        <td>tvEpisode</td>\n",
       "        <td>2008</td>\n",
       "    </tr>\n",
       "    <tr>\n",
       "        <td>Josh Keaton</td>\n",
       "        <td>b&#x27;Intervention&#x27;</td>\n",
       "        <td>tvEpisode</td>\n",
       "        <td>2008</td>\n",
       "    </tr>\n",
       "    <tr>\n",
       "        <td>Josh Keaton</td>\n",
       "        <td>b&#x27;Market Forces&#x27;</td>\n",
       "        <td>tvEpisode</td>\n",
       "        <td>2008</td>\n",
       "    </tr>\n",
       "    <tr>\n",
       "        <td>Josh Keaton</td>\n",
       "        <td>b&#x27;Natural Selection&#x27;</td>\n",
       "        <td>tvEpisode</td>\n",
       "        <td>2008</td>\n",
       "    </tr>\n",
       "    <tr>\n",
       "        <td>Josh Keaton</td>\n",
       "        <td>b&#x27;Nature vs. Nurture&#x27;</td>\n",
       "        <td>tvEpisode</td>\n",
       "        <td>2008</td>\n",
       "    </tr>\n",
       "    <tr>\n",
       "        <td>Josh Keaton</td>\n",
       "        <td>b&#x27;Persona&#x27;</td>\n",
       "        <td>tvEpisode</td>\n",
       "        <td>2008</td>\n",
       "    </tr>\n",
       "    <tr>\n",
       "        <td>Josh Keaton</td>\n",
       "        <td>b&#x27;Reaction&#x27;</td>\n",
       "        <td>tvEpisode</td>\n",
       "        <td>2008</td>\n",
       "    </tr>\n",
       "    <tr>\n",
       "        <td>Josh Keaton</td>\n",
       "        <td>b&#x27;Survival of the Fittest&#x27;</td>\n",
       "        <td>tvEpisode</td>\n",
       "        <td>2008</td>\n",
       "    </tr>\n",
       "    <tr>\n",
       "        <td>Josh Keaton</td>\n",
       "        <td>b&#x27;The Invisible Hand&#x27;</td>\n",
       "        <td>tvEpisode</td>\n",
       "        <td>2008</td>\n",
       "    </tr>\n",
       "    <tr>\n",
       "        <td>Josh Keaton</td>\n",
       "        <td>b&#x27;The Spectacular Spider-Man&#x27;</td>\n",
       "        <td>tvSeries</td>\n",
       "        <td>2008</td>\n",
       "    </tr>\n",
       "    <tr>\n",
       "        <td>Josh Keaton</td>\n",
       "        <td>b&#x27;The Uncertainty Principle&#x27;</td>\n",
       "        <td>tvEpisode</td>\n",
       "        <td>2008</td>\n",
       "    </tr>\n",
       "    <tr>\n",
       "        <td>Josh Keaton</td>\n",
       "        <td>b&#x27;Accomplices&#x27;</td>\n",
       "        <td>tvEpisode</td>\n",
       "        <td>2009</td>\n",
       "    </tr>\n",
       "    <tr>\n",
       "        <td>Josh Keaton</td>\n",
       "        <td>b&#x27;Blueprints&#x27;</td>\n",
       "        <td>tvEpisode</td>\n",
       "        <td>2009</td>\n",
       "    </tr>\n",
       "    <tr>\n",
       "        <td>Josh Keaton</td>\n",
       "        <td>b&#x27;Destructive Testing&#x27;</td>\n",
       "        <td>tvEpisode</td>\n",
       "        <td>2009</td>\n",
       "    </tr>\n",
       "    <tr>\n",
       "        <td>Josh Keaton</td>\n",
       "        <td>b&#x27;Final Curtain&#x27;</td>\n",
       "        <td>tvEpisode</td>\n",
       "        <td>2009</td>\n",
       "    </tr>\n",
       "    <tr>\n",
       "        <td>Josh Keaton</td>\n",
       "        <td>b&#x27;First Steps&#x27;</td>\n",
       "        <td>tvEpisode</td>\n",
       "        <td>2009</td>\n",
       "    </tr>\n",
       "    <tr>\n",
       "        <td>Josh Keaton</td>\n",
       "        <td>b&#x27;Gangland&#x27;</td>\n",
       "        <td>tvEpisode</td>\n",
       "        <td>2009</td>\n",
       "    </tr>\n",
       "    <tr>\n",
       "        <td>Josh Keaton</td>\n",
       "        <td>b&#x27;Growing Pains&#x27;</td>\n",
       "        <td>tvEpisode</td>\n",
       "        <td>2009</td>\n",
       "    </tr>\n",
       "    <tr>\n",
       "        <td>Josh Keaton</td>\n",
       "        <td>b&#x27;Identity Crisis&#x27;</td>\n",
       "        <td>tvEpisode</td>\n",
       "        <td>2009</td>\n",
       "    </tr>\n",
       "    <tr>\n",
       "        <td>Josh Keaton</td>\n",
       "        <td>b&#x27;Opening Night&#x27;</td>\n",
       "        <td>tvEpisode</td>\n",
       "        <td>2009</td>\n",
       "    </tr>\n",
       "    <tr>\n",
       "        <td>Josh Keaton</td>\n",
       "        <td>b&#x27;Probable Cause&#x27;</td>\n",
       "        <td>tvEpisode</td>\n",
       "        <td>2009</td>\n",
       "    </tr>\n",
       "    <tr>\n",
       "        <td>Josh Keaton</td>\n",
       "        <td>b&#x27;Reinforcement&#x27;</td>\n",
       "        <td>tvEpisode</td>\n",
       "        <td>2009</td>\n",
       "    </tr>\n",
       "    <tr>\n",
       "        <td>Josh Keaton</td>\n",
       "        <td>b&#x27;Shear Strength&#x27;</td>\n",
       "        <td>tvEpisode</td>\n",
       "        <td>2009</td>\n",
       "    </tr>\n",
       "    <tr>\n",
       "        <td>Josh Keaton</td>\n",
       "        <td>b&#x27;Subtext&#x27;</td>\n",
       "        <td>tvEpisode</td>\n",
       "        <td>2009</td>\n",
       "    </tr>\n",
       "    <tr>\n",
       "        <td>Shane Dawson</td>\n",
       "        <td>b&#x27;The Lego Batman &amp; Spider-Man Movie 2&#x27;</td>\n",
       "        <td>tvEpisode</td>\n",
       "        <td>2009</td>\n",
       "    </tr>\n",
       "    <tr>\n",
       "        <td>Mikey Day</td>\n",
       "        <td>b&#x27;I Love You, Iron Man/Ben 10 Franklin&#x27;</td>\n",
       "        <td>tvEpisode</td>\n",
       "        <td>2010</td>\n",
       "    </tr>\n",
       "    <tr>\n",
       "        <td>Andy Richter</td>\n",
       "        <td>b&#x27;Major League of Extraordinary Gentlemen&#x27;</td>\n",
       "        <td>tvEpisode</td>\n",
       "        <td>2011</td>\n",
       "    </tr>\n",
       "    <tr>\n",
       "        <td>Ian Hecox</td>\n",
       "        <td>b&#x27;If Superheroes Were Real&#x27;</td>\n",
       "        <td>tvEpisode</td>\n",
       "        <td>2011</td>\n",
       "    </tr>\n",
       "    <tr>\n",
       "        <td>Tobey Maguire</td>\n",
       "        <td>b&#x27;Top 11 Dumbasses in Distress&#x27;</td>\n",
       "        <td>tvEpisode</td>\n",
       "        <td>2011</td>\n",
       "    </tr>\n",
       "    <tr>\n",
       "        <td>Andrew Garfield</td>\n",
       "        <td>b&#x27;The Amazing Spider-Man&#x27;</td>\n",
       "        <td>movie</td>\n",
       "        <td>2012</td>\n",
       "    </tr>\n",
       "    <tr>\n",
       "        <td>Drake Bell</td>\n",
       "        <td>b&#x27;Attack of the Beetle&#x27;</td>\n",
       "        <td>tvEpisode</td>\n",
       "        <td>2012</td>\n",
       "    </tr>\n",
       "    <tr>\n",
       "        <td>Drake Bell</td>\n",
       "        <td>b&#x27;Awesome&#x27;</td>\n",
       "        <td>tvEpisode</td>\n",
       "        <td>2012</td>\n",
       "    </tr>\n",
       "    <tr>\n",
       "        <td>Drake Bell</td>\n",
       "        <td>b&#x27;Back in Black&#x27;</td>\n",
       "        <td>tvEpisode</td>\n",
       "        <td>2012</td>\n",
       "    </tr>\n",
       "    <tr>\n",
       "        <td>Drake Bell</td>\n",
       "        <td>b&#x27;Beetle Mania&#x27;</td>\n",
       "        <td>tvEpisode</td>\n",
       "        <td>2012</td>\n",
       "    </tr>\n",
       "    <tr>\n",
       "        <td>Drake Bell</td>\n",
       "        <td>b&#x27;Damage&#x27;</td>\n",
       "        <td>tvEpisode</td>\n",
       "        <td>2012</td>\n",
       "    </tr>\n",
       "    <tr>\n",
       "        <td>Drake Bell</td>\n",
       "        <td>b&#x27;Doomed&#x27;</td>\n",
       "        <td>tvEpisode</td>\n",
       "        <td>2012</td>\n",
       "    </tr>\n",
       "    <tr>\n",
       "        <td>Drake Bell</td>\n",
       "        <td>b&#x27;Exclusive&#x27;</td>\n",
       "        <td>tvEpisode</td>\n",
       "        <td>2012</td>\n",
       "    </tr>\n",
       "    <tr>\n",
       "        <td>Drake Bell</td>\n",
       "        <td>b&#x27;Field Trip&#x27;</td>\n",
       "        <td>tvEpisode</td>\n",
       "        <td>2012</td>\n",
       "    </tr>\n",
       "    <tr>\n",
       "        <td>Drake Bell</td>\n",
       "        <td>b&#x27;Flight of the Iron Spider&#x27;</td>\n",
       "        <td>tvEpisode</td>\n",
       "        <td>2012</td>\n",
       "    </tr>\n",
       "    <tr>\n",
       "        <td>Drake Bell</td>\n",
       "        <td>b&#x27;For Your Eye Only&#x27;</td>\n",
       "        <td>tvEpisode</td>\n",
       "        <td>2012</td>\n",
       "    </tr>\n",
       "    <tr>\n",
       "        <td>Drake Bell</td>\n",
       "        <td>b&#x27;Freaky&#x27;</td>\n",
       "        <td>tvEpisode</td>\n",
       "        <td>2012</td>\n",
       "    </tr>\n",
       "    <tr>\n",
       "        <td>Drake Bell</td>\n",
       "        <td>b&#x27;Great Power&#x27;</td>\n",
       "        <td>tvEpisode</td>\n",
       "        <td>2012</td>\n",
       "    </tr>\n",
       "    <tr>\n",
       "        <td>Drake Bell</td>\n",
       "        <td>b&#x27;Great Responsibility&#x27;</td>\n",
       "        <td>tvEpisode</td>\n",
       "        <td>2012</td>\n",
       "    </tr>\n",
       "    <tr>\n",
       "        <td>Drake Bell</td>\n",
       "        <td>b&#x27;Home Sick Hulk&#x27;</td>\n",
       "        <td>tvEpisode</td>\n",
       "        <td>2012</td>\n",
       "    </tr>\n",
       "    <tr>\n",
       "        <td>Drake Bell</td>\n",
       "        <td>b&#x27;I Am Spider-Man&#x27;</td>\n",
       "        <td>tvEpisode</td>\n",
       "        <td>2012</td>\n",
       "    </tr>\n",
       "    <tr>\n",
       "        <td>Drake Bell</td>\n",
       "        <td>b&#x27;Me Time&#x27;</td>\n",
       "        <td>tvEpisode</td>\n",
       "        <td>2012</td>\n",
       "    </tr>\n",
       "    <tr>\n",
       "        <td>Drake Bell</td>\n",
       "        <td>b&#x27;New Avengers&#x27;</td>\n",
       "        <td>tvEpisode</td>\n",
       "        <td>2012</td>\n",
       "    </tr>\n",
       "    <tr>\n",
       "        <td>Drake Bell</td>\n",
       "        <td>b&#x27;Not a Toy&#x27;</td>\n",
       "        <td>tvEpisode</td>\n",
       "        <td>2012</td>\n",
       "    </tr>\n",
       "    <tr>\n",
       "        <td>Drake Bell</td>\n",
       "        <td>b&#x27;Revealed&#x27;</td>\n",
       "        <td>tvEpisode</td>\n",
       "        <td>2012</td>\n",
       "    </tr>\n",
       "    <tr>\n",
       "        <td>Drake Bell</td>\n",
       "        <td>b&#x27;Rise of the Goblin&#x27;</td>\n",
       "        <td>tvEpisode</td>\n",
       "        <td>2012</td>\n",
       "    </tr>\n",
       "    <tr>\n",
       "        <td>Drake Bell</td>\n",
       "        <td>b&#x27;Run Pig Run&#x27;</td>\n",
       "        <td>tvEpisode</td>\n",
       "        <td>2012</td>\n",
       "    </tr>\n",
       "    <tr>\n",
       "        <td>Drake Bell</td>\n",
       "        <td>b&#x27;Snow Day&#x27;</td>\n",
       "        <td>tvEpisode</td>\n",
       "        <td>2012</td>\n",
       "    </tr>\n",
       "    <tr>\n",
       "        <td>Drake Bell</td>\n",
       "        <td>b&#x27;Strange&#x27;</td>\n",
       "        <td>tvEpisode</td>\n",
       "        <td>2012</td>\n",
       "    </tr>\n",
       "    <tr>\n",
       "        <td>Drake Bell</td>\n",
       "        <td>b&#x27;The Iron Octopus&#x27;</td>\n",
       "        <td>tvEpisode</td>\n",
       "        <td>2012</td>\n",
       "    </tr>\n",
       "    <tr>\n",
       "        <td>Drake Bell</td>\n",
       "        <td>b&#x27;Ultimate Spider-Man&#x27;</td>\n",
       "        <td>tvSeries</td>\n",
       "        <td>2012</td>\n",
       "    </tr>\n",
       "    <tr>\n",
       "        <td>Drake Bell</td>\n",
       "        <td>b&#x27;Venom&#x27;</td>\n",
       "        <td>tvEpisode</td>\n",
       "        <td>2012</td>\n",
       "    </tr>\n",
       "    <tr>\n",
       "        <td>Drake Bell</td>\n",
       "        <td>b&#x27;Venomous&#x27;</td>\n",
       "        <td>tvEpisode</td>\n",
       "        <td>2012</td>\n",
       "    </tr>\n",
       "    <tr>\n",
       "        <td>Drake Bell</td>\n",
       "        <td>b&#x27;Why I Hate the Gym&#x27;</td>\n",
       "        <td>tvEpisode</td>\n",
       "        <td>2012</td>\n",
       "    </tr>\n",
       "    <tr>\n",
       "        <td>JP Karliak</td>\n",
       "        <td>b&#x27;Marvel Mash-Up&#x27;</td>\n",
       "        <td>tvMiniSeries</td>\n",
       "        <td>2012</td>\n",
       "    </tr>\n",
       "    <tr>\n",
       "        <td>Mikey Day</td>\n",
       "        <td>b&#x27;The Amazing Spider-Minaj/Go, Dragon Ball, Go!&#x27;</td>\n",
       "        <td>tvEpisode</td>\n",
       "        <td>2012</td>\n",
       "    </tr>\n",
       "    <tr>\n",
       "        <td>Mikey Day</td>\n",
       "        <td>b&#x27;iChronicle/Hulk Smash&#x27;</td>\n",
       "        <td>tvEpisode</td>\n",
       "        <td>2012</td>\n",
       "    </tr>\n",
       "    <tr>\n",
       "        <td>Drake Bell</td>\n",
       "        <td>b&#x27;Blade&#x27;</td>\n",
       "        <td>tvEpisode</td>\n",
       "        <td>2013</td>\n",
       "    </tr>\n",
       "    <tr>\n",
       "        <td>Drake Bell</td>\n",
       "        <td>b&#x27;Carnage&#x27;</td>\n",
       "        <td>tvEpisode</td>\n",
       "        <td>2013</td>\n",
       "    </tr>\n",
       "    <tr>\n",
       "        <td>Drake Bell</td>\n",
       "        <td>b&#x27;Electro&#x27;</td>\n",
       "        <td>tvEpisode</td>\n",
       "        <td>2013</td>\n",
       "    </tr>\n",
       "    <tr>\n",
       "        <td>Drake Bell</td>\n",
       "        <td>b&#x27;Game Over&#x27;</td>\n",
       "        <td>tvEpisode</td>\n",
       "        <td>2013</td>\n",
       "    </tr>\n",
       "    <tr>\n",
       "        <td>Drake Bell</td>\n",
       "        <td>b&#x27;Guardians of the Galaxy&#x27;</td>\n",
       "        <td>tvEpisode</td>\n",
       "        <td>2013</td>\n",
       "    </tr>\n",
       "    <tr>\n",
       "        <td>Drake Bell</td>\n",
       "        <td>b&#x27;Hawkeye&#x27;</td>\n",
       "        <td>tvEpisode</td>\n",
       "        <td>2013</td>\n",
       "    </tr>\n",
       "    <tr>\n",
       "        <td>Drake Bell</td>\n",
       "        <td>b&#x27;House Arrest&#x27;</td>\n",
       "        <td>tvEpisode</td>\n",
       "        <td>2013</td>\n",
       "    </tr>\n",
       "    <tr>\n",
       "        <td>Drake Bell</td>\n",
       "        <td>b&#x27;Itsy Bitsy Spider-Man&#x27;</td>\n",
       "        <td>tvEpisode</td>\n",
       "        <td>2013</td>\n",
       "    </tr>\n",
       "    <tr>\n",
       "        <td>Drake Bell</td>\n",
       "        <td>b&#x27;Journey of the Iron Fist&#x27;</td>\n",
       "        <td>tvEpisode</td>\n",
       "        <td>2013</td>\n",
       "    </tr>\n",
       "    <tr>\n",
       "        <td>Drake Bell</td>\n",
       "        <td>b&#x27;Kraven the Hunter&#x27;</td>\n",
       "        <td>tvEpisode</td>\n",
       "        <td>2013</td>\n",
       "    </tr>\n",
       "    <tr>\n",
       "        <td>Drake Bell</td>\n",
       "        <td>b&#x27;Return of the Sinister Six&#x27;</td>\n",
       "        <td>tvEpisode</td>\n",
       "        <td>2013</td>\n",
       "    </tr>\n",
       "    <tr>\n",
       "        <td>Drake Bell</td>\n",
       "        <td>b&#x27;Sandman Returns&#x27;</td>\n",
       "        <td>tvEpisode</td>\n",
       "        <td>2013</td>\n",
       "    </tr>\n",
       "    <tr>\n",
       "        <td>Drake Bell</td>\n",
       "        <td>b&#x27;Second Chance Hero&#x27;</td>\n",
       "        <td>tvEpisode</td>\n",
       "        <td>2013</td>\n",
       "    </tr>\n",
       "    <tr>\n",
       "        <td>Drake Bell</td>\n",
       "        <td>b&#x27;Sinister Six&#x27;</td>\n",
       "        <td>tvEpisode</td>\n",
       "        <td>2013</td>\n",
       "    </tr>\n",
       "    <tr>\n",
       "        <td>Drake Bell</td>\n",
       "        <td>b&#x27;Spidah-Man&#x27;</td>\n",
       "        <td>tvEpisode</td>\n",
       "        <td>2013</td>\n",
       "    </tr>\n",
       "    <tr>\n",
       "        <td>Drake Bell</td>\n",
       "        <td>b&#x27;Stan by Me&#x27;</td>\n",
       "        <td>tvEpisode</td>\n",
       "        <td>2013</td>\n",
       "    </tr>\n",
       "    <tr>\n",
       "        <td>Drake Bell</td>\n",
       "        <td>b&#x27;Swarm&#x27;</td>\n",
       "        <td>tvEpisode</td>\n",
       "        <td>2013</td>\n",
       "    </tr>\n",
       "    <tr>\n",
       "        <td>Drake Bell</td>\n",
       "        <td>b&#x27;The Collector&#x27;</td>\n",
       "        <td>tvEpisode</td>\n",
       "        <td>2013</td>\n",
       "    </tr>\n",
       "    <tr>\n",
       "        <td>Drake Bell</td>\n",
       "        <td>b&#x27;The Howling Commandos&#x27;</td>\n",
       "        <td>tvEpisode</td>\n",
       "        <td>2013</td>\n",
       "    </tr>\n",
       "    <tr>\n",
       "        <td>Drake Bell</td>\n",
       "        <td>b&#x27;The Incredible Spider-Hulk&#x27;</td>\n",
       "        <td>tvEpisode</td>\n",
       "        <td>2013</td>\n",
       "    </tr>\n",
       "    <tr>\n",
       "        <td>Drake Bell</td>\n",
       "        <td>b&#x27;The Lizard&#x27;</td>\n",
       "        <td>tvEpisode</td>\n",
       "        <td>2013</td>\n",
       "    </tr>\n",
       "    <tr>\n",
       "        <td>Drake Bell</td>\n",
       "        <td>b&#x27;The Man-Wolf&#x27;</td>\n",
       "        <td>tvEpisode</td>\n",
       "        <td>2013</td>\n",
       "    </tr>\n",
       "    <tr>\n",
       "        <td>Drake Bell</td>\n",
       "        <td>b&#x27;The Parent Trap&#x27;</td>\n",
       "        <td>tvEpisode</td>\n",
       "        <td>2013</td>\n",
       "    </tr>\n",
       "    <tr>\n",
       "        <td>Drake Bell</td>\n",
       "        <td>b&#x27;The Rhino&#x27;</td>\n",
       "        <td>tvEpisode</td>\n",
       "        <td>2013</td>\n",
       "    </tr>\n",
       "    <tr>\n",
       "        <td>Drake Bell</td>\n",
       "        <td>b&#x27;The Venom Within&#x27;</td>\n",
       "        <td>tvEpisode</td>\n",
       "        <td>2013</td>\n",
       "    </tr>\n",
       "    <tr>\n",
       "        <td>Drake Bell</td>\n",
       "        <td>b&#x27;Ultimate&#x27;</td>\n",
       "        <td>tvEpisode</td>\n",
       "        <td>2013</td>\n",
       "    </tr>\n",
       "    <tr>\n",
       "        <td>Drake Bell</td>\n",
       "        <td>b&#x27;Ultimate Deadpool&#x27;</td>\n",
       "        <td>tvEpisode</td>\n",
       "        <td>2013</td>\n",
       "    </tr>\n",
       "    <tr>\n",
       "        <td>Drake Bell</td>\n",
       "        <td>b&#x27;Venom Bomb&#x27;</td>\n",
       "        <td>tvEpisode</td>\n",
       "        <td>2013</td>\n",
       "    </tr>\n",
       "    <tr>\n",
       "        <td>Stan Lee</td>\n",
       "        <td>b&#x27;Superheroes: A Never-Ending Battle&#x27;</td>\n",
       "        <td>tvMiniSeries</td>\n",
       "        <td>2013</td>\n",
       "    </tr>\n",
       "    <tr>\n",
       "        <td>Andrew Garfield</td>\n",
       "        <td>b&#x27;The Amazing Spider-Man 2&#x27;</td>\n",
       "        <td>movie</td>\n",
       "        <td>2014</td>\n",
       "    </tr>\n",
       "    <tr>\n",
       "        <td>Drake Bell</td>\n",
       "        <td>b&#x27;Agent Venom&#x27;</td>\n",
       "        <td>tvEpisode</td>\n",
       "        <td>2014</td>\n",
       "    </tr>\n",
       "    <tr>\n",
       "        <td>Drake Bell</td>\n",
       "        <td>b&#x27;Cloak and Dagger&#x27;</td>\n",
       "        <td>tvEpisode</td>\n",
       "        <td>2014</td>\n",
       "    </tr>\n",
       "    <tr>\n",
       "        <td>Drake Bell</td>\n",
       "        <td>b&#x27;Halloween Night at the Museum&#x27;</td>\n",
       "        <td>tvEpisode</td>\n",
       "        <td>2014</td>\n",
       "    </tr>\n",
       "    <tr>\n",
       "        <td>Drake Bell</td>\n",
       "        <td>b&#x27;New Warriors&#x27;</td>\n",
       "        <td>tvEpisode</td>\n",
       "        <td>2014</td>\n",
       "    </tr>\n",
       "    <tr>\n",
       "        <td>Drake Bell</td>\n",
       "        <td>b&#x27;Nightmare on Christmas&#x27;</td>\n",
       "        <td>tvEpisode</td>\n",
       "        <td>2014</td>\n",
       "    </tr>\n",
       "    <tr>\n",
       "        <td>Drake Bell</td>\n",
       "        <td>b&#x27;The Avenging Spider-Man: Part 1&#x27;</td>\n",
       "        <td>tvEpisode</td>\n",
       "        <td>2014</td>\n",
       "    </tr>\n",
       "    <tr>\n",
       "        <td>Drake Bell</td>\n",
       "        <td>b&#x27;The Avenging Spider-Man: Part 2&#x27;</td>\n",
       "        <td>tvEpisode</td>\n",
       "        <td>2014</td>\n",
       "    </tr>\n",
       "    <tr>\n",
       "        <td>Drake Bell</td>\n",
       "        <td>b&#x27;The Next Iron Spider&#x27;</td>\n",
       "        <td>tvEpisode</td>\n",
       "        <td>2014</td>\n",
       "    </tr>\n",
       "    <tr>\n",
       "        <td>Drake Bell</td>\n",
       "        <td>b&#x27;The Return of the Guardians of the Galaxy&#x27;</td>\n",
       "        <td>tvEpisode</td>\n",
       "        <td>2014</td>\n",
       "    </tr>\n",
       "    <tr>\n",
       "        <td>Drake Bell</td>\n",
       "        <td>b&#x27;The Savage Spider-Man&#x27;</td>\n",
       "        <td>tvEpisode</td>\n",
       "        <td>2014</td>\n",
       "    </tr>\n",
       "    <tr>\n",
       "        <td>Drake Bell</td>\n",
       "        <td>b&#x27;The Vulture&#x27;</td>\n",
       "        <td>tvEpisode</td>\n",
       "        <td>2014</td>\n",
       "    </tr>\n",
       "    <tr>\n",
       "        <td>Aaron Schoenke</td>\n",
       "        <td>b&#x27;Spider-Man vs. Darth Maul&#x27;</td>\n",
       "        <td>tvEpisode</td>\n",
       "        <td>2015</td>\n",
       "    </tr>\n",
       "    <tr>\n",
       "        <td>Drake Bell</td>\n",
       "        <td>b&#x27;Ant-Man&#x27;</td>\n",
       "        <td>tvEpisode</td>\n",
       "        <td>2015</td>\n",
       "    </tr>\n",
       "    <tr>\n",
       "        <td>Drake Bell</td>\n",
       "        <td>b&#x27;Attack of the Synthezoids&#x27;</td>\n",
       "        <td>tvEpisode</td>\n",
       "        <td>2015</td>\n",
       "    </tr>\n",
       "    <tr>\n",
       "        <td>Drake Bell</td>\n",
       "        <td>b&#x27;Burrito Run&#x27;</td>\n",
       "        <td>tvEpisode</td>\n",
       "        <td>2015</td>\n",
       "    </tr>\n",
       "    <tr>\n",
       "        <td>Drake Bell</td>\n",
       "        <td>b&#x27;Contest of the Champions: Part 1&#x27;</td>\n",
       "        <td>tvEpisode</td>\n",
       "        <td>2015</td>\n",
       "    </tr>\n",
       "    <tr>\n",
       "        <td>Drake Bell</td>\n",
       "        <td>b&#x27;Contest of the Champions: Part 2&#x27;</td>\n",
       "        <td>tvEpisode</td>\n",
       "        <td>2015</td>\n",
       "    </tr>\n",
       "    <tr>\n",
       "        <td>Drake Bell</td>\n",
       "        <td>b&#x27;Contest of the Champions: Part 3&#x27;</td>\n",
       "        <td>tvEpisode</td>\n",
       "        <td>2015</td>\n",
       "    </tr>\n",
       "    <tr>\n",
       "        <td>Drake Bell</td>\n",
       "        <td>b&#x27;Contest of the Champions: Part 4&#x27;</td>\n",
       "        <td>tvEpisode</td>\n",
       "        <td>2015</td>\n",
       "    </tr>\n",
       "    <tr>\n",
       "        <td>Drake Bell</td>\n",
       "        <td>b&#x27;Inhumanity&#x27;</td>\n",
       "        <td>tvEpisode</td>\n",
       "        <td>2015</td>\n",
       "    </tr>\n",
       "    <tr>\n",
       "        <td>Drake Bell</td>\n",
       "        <td>b&#x27;Rampaging Rhino&#x27;</td>\n",
       "        <td>tvEpisode</td>\n",
       "        <td>2015</td>\n",
       "    </tr>\n",
       "    <tr>\n",
       "        <td>Drake Bell</td>\n",
       "        <td>b&#x27;SHIELD Academy&#x27;</td>\n",
       "        <td>tvEpisode</td>\n",
       "        <td>2015</td>\n",
       "    </tr>\n",
       "    <tr>\n",
       "        <td>Drake Bell</td>\n",
       "        <td>b&#x27;Spidey, I Blew Up the Dinosaur&#x27;</td>\n",
       "        <td>tvEpisode</td>\n",
       "        <td>2015</td>\n",
       "    </tr>\n",
       "    <tr>\n",
       "        <td>Drake Bell</td>\n",
       "        <td>b&#x27;The Revenge of Arnim Zola&#x27;</td>\n",
       "        <td>tvEpisode</td>\n",
       "        <td>2015</td>\n",
       "    </tr>\n",
       "    <tr>\n",
       "        <td>Drake Bell</td>\n",
       "        <td>b&#x27;The Spider-Verse: Part 1&#x27;</td>\n",
       "        <td>tvEpisode</td>\n",
       "        <td>2015</td>\n",
       "    </tr>\n",
       "    <tr>\n",
       "        <td>Drake Bell</td>\n",
       "        <td>b&#x27;The Spider-Verse: Part 2&#x27;</td>\n",
       "        <td>tvEpisode</td>\n",
       "        <td>2015</td>\n",
       "    </tr>\n",
       "    <tr>\n",
       "        <td>Drake Bell</td>\n",
       "        <td>b&#x27;The Spider-Verse: Part 3&#x27;</td>\n",
       "        <td>tvEpisode</td>\n",
       "        <td>2015</td>\n",
       "    </tr>\n",
       "    <tr>\n",
       "        <td>Drake Bell</td>\n",
       "        <td>b&#x27;The Spider-Verse: Part 4&#x27;</td>\n",
       "        <td>tvEpisode</td>\n",
       "        <td>2015</td>\n",
       "    </tr>\n",
       "    <tr>\n",
       "        <td>Cole Howard</td>\n",
       "        <td>b&#x27;Marvel Video Comics&#x27;</td>\n",
       "        <td>tvMiniSeries</td>\n",
       "        <td>2016</td>\n",
       "    </tr>\n",
       "    <tr>\n",
       "        <td>Drake Bell</td>\n",
       "        <td>b&#x27;Agent Web&#x27;</td>\n",
       "        <td>tvEpisode</td>\n",
       "        <td>2016</td>\n",
       "    </tr>\n",
       "    <tr>\n",
       "        <td>Drake Bell</td>\n",
       "        <td>b&#x27;Anti-Venom&#x27;</td>\n",
       "        <td>tvEpisode</td>\n",
       "        <td>2016</td>\n",
       "    </tr>\n",
       "    <tr>\n",
       "        <td>Drake Bell</td>\n",
       "        <td>b&#x27;Beached&#x27;</td>\n",
       "        <td>tvEpisode</td>\n",
       "        <td>2016</td>\n",
       "    </tr>\n",
       "    <tr>\n",
       "        <td>Drake Bell</td>\n",
       "        <td>b&#x27;Double Agent Venom&#x27;</td>\n",
       "        <td>tvEpisode</td>\n",
       "        <td>2016</td>\n",
       "    </tr>\n",
       "    <tr>\n",
       "        <td>Drake Bell</td>\n",
       "        <td>b&#x27;Force of Nature&#x27;</td>\n",
       "        <td>tvEpisode</td>\n",
       "        <td>2016</td>\n",
       "    </tr>\n",
       "    <tr>\n",
       "        <td>Drake Bell</td>\n",
       "        <td>b&#x27;Hydra Attacks: Part 1&#x27;</td>\n",
       "        <td>tvEpisode</td>\n",
       "        <td>2016</td>\n",
       "    </tr>\n",
       "    <tr>\n",
       "        <td>Drake Bell</td>\n",
       "        <td>b&#x27;Hydra Attacks: Part 2&#x27;</td>\n",
       "        <td>tvEpisode</td>\n",
       "        <td>2016</td>\n",
       "    </tr>\n",
       "    <tr>\n",
       "        <td>Drake Bell</td>\n",
       "        <td>b&#x27;Iron Vulture&#x27;</td>\n",
       "        <td>tvEpisode</td>\n",
       "        <td>2016</td>\n",
       "    </tr>\n",
       "    <tr>\n",
       "        <td>Drake Bell</td>\n",
       "        <td>b&#x27;Lizards&#x27;</td>\n",
       "        <td>tvEpisode</td>\n",
       "        <td>2016</td>\n",
       "    </tr>\n",
       "    <tr>\n",
       "        <td>Drake Bell</td>\n",
       "        <td>b&#x27;Miles from Home&#x27;</td>\n",
       "        <td>tvEpisode</td>\n",
       "        <td>2016</td>\n",
       "    </tr>\n",
       "    <tr>\n",
       "        <td>Drake Bell</td>\n",
       "        <td>b&#x27;Return to the Spider-Verse: Part 1&#x27;</td>\n",
       "        <td>tvEpisode</td>\n",
       "        <td>2016</td>\n",
       "    </tr>\n",
       "    <tr>\n",
       "        <td>Drake Bell</td>\n",
       "        <td>b&#x27;Return to the Spider-Verse: Part 2&#x27;</td>\n",
       "        <td>tvEpisode</td>\n",
       "        <td>2016</td>\n",
       "    </tr>\n",
       "    <tr>\n",
       "        <td>Drake Bell</td>\n",
       "        <td>b&#x27;Return to the Spider-Verse: Part 3&#x27;</td>\n",
       "        <td>tvEpisode</td>\n",
       "        <td>2016</td>\n",
       "    </tr>\n",
       "    <tr>\n",
       "        <td>Drake Bell</td>\n",
       "        <td>b&#x27;Return to the Spider-Verse: Part 4&#x27;</td>\n",
       "        <td>tvEpisode</td>\n",
       "        <td>2016</td>\n",
       "    </tr>\n",
       "    <tr>\n",
       "        <td>Drake Bell</td>\n",
       "        <td>b&#x27;Strange Little Halloween&#x27;</td>\n",
       "        <td>tvEpisode</td>\n",
       "        <td>2016</td>\n",
       "    </tr>\n",
       "    <tr>\n",
       "        <td>Drake Bell</td>\n",
       "        <td>b&#x27;The Moon Knight Before Christmas&#x27;</td>\n",
       "        <td>tvEpisode</td>\n",
       "        <td>2016</td>\n",
       "    </tr>\n",
       "    <tr>\n",
       "        <td>Drake Bell</td>\n",
       "        <td>b&#x27;The New Sinister 6: Part 1&#x27;</td>\n",
       "        <td>tvEpisode</td>\n",
       "        <td>2016</td>\n",
       "    </tr>\n",
       "    <tr>\n",
       "        <td>Drake Bell</td>\n",
       "        <td>b&#x27;The New Sinister 6: Part 2&#x27;</td>\n",
       "        <td>tvEpisode</td>\n",
       "        <td>2016</td>\n",
       "    </tr>\n",
       "    <tr>\n",
       "        <td>Drake Bell</td>\n",
       "        <td>b&#x27;The Spider Slayers: Part 1&#x27;</td>\n",
       "        <td>tvEpisode</td>\n",
       "        <td>2016</td>\n",
       "    </tr>\n",
       "    <tr>\n",
       "        <td>Drake Bell</td>\n",
       "        <td>b&#x27;The Spider Slayers: Part 2&#x27;</td>\n",
       "        <td>tvEpisode</td>\n",
       "        <td>2016</td>\n",
       "    </tr>\n",
       "    <tr>\n",
       "        <td>Drake Bell</td>\n",
       "        <td>b&#x27;The Spider Slayers: Part 3&#x27;</td>\n",
       "        <td>tvEpisode</td>\n",
       "        <td>2016</td>\n",
       "    </tr>\n",
       "    <tr>\n",
       "        <td>Drake Bell</td>\n",
       "        <td>b&#x27;The Symbiote Saga: Part 1&#x27;</td>\n",
       "        <td>tvEpisode</td>\n",
       "        <td>2016</td>\n",
       "    </tr>\n",
       "    <tr>\n",
       "        <td>Drake Bell</td>\n",
       "        <td>b&#x27;The Symbiote Saga: Part 2&#x27;</td>\n",
       "        <td>tvEpisode</td>\n",
       "        <td>2016</td>\n",
       "    </tr>\n",
       "    <tr>\n",
       "        <td>Drake Bell</td>\n",
       "        <td>b&#x27;The Symbiote Saga: Part 3&#x27;</td>\n",
       "        <td>tvEpisode</td>\n",
       "        <td>2016</td>\n",
       "    </tr>\n",
       "    <tr>\n",
       "        <td>Cole Howard</td>\n",
       "        <td>b&#x27;Marvel Super Hero Adventures&#x27;</td>\n",
       "        <td>tvMiniSeries</td>\n",
       "        <td>2017</td>\n",
       "    </tr>\n",
       "    <tr>\n",
       "        <td>Drake Bell</td>\n",
       "        <td>b&#x27;Graduation Day: Part 1&#x27;</td>\n",
       "        <td>tvEpisode</td>\n",
       "        <td>2017</td>\n",
       "    </tr>\n",
       "    <tr>\n",
       "        <td>Drake Bell</td>\n",
       "        <td>b&#x27;Graduation Day: Part 2&#x27;</td>\n",
       "        <td>tvEpisode</td>\n",
       "        <td>2017</td>\n",
       "    </tr>\n",
       "    <tr>\n",
       "        <td>Robbie Daymond</td>\n",
       "        <td>b&#x27;A Day in the Life&#x27;</td>\n",
       "        <td>tvEpisode</td>\n",
       "        <td>2017</td>\n",
       "    </tr>\n",
       "    <tr>\n",
       "        <td>Robbie Daymond</td>\n",
       "        <td>b&#x27;Halloween Moon&#x27;</td>\n",
       "        <td>tvEpisode</td>\n",
       "        <td>2017</td>\n",
       "    </tr>\n",
       "    <tr>\n",
       "        <td>Robbie Daymond</td>\n",
       "        <td>b&#x27;Horizon High: Part One&#x27;</td>\n",
       "        <td>tvEpisode</td>\n",
       "        <td>2017</td>\n",
       "    </tr>\n",
       "    <tr>\n",
       "        <td>Robbie Daymond</td>\n",
       "        <td>b&#x27;Horizon High: Part Two&#x27;</td>\n",
       "        <td>tvEpisode</td>\n",
       "        <td>2017</td>\n",
       "    </tr>\n",
       "    <tr>\n",
       "        <td>Robbie Daymond</td>\n",
       "        <td>b&quot;Kraven&#x27;s Amazing Hunt&quot;</td>\n",
       "        <td>tvEpisode</td>\n",
       "        <td>2017</td>\n",
       "    </tr>\n",
       "    <tr>\n",
       "        <td>Robbie Daymond</td>\n",
       "        <td>b&#x27;Origins&#x27;</td>\n",
       "        <td>tvEpisode</td>\n",
       "        <td>2017</td>\n",
       "    </tr>\n",
       "    <tr>\n",
       "        <td>Robbie Daymond</td>\n",
       "        <td>b&#x27;Osborn Academy&#x27;</td>\n",
       "        <td>tvEpisode</td>\n",
       "        <td>2017</td>\n",
       "    </tr>\n",
       "    <tr>\n",
       "        <td>Robbie Daymond</td>\n",
       "        <td>b&#x27;Party Animals&#x27;</td>\n",
       "        <td>tvEpisode</td>\n",
       "        <td>2017</td>\n",
       "    </tr>\n",
       "    <tr>\n",
       "        <td>Robbie Daymond</td>\n",
       "        <td>b&#x27;Sandman&#x27;</td>\n",
       "        <td>tvEpisode</td>\n",
       "        <td>2017</td>\n",
       "    </tr>\n",
       "    <tr>\n",
       "        <td>Robbie Daymond</td>\n",
       "        <td>b&#x27;Screwball Live&#x27;</td>\n",
       "        <td>tvEpisode</td>\n",
       "        <td>2017</td>\n",
       "    </tr>\n",
       "    <tr>\n",
       "        <td>Robbie Daymond</td>\n",
       "        <td>b&#x27;Spider-Man&#x27;</td>\n",
       "        <td>tvSeries</td>\n",
       "        <td>2017</td>\n",
       "    </tr>\n",
       "    <tr>\n",
       "        <td>Robbie Daymond</td>\n",
       "        <td>b&#x27;Spider-Man on Ice&#x27;</td>\n",
       "        <td>tvEpisode</td>\n",
       "        <td>2017</td>\n",
       "    </tr>\n",
       "    <tr>\n",
       "        <td>Robbie Daymond</td>\n",
       "        <td>b&#x27;Stark Expo&#x27;</td>\n",
       "        <td>tvEpisode</td>\n",
       "        <td>2017</td>\n",
       "    </tr>\n",
       "    <tr>\n",
       "        <td>Robbie Daymond</td>\n",
       "        <td>b&#x27;Symbiotic Relationship&#x27;</td>\n",
       "        <td>tvEpisode</td>\n",
       "        <td>2017</td>\n",
       "    </tr>\n",
       "    <tr>\n",
       "        <td>Robbie Daymond</td>\n",
       "        <td>b&#x27;Ultimate Spider-Man&#x27;</td>\n",
       "        <td>tvEpisode</td>\n",
       "        <td>2017</td>\n",
       "    </tr>\n",
       "    <tr>\n",
       "        <td>Robbie Daymond</td>\n",
       "        <td>b&#x27;Venom&#x27;</td>\n",
       "        <td>tvEpisode</td>\n",
       "        <td>2017</td>\n",
       "    </tr>\n",
       "    <tr>\n",
       "        <td>Sean Chiplock</td>\n",
       "        <td>b&#x27;The Origin of Spider-Man&#x27;</td>\n",
       "        <td>tvEpisode</td>\n",
       "        <td>2017</td>\n",
       "    </tr>\n",
       "    <tr>\n",
       "        <td>Tom Holland</td>\n",
       "        <td>b&#x27;Spider-Man: Homecoming&#x27;</td>\n",
       "        <td>movie</td>\n",
       "        <td>2017</td>\n",
       "    </tr>\n",
       "    <tr>\n",
       "        <td>Doug Walker</td>\n",
       "        <td>b&#x27;The League of Extraordinary Gentlemen&#x27;</td>\n",
       "        <td>tvEpisode</td>\n",
       "        <td>2018</td>\n",
       "    </tr>\n",
       "    <tr>\n",
       "        <td>Robbie Daymond</td>\n",
       "        <td>b&#x27;Between an Ock and a Hard Place&#x27;</td>\n",
       "        <td>tvEpisode</td>\n",
       "        <td>2018</td>\n",
       "    </tr>\n",
       "    <tr>\n",
       "        <td>Robbie Daymond</td>\n",
       "        <td>b&#x27;Brain Drain&#x27;</td>\n",
       "        <td>tvEpisode</td>\n",
       "        <td>2018</td>\n",
       "    </tr>\n",
       "    <tr>\n",
       "        <td>Robbie Daymond</td>\n",
       "        <td>b&#x27;Bring on the Bad Guys: Part Four&#x27;</td>\n",
       "        <td>tvEpisode</td>\n",
       "        <td>2018</td>\n",
       "    </tr>\n",
       "    <tr>\n",
       "        <td>Robbie Daymond</td>\n",
       "        <td>b&#x27;Bring on the Bad Guys: Part One&#x27;</td>\n",
       "        <td>tvEpisode</td>\n",
       "        <td>2018</td>\n",
       "    </tr>\n",
       "    <tr>\n",
       "        <td>Robbie Daymond</td>\n",
       "        <td>b&#x27;Bring on the Bad Guys: Part Three&#x27;</td>\n",
       "        <td>tvEpisode</td>\n",
       "        <td>2018</td>\n",
       "    </tr>\n",
       "    <tr>\n",
       "        <td>Robbie Daymond</td>\n",
       "        <td>b&#x27;Bring on the Bad Guys: Part Two&#x27;</td>\n",
       "        <td>tvEpisode</td>\n",
       "        <td>2018</td>\n",
       "    </tr>\n",
       "    <tr>\n",
       "        <td>Robbie Daymond</td>\n",
       "        <td>b&quot;Dead Man&#x27;s Party&quot;</td>\n",
       "        <td>tvEpisode</td>\n",
       "        <td>2018</td>\n",
       "    </tr>\n",
       "    <tr>\n",
       "        <td>Robbie Daymond</td>\n",
       "        <td>b&#x27;How I Thwipped My Summer Vacation&#x27;</td>\n",
       "        <td>tvEpisode</td>\n",
       "        <td>2018</td>\n",
       "    </tr>\n",
       "    <tr>\n",
       "        <td>Robbie Daymond</td>\n",
       "        <td>b&#x27;Rise Above It All&#x27;</td>\n",
       "        <td>tvEpisode</td>\n",
       "        <td>2018</td>\n",
       "    </tr>\n",
       "    <tr>\n",
       "        <td>Robbie Daymond</td>\n",
       "        <td>b&#x27;School of Hard Knocks&#x27;</td>\n",
       "        <td>tvEpisode</td>\n",
       "        <td>2018</td>\n",
       "    </tr>\n",
       "    <tr>\n",
       "        <td>Robbie Daymond</td>\n",
       "        <td>b&#x27;Spider-Island: Part Five&#x27;</td>\n",
       "        <td>tvEpisode</td>\n",
       "        <td>2018</td>\n",
       "    </tr>\n",
       "    <tr>\n",
       "        <td>Robbie Daymond</td>\n",
       "        <td>b&#x27;Spider-Island: Part Four&#x27;</td>\n",
       "        <td>tvEpisode</td>\n",
       "        <td>2018</td>\n",
       "    </tr>\n",
       "    <tr>\n",
       "        <td>Robbie Daymond</td>\n",
       "        <td>b&#x27;Spider-Island: Part One&#x27;</td>\n",
       "        <td>tvEpisode</td>\n",
       "        <td>2018</td>\n",
       "    </tr>\n",
       "    <tr>\n",
       "        <td>Robbie Daymond</td>\n",
       "        <td>b&#x27;Spider-Island: Part Three&#x27;</td>\n",
       "        <td>tvEpisode</td>\n",
       "        <td>2018</td>\n",
       "    </tr>\n",
       "    <tr>\n",
       "        <td>Robbie Daymond</td>\n",
       "        <td>b&#x27;Spider-Island: Part Two&#x27;</td>\n",
       "        <td>tvEpisode</td>\n",
       "        <td>2018</td>\n",
       "    </tr>\n",
       "    <tr>\n",
       "        <td>Robbie Daymond</td>\n",
       "        <td>b&#x27;Take Two&#x27;</td>\n",
       "        <td>tvEpisode</td>\n",
       "        <td>2018</td>\n",
       "    </tr>\n",
       "    <tr>\n",
       "        <td>Robbie Daymond</td>\n",
       "        <td>b&#x27;The Hobgoblin: Part One&#x27;</td>\n",
       "        <td>tvEpisode</td>\n",
       "        <td>2018</td>\n",
       "    </tr>\n",
       "    <tr>\n",
       "        <td>Robbie Daymond</td>\n",
       "        <td>b&#x27;The Hobgoblin: Part Two&#x27;</td>\n",
       "        <td>tvEpisode</td>\n",
       "        <td>2018</td>\n",
       "    </tr>\n",
       "    <tr>\n",
       "        <td>Robbie Daymond</td>\n",
       "        <td>b&#x27;The Living Brain&#x27;</td>\n",
       "        <td>tvEpisode</td>\n",
       "        <td>2018</td>\n",
       "    </tr>\n",
       "    <tr>\n",
       "        <td>Robbie Daymond</td>\n",
       "        <td>b&#x27;The Rise of Doc Ock: Part Four&#x27;</td>\n",
       "        <td>tvEpisode</td>\n",
       "        <td>2018</td>\n",
       "    </tr>\n",
       "    <tr>\n",
       "        <td>Robbie Daymond</td>\n",
       "        <td>b&#x27;The Rise of Doc Ock: Part One&#x27;</td>\n",
       "        <td>tvEpisode</td>\n",
       "        <td>2018</td>\n",
       "    </tr>\n",
       "    <tr>\n",
       "        <td>Robbie Daymond</td>\n",
       "        <td>b&#x27;The Rise of Doc Ock: Part Three&#x27;</td>\n",
       "        <td>tvEpisode</td>\n",
       "        <td>2018</td>\n",
       "    </tr>\n",
       "    <tr>\n",
       "        <td>Robbie Daymond</td>\n",
       "        <td>b&#x27;The Rise of Doc Ock: Part Two&#x27;</td>\n",
       "        <td>tvEpisode</td>\n",
       "        <td>2018</td>\n",
       "    </tr>\n",
       "    <tr>\n",
       "        <td>Robbie Daymond</td>\n",
       "        <td>b&#x27;Venom Returns&#x27;</td>\n",
       "        <td>tvEpisode</td>\n",
       "        <td>2018</td>\n",
       "    </tr>\n",
       "    <tr>\n",
       "        <td>Robbie Daymond</td>\n",
       "        <td>b&#x27;Brand New Day&#x27;</td>\n",
       "        <td>tvEpisode</td>\n",
       "        <td>2019</td>\n",
       "    </tr>\n",
       "    <tr>\n",
       "        <td>Robbie Daymond</td>\n",
       "        <td>b&#x27;Goblin War Part Four&#x27;</td>\n",
       "        <td>tvEpisode</td>\n",
       "        <td>2019</td>\n",
       "    </tr>\n",
       "    <tr>\n",
       "        <td>Robbie Daymond</td>\n",
       "        <td>b&#x27;Goblin War Part One&#x27;</td>\n",
       "        <td>tvEpisode</td>\n",
       "        <td>2019</td>\n",
       "    </tr>\n",
       "    <tr>\n",
       "        <td>Robbie Daymond</td>\n",
       "        <td>b&#x27;Goblin War Part Three&#x27;</td>\n",
       "        <td>tvEpisode</td>\n",
       "        <td>2019</td>\n",
       "    </tr>\n",
       "    <tr>\n",
       "        <td>Robbie Daymond</td>\n",
       "        <td>b&#x27;Goblin War Part Two&#x27;</td>\n",
       "        <td>tvEpisode</td>\n",
       "        <td>2019</td>\n",
       "    </tr>\n",
       "    <tr>\n",
       "        <td>Robbie Daymond</td>\n",
       "        <td>b&#x27;The Cellar&#x27;</td>\n",
       "        <td>tvEpisode</td>\n",
       "        <td>2019</td>\n",
       "    </tr>\n",
       "    <tr>\n",
       "        <td>Robbie Daymond</td>\n",
       "        <td>b&#x27;The Road to Goblin War&#x27;</td>\n",
       "        <td>tvEpisode</td>\n",
       "        <td>2019</td>\n",
       "    </tr>\n",
       "    <tr>\n",
       "        <td>Robbie Daymond</td>\n",
       "        <td>b&#x27;Vibranium Curtain: Part Two&#x27;</td>\n",
       "        <td>tvEpisode</td>\n",
       "        <td>2019</td>\n",
       "    </tr>\n",
       "    <tr>\n",
       "        <td>Tom Holland</td>\n",
       "        <td>b&#x27;Spider-Man: Far from Home&#x27;</td>\n",
       "        <td>movie</td>\n",
       "        <td>2019</td>\n",
       "    </tr>\n",
       "    <tr>\n",
       "        <td>Doug Walker</td>\n",
       "        <td>b&#x27;The Amazing Spider-Man 2&#x27;</td>\n",
       "        <td>tvEpisode</td>\n",
       "        <td>2020</td>\n",
       "    </tr>\n",
       "    <tr>\n",
       "        <td>Robbie Daymond</td>\n",
       "        <td>b&#x27;Amazing Friends&#x27;</td>\n",
       "        <td>tvEpisode</td>\n",
       "        <td>2020</td>\n",
       "    </tr>\n",
       "    <tr>\n",
       "        <td>Robbie Daymond</td>\n",
       "        <td>b&#x27;Generations&#x27;</td>\n",
       "        <td>tvEpisode</td>\n",
       "        <td>2020</td>\n",
       "    </tr>\n",
       "    <tr>\n",
       "        <td>Robbie Daymond</td>\n",
       "        <td>b&#x27;Maximum Venom&#x27;</td>\n",
       "        <td>tvEpisode</td>\n",
       "        <td>2020</td>\n",
       "    </tr>\n",
       "    <tr>\n",
       "        <td>Robbie Daymond</td>\n",
       "        <td>b&#x27;Spider-Man Unmasked&#x27;</td>\n",
       "        <td>tvEpisode</td>\n",
       "        <td>2020</td>\n",
       "    </tr>\n",
       "    <tr>\n",
       "        <td>Robbie Daymond</td>\n",
       "        <td>b&#x27;Vengeance of Venom&#x27;</td>\n",
       "        <td>tvEpisode</td>\n",
       "        <td>2020</td>\n",
       "    </tr>\n",
       "    <tr>\n",
       "        <td>Robbie Daymond</td>\n",
       "        <td>b&#x27;Web of Venom&#x27;</td>\n",
       "        <td>tvEpisode</td>\n",
       "        <td>2020</td>\n",
       "    </tr>\n",
       "    <tr>\n",
       "        <td>Tom Holland</td>\n",
       "        <td>b&#x27;Spider-Man: No Way Home&#x27;</td>\n",
       "        <td>movie</td>\n",
       "        <td>2021</td>\n",
       "    </tr>\n",
       "</table>"
      ],
      "text/plain": [
       "[('Christopher Daniel Barnes', b'Night of the Lizard', 'tvEpisode', 1994),\n",
       " ('Christopher Daniel Barnes', b'Spider-Man: The Animated Series', 'tvSeries', 1994),\n",
       " ('Christopher Daniel Barnes', b'Day of the Chameleon', 'tvEpisode', 1995),\n",
       " ('Christopher Daniel Barnes', b'Doctor Octopus: Armed and Dangerous', 'tvEpisode', 1995),\n",
       " ('Christopher Daniel Barnes', b'Kraven the Hunter', 'tvEpisode', 1995),\n",
       " ('Christopher Daniel Barnes', b'Neogenic Nightmare Chapter 11: Tablet of Time', 'tvEpisode', 1995),\n",
       " ('Christopher Daniel Barnes', b'Neogenic Nightmare Chapter 12: Ravages of Time', 'tvEpisode', 1995),\n",
       " ('Christopher Daniel Barnes', b'Neogenic Nightmare Chapter 1: The Insidious Six', 'tvEpisode', 1995),\n",
       " ('Christopher Daniel Barnes', b'Neogenic Nightmare Chapter 2: Battle of the Insidious Six', 'tvEpisode', 1995),\n",
       " ('Christopher Daniel Barnes', b'Neogenic Nightmare Chapter 3: Hydro-Man', 'tvEpisode', 1995),\n",
       " ('Christopher Daniel Barnes', b'Neogenic Nightmare Chapter 4: The Mutant Agenda', 'tvEpisode', 1995),\n",
       " ('Christopher Daniel Barnes', b'Neogenic Nightmare Chapter 5: Mutants Revenge', 'tvEpisode', 1995),\n",
       " ('Christopher Daniel Barnes', b'Neogenic Nightmare Chapter 6: Morbius', 'tvEpisode', 1995),\n",
       " ('Christopher Daniel Barnes', b'Neogenic Nightmare Chapter 7: Enter the Punisher', 'tvEpisode', 1995),\n",
       " ('Christopher Daniel Barnes', b'Neogenic Nightmare Chapter 8: Duel of the Hunters', 'tvEpisode', 1995),\n",
       " ('Christopher Daniel Barnes', b'The Alien Costume: Part 1', 'tvEpisode', 1995),\n",
       " ('Christopher Daniel Barnes', b'The Alien Costume: Part 2', 'tvEpisode', 1995),\n",
       " ('Christopher Daniel Barnes', b'The Alien Costume: Part 3', 'tvEpisode', 1995),\n",
       " ('Christopher Daniel Barnes', b'The Hobgoblin: Part 1', 'tvEpisode', 1995),\n",
       " ('Christopher Daniel Barnes', b'The Hobgoblin: Part 2', 'tvEpisode', 1995),\n",
       " ('Christopher Daniel Barnes', b'The Menace of Mysterio', 'tvEpisode', 1995),\n",
       " ('Christopher Daniel Barnes', b'The Return of the Spider-Slayers', 'tvEpisode', 1995),\n",
       " ('Christopher Daniel Barnes', b'The Spider Slayer', 'tvEpisode', 1995),\n",
       " ('Christopher Daniel Barnes', b'The Sting of the Scorpion', 'tvEpisode', 1995),\n",
       " ('Christopher Daniel Barnes', b'Neogenic Nightmare Chapter 10: The Immortal Vampire', 'tvEpisode', 1996),\n",
       " ('Christopher Daniel Barnes', b'Neogenic Nightmare Chapter 13: Shriek of the Vulture', 'tvEpisode', 1996),\n",
       " ('Christopher Daniel Barnes', b'Neogenic Nightmare Chapter 14: The Final Nightmare', 'tvEpisode', 1996),\n",
       " ('Christopher Daniel Barnes', b'Neogenic Nightmare Chapter 9: Blade the Vampire Hunter', 'tvEpisode', 1996),\n",
       " ('Christopher Daniel Barnes', b'Sins of the Fathers Chapter 10: Venom Returns', 'tvEpisode', 1996),\n",
       " ('Christopher Daniel Barnes', b'Sins of the Fathers Chapter 11: Carnage', 'tvEpisode', 1996),\n",
       " ('Christopher Daniel Barnes', b'Sins of the Fathers Chapter 12: The Spot', 'tvEpisode', 1996),\n",
       " ('Christopher Daniel Barnes', b'Sins of the Fathers Chapter 13: Goblin War!', 'tvEpisode', 1996),\n",
       " ('Christopher Daniel Barnes', b'Sins of the Fathers Chapter 14: The Turning Point', 'tvEpisode', 1996),\n",
       " ('Christopher Daniel Barnes', b'Sins of the Fathers Chapter 1: Doctor Strange', 'tvEpisode', 1996),\n",
       " ('Christopher Daniel Barnes', b'Sins of the Fathers Chapter 2: Make a Wish', 'tvEpisode', 1996),\n",
       " ('Christopher Daniel Barnes', b'Sins of the Fathers Chapter 3: Attack of the Octobot', 'tvEpisode', 1996),\n",
       " ('Christopher Daniel Barnes', b'Sins of the Fathers Chapter 4: Enter the Green Goblin', 'tvEpisode', 1996),\n",
       " ('Christopher Daniel Barnes', b'Sins of the Fathers Chapter 5: The Rocket Racer', 'tvEpisode', 1996),\n",
       " ('Christopher Daniel Barnes', b'Sins of the Fathers Chapter 6: Framed', 'tvEpisode', 1996),\n",
       " ('Christopher Daniel Barnes', b'Sins of the Fathers Chapter 7: The Man Without Fear', 'tvEpisode', 1996),\n",
       " ('Christopher Daniel Barnes', b'Sins of the Fathers Chapter 8: The Ultimate Slayer', 'tvEpisode', 1996),\n",
       " ('Christopher Daniel Barnes', b'Sins of the Fathers Chapter 9: Tombstone', 'tvEpisode', 1996),\n",
       " ('Christopher Daniel Barnes', b'Partners in Danger Chapter 10: Lizard King', 'tvEpisode', 1997),\n",
       " ('Christopher Daniel Barnes', b'Partners in Danger Chapter 11: The Prowler', 'tvEpisode', 1997),\n",
       " ('Christopher Daniel Barnes', b'Partners in Danger Chapter 1: Guilty', 'tvEpisode', 1997),\n",
       " ('Christopher Daniel Barnes', b'Partners in Danger Chapter 2: The Cat', 'tvEpisode', 1997),\n",
       " ('Christopher Daniel Barnes', b'Partners in Danger Chapter 3: The Black Cat', 'tvEpisode', 1997),\n",
       " ('Christopher Daniel Barnes', b'Partners in Danger Chapter 4: Return of Kraven', 'tvEpisode', 1997),\n",
       " ('Christopher Daniel Barnes', b'Partners in Danger Chapter 5: Partners', 'tvEpisode', 1997),\n",
       " ('Christopher Daniel Barnes', b'Partners in Danger Chapter 6: The Awakening', 'tvEpisode', 1997),\n",
       " ('Christopher Daniel Barnes', b'Partners in Danger Chapter 7: The Vampire Queen', 'tvEpisode', 1997),\n",
       " ('Christopher Daniel Barnes', b'Partners in Danger Chapter 8: The Return of the Green Goblin', 'tvEpisode', 1997),\n",
       " ('Christopher Daniel Barnes', b'Partners in Danger Chapter 9: The Haunting of Mary Jane', 'tvEpisode', 1997),\n",
       " ('Christopher Daniel Barnes', b'Secret Wars, Chapter 1: Arrival', 'tvEpisode', 1997),\n",
       " ('Christopher Daniel Barnes', b'Secret Wars, Chapter 2: The Gauntlet of the Red Skull', 'tvEpisode', 1997),\n",
       " ('Christopher Daniel Barnes', b'Secret Wars, Chapter 3: Doom', 'tvEpisode', 1997),\n",
       " ('Christopher Daniel Barnes', b'Six Forgotten Warriors Chapter 1', 'tvEpisode', 1997),\n",
       " ('Christopher Daniel Barnes', b'Six Forgotten Warriors Chapter 2: Unclaimed Legacy', 'tvEpisode', 1997),\n",
       " ('Christopher Daniel Barnes', b'Six Forgotten Warriors Chapter 3: Secrets of the Six', 'tvEpisode', 1997),\n",
       " ('Christopher Daniel Barnes', b'Six Forgotten Warriors Chapter 4: The Six Fight Again', 'tvEpisode', 1997),\n",
       " ('Christopher Daniel Barnes', b'Six Forgotten Warriors Chapter 5: The Price of Heroism', 'tvEpisode', 1997),\n",
       " ('Christopher Daniel Barnes', b'The Return of Hydro-Man: Part 2', 'tvEpisode', 1997),\n",
       " ('Christopher Daniel Barnes', b'The Wedding', 'tvEpisode', 1997),\n",
       " ('Christopher Daniel Barnes', b'Spider Wars, Chapter 1: I Really, Really Hate Clones', 'tvEpisode', 1998),\n",
       " ('Christopher Daniel Barnes', b'Spider Wars, Chapter 2: Farewell Spider-Man', 'tvEpisode', 1998),\n",
       " ('Rino Romano', b'Spider-Man Unlimited', 'tvSeries', 1999),\n",
       " ('Rino Romano', b'Where Evil Nests', 'tvEpisode', 1999),\n",
       " ('Rino Romano', b'Worlds Apart: Part 1', 'tvEpisode', 1999),\n",
       " ('Rino Romano', b'Worlds Apart: Part 2', 'tvEpisode', 1999),\n",
       " ('Rino Romano', b'Deadly Choices', 'tvEpisode', 2000),\n",
       " ('Rino Romano', b'Cry Vulture', 'tvEpisode', 2001),\n",
       " ('Rino Romano', b'Destiny Unleashed', 'tvEpisode', 2001),\n",
       " ('Rino Romano', b'Enter the Hunter!', 'tvEpisode', 2001),\n",
       " ('Rino Romano', b'Ill-Met by Moonlight', 'tvEpisode', 2001),\n",
       " ('Rino Romano', b'Matters of the Heart', 'tvEpisode', 2001),\n",
       " ('Rino Romano', b'One Is the Loneliest Number', 'tvEpisode', 2001),\n",
       " ('Rino Romano', b'Sins of the Fathers', 'tvEpisode', 2001),\n",
       " ('Rino Romano', b'Steel Cold Heart', 'tvEpisode', 2001),\n",
       " ('Rino Romano', b'Sustenance', 'tvEpisode', 2001),\n",
       " ('Tobey Maguire', b'Spider-Man', 'movie', 2002),\n",
       " ('Neil Patrick Harris', b'Flash Memory', 'tvEpisode', 2003),\n",
       " ('Neil Patrick Harris', b'Head Over Heels', 'tvEpisode', 2003),\n",
       " ('Neil Patrick Harris', b'Heroes and Villains', 'tvEpisode', 2003),\n",
       " ('Neil Patrick Harris', b'Keeping Secrets', 'tvEpisode', 2003),\n",
       " ('Neil Patrick Harris', b'Law of the Jungle', 'tvEpisode', 2003),\n",
       " ('Neil Patrick Harris', b'Mind Games: Part 1', 'tvEpisode', 2003),\n",
       " ('Neil Patrick Harris', b'Mind Games: Part 2', 'tvEpisode', 2003),\n",
       " ('Neil Patrick Harris', b'Royal Scam', 'tvEpisode', 2003),\n",
       " ('Neil Patrick Harris', b'Spider-Man', 'tvSeries', 2003),\n",
       " ('Neil Patrick Harris', b'Spider-Man Dis-Abled', 'tvEpisode', 2003),\n",
       " ('Neil Patrick Harris', b'Sword of Shikata', 'tvEpisode', 2003),\n",
       " ('Neil Patrick Harris', b'The Party', 'tvEpisode', 2003),\n",
       " ('Neil Patrick Harris', b'Tight Squeeze', 'tvEpisode', 2003),\n",
       " ('Neil Patrick Harris', b'When Sparks Fly', 'tvEpisode', 2003),\n",
       " ('Tobey Maguire', b'Spider-Man 2', 'movie', 2004),\n",
       " ('Tobey Maguire', b'Spider-Man 2', 'tvEpisode', 2004),\n",
       " ('Forrest Whaley', b'The Lego Batman, Spider-Man, & Chewbacca Movie', 'tvEpisode', 2007),\n",
       " ('Forrest Whaley', b'The Spider-Man Team-Up!', 'tvEpisode', 2007),\n",
       " ('Tobey Maguire', b'Spider-Man 3', 'movie', 2007),\n",
       " ('Forrest Whaley', b'The Robin', 'tvEpisode', 2008),\n",
       " ('Josh Keaton', b'Catalysts', 'tvEpisode', 2008),\n",
       " ('Josh Keaton', b'Competition', 'tvEpisode', 2008),\n",
       " ('Josh Keaton', b'Group Therapy', 'tvEpisode', 2008),\n",
       " ('Josh Keaton', b'Interactions', 'tvEpisode', 2008),\n",
       " ('Josh Keaton', b'Intervention', 'tvEpisode', 2008),\n",
       " ('Josh Keaton', b'Market Forces', 'tvEpisode', 2008),\n",
       " ('Josh Keaton', b'Natural Selection', 'tvEpisode', 2008),\n",
       " ('Josh Keaton', b'Nature vs. Nurture', 'tvEpisode', 2008),\n",
       " ('Josh Keaton', b'Persona', 'tvEpisode', 2008),\n",
       " ('Josh Keaton', b'Reaction', 'tvEpisode', 2008),\n",
       " ('Josh Keaton', b'Survival of the Fittest', 'tvEpisode', 2008),\n",
       " ('Josh Keaton', b'The Invisible Hand', 'tvEpisode', 2008),\n",
       " ('Josh Keaton', b'The Spectacular Spider-Man', 'tvSeries', 2008),\n",
       " ('Josh Keaton', b'The Uncertainty Principle', 'tvEpisode', 2008),\n",
       " ('Josh Keaton', b'Accomplices', 'tvEpisode', 2009),\n",
       " ('Josh Keaton', b'Blueprints', 'tvEpisode', 2009),\n",
       " ('Josh Keaton', b'Destructive Testing', 'tvEpisode', 2009),\n",
       " ('Josh Keaton', b'Final Curtain', 'tvEpisode', 2009),\n",
       " ('Josh Keaton', b'First Steps', 'tvEpisode', 2009),\n",
       " ('Josh Keaton', b'Gangland', 'tvEpisode', 2009),\n",
       " ('Josh Keaton', b'Growing Pains', 'tvEpisode', 2009),\n",
       " ('Josh Keaton', b'Identity Crisis', 'tvEpisode', 2009),\n",
       " ('Josh Keaton', b'Opening Night', 'tvEpisode', 2009),\n",
       " ('Josh Keaton', b'Probable Cause', 'tvEpisode', 2009),\n",
       " ('Josh Keaton', b'Reinforcement', 'tvEpisode', 2009),\n",
       " ('Josh Keaton', b'Shear Strength', 'tvEpisode', 2009),\n",
       " ('Josh Keaton', b'Subtext', 'tvEpisode', 2009),\n",
       " ('Shane Dawson', b'The Lego Batman & Spider-Man Movie 2', 'tvEpisode', 2009),\n",
       " ('Mikey Day', b'I Love You, Iron Man/Ben 10 Franklin', 'tvEpisode', 2010),\n",
       " ('Andy Richter', b'Major League of Extraordinary Gentlemen', 'tvEpisode', 2011),\n",
       " ('Ian Hecox', b'If Superheroes Were Real', 'tvEpisode', 2011),\n",
       " ('Tobey Maguire', b'Top 11 Dumbasses in Distress', 'tvEpisode', 2011),\n",
       " ('Andrew Garfield', b'The Amazing Spider-Man', 'movie', 2012),\n",
       " ('Drake Bell', b'Attack of the Beetle', 'tvEpisode', 2012),\n",
       " ('Drake Bell', b'Awesome', 'tvEpisode', 2012),\n",
       " ('Drake Bell', b'Back in Black', 'tvEpisode', 2012),\n",
       " ('Drake Bell', b'Beetle Mania', 'tvEpisode', 2012),\n",
       " ('Drake Bell', b'Damage', 'tvEpisode', 2012),\n",
       " ('Drake Bell', b'Doomed', 'tvEpisode', 2012),\n",
       " ('Drake Bell', b'Exclusive', 'tvEpisode', 2012),\n",
       " ('Drake Bell', b'Field Trip', 'tvEpisode', 2012),\n",
       " ('Drake Bell', b'Flight of the Iron Spider', 'tvEpisode', 2012),\n",
       " ('Drake Bell', b'For Your Eye Only', 'tvEpisode', 2012),\n",
       " ('Drake Bell', b'Freaky', 'tvEpisode', 2012),\n",
       " ('Drake Bell', b'Great Power', 'tvEpisode', 2012),\n",
       " ('Drake Bell', b'Great Responsibility', 'tvEpisode', 2012),\n",
       " ('Drake Bell', b'Home Sick Hulk', 'tvEpisode', 2012),\n",
       " ('Drake Bell', b'I Am Spider-Man', 'tvEpisode', 2012),\n",
       " ('Drake Bell', b'Me Time', 'tvEpisode', 2012),\n",
       " ('Drake Bell', b'New Avengers', 'tvEpisode', 2012),\n",
       " ('Drake Bell', b'Not a Toy', 'tvEpisode', 2012),\n",
       " ('Drake Bell', b'Revealed', 'tvEpisode', 2012),\n",
       " ('Drake Bell', b'Rise of the Goblin', 'tvEpisode', 2012),\n",
       " ('Drake Bell', b'Run Pig Run', 'tvEpisode', 2012),\n",
       " ('Drake Bell', b'Snow Day', 'tvEpisode', 2012),\n",
       " ('Drake Bell', b'Strange', 'tvEpisode', 2012),\n",
       " ('Drake Bell', b'The Iron Octopus', 'tvEpisode', 2012),\n",
       " ('Drake Bell', b'Ultimate Spider-Man', 'tvSeries', 2012),\n",
       " ('Drake Bell', b'Venom', 'tvEpisode', 2012),\n",
       " ('Drake Bell', b'Venomous', 'tvEpisode', 2012),\n",
       " ('Drake Bell', b'Why I Hate the Gym', 'tvEpisode', 2012),\n",
       " ('JP Karliak', b'Marvel Mash-Up', 'tvMiniSeries', 2012),\n",
       " ('Mikey Day', b'The Amazing Spider-Minaj/Go, Dragon Ball, Go!', 'tvEpisode', 2012),\n",
       " ('Mikey Day', b'iChronicle/Hulk Smash', 'tvEpisode', 2012),\n",
       " ('Drake Bell', b'Blade', 'tvEpisode', 2013),\n",
       " ('Drake Bell', b'Carnage', 'tvEpisode', 2013),\n",
       " ('Drake Bell', b'Electro', 'tvEpisode', 2013),\n",
       " ('Drake Bell', b'Game Over', 'tvEpisode', 2013),\n",
       " ('Drake Bell', b'Guardians of the Galaxy', 'tvEpisode', 2013),\n",
       " ('Drake Bell', b'Hawkeye', 'tvEpisode', 2013),\n",
       " ('Drake Bell', b'House Arrest', 'tvEpisode', 2013),\n",
       " ('Drake Bell', b'Itsy Bitsy Spider-Man', 'tvEpisode', 2013),\n",
       " ('Drake Bell', b'Journey of the Iron Fist', 'tvEpisode', 2013),\n",
       " ('Drake Bell', b'Kraven the Hunter', 'tvEpisode', 2013),\n",
       " ('Drake Bell', b'Return of the Sinister Six', 'tvEpisode', 2013),\n",
       " ('Drake Bell', b'Sandman Returns', 'tvEpisode', 2013),\n",
       " ('Drake Bell', b'Second Chance Hero', 'tvEpisode', 2013),\n",
       " ('Drake Bell', b'Sinister Six', 'tvEpisode', 2013),\n",
       " ('Drake Bell', b'Spidah-Man', 'tvEpisode', 2013),\n",
       " ('Drake Bell', b'Stan by Me', 'tvEpisode', 2013),\n",
       " ('Drake Bell', b'Swarm', 'tvEpisode', 2013),\n",
       " ('Drake Bell', b'The Collector', 'tvEpisode', 2013),\n",
       " ('Drake Bell', b'The Howling Commandos', 'tvEpisode', 2013),\n",
       " ('Drake Bell', b'The Incredible Spider-Hulk', 'tvEpisode', 2013),\n",
       " ('Drake Bell', b'The Lizard', 'tvEpisode', 2013),\n",
       " ('Drake Bell', b'The Man-Wolf', 'tvEpisode', 2013),\n",
       " ('Drake Bell', b'The Parent Trap', 'tvEpisode', 2013),\n",
       " ('Drake Bell', b'The Rhino', 'tvEpisode', 2013),\n",
       " ('Drake Bell', b'The Venom Within', 'tvEpisode', 2013),\n",
       " ('Drake Bell', b'Ultimate', 'tvEpisode', 2013),\n",
       " ('Drake Bell', b'Ultimate Deadpool', 'tvEpisode', 2013),\n",
       " ('Drake Bell', b'Venom Bomb', 'tvEpisode', 2013),\n",
       " ('Stan Lee', b'Superheroes: A Never-Ending Battle', 'tvMiniSeries', 2013),\n",
       " ('Andrew Garfield', b'The Amazing Spider-Man 2', 'movie', 2014),\n",
       " ('Drake Bell', b'Agent Venom', 'tvEpisode', 2014),\n",
       " ('Drake Bell', b'Cloak and Dagger', 'tvEpisode', 2014),\n",
       " ('Drake Bell', b'Halloween Night at the Museum', 'tvEpisode', 2014),\n",
       " ('Drake Bell', b'New Warriors', 'tvEpisode', 2014),\n",
       " ('Drake Bell', b'Nightmare on Christmas', 'tvEpisode', 2014),\n",
       " ('Drake Bell', b'The Avenging Spider-Man: Part 1', 'tvEpisode', 2014),\n",
       " ('Drake Bell', b'The Avenging Spider-Man: Part 2', 'tvEpisode', 2014),\n",
       " ('Drake Bell', b'The Next Iron Spider', 'tvEpisode', 2014),\n",
       " ('Drake Bell', b'The Return of the Guardians of the Galaxy', 'tvEpisode', 2014),\n",
       " ('Drake Bell', b'The Savage Spider-Man', 'tvEpisode', 2014),\n",
       " ('Drake Bell', b'The Vulture', 'tvEpisode', 2014),\n",
       " ('Aaron Schoenke', b'Spider-Man vs. Darth Maul', 'tvEpisode', 2015),\n",
       " ('Drake Bell', b'Ant-Man', 'tvEpisode', 2015),\n",
       " ('Drake Bell', b'Attack of the Synthezoids', 'tvEpisode', 2015),\n",
       " ('Drake Bell', b'Burrito Run', 'tvEpisode', 2015),\n",
       " ('Drake Bell', b'Contest of the Champions: Part 1', 'tvEpisode', 2015),\n",
       " ('Drake Bell', b'Contest of the Champions: Part 2', 'tvEpisode', 2015),\n",
       " ('Drake Bell', b'Contest of the Champions: Part 3', 'tvEpisode', 2015),\n",
       " ('Drake Bell', b'Contest of the Champions: Part 4', 'tvEpisode', 2015),\n",
       " ('Drake Bell', b'Inhumanity', 'tvEpisode', 2015),\n",
       " ('Drake Bell', b'Rampaging Rhino', 'tvEpisode', 2015),\n",
       " ('Drake Bell', b'SHIELD Academy', 'tvEpisode', 2015),\n",
       " ('Drake Bell', b'Spidey, I Blew Up the Dinosaur', 'tvEpisode', 2015),\n",
       " ('Drake Bell', b'The Revenge of Arnim Zola', 'tvEpisode', 2015),\n",
       " ('Drake Bell', b'The Spider-Verse: Part 1', 'tvEpisode', 2015),\n",
       " ('Drake Bell', b'The Spider-Verse: Part 2', 'tvEpisode', 2015),\n",
       " ('Drake Bell', b'The Spider-Verse: Part 3', 'tvEpisode', 2015),\n",
       " ('Drake Bell', b'The Spider-Verse: Part 4', 'tvEpisode', 2015),\n",
       " ('Cole Howard', b'Marvel Video Comics', 'tvMiniSeries', 2016),\n",
       " ('Drake Bell', b'Agent Web', 'tvEpisode', 2016),\n",
       " ('Drake Bell', b'Anti-Venom', 'tvEpisode', 2016),\n",
       " ('Drake Bell', b'Beached', 'tvEpisode', 2016),\n",
       " ('Drake Bell', b'Double Agent Venom', 'tvEpisode', 2016),\n",
       " ('Drake Bell', b'Force of Nature', 'tvEpisode', 2016),\n",
       " ('Drake Bell', b'Hydra Attacks: Part 1', 'tvEpisode', 2016),\n",
       " ('Drake Bell', b'Hydra Attacks: Part 2', 'tvEpisode', 2016),\n",
       " ('Drake Bell', b'Iron Vulture', 'tvEpisode', 2016),\n",
       " ('Drake Bell', b'Lizards', 'tvEpisode', 2016),\n",
       " ('Drake Bell', b'Miles from Home', 'tvEpisode', 2016),\n",
       " ('Drake Bell', b'Return to the Spider-Verse: Part 1', 'tvEpisode', 2016),\n",
       " ('Drake Bell', b'Return to the Spider-Verse: Part 2', 'tvEpisode', 2016),\n",
       " ('Drake Bell', b'Return to the Spider-Verse: Part 3', 'tvEpisode', 2016),\n",
       " ('Drake Bell', b'Return to the Spider-Verse: Part 4', 'tvEpisode', 2016),\n",
       " ('Drake Bell', b'Strange Little Halloween', 'tvEpisode', 2016),\n",
       " ('Drake Bell', b'The Moon Knight Before Christmas', 'tvEpisode', 2016),\n",
       " ('Drake Bell', b'The New Sinister 6: Part 1', 'tvEpisode', 2016),\n",
       " ('Drake Bell', b'The New Sinister 6: Part 2', 'tvEpisode', 2016),\n",
       " ('Drake Bell', b'The Spider Slayers: Part 1', 'tvEpisode', 2016),\n",
       " ('Drake Bell', b'The Spider Slayers: Part 2', 'tvEpisode', 2016),\n",
       " ('Drake Bell', b'The Spider Slayers: Part 3', 'tvEpisode', 2016),\n",
       " ('Drake Bell', b'The Symbiote Saga: Part 1', 'tvEpisode', 2016),\n",
       " ('Drake Bell', b'The Symbiote Saga: Part 2', 'tvEpisode', 2016),\n",
       " ('Drake Bell', b'The Symbiote Saga: Part 3', 'tvEpisode', 2016),\n",
       " ('Cole Howard', b'Marvel Super Hero Adventures', 'tvMiniSeries', 2017),\n",
       " ('Drake Bell', b'Graduation Day: Part 1', 'tvEpisode', 2017),\n",
       " ('Drake Bell', b'Graduation Day: Part 2', 'tvEpisode', 2017),\n",
       " ('Robbie Daymond', b'A Day in the Life', 'tvEpisode', 2017),\n",
       " ('Robbie Daymond', b'Halloween Moon', 'tvEpisode', 2017),\n",
       " ('Robbie Daymond', b'Horizon High: Part One', 'tvEpisode', 2017),\n",
       " ('Robbie Daymond', b'Horizon High: Part Two', 'tvEpisode', 2017),\n",
       " ('Robbie Daymond', b\"Kraven's Amazing Hunt\", 'tvEpisode', 2017),\n",
       " ('Robbie Daymond', b'Origins', 'tvEpisode', 2017),\n",
       " ('Robbie Daymond', b'Osborn Academy', 'tvEpisode', 2017),\n",
       " ('Robbie Daymond', b'Party Animals', 'tvEpisode', 2017),\n",
       " ('Robbie Daymond', b'Sandman', 'tvEpisode', 2017),\n",
       " ('Robbie Daymond', b'Screwball Live', 'tvEpisode', 2017),\n",
       " ('Robbie Daymond', b'Spider-Man', 'tvSeries', 2017),\n",
       " ('Robbie Daymond', b'Spider-Man on Ice', 'tvEpisode', 2017),\n",
       " ('Robbie Daymond', b'Stark Expo', 'tvEpisode', 2017),\n",
       " ('Robbie Daymond', b'Symbiotic Relationship', 'tvEpisode', 2017),\n",
       " ('Robbie Daymond', b'Ultimate Spider-Man', 'tvEpisode', 2017),\n",
       " ('Robbie Daymond', b'Venom', 'tvEpisode', 2017),\n",
       " ('Sean Chiplock', b'The Origin of Spider-Man', 'tvEpisode', 2017),\n",
       " ('Tom Holland', b'Spider-Man: Homecoming', 'movie', 2017),\n",
       " ('Doug Walker', b'The League of Extraordinary Gentlemen', 'tvEpisode', 2018),\n",
       " ('Robbie Daymond', b'Between an Ock and a Hard Place', 'tvEpisode', 2018),\n",
       " ('Robbie Daymond', b'Brain Drain', 'tvEpisode', 2018),\n",
       " ('Robbie Daymond', b'Bring on the Bad Guys: Part Four', 'tvEpisode', 2018),\n",
       " ('Robbie Daymond', b'Bring on the Bad Guys: Part One', 'tvEpisode', 2018),\n",
       " ('Robbie Daymond', b'Bring on the Bad Guys: Part Three', 'tvEpisode', 2018),\n",
       " ('Robbie Daymond', b'Bring on the Bad Guys: Part Two', 'tvEpisode', 2018),\n",
       " ('Robbie Daymond', b\"Dead Man's Party\", 'tvEpisode', 2018),\n",
       " ('Robbie Daymond', b'How I Thwipped My Summer Vacation', 'tvEpisode', 2018),\n",
       " ('Robbie Daymond', b'Rise Above It All', 'tvEpisode', 2018),\n",
       " ('Robbie Daymond', b'School of Hard Knocks', 'tvEpisode', 2018),\n",
       " ('Robbie Daymond', b'Spider-Island: Part Five', 'tvEpisode', 2018),\n",
       " ('Robbie Daymond', b'Spider-Island: Part Four', 'tvEpisode', 2018),\n",
       " ('Robbie Daymond', b'Spider-Island: Part One', 'tvEpisode', 2018),\n",
       " ('Robbie Daymond', b'Spider-Island: Part Three', 'tvEpisode', 2018),\n",
       " ('Robbie Daymond', b'Spider-Island: Part Two', 'tvEpisode', 2018),\n",
       " ('Robbie Daymond', b'Take Two', 'tvEpisode', 2018),\n",
       " ('Robbie Daymond', b'The Hobgoblin: Part One', 'tvEpisode', 2018),\n",
       " ('Robbie Daymond', b'The Hobgoblin: Part Two', 'tvEpisode', 2018),\n",
       " ('Robbie Daymond', b'The Living Brain', 'tvEpisode', 2018),\n",
       " ('Robbie Daymond', b'The Rise of Doc Ock: Part Four', 'tvEpisode', 2018),\n",
       " ('Robbie Daymond', b'The Rise of Doc Ock: Part One', 'tvEpisode', 2018),\n",
       " ('Robbie Daymond', b'The Rise of Doc Ock: Part Three', 'tvEpisode', 2018),\n",
       " ('Robbie Daymond', b'The Rise of Doc Ock: Part Two', 'tvEpisode', 2018),\n",
       " ('Robbie Daymond', b'Venom Returns', 'tvEpisode', 2018),\n",
       " ('Robbie Daymond', b'Brand New Day', 'tvEpisode', 2019),\n",
       " ('Robbie Daymond', b'Goblin War Part Four', 'tvEpisode', 2019),\n",
       " ('Robbie Daymond', b'Goblin War Part One', 'tvEpisode', 2019),\n",
       " ('Robbie Daymond', b'Goblin War Part Three', 'tvEpisode', 2019),\n",
       " ('Robbie Daymond', b'Goblin War Part Two', 'tvEpisode', 2019),\n",
       " ('Robbie Daymond', b'The Cellar', 'tvEpisode', 2019),\n",
       " ('Robbie Daymond', b'The Road to Goblin War', 'tvEpisode', 2019),\n",
       " ('Robbie Daymond', b'Vibranium Curtain: Part Two', 'tvEpisode', 2019),\n",
       " ('Tom Holland', b'Spider-Man: Far from Home', 'movie', 2019),\n",
       " ('Doug Walker', b'The Amazing Spider-Man 2', 'tvEpisode', 2020),\n",
       " ('Robbie Daymond', b'Amazing Friends', 'tvEpisode', 2020),\n",
       " ('Robbie Daymond', b'Generations', 'tvEpisode', 2020),\n",
       " ('Robbie Daymond', b'Maximum Venom', 'tvEpisode', 2020),\n",
       " ('Robbie Daymond', b'Spider-Man Unmasked', 'tvEpisode', 2020),\n",
       " ('Robbie Daymond', b'Vengeance of Venom', 'tvEpisode', 2020),\n",
       " ('Robbie Daymond', b'Web of Venom', 'tvEpisode', 2020),\n",
       " ('Tom Holland', b'Spider-Man: No Way Home', 'movie', 2021)]"
      ]
     },
     "execution_count": 106,
     "metadata": {},
     "output_type": "execute_result"
    }
   ],
   "source": [
    "%%sql\n",
    "\n",
    "SELECT n.name_, t.primary_title, t.title_type, t.start_year\n",
    "FROM Had_role r\n",
    "INNER JOIN Names_ n ON n.name_id = r.name_id\n",
    "INNER JOIN Titles t ON t.title_id = r.title_id\n",
    "WHERE role_ = \"Spider-Man\"\n",
    "ORDER BY t.start_year, n.name_, t.primary_title;"
   ]
  },
  {
   "cell_type": "markdown",
   "id": "db261245",
   "metadata": {},
   "source": [
    "#### 3 - List and count the 10 people who appeared the most in movies by \"Wes Anderson\""
   ]
  },
  {
   "cell_type": "code",
   "execution_count": 107,
   "id": "c0d000b7",
   "metadata": {},
   "outputs": [
    {
     "name": "stdout",
     "output_type": "stream",
     "text": [
      " * mysql+mysqlconnector://root:***@db\n",
      "10 rows affected.\n"
     ]
    },
    {
     "data": {
      "text/html": [
       "<table>\n",
       "    <tr>\n",
       "        <th>primary_title</th>\n",
       "        <th>start_year</th>\n",
       "    </tr>\n",
       "    <tr>\n",
       "        <td>b&#x27;Bottle Rocket&#x27;</td>\n",
       "        <td>1996</td>\n",
       "    </tr>\n",
       "    <tr>\n",
       "        <td>b&#x27;Rushmore&#x27;</td>\n",
       "        <td>1998</td>\n",
       "    </tr>\n",
       "    <tr>\n",
       "        <td>b&#x27;The Royal Tenenbaums&#x27;</td>\n",
       "        <td>2001</td>\n",
       "    </tr>\n",
       "    <tr>\n",
       "        <td>b&#x27;The Life Aquatic with Steve Zissou&#x27;</td>\n",
       "        <td>2004</td>\n",
       "    </tr>\n",
       "    <tr>\n",
       "        <td>b&#x27;The Darjeeling Limited&#x27;</td>\n",
       "        <td>2007</td>\n",
       "    </tr>\n",
       "    <tr>\n",
       "        <td>b&#x27;Fantastic Mr. Fox&#x27;</td>\n",
       "        <td>2009</td>\n",
       "    </tr>\n",
       "    <tr>\n",
       "        <td>b&#x27;Moonrise Kingdom&#x27;</td>\n",
       "        <td>2012</td>\n",
       "    </tr>\n",
       "    <tr>\n",
       "        <td>b&#x27;The Grand Budapest Hotel&#x27;</td>\n",
       "        <td>2014</td>\n",
       "    </tr>\n",
       "    <tr>\n",
       "        <td>b&#x27;Isle of Dogs&#x27;</td>\n",
       "        <td>2018</td>\n",
       "    </tr>\n",
       "    <tr>\n",
       "        <td>b&#x27;The French Dispatch&#x27;</td>\n",
       "        <td>2021</td>\n",
       "    </tr>\n",
       "</table>"
      ],
      "text/plain": [
       "[(b'Bottle Rocket', 1996),\n",
       " (b'Rushmore', 1998),\n",
       " (b'The Royal Tenenbaums', 2001),\n",
       " (b'The Life Aquatic with Steve Zissou', 2004),\n",
       " (b'The Darjeeling Limited', 2007),\n",
       " (b'Fantastic Mr. Fox', 2009),\n",
       " (b'Moonrise Kingdom', 2012),\n",
       " (b'The Grand Budapest Hotel', 2014),\n",
       " (b'Isle of Dogs', 2018),\n",
       " (b'The French Dispatch', 2021)]"
      ]
     },
     "execution_count": 107,
     "metadata": {},
     "output_type": "execute_result"
    }
   ],
   "source": [
    "%%sql\n",
    "\n",
    "SELECT Titles.primary_title, Titles.start_year\n",
    "FROM Directors\n",
    "INNER JOIN Names_ ON Names_.name_id = Directors.name_id\n",
    "INNER JOIN Titles ON Titles.title_id = Directors.title_id\n",
    "WHERE Names_.name_ = \"Wes Anderson\"\n",
    "ORDER BY Titles.start_year, Titles.primary_title;"
   ]
  },
  {
   "cell_type": "code",
   "execution_count": 16,
   "id": "21583b32",
   "metadata": {},
   "outputs": [
    {
     "name": "stdout",
     "output_type": "stream",
     "text": [
      " * mysql+mysqlconnector://root:***@db\n",
      "10 rows affected.\n"
     ]
    },
    {
     "data": {
      "text/html": [
       "<table>\n",
       "    <tr>\n",
       "        <th>name</th>\n",
       "        <th>count</th>\n",
       "    </tr>\n",
       "    <tr>\n",
       "        <td>Bill Murray</td>\n",
       "        <td>4</td>\n",
       "    </tr>\n",
       "    <tr>\n",
       "        <td>Owen Wilson</td>\n",
       "        <td>3</td>\n",
       "    </tr>\n",
       "    <tr>\n",
       "        <td>Jason Schwartzman</td>\n",
       "        <td>3</td>\n",
       "    </tr>\n",
       "    <tr>\n",
       "        <td>Adrien Brody</td>\n",
       "        <td>3</td>\n",
       "    </tr>\n",
       "    <tr>\n",
       "        <td>Anjelica Huston</td>\n",
       "        <td>2</td>\n",
       "    </tr>\n",
       "    <tr>\n",
       "        <td>Ralph Fiennes</td>\n",
       "        <td>1</td>\n",
       "    </tr>\n",
       "    <tr>\n",
       "        <td>Kara Hayward</td>\n",
       "        <td>1</td>\n",
       "    </tr>\n",
       "    <tr>\n",
       "        <td>Gene Hackman</td>\n",
       "        <td>1</td>\n",
       "    </tr>\n",
       "    <tr>\n",
       "        <td>Gwyneth Paltrow</td>\n",
       "        <td>1</td>\n",
       "    </tr>\n",
       "    <tr>\n",
       "        <td>F. Murray Abraham</td>\n",
       "        <td>1</td>\n",
       "    </tr>\n",
       "</table>"
      ],
      "text/plain": [
       "[('Bill Murray', 4),\n",
       " ('Owen Wilson', 3),\n",
       " ('Jason Schwartzman', 3),\n",
       " ('Adrien Brody', 3),\n",
       " ('Anjelica Huston', 2),\n",
       " ('Ralph Fiennes', 1),\n",
       " ('Kara Hayward', 1),\n",
       " ('Gene Hackman', 1),\n",
       " ('Gwyneth Paltrow', 1),\n",
       " ('F. Murray Abraham', 1)]"
      ]
     },
     "execution_count": 16,
     "metadata": {},
     "output_type": "execute_result"
    }
   ],
   "source": [
    "%%sql\n",
    "\n",
    "SELECT Names_.name_ AS name, COUNT(*) AS count\n",
    "FROM Had_role\n",
    "INNER JOIN Names_ ON Names_.name_id = Had_role.name_id\n",
    "WHERE Had_role.title_id IN (\n",
    "    SELECT Directors.title_id\n",
    "    FROM Directors\n",
    "    INNER JOIN Names_ ON Names_.name_id = Directors.name_id\n",
    "    WHERE Names_.name_ = \"Wes Anderson\"\n",
    ")\n",
    "GROUP BY name\n",
    "ORDER BY count DESC\n",
    "LIMIT 10;"
   ]
  },
  {
   "cell_type": "markdown",
   "id": "00c0c411",
   "metadata": {},
   "source": [
    "### Is the IMDB only about movies? \n",
    "\n",
    "1. Check the number of different media types contained in the DB\n",
    "2. Plot an histogram about the number of media types per group\n",
    "3. Find the name and rating of the oldest videogame stored in the DB "
   ]
  },
  {
   "cell_type": "markdown",
   "id": "f963733e",
   "metadata": {},
   "source": [
    "#### 1 - Check the number of different media types contained in the DB"
   ]
  },
  {
   "cell_type": "code",
   "execution_count": 113,
   "id": "4d16e40f",
   "metadata": {},
   "outputs": [
    {
     "name": "stdout",
     "output_type": "stream",
     "text": [
      " * mysql+mysqlconnector://root:***@db\n",
      "5 rows affected.\n"
     ]
    },
    {
     "data": {
      "text/html": [
       "<table>\n",
       "    <tr>\n",
       "        <th>type</th>\n",
       "        <th>count</th>\n",
       "    </tr>\n",
       "    <tr>\n",
       "        <td>tvEpisode</td>\n",
       "        <td>708598</td>\n",
       "    </tr>\n",
       "    <tr>\n",
       "        <td>movie</td>\n",
       "        <td>239353</td>\n",
       "    </tr>\n",
       "    <tr>\n",
       "        <td>tvSeries</td>\n",
       "        <td>59424</td>\n",
       "    </tr>\n",
       "    <tr>\n",
       "        <td>tvMiniSeries</td>\n",
       "        <td>11963</td>\n",
       "    </tr>\n",
       "    <tr>\n",
       "        <td>videoGame</td>\n",
       "        <td>257</td>\n",
       "    </tr>\n",
       "</table>"
      ],
      "text/plain": [
       "[('tvEpisode', 708598),\n",
       " ('movie', 239353),\n",
       " ('tvSeries', 59424),\n",
       " ('tvMiniSeries', 11963),\n",
       " ('videoGame', 257)]"
      ]
     },
     "execution_count": 113,
     "metadata": {},
     "output_type": "execute_result"
    }
   ],
   "source": [
    "%%sql\n",
    "\n",
    "SELECT title_type AS type, COUNT(*) AS count\n",
    "FROM Titles\n",
    "GROUP BY type\n",
    "ORDER BY count DESC;"
   ]
  },
  {
   "cell_type": "markdown",
   "id": "2ce1e02e",
   "metadata": {},
   "source": [
    "#### 2 - Plot an histogram about the number of media types per group"
   ]
  },
  {
   "cell_type": "code",
   "execution_count": 114,
   "id": "ad5bc141",
   "metadata": {},
   "outputs": [
    {
     "name": "stdout",
     "output_type": "stream",
     "text": [
      " * mysql+mysqlconnector://root:***@db\n",
      "5 rows affected.\n"
     ]
    },
    {
     "data": {
      "text/plain": [
       "<BarContainer object of 5 artists>"
      ]
     },
     "execution_count": 114,
     "metadata": {},
     "output_type": "execute_result"
    },
    {
     "data": {
      "image/png": "[encoded data removed]",
      "text/plain": [
       "<Figure size 640x480 with 1 Axes>"
      ]
     },
     "metadata": {},
     "output_type": "display_data"
    }
   ],
   "source": [
    "res = %sql SELECT title_type AS type, COUNT(*) AS count \\\n",
    "           FROM Titles \\\n",
    "           GROUP BY type \\\n",
    "           ORDER BY count DESC;\n",
    "\n",
    "res.bar()"
   ]
  },
  {
   "cell_type": "markdown",
   "id": "37952def",
   "metadata": {},
   "source": [
    "#### 3 - Find the name and rating of the oldest videogame stored in the DB "
   ]
  },
  {
   "cell_type": "code",
   "execution_count": 115,
   "id": "a32cf1aa",
   "metadata": {},
   "outputs": [
    {
     "name": "stdout",
     "output_type": "stream",
     "text": [
      " * mysql+mysqlconnector://root:***@db\n",
      "3 rows affected.\n"
     ]
    },
    {
     "data": {
      "text/html": [
       "<table>\n",
       "    <tr>\n",
       "        <th>Field</th>\n",
       "        <th>Type</th>\n",
       "        <th>Null</th>\n",
       "        <th>Key</th>\n",
       "        <th>Default</th>\n",
       "        <th>Extra</th>\n",
       "    </tr>\n",
       "    <tr>\n",
       "        <td>title_id</td>\n",
       "        <td>b&#x27;varchar(255)&#x27;</td>\n",
       "        <td>NO</td>\n",
       "        <td></td>\n",
       "        <td>None</td>\n",
       "        <td></td>\n",
       "    </tr>\n",
       "    <tr>\n",
       "        <td>average_rating</td>\n",
       "        <td>b&#x27;float&#x27;</td>\n",
       "        <td>YES</td>\n",
       "        <td></td>\n",
       "        <td>None</td>\n",
       "        <td></td>\n",
       "    </tr>\n",
       "    <tr>\n",
       "        <td>num_votes</td>\n",
       "        <td>b&#x27;int&#x27;</td>\n",
       "        <td>YES</td>\n",
       "        <td></td>\n",
       "        <td>None</td>\n",
       "        <td></td>\n",
       "    </tr>\n",
       "</table>"
      ],
      "text/plain": [
       "[('title_id', b'varchar(255)', 'NO', '', None, ''),\n",
       " ('average_rating', b'float', 'YES', '', None, ''),\n",
       " ('num_votes', b'int', 'YES', '', None, '')]"
      ]
     },
     "execution_count": 115,
     "metadata": {},
     "output_type": "execute_result"
    }
   ],
   "source": [
    "%sql DESCRIBE Title_ratings;"
   ]
  },
  {
   "cell_type": "code",
   "execution_count": 123,
   "id": "c5b6df38",
   "metadata": {},
   "outputs": [
    {
     "name": "stdout",
     "output_type": "stream",
     "text": [
      " * mysql+mysqlconnector://root:***@db\n",
      "10 rows affected.\n"
     ]
    },
    {
     "data": {
      "text/html": [
       "<table>\n",
       "    <tr>\n",
       "        <th>title</th>\n",
       "        <th>year</th>\n",
       "        <th>average_rating</th>\n",
       "        <th>num_votes</th>\n",
       "    </tr>\n",
       "    <tr>\n",
       "        <td>b&#x27;Lord of the Rings&#x27;</td>\n",
       "        <td>1990</td>\n",
       "        <td>6.9</td>\n",
       "        <td>162</td>\n",
       "    </tr>\n",
       "    <tr>\n",
       "        <td>b&#x27;The Simpsons&#x27;</td>\n",
       "        <td>1991</td>\n",
       "        <td>8.4</td>\n",
       "        <td>674</td>\n",
       "    </tr>\n",
       "    <tr>\n",
       "        <td>b&#x27;Land of Illusion&#x27;</td>\n",
       "        <td>1993</td>\n",
       "        <td>7.3</td>\n",
       "        <td>44</td>\n",
       "    </tr>\n",
       "    <tr>\n",
       "        <td>b&#x27;Sim City Enhanced CD-ROM&#x27;</td>\n",
       "        <td>1993</td>\n",
       "        <td>7.0</td>\n",
       "        <td>59</td>\n",
       "    </tr>\n",
       "    <tr>\n",
       "        <td>b&#x27;Alien Carnage&#x27;</td>\n",
       "        <td>1993</td>\n",
       "        <td>6.8</td>\n",
       "        <td>31</td>\n",
       "    </tr>\n",
       "    <tr>\n",
       "        <td>b&#x27;Star Trek the Next Generation Interactive VHS Board Game&#x27;</td>\n",
       "        <td>1993</td>\n",
       "        <td>8.2</td>\n",
       "        <td>72</td>\n",
       "    </tr>\n",
       "    <tr>\n",
       "        <td>b&#x27;Crusader of Centy&#x27;</td>\n",
       "        <td>1994</td>\n",
       "        <td>8.0</td>\n",
       "        <td>7</td>\n",
       "    </tr>\n",
       "    <tr>\n",
       "        <td>b&#x27;Ride for Your Life&#x27;</td>\n",
       "        <td>1995</td>\n",
       "        <td>5.9</td>\n",
       "        <td>22</td>\n",
       "    </tr>\n",
       "    <tr>\n",
       "        <td>b&#x27;Mr. Payback: An Interactive Movie&#x27;</td>\n",
       "        <td>1995</td>\n",
       "        <td>4.7</td>\n",
       "        <td>102</td>\n",
       "    </tr>\n",
       "    <tr>\n",
       "        <td>b&#x27;Maximum Surge&#x27;</td>\n",
       "        <td>1996</td>\n",
       "        <td>4.1</td>\n",
       "        <td>24</td>\n",
       "    </tr>\n",
       "</table>"
      ],
      "text/plain": [
       "[(b'Lord of the Rings', 1990, 6.9, 162),\n",
       " (b'The Simpsons', 1991, 8.4, 674),\n",
       " (b'Land of Illusion', 1993, 7.3, 44),\n",
       " (b'Sim City Enhanced CD-ROM', 1993, 7.0, 59),\n",
       " (b'Alien Carnage', 1993, 6.8, 31),\n",
       " (b'Star Trek the Next Generation Interactive VHS Board Game', 1993, 8.2, 72),\n",
       " (b'Crusader of Centy', 1994, 8.0, 7),\n",
       " (b'Ride for Your Life', 1995, 5.9, 22),\n",
       " (b'Mr. Payback: An Interactive Movie', 1995, 4.7, 102),\n",
       " (b'Maximum Surge', 1996, 4.1, 24)]"
      ]
     },
     "execution_count": 123,
     "metadata": {},
     "output_type": "execute_result"
    }
   ],
   "source": [
    "%%sql\n",
    "\n",
    "SELECT T.primary_title AS title, T.start_year AS year, R.average_rating, R.num_votes\n",
    "FROM Titles T\n",
    "INNER JOIN Title_ratings R ON T.title_id = R.title_id\n",
    "WHERE T.title_type = \"videoGame\"\n",
    "ORDER BY T.start_year\n",
    "LIMIT 10;"
   ]
  },
  {
   "cell_type": "markdown",
   "id": "e2830a48",
   "metadata": {},
   "source": [
    "### Identify interesting outliers \n",
    "\n",
    "1. List the names of movies whose title begin with \"The\" have a runtime between 3 and 4 hours.\n",
    "2. What actor had the most roles as 'Self'?\n",
    "3. Identify what TV series had more than 1,000 episodes, and check the first- and last-episod year"
   ]
  },
  {
   "cell_type": "markdown",
   "id": "80811ded",
   "metadata": {},
   "source": [
    "#### 1 - List the names of movies whose title begin with \"The\" have a runtime between 3 and 4 hours."
   ]
  },
  {
   "cell_type": "code",
   "execution_count": 124,
   "id": "cb54fe28",
   "metadata": {},
   "outputs": [
    {
     "name": "stdout",
     "output_type": "stream",
     "text": [
      " * mysql+mysqlconnector://root:***@db\n",
      "116 rows affected.\n"
     ]
    },
    {
     "data": {
      "text/html": [
       "<table>\n",
       "    <tr>\n",
       "        <th>primary_title</th>\n",
       "        <th>start_year</th>\n",
       "        <th>runtime_minutes</th>\n",
       "    </tr>\n",
       "    <tr>\n",
       "        <td>b&#x27;The Marvel Experience&#x27;</td>\n",
       "        <td>2014</td>\n",
       "        <td>240</td>\n",
       "    </tr>\n",
       "    <tr>\n",
       "        <td>b&#x27;The Way of Thorns&#x27;</td>\n",
       "        <td>None</td>\n",
       "        <td>240</td>\n",
       "    </tr>\n",
       "    <tr>\n",
       "        <td>b&#x27;The British &amp; Irish Lions: Uncovered&#x27;</td>\n",
       "        <td>2017</td>\n",
       "        <td>240</td>\n",
       "    </tr>\n",
       "    <tr>\n",
       "        <td>b&#x27;The Beautiful Troublemaker&#x27;</td>\n",
       "        <td>1991</td>\n",
       "        <td>238</td>\n",
       "    </tr>\n",
       "    <tr>\n",
       "        <td>b&#x27;The Story of Jonah and the Whale (Sort of...)&#x27;</td>\n",
       "        <td>2010</td>\n",
       "        <td>238</td>\n",
       "    </tr>\n",
       "    <tr>\n",
       "        <td>b&#x27;The Jim Breuer Road Journals&#x27;</td>\n",
       "        <td>2010</td>\n",
       "        <td>237</td>\n",
       "    </tr>\n",
       "    <tr>\n",
       "        <td>b&#x27;The Girl Who Picks Flowers and the Girl Who Kills Insects&#x27;</td>\n",
       "        <td>2000</td>\n",
       "        <td>236</td>\n",
       "    </tr>\n",
       "    <tr>\n",
       "        <td>b&#x27;The Uncertain Kingdom&#x27;</td>\n",
       "        <td>2020</td>\n",
       "        <td>235</td>\n",
       "    </tr>\n",
       "    <tr>\n",
       "        <td>b&#x27;The Hamburg Ballet John Neumeier - A Young Choreographers Evening 2021&#x27;</td>\n",
       "        <td>2021</td>\n",
       "        <td>235</td>\n",
       "    </tr>\n",
       "    <tr>\n",
       "        <td>b&#x27;The Future of Freedom: An Interview with NSA Whistleblower William Binney&#x27;</td>\n",
       "        <td>2015</td>\n",
       "        <td>235</td>\n",
       "    </tr>\n",
       "    <tr>\n",
       "        <td>b&#x27;The Presidents: From Politics to Power&#x27;</td>\n",
       "        <td>2014</td>\n",
       "        <td>233</td>\n",
       "    </tr>\n",
       "    <tr>\n",
       "        <td>b&#x27;The Real Thing&#x27;</td>\n",
       "        <td>2020</td>\n",
       "        <td>232</td>\n",
       "    </tr>\n",
       "    <tr>\n",
       "        <td>b&#x27;The Black Sheep&#x27;</td>\n",
       "        <td>1992</td>\n",
       "        <td>231</td>\n",
       "    </tr>\n",
       "    <tr>\n",
       "        <td>b&#x27;The Most Important Film Ever Made: The Making of A One Crow World&#x27;</td>\n",
       "        <td>2020</td>\n",
       "        <td>230</td>\n",
       "    </tr>\n",
       "    <tr>\n",
       "        <td>b&#x27;The Ultimate 2012 Collection: Explore the Mystery of the Mayan Prophecy&#x27;</td>\n",
       "        <td>2011</td>\n",
       "        <td>230</td>\n",
       "    </tr>\n",
       "    <tr>\n",
       "        <td>b&#x27;The Insignificance of Being Gwendolen&#x27;</td>\n",
       "        <td>2014</td>\n",
       "        <td>227</td>\n",
       "    </tr>\n",
       "    <tr>\n",
       "        <td>b&#x27;The Woman Who Left&#x27;</td>\n",
       "        <td>2016</td>\n",
       "        <td>226</td>\n",
       "    </tr>\n",
       "    <tr>\n",
       "        <td>b&#x27;The Royal Opera House: Faust&#x27;</td>\n",
       "        <td>2019</td>\n",
       "        <td>225</td>\n",
       "    </tr>\n",
       "    <tr>\n",
       "        <td>b&#x27;The Will: If Only There Were No Nuclear Power Plant&#x27;</td>\n",
       "        <td>2014</td>\n",
       "        <td>225</td>\n",
       "    </tr>\n",
       "    <tr>\n",
       "        <td>b&#x27;The American Tapes: Tales of Immigration&#x27;</td>\n",
       "        <td>2013</td>\n",
       "        <td>225</td>\n",
       "    </tr>\n",
       "    <tr>\n",
       "        <td>b&#x27;The Great Rome 3D&#x27;</td>\n",
       "        <td>2013</td>\n",
       "        <td>224</td>\n",
       "    </tr>\n",
       "    <tr>\n",
       "        <td>b&#x27;The Lehman Trilogy&#x27;</td>\n",
       "        <td>2019</td>\n",
       "        <td>223</td>\n",
       "    </tr>\n",
       "    <tr>\n",
       "        <td>b&#x27;The Minds of Men&#x27;</td>\n",
       "        <td>2018</td>\n",
       "        <td>223</td>\n",
       "    </tr>\n",
       "    <tr>\n",
       "        <td>b&#x27;The Electric Paradise&#x27;</td>\n",
       "        <td>2010</td>\n",
       "        <td>220</td>\n",
       "    </tr>\n",
       "    <tr>\n",
       "        <td>b&#x27;The Last of the Unjust&#x27;</td>\n",
       "        <td>2013</td>\n",
       "        <td>220</td>\n",
       "    </tr>\n",
       "    <tr>\n",
       "        <td>b&#x27;The Furious Gods: Making Prometheus&#x27;</td>\n",
       "        <td>2012</td>\n",
       "        <td>220</td>\n",
       "    </tr>\n",
       "    <tr>\n",
       "        <td>b&#x27;The Wild Frontier&#x27;</td>\n",
       "        <td>2017</td>\n",
       "        <td>219</td>\n",
       "    </tr>\n",
       "    <tr>\n",
       "        <td>b&#x27;The History of Tanks&#x27;</td>\n",
       "        <td>2017</td>\n",
       "        <td>215</td>\n",
       "    </tr>\n",
       "    <tr>\n",
       "        <td>b&#x27;The Art of Seeing&#x27;</td>\n",
       "        <td>2013</td>\n",
       "        <td>215</td>\n",
       "    </tr>\n",
       "    <tr>\n",
       "        <td>b&#x27;The Gospel of Luke&#x27;</td>\n",
       "        <td>2015</td>\n",
       "        <td>215</td>\n",
       "    </tr>\n",
       "    <tr>\n",
       "        <td>b&#x27;The Great Everything &amp; the Nothing&#x27;</td>\n",
       "        <td>2016</td>\n",
       "        <td>215</td>\n",
       "    </tr>\n",
       "    <tr>\n",
       "        <td>b&#x27;The Republic&#x27;</td>\n",
       "        <td>2017</td>\n",
       "        <td>215</td>\n",
       "    </tr>\n",
       "    <tr>\n",
       "        <td>b&#x27;The Bolshoi Ballet: Live from Moscow - Le Corsaire&#x27;</td>\n",
       "        <td>2013</td>\n",
       "        <td>215</td>\n",
       "    </tr>\n",
       "    <tr>\n",
       "        <td>b&#x27;The Nightmare Series Encyclopedia&#x27;</td>\n",
       "        <td>1999</td>\n",
       "        <td>213</td>\n",
       "    </tr>\n",
       "    <tr>\n",
       "        <td>b&#x27;The English Organ&#x27;</td>\n",
       "        <td>2019</td>\n",
       "        <td>210</td>\n",
       "    </tr>\n",
       "    <tr>\n",
       "        <td>b&quot;The Winter&#x27;s Tale - Rehearsed Reading&quot;</td>\n",
       "        <td>2020</td>\n",
       "        <td>210</td>\n",
       "    </tr>\n",
       "    <tr>\n",
       "        <td>b&#x27;The Money Masters&#x27;</td>\n",
       "        <td>1996</td>\n",
       "        <td>210</td>\n",
       "    </tr>\n",
       "    <tr>\n",
       "        <td>b&#x27;The Life &amp; Times of Abdullah the Butcher&#x27;</td>\n",
       "        <td>2011</td>\n",
       "        <td>210</td>\n",
       "    </tr>\n",
       "    <tr>\n",
       "        <td>b&#x27;The Next Generation Movie&#x27;</td>\n",
       "        <td>2015</td>\n",
       "        <td>210</td>\n",
       "    </tr>\n",
       "    <tr>\n",
       "        <td>b&#x27;The Night of the Ad Eaters 2013&#x27;</td>\n",
       "        <td>2013</td>\n",
       "        <td>210</td>\n",
       "    </tr>\n",
       "    <tr>\n",
       "        <td>b&#x27;The Irishman&#x27;</td>\n",
       "        <td>2019</td>\n",
       "        <td>209</td>\n",
       "    </tr>\n",
       "    <tr>\n",
       "        <td>b&#x27;The Battleships&#x27;</td>\n",
       "        <td>2000</td>\n",
       "        <td>205</td>\n",
       "    </tr>\n",
       "    <tr>\n",
       "        <td>b&quot;The Word Is Love: Jamaica&#x27;s Michael Manley&quot;</td>\n",
       "        <td>2011</td>\n",
       "        <td>205</td>\n",
       "    </tr>\n",
       "    <tr>\n",
       "        <td>b&#x27;The Year After Dayton&#x27;</td>\n",
       "        <td>1997</td>\n",
       "        <td>204</td>\n",
       "    </tr>\n",
       "    <tr>\n",
       "        <td>b&#x27;The Clairvoyant Fortune&#x27;</td>\n",
       "        <td>2010</td>\n",
       "        <td>204</td>\n",
       "    </tr>\n",
       "    <tr>\n",
       "        <td>b&#x27;The Royal Opera House: La Traviata&#x27;</td>\n",
       "        <td>2016</td>\n",
       "        <td>204</td>\n",
       "    </tr>\n",
       "    <tr>\n",
       "        <td>b&#x27;The Unbroken&#x27;</td>\n",
       "        <td>2009</td>\n",
       "        <td>202</td>\n",
       "    </tr>\n",
       "    <tr>\n",
       "        <td>b&#x27;The Decline of the Century: Testament L.Z.&#x27;</td>\n",
       "        <td>1994</td>\n",
       "        <td>201</td>\n",
       "    </tr>\n",
       "    <tr>\n",
       "        <td>b&#x27;The Lord of the Rings: The Return of the King&#x27;</td>\n",
       "        <td>2003</td>\n",
       "        <td>201</td>\n",
       "    </tr>\n",
       "    <tr>\n",
       "        <td>b&#x27;The Outcast&#x27;</td>\n",
       "        <td>2018</td>\n",
       "        <td>201</td>\n",
       "    </tr>\n",
       "    <tr>\n",
       "        <td>b&#x27;The Sodomite Deception&#x27;</td>\n",
       "        <td>2021</td>\n",
       "        <td>201</td>\n",
       "    </tr>\n",
       "    <tr>\n",
       "        <td>b&#x27;The Challenge of Rudolf Steiner&#x27;</td>\n",
       "        <td>2011</td>\n",
       "        <td>201</td>\n",
       "    </tr>\n",
       "    <tr>\n",
       "        <td>b&#x27;The Last Pogo Jumps Again&#x27;</td>\n",
       "        <td>2013</td>\n",
       "        <td>200</td>\n",
       "    </tr>\n",
       "    <tr>\n",
       "        <td>b&#x27;The Year of the Discovery&#x27;</td>\n",
       "        <td>2020</td>\n",
       "        <td>200</td>\n",
       "    </tr>\n",
       "    <tr>\n",
       "        <td>b&#x27;The Extincts&#x27;</td>\n",
       "        <td>None</td>\n",
       "        <td>200</td>\n",
       "    </tr>\n",
       "    <tr>\n",
       "        <td>b&#x27;The Lord of the Rings - The Appendices Part 1: From Book to Vision&#x27;</td>\n",
       "        <td>2002</td>\n",
       "        <td>200</td>\n",
       "    </tr>\n",
       "    <tr>\n",
       "        <td>b&#x27;The Big House&#x27;</td>\n",
       "        <td>1997</td>\n",
       "        <td>198</td>\n",
       "    </tr>\n",
       "    <tr>\n",
       "        <td>b&#x27;The King&#x27;</td>\n",
       "        <td>1995</td>\n",
       "        <td>198</td>\n",
       "    </tr>\n",
       "    <tr>\n",
       "        <td>b&#x27;The Secret Fighting Arts of America: Expedition Highlights&#x27;</td>\n",
       "        <td>2019</td>\n",
       "        <td>197</td>\n",
       "    </tr>\n",
       "    <tr>\n",
       "        <td>b&#x27;The Townie&#x27;</td>\n",
       "        <td>2015</td>\n",
       "        <td>197</td>\n",
       "    </tr>\n",
       "    <tr>\n",
       "        <td>b&#x27;The Garden&#x27;</td>\n",
       "        <td>2005</td>\n",
       "        <td>196</td>\n",
       "    </tr>\n",
       "    <tr>\n",
       "        <td>b&#x27;The Boro: Fight for Identity&#x27;</td>\n",
       "        <td>None</td>\n",
       "        <td>195</td>\n",
       "    </tr>\n",
       "    <tr>\n",
       "        <td>b&#x27;The Corporation Nation Master&#x27;</td>\n",
       "        <td>2011</td>\n",
       "        <td>194</td>\n",
       "    </tr>\n",
       "    <tr>\n",
       "        <td>b&#x27;The Sleep Room&#x27;</td>\n",
       "        <td>1998</td>\n",
       "        <td>193</td>\n",
       "    </tr>\n",
       "    <tr>\n",
       "        <td>b&#x27;The Witch of Funtinel&#x27;</td>\n",
       "        <td>2017</td>\n",
       "        <td>191</td>\n",
       "    </tr>\n",
       "    <tr>\n",
       "        <td>b&#x27;The Last Mission&#x27;</td>\n",
       "        <td>None</td>\n",
       "        <td>190</td>\n",
       "    </tr>\n",
       "    <tr>\n",
       "        <td>b&#x27;The Last Job&#x27;</td>\n",
       "        <td>None</td>\n",
       "        <td>190</td>\n",
       "    </tr>\n",
       "    <tr>\n",
       "        <td>b&#x27;The Gospel of Matthew&#x27;</td>\n",
       "        <td>2014</td>\n",
       "        <td>190</td>\n",
       "    </tr>\n",
       "    <tr>\n",
       "        <td>b&#x27;The Crucible&#x27;</td>\n",
       "        <td>2014</td>\n",
       "        <td>190</td>\n",
       "    </tr>\n",
       "    <tr>\n",
       "        <td>b&#x27;The Conciousnous Paradigm&#x27;</td>\n",
       "        <td>2015</td>\n",
       "        <td>190</td>\n",
       "    </tr>\n",
       "    <tr>\n",
       "        <td>b&#x27;The Green Mile&#x27;</td>\n",
       "        <td>1999</td>\n",
       "        <td>189</td>\n",
       "    </tr>\n",
       "    <tr>\n",
       "        <td>b&#x27;The Ister&#x27;</td>\n",
       "        <td>2004</td>\n",
       "        <td>189</td>\n",
       "    </tr>\n",
       "    <tr>\n",
       "        <td>b&#x27;The Master Class Part 2&#x27;</td>\n",
       "        <td>2014</td>\n",
       "        <td>189</td>\n",
       "    </tr>\n",
       "    <tr>\n",
       "        <td>b&#x27;The Chrysanthemum and the Guillotine&#x27;</td>\n",
       "        <td>2018</td>\n",
       "        <td>189</td>\n",
       "    </tr>\n",
       "    <tr>\n",
       "        <td>b&#x27;The Beginning and the End&#x27;</td>\n",
       "        <td>1993</td>\n",
       "        <td>188</td>\n",
       "    </tr>\n",
       "    <tr>\n",
       "        <td>b&#x27;The Dialogues with Solzhenitsyn&#x27;</td>\n",
       "        <td>1998</td>\n",
       "        <td>188</td>\n",
       "    </tr>\n",
       "    <tr>\n",
       "        <td>b&#x27;The Wild Pear Tree&#x27;</td>\n",
       "        <td>2018</td>\n",
       "        <td>188</td>\n",
       "    </tr>\n",
       "    <tr>\n",
       "        <td>b&#x27;The Poet Professor&#x27;</td>\n",
       "        <td>2017</td>\n",
       "        <td>188</td>\n",
       "    </tr>\n",
       "    <tr>\n",
       "        <td>b&#x27;The Fate of Cysalion&#x27;</td>\n",
       "        <td>2018</td>\n",
       "        <td>188</td>\n",
       "    </tr>\n",
       "    <tr>\n",
       "        <td>b&#x27;The House of the Silent Bat&#x27;</td>\n",
       "        <td>2020</td>\n",
       "        <td>186</td>\n",
       "    </tr>\n",
       "    <tr>\n",
       "        <td>b&#x27;The Legend of Suriyothai&#x27;</td>\n",
       "        <td>2001</td>\n",
       "        <td>185</td>\n",
       "    </tr>\n",
       "    <tr>\n",
       "        <td>b&#x27;The Mystery of Godliness: The Sequel&#x27;</td>\n",
       "        <td>2017</td>\n",
       "        <td>185</td>\n",
       "    </tr>\n",
       "    <tr>\n",
       "        <td>b&#x27;The Adventure of Cohollyingwood Black Prince&#x27;</td>\n",
       "        <td>None</td>\n",
       "        <td>184</td>\n",
       "    </tr>\n",
       "    <tr>\n",
       "        <td>b&#x27;The Oscar Nominated Short Films 2014: Documentary&#x27;</td>\n",
       "        <td>2014</td>\n",
       "        <td>184</td>\n",
       "    </tr>\n",
       "    <tr>\n",
       "        <td>b&#x27;The Age of Czeslaw Milosz&#x27;</td>\n",
       "        <td>2012</td>\n",
       "        <td>184</td>\n",
       "    </tr>\n",
       "    <tr>\n",
       "        <td>b&#x27;The Wonderful, Horrible Life of Leni Riefenstahl&#x27;</td>\n",
       "        <td>1993</td>\n",
       "        <td>183</td>\n",
       "    </tr>\n",
       "    <tr>\n",
       "        <td>b&#x27;The King and the Commissioner&#x27;</td>\n",
       "        <td>2012</td>\n",
       "        <td>183</td>\n",
       "    </tr>\n",
       "    <tr>\n",
       "        <td>b&#x27;The Fourth Reich&#x27;</td>\n",
       "        <td>1990</td>\n",
       "        <td>183</td>\n",
       "    </tr>\n",
       "    <tr>\n",
       "        <td>b&#x27;The Rake Creatures&#x27;</td>\n",
       "        <td>2014</td>\n",
       "        <td>183</td>\n",
       "    </tr>\n",
       "    <tr>\n",
       "        <td>b&#x27;The Himmler Project&#x27;</td>\n",
       "        <td>2000</td>\n",
       "        <td>182</td>\n",
       "    </tr>\n",
       "    <tr>\n",
       "        <td>b&#x27;The Wind Blows Where It Will&#x27;</td>\n",
       "        <td>2007</td>\n",
       "        <td>182</td>\n",
       "    </tr>\n",
       "    <tr>\n",
       "        <td>b&#x27;The Bastard Sword&#x27;</td>\n",
       "        <td>2018</td>\n",
       "        <td>182</td>\n",
       "    </tr>\n",
       "    <tr>\n",
       "        <td>b&#x27;The Best Intentions&#x27;</td>\n",
       "        <td>1992</td>\n",
       "        <td>180</td>\n",
       "    </tr>\n",
       "    <tr>\n",
       "        <td>b&#x27;The Barber of Siberia&#x27;</td>\n",
       "        <td>1998</td>\n",
       "        <td>180</td>\n",
       "    </tr>\n",
       "    <tr>\n",
       "        <td>b&#x27;The Murder of JFK: A Revisionist History&#x27;</td>\n",
       "        <td>1999</td>\n",
       "        <td>180</td>\n",
       "    </tr>\n",
       "    <tr>\n",
       "        <td>b&#x27;The Charioteer&#x27;</td>\n",
       "        <td>1995</td>\n",
       "        <td>180</td>\n",
       "    </tr>\n",
       "    <tr>\n",
       "        <td>b&#x27;The Gospel of John&#x27;</td>\n",
       "        <td>2003</td>\n",
       "        <td>180</td>\n",
       "    </tr>\n",
       "    <tr>\n",
       "        <td>b&#x27;The Lottery of the Sea&#x27;</td>\n",
       "        <td>2006</td>\n",
       "        <td>180</td>\n",
       "    </tr>\n",
       "    <tr>\n",
       "        <td>b&#x27;The Wolf of Wall Street&#x27;</td>\n",
       "        <td>2013</td>\n",
       "        <td>180</td>\n",
       "    </tr>\n",
       "    <tr>\n",
       "        <td>b&#x27;The Cinema of Ozu According to Kiju Yoshida&#x27;</td>\n",
       "        <td>1993</td>\n",
       "        <td>180</td>\n",
       "    </tr>\n",
       "    <tr>\n",
       "        <td>b&#x27;The Twilight Zone: A 60th Anniversary Celebration&#x27;</td>\n",
       "        <td>2019</td>\n",
       "        <td>180</td>\n",
       "    </tr>\n",
       "    <tr>\n",
       "        <td>b&#x27;The Grateful Dead Meet-Up 2018&#x27;</td>\n",
       "        <td>2018</td>\n",
       "        <td>180</td>\n",
       "    </tr>\n",
       "    <tr>\n",
       "        <td>b&#x27;The Entertainer&#x27;</td>\n",
       "        <td>2015</td>\n",
       "        <td>180</td>\n",
       "    </tr>\n",
       "    <tr>\n",
       "        <td>b&#x27;The Baby Doll Night&#x27;</td>\n",
       "        <td>2008</td>\n",
       "        <td>180</td>\n",
       "    </tr>\n",
       "    <tr>\n",
       "        <td>b&#x27;The Power Was with Us: Idle No More&#x27;</td>\n",
       "        <td>2020</td>\n",
       "        <td>180</td>\n",
       "    </tr>\n",
       "    <tr>\n",
       "        <td>b&#x27;The Autobiography of Nicolae Ceausescu&#x27;</td>\n",
       "        <td>2010</td>\n",
       "        <td>180</td>\n",
       "    </tr>\n",
       "    <tr>\n",
       "        <td>b&#x27;The Truth About The Philadelphia Experiment: Invisibility, Time Travel and Mind Control - The Shocking Truth&#x27;</td>\n",
       "        <td>2010</td>\n",
       "        <td>180</td>\n",
       "    </tr>\n",
       "    <tr>\n",
       "        <td>b&#x27;The Turning&#x27;</td>\n",
       "        <td>2013</td>\n",
       "        <td>180</td>\n",
       "    </tr>\n",
       "    <tr>\n",
       "        <td>b&#x27;The Oscar Nominated Short Films 2013: Documentary&#x27;</td>\n",
       "        <td>2013</td>\n",
       "        <td>180</td>\n",
       "    </tr>\n",
       "    <tr>\n",
       "        <td>b&#x27;The Pogo Film Project&#x27;</td>\n",
       "        <td>2012</td>\n",
       "        <td>180</td>\n",
       "    </tr>\n",
       "    <tr>\n",
       "        <td>b&quot;The Gershwin&#x27;s &#x27;Porgy and Bess&#x27;&quot;</td>\n",
       "        <td>2013</td>\n",
       "        <td>180</td>\n",
       "    </tr>\n",
       "    <tr>\n",
       "        <td>b&#x27;The Company We Keep&#x27;</td>\n",
       "        <td>2014</td>\n",
       "        <td>180</td>\n",
       "    </tr>\n",
       "    <tr>\n",
       "        <td>b&#x27;The Faithful&#x27;</td>\n",
       "        <td>None</td>\n",
       "        <td>180</td>\n",
       "    </tr>\n",
       "    <tr>\n",
       "        <td>b&#x27;The World Is Ending Tomorrow&#x27;</td>\n",
       "        <td>2017</td>\n",
       "        <td>180</td>\n",
       "    </tr>\n",
       "    <tr>\n",
       "        <td>b&#x27;The Royal Opera House: Il trovatore&#x27;</td>\n",
       "        <td>2017</td>\n",
       "        <td>180</td>\n",
       "    </tr>\n",
       "    <tr>\n",
       "        <td>b&#x27;The Wild World of Eugen V\\xc3\\xb6hrmann&#x27;</td>\n",
       "        <td>2005</td>\n",
       "        <td>180</td>\n",
       "    </tr>\n",
       "</table>"
      ],
      "text/plain": [
       "[(b'The Marvel Experience', 2014, 240),\n",
       " (b'The Way of Thorns', None, 240),\n",
       " (b'The British & Irish Lions: Uncovered', 2017, 240),\n",
       " (b'The Beautiful Troublemaker', 1991, 238),\n",
       " (b'The Story of Jonah and the Whale (Sort of...)', 2010, 238),\n",
       " (b'The Jim Breuer Road Journals', 2010, 237),\n",
       " (b'The Girl Who Picks Flowers and the Girl Who Kills Insects', 2000, 236),\n",
       " (b'The Uncertain Kingdom', 2020, 235),\n",
       " (b'The Hamburg Ballet John Neumeier - A Young Choreographers Evening 2021', 2021, 235),\n",
       " (b'The Future of Freedom: An Interview with NSA Whistleblower William Binney', 2015, 235),\n",
       " (b'The Presidents: From Politics to Power', 2014, 233),\n",
       " (b'The Real Thing', 2020, 232),\n",
       " (b'The Black Sheep', 1992, 231),\n",
       " (b'The Most Important Film Ever Made: The Making of A One Crow World', 2020, 230),\n",
       " (b'The Ultimate 2012 Collection: Explore the Mystery of the Mayan Prophecy', 2011, 230),\n",
       " (b'The Insignificance of Being Gwendolen', 2014, 227),\n",
       " (b'The Woman Who Left', 2016, 226),\n",
       " (b'The Royal Opera House: Faust', 2019, 225),\n",
       " (b'The Will: If Only There Were No Nuclear Power Plant', 2014, 225),\n",
       " (b'The American Tapes: Tales of Immigration', 2013, 225),\n",
       " (b'The Great Rome 3D', 2013, 224),\n",
       " (b'The Lehman Trilogy', 2019, 223),\n",
       " (b'The Minds of Men', 2018, 223),\n",
       " (b'The Electric Paradise', 2010, 220),\n",
       " (b'The Last of the Unjust', 2013, 220),\n",
       " (b'The Furious Gods: Making Prometheus', 2012, 220),\n",
       " (b'The Wild Frontier', 2017, 219),\n",
       " (b'The History of Tanks', 2017, 215),\n",
       " (b'The Art of Seeing', 2013, 215),\n",
       " (b'The Gospel of Luke', 2015, 215),\n",
       " (b'The Great Everything & the Nothing', 2016, 215),\n",
       " (b'The Republic', 2017, 215),\n",
       " (b'The Bolshoi Ballet: Live from Moscow - Le Corsaire', 2013, 215),\n",
       " (b'The Nightmare Series Encyclopedia', 1999, 213),\n",
       " (b'The English Organ', 2019, 210),\n",
       " (b\"The Winter's Tale - Rehearsed Reading\", 2020, 210),\n",
       " (b'The Money Masters', 1996, 210),\n",
       " (b'The Life & Times of Abdullah the Butcher', 2011, 210),\n",
       " (b'The Next Generation Movie', 2015, 210),\n",
       " (b'The Night of the Ad Eaters 2013', 2013, 210),\n",
       " (b'The Irishman', 2019, 209),\n",
       " (b'The Battleships', 2000, 205),\n",
       " (b\"The Word Is Love: Jamaica's Michael Manley\", 2011, 205),\n",
       " (b'The Year After Dayton', 1997, 204),\n",
       " (b'The Clairvoyant Fortune', 2010, 204),\n",
       " (b'The Royal Opera House: La Traviata', 2016, 204),\n",
       " (b'The Unbroken', 2009, 202),\n",
       " (b'The Decline of the Century: Testament L.Z.', 1994, 201),\n",
       " (b'The Lord of the Rings: The Return of the King', 2003, 201),\n",
       " (b'The Outcast', 2018, 201),\n",
       " (b'The Sodomite Deception', 2021, 201),\n",
       " (b'The Challenge of Rudolf Steiner', 2011, 201),\n",
       " (b'The Last Pogo Jumps Again', 2013, 200),\n",
       " (b'The Year of the Discovery', 2020, 200),\n",
       " (b'The Extincts', None, 200),\n",
       " (b'The Lord of the Rings - The Appendices Part 1: From Book to Vision', 2002, 200),\n",
       " (b'The Big House', 1997, 198),\n",
       " (b'The King', 1995, 198),\n",
       " (b'The Secret Fighting Arts of America: Expedition Highlights', 2019, 197),\n",
       " (b'The Townie', 2015, 197),\n",
       " (b'The Garden', 2005, 196),\n",
       " (b'The Boro: Fight for Identity', None, 195),\n",
       " (b'The Corporation Nation Master', 2011, 194),\n",
       " (b'The Sleep Room', 1998, 193),\n",
       " (b'The Witch of Funtinel', 2017, 191),\n",
       " (b'The Last Mission', None, 190),\n",
       " (b'The Last Job', None, 190),\n",
       " (b'The Gospel of Matthew', 2014, 190),\n",
       " (b'The Crucible', 2014, 190),\n",
       " (b'The Conciousnous Paradigm', 2015, 190),\n",
       " (b'The Green Mile', 1999, 189),\n",
       " (b'The Ister', 2004, 189),\n",
       " (b'The Master Class Part 2', 2014, 189),\n",
       " (b'The Chrysanthemum and the Guillotine', 2018, 189),\n",
       " (b'The Beginning and the End', 1993, 188),\n",
       " (b'The Dialogues with Solzhenitsyn', 1998, 188),\n",
       " (b'The Wild Pear Tree', 2018, 188),\n",
       " (b'The Poet Professor', 2017, 188),\n",
       " (b'The Fate of Cysalion', 2018, 188),\n",
       " (b'The House of the Silent Bat', 2020, 186),\n",
       " (b'The Legend of Suriyothai', 2001, 185),\n",
       " (b'The Mystery of Godliness: The Sequel', 2017, 185),\n",
       " (b'The Adventure of Cohollyingwood Black Prince', None, 184),\n",
       " (b'The Oscar Nominated Short Films 2014: Documentary', 2014, 184),\n",
       " (b'The Age of Czeslaw Milosz', 2012, 184),\n",
       " (b'The Wonderful, Horrible Life of Leni Riefenstahl', 1993, 183),\n",
       " (b'The King and the Commissioner', 2012, 183),\n",
       " (b'The Fourth Reich', 1990, 183),\n",
       " (b'The Rake Creatures', 2014, 183),\n",
       " (b'The Himmler Project', 2000, 182),\n",
       " (b'The Wind Blows Where It Will', 2007, 182),\n",
       " (b'The Bastard Sword', 2018, 182),\n",
       " (b'The Best Intentions', 1992, 180),\n",
       " (b'The Barber of Siberia', 1998, 180),\n",
       " (b'The Murder of JFK: A Revisionist History', 1999, 180),\n",
       " (b'The Charioteer', 1995, 180),\n",
       " (b'The Gospel of John', 2003, 180),\n",
       " (b'The Lottery of the Sea', 2006, 180),\n",
       " (b'The Wolf of Wall Street', 2013, 180),\n",
       " (b'The Cinema of Ozu According to Kiju Yoshida', 1993, 180),\n",
       " (b'The Twilight Zone: A 60th Anniversary Celebration', 2019, 180),\n",
       " (b'The Grateful Dead Meet-Up 2018', 2018, 180),\n",
       " (b'The Entertainer', 2015, 180),\n",
       " (b'The Baby Doll Night', 2008, 180),\n",
       " (b'The Power Was with Us: Idle No More', 2020, 180),\n",
       " (b'The Autobiography of Nicolae Ceausescu', 2010, 180),\n",
       " (b'The Truth About The Philadelphia Experiment: Invisibility, Time Travel and Mind Control - The Shocking Truth', 2010, 180),\n",
       " (b'The Turning', 2013, 180),\n",
       " (b'The Oscar Nominated Short Films 2013: Documentary', 2013, 180),\n",
       " (b'The Pogo Film Project', 2012, 180),\n",
       " (b\"The Gershwin's 'Porgy and Bess'\", 2013, 180),\n",
       " (b'The Company We Keep', 2014, 180),\n",
       " (b'The Faithful', None, 180),\n",
       " (b'The World Is Ending Tomorrow', 2017, 180),\n",
       " (b'The Royal Opera House: Il trovatore', 2017, 180),\n",
       " (b'The Wild World of Eugen V\\xc3\\xb6hrmann', 2005, 180)]"
      ]
     },
     "execution_count": 124,
     "metadata": {},
     "output_type": "execute_result"
    }
   ],
   "source": [
    "%%sql\n",
    "\n",
    "SELECT primary_title, start_year, runtime_minutes\n",
    "FROM Titles\n",
    "WHERE (title_type = \"movie\")\n",
    "AND (primary_title LIKE \"The%\")\n",
    "AND (runtime_minutes BETWEEN 180 AND 240)\n",
    "ORDER BY runtime_minutes DESC;"
   ]
  },
  {
   "cell_type": "markdown",
   "id": "b0b10f31",
   "metadata": {},
   "source": [
    "#### 2 - What actor had the most roles as 'Self'?"
   ]
  },
  {
   "cell_type": "code",
   "execution_count": 135,
   "id": "fc47a7b9",
   "metadata": {},
   "outputs": [
    {
     "name": "stdout",
     "output_type": "stream",
     "text": [
      " * mysql+mysqlconnector://root:***@db\n",
      "10 rows affected.\n"
     ]
    },
    {
     "data": {
      "text/html": [
       "<table>\n",
       "    <tr>\n",
       "        <th>name</th>\n",
       "        <th>count</th>\n",
       "    </tr>\n",
       "    <tr>\n",
       "        <td>Scott Morrison</td>\n",
       "        <td>3197</td>\n",
       "    </tr>\n",
       "    <tr>\n",
       "        <td>Tony Abbott</td>\n",
       "        <td>2763</td>\n",
       "    </tr>\n",
       "    <tr>\n",
       "        <td>Donald Trump</td>\n",
       "        <td>2210</td>\n",
       "    </tr>\n",
       "    <tr>\n",
       "        <td>John Howard</td>\n",
       "        <td>1162</td>\n",
       "    </tr>\n",
       "    <tr>\n",
       "        <td>Pauline Hanson</td>\n",
       "        <td>1099</td>\n",
       "    </tr>\n",
       "    <tr>\n",
       "        <td>Peter Dutton</td>\n",
       "        <td>1044</td>\n",
       "    </tr>\n",
       "    <tr>\n",
       "        <td>Barnaby Joyce</td>\n",
       "        <td>998</td>\n",
       "    </tr>\n",
       "    <tr>\n",
       "        <td>Paul Bowman</td>\n",
       "        <td>798</td>\n",
       "    </tr>\n",
       "    <tr>\n",
       "        <td>Arin Hanson</td>\n",
       "        <td>792</td>\n",
       "    </tr>\n",
       "    <tr>\n",
       "        <td>Brad Jones</td>\n",
       "        <td>751</td>\n",
       "    </tr>\n",
       "</table>"
      ],
      "text/plain": [
       "[('Scott Morrison', 3197),\n",
       " ('Tony Abbott', 2763),\n",
       " ('Donald Trump', 2210),\n",
       " ('John Howard', 1162),\n",
       " ('Pauline Hanson', 1099),\n",
       " ('Peter Dutton', 1044),\n",
       " ('Barnaby Joyce', 998),\n",
       " ('Paul Bowman', 798),\n",
       " ('Arin Hanson', 792),\n",
       " ('Brad Jones', 751)]"
      ]
     },
     "execution_count": 135,
     "metadata": {},
     "output_type": "execute_result"
    }
   ],
   "source": [
    "%%sql\n",
    "\n",
    "SELECT Names_.name_ AS name, COUNT(*) AS count\n",
    "FROM Had_role\n",
    "INNER JOIN Names_ ON Names_.name_id = Had_role.name_id\n",
    "WHERE Had_role.role_ = \"Self\"\n",
    "GROUP BY name\n",
    "ORDER BY count DESC\n",
    "LIMIT 10;"
   ]
  },
  {
   "cell_type": "markdown",
   "id": "0b55feae",
   "metadata": {},
   "source": [
    "#### 3 - Identify what TV series had more than 1,000 episodes, and check the first- and last-episod year"
   ]
  },
  {
   "cell_type": "code",
   "execution_count": 137,
   "id": "922a64ab",
   "metadata": {},
   "outputs": [
    {
     "name": "stdout",
     "output_type": "stream",
     "text": [
      " * mysql+mysqlconnector://root:***@db\n",
      "4 rows affected.\n"
     ]
    },
    {
     "data": {
      "text/html": [
       "<table>\n",
       "    <tr>\n",
       "        <th>Field</th>\n",
       "        <th>Type</th>\n",
       "        <th>Null</th>\n",
       "        <th>Key</th>\n",
       "        <th>Default</th>\n",
       "        <th>Extra</th>\n",
       "    </tr>\n",
       "    <tr>\n",
       "        <td>episode_title_id</td>\n",
       "        <td>b&#x27;varchar(255)&#x27;</td>\n",
       "        <td>NO</td>\n",
       "        <td></td>\n",
       "        <td>None</td>\n",
       "        <td></td>\n",
       "    </tr>\n",
       "    <tr>\n",
       "        <td>parent_tv_show_title_id</td>\n",
       "        <td>b&#x27;varchar(255)&#x27;</td>\n",
       "        <td>NO</td>\n",
       "        <td></td>\n",
       "        <td>None</td>\n",
       "        <td></td>\n",
       "    </tr>\n",
       "    <tr>\n",
       "        <td>season_number</td>\n",
       "        <td>b&#x27;int&#x27;</td>\n",
       "        <td>YES</td>\n",
       "        <td></td>\n",
       "        <td>None</td>\n",
       "        <td></td>\n",
       "    </tr>\n",
       "    <tr>\n",
       "        <td>episode_number</td>\n",
       "        <td>b&#x27;int&#x27;</td>\n",
       "        <td>YES</td>\n",
       "        <td></td>\n",
       "        <td>None</td>\n",
       "        <td></td>\n",
       "    </tr>\n",
       "</table>"
      ],
      "text/plain": [
       "[('episode_title_id', b'varchar(255)', 'NO', '', None, ''),\n",
       " ('parent_tv_show_title_id', b'varchar(255)', 'NO', '', None, ''),\n",
       " ('season_number', b'int', 'YES', '', None, ''),\n",
       " ('episode_number', b'int', 'YES', '', None, '')]"
      ]
     },
     "execution_count": 137,
     "metadata": {},
     "output_type": "execute_result"
    }
   ],
   "source": [
    "%sql DESCRIBE Episode_belongs_to;"
   ]
  },
  {
   "cell_type": "code",
   "execution_count": 23,
   "id": "a9a775c0",
   "metadata": {},
   "outputs": [
    {
     "name": "stdout",
     "output_type": "stream",
     "text": [
      " * mysql+mysqlconnector://root:***@db\n",
      "10 rows affected.\n"
     ]
    },
    {
     "data": {
      "text/html": [
       "<table>\n",
       "    <tr>\n",
       "        <th>primary_title</th>\n",
       "        <th>title_type</th>\n",
       "        <th>start_year</th>\n",
       "        <th>num_episodes</th>\n",
       "    </tr>\n",
       "    <tr>\n",
       "        <td>b&#x27;Charlie Rose&#x27;</td>\n",
       "        <td>tvSeries</td>\n",
       "        <td>1991</td>\n",
       "        <td>9884</td>\n",
       "    </tr>\n",
       "    <tr>\n",
       "        <td>b&#x27;Gute Zeiten, schlechte Zeiten&#x27;</td>\n",
       "        <td>tvSeries</td>\n",
       "        <td>1992</td>\n",
       "        <td>7455</td>\n",
       "    </tr>\n",
       "    <tr>\n",
       "        <td>b&#x27;Judge Judy&#x27;</td>\n",
       "        <td>tvSeries</td>\n",
       "        <td>1996</td>\n",
       "        <td>7282</td>\n",
       "    </tr>\n",
       "    <tr>\n",
       "        <td>b&#x27;Unter uns&#x27;</td>\n",
       "        <td>tvSeries</td>\n",
       "        <td>1994</td>\n",
       "        <td>6803</td>\n",
       "    </tr>\n",
       "    <tr>\n",
       "        <td>b&#x27;Late Show with David Letterman&#x27;</td>\n",
       "        <td>tvSeries</td>\n",
       "        <td>1993</td>\n",
       "        <td>6691</td>\n",
       "    </tr>\n",
       "    <tr>\n",
       "        <td>b&#x27;Goede tijden, slechte tijden&#x27;</td>\n",
       "        <td>tvSeries</td>\n",
       "        <td>1990</td>\n",
       "        <td>6550</td>\n",
       "    </tr>\n",
       "    <tr>\n",
       "        <td>b&#x27;Young Hearts&#x27;</td>\n",
       "        <td>tvSeries</td>\n",
       "        <td>1995</td>\n",
       "        <td>6247</td>\n",
       "    </tr>\n",
       "    <tr>\n",
       "        <td>b&#x27;DAS!&#x27;</td>\n",
       "        <td>tvSeries</td>\n",
       "        <td>1991</td>\n",
       "        <td>5433</td>\n",
       "    </tr>\n",
       "    <tr>\n",
       "        <td>b&quot;L&#x27;invit\\xc3\\xa9&quot;</td>\n",
       "        <td>tvSeries</td>\n",
       "        <td>2000</td>\n",
       "        <td>5273</td>\n",
       "    </tr>\n",
       "    <tr>\n",
       "        <td>b&#x27;Volle Kanne&#x27;</td>\n",
       "        <td>tvSeries</td>\n",
       "        <td>1999</td>\n",
       "        <td>5111</td>\n",
       "    </tr>\n",
       "</table>"
      ],
      "text/plain": [
       "[(b'Charlie Rose', 'tvSeries', 1991, 9884),\n",
       " (b'Gute Zeiten, schlechte Zeiten', 'tvSeries', 1992, 7455),\n",
       " (b'Judge Judy', 'tvSeries', 1996, 7282),\n",
       " (b'Unter uns', 'tvSeries', 1994, 6803),\n",
       " (b'Late Show with David Letterman', 'tvSeries', 1993, 6691),\n",
       " (b'Goede tijden, slechte tijden', 'tvSeries', 1990, 6550),\n",
       " (b'Young Hearts', 'tvSeries', 1995, 6247),\n",
       " (b'DAS!', 'tvSeries', 1991, 5433),\n",
       " (b\"L'invit\\xc3\\xa9\", 'tvSeries', 2000, 5273),\n",
       " (b'Volle Kanne', 'tvSeries', 1999, 5111)]"
      ]
     },
     "execution_count": 23,
     "metadata": {},
     "output_type": "execute_result"
    }
   ],
   "source": [
    "%%sql\n",
    "\n",
    "SELECT T.primary_title, T.title_type, T.start_year, E.num_episodes\n",
    "FROM Titles T\n",
    "INNER JOIN (\n",
    "    SELECT parent_tv_show_title_id, COUNT(*) AS num_episodes\n",
    "    FROM Episode_belongs_to\n",
    "    GROUP BY parent_tv_show_title_id\n",
    "    HAVING num_episodes > 1000\n",
    ") E\n",
    "    ON E.parent_tv_show_title_id = T.title_id\n",
    "ORDER BY num_episodes DESC\n",
    "LIMIT 10;"
   ]
  },
  {
   "cell_type": "markdown",
   "id": "b82192a7",
   "metadata": {},
   "source": [
    "### It's all about the ratings \n",
    "\n",
    "1. Group all movies by decade and plot the rating distribution. Limit the query to the movies with at least 1000 ratings.\n",
    "2. Plot the average rating of each episode of Games of Thrones. Group by season and compute the average and std for each season\n",
    "3. Plot the total numer of movies per year, divided by genre (Action, Comedy, Drama, Thriller, Fantasy), and the yearly rating average per genre"
   ]
  },
  {
   "cell_type": "markdown",
   "id": "dada1b9b",
   "metadata": {},
   "source": [
    "#### 1 - Group all movies by decade and plot the rating distribution. Limit the query to the movies with at least 1000 ratings."
   ]
  },
  {
   "cell_type": "code",
   "execution_count": 37,
   "id": "1ae8f835",
   "metadata": {},
   "outputs": [
    {
     "name": "stdout",
     "output_type": "stream",
     "text": [
      " * mysql+mysqlconnector://root:***@db\n",
      "4 rows affected.\n"
     ]
    },
    {
     "data": {
      "text/html": [
       "<table>\n",
       "    <tr>\n",
       "        <th>decade</th>\n",
       "        <th>avg_rating</th>\n",
       "        <th>std_rating</th>\n",
       "    </tr>\n",
       "    <tr>\n",
       "        <td>1990</td>\n",
       "        <td>6.927333051610376</td>\n",
       "        <td>1.2253449473537839</td>\n",
       "    </tr>\n",
       "    <tr>\n",
       "        <td>2000</td>\n",
       "        <td>6.974676088702646</td>\n",
       "        <td>1.347490840693246</td>\n",
       "    </tr>\n",
       "    <tr>\n",
       "        <td>2010</td>\n",
       "        <td>7.160595173501715</td>\n",
       "        <td>1.4010278422451719</td>\n",
       "    </tr>\n",
       "    <tr>\n",
       "        <td>2020</td>\n",
       "        <td>7.131400774229496</td>\n",
       "        <td>1.4167727719916299</td>\n",
       "    </tr>\n",
       "</table>"
      ],
      "text/plain": [
       "[(1990, 6.927333051610376, 1.2253449473537839),\n",
       " (2000, 6.974676088702646, 1.347490840693246),\n",
       " (2010, 7.160595173501715, 1.4010278422451719),\n",
       " (2020, 7.131400774229496, 1.4167727719916299)]"
      ]
     },
     "execution_count": 37,
     "metadata": {},
     "output_type": "execute_result"
    }
   ],
   "source": [
    "%%sql\n",
    "\n",
    "SELECT FLOOR(T.start_year / 10) * 10 AS decade,\n",
    "       AVG(R.average_rating) AS avg_rating,\n",
    "       STD(R.average_rating) AS std_rating\n",
    "FROM Titles T\n",
    "INNER JOIN Title_ratings R ON R.title_id = T.title_id\n",
    "WHERE (R.num_votes > 1000)\n",
    "  AND (T.start_year IS NOT NULL)\n",
    "GROUP BY decade\n",
    "ORDER BY decade ASC;"
   ]
  },
  {
   "cell_type": "markdown",
   "id": "0545fe7b",
   "metadata": {},
   "source": [
    "#### 2 - Plot the average rating of each episode of Games of Thrones. Group by season and compute the average and std for each season"
   ]
  },
  {
   "cell_type": "code",
   "execution_count": 42,
   "id": "f3d04fa7",
   "metadata": {},
   "outputs": [],
   "source": [
    "db = mysql.connector.connect(\n",
    "  user=\"root\",\n",
    "  password=\"root_pwd\",\n",
    "  host=\"db\",\n",
    ")\n",
    "dbc = db.cursor()\n",
    "\n",
    "dbc.execute(\"USE IMDb\")"
   ]
  },
  {
   "cell_type": "code",
   "execution_count": 29,
   "id": "c5933b76",
   "metadata": {},
   "outputs": [],
   "source": [
    "dbc.execute(\n",
    "    \"SELECT E.season_number, \\\n",
    "            E.episode_number, \\\n",
    "            R.average_rating \\\n",
    "     FROM Episode_belongs_to E \\\n",
    "     INNER JOIN Title_ratings R \\\n",
    "             ON R.title_id = E.episode_title_id \\\n",
    "     INNER JOIN Titles T \\\n",
    "             ON T.title_id = E.parent_tv_show_title_id \\\n",
    "     WHERE T.primary_title = 'Game of Thrones' \\\n",
    "     ORDER BY E.season_number, E.episode_number\"\n",
    ")\n",
    "\n",
    "res = pd.DataFrame(dbc.fetchall(), columns=[\"season\", \"episode\", \"rating\"])"
   ]
  },
  {
   "cell_type": "code",
   "execution_count": 75,
   "id": "5bd34306",
   "metadata": {
    "scrolled": false
   },
   "outputs": [
    {
     "data": {
      "image/png": "[encoded data removed]",
      "text/plain": [
       "<Figure size 640x480 with 1 Axes>"
      ]
     },
     "metadata": {},
     "output_type": "display_data"
    }
   ],
   "source": [
    "season_bars = np.array([len(res[res[\"season\"] == s])\n",
    "                        for s in range(1, max(res[\"season\"]))]).cumsum()\n",
    "\n",
    "plt.plot(range(1, len(res) + 1), res[\"rating\"])\n",
    "plt.xlabel(\"Episode\")\n",
    "plt.ylabel(\"Average rating\")\n",
    "plt.vlines(season_bars, ymin=0, ymax=10, color=\"orange\", ls=\"--\")\n",
    "plt.show()"
   ]
  },
  {
   "cell_type": "markdown",
   "id": "b9b7a15b",
   "metadata": {},
   "source": [
    "#### 3 - Plot the total numer of movies per year, divided by genre (Action, Comedy, Drama, Thriller, Fantasy), and the yearly rating average per genre"
   ]
  },
  {
   "cell_type": "code",
   "execution_count": 12,
   "id": "30543d10",
   "metadata": {},
   "outputs": [
    {
     "name": "stdout",
     "output_type": "stream",
     "text": [
      " * mysql+mysqlconnector://root:***@db\n",
      "5 rows affected.\n"
     ]
    },
    {
     "data": {
      "text/html": [
       "<table>\n",
       "    <tr>\n",
       "        <th>Field</th>\n",
       "        <th>Type</th>\n",
       "        <th>Null</th>\n",
       "        <th>Key</th>\n",
       "        <th>Default</th>\n",
       "        <th>Extra</th>\n",
       "    </tr>\n",
       "    <tr>\n",
       "        <td>title_id</td>\n",
       "        <td>b&#x27;varchar(255)&#x27;</td>\n",
       "        <td>NO</td>\n",
       "        <td></td>\n",
       "        <td>None</td>\n",
       "        <td></td>\n",
       "    </tr>\n",
       "    <tr>\n",
       "        <td>title_type</td>\n",
       "        <td>b&#x27;varchar(50)&#x27;</td>\n",
       "        <td>YES</td>\n",
       "        <td></td>\n",
       "        <td>None</td>\n",
       "        <td></td>\n",
       "    </tr>\n",
       "    <tr>\n",
       "        <td>primary_title</td>\n",
       "        <td>b&#x27;text&#x27;</td>\n",
       "        <td>YES</td>\n",
       "        <td></td>\n",
       "        <td>None</td>\n",
       "        <td></td>\n",
       "    </tr>\n",
       "    <tr>\n",
       "        <td>start_year</td>\n",
       "        <td>b&#x27;int&#x27;</td>\n",
       "        <td>YES</td>\n",
       "        <td></td>\n",
       "        <td>None</td>\n",
       "        <td></td>\n",
       "    </tr>\n",
       "    <tr>\n",
       "        <td>runtime_minutes</td>\n",
       "        <td>b&#x27;int&#x27;</td>\n",
       "        <td>YES</td>\n",
       "        <td></td>\n",
       "        <td>None</td>\n",
       "        <td></td>\n",
       "    </tr>\n",
       "</table>"
      ],
      "text/plain": [
       "[('title_id', b'varchar(255)', 'NO', '', None, ''),\n",
       " ('title_type', b'varchar(50)', 'YES', '', None, ''),\n",
       " ('primary_title', b'text', 'YES', '', None, ''),\n",
       " ('start_year', b'int', 'YES', '', None, ''),\n",
       " ('runtime_minutes', b'int', 'YES', '', None, '')]"
      ]
     },
     "execution_count": 12,
     "metadata": {},
     "output_type": "execute_result"
    }
   ],
   "source": [
    "%sql DESCRIBE Titles;"
   ]
  },
  {
   "cell_type": "code",
   "execution_count": 13,
   "id": "bd8a9755",
   "metadata": {},
   "outputs": [
    {
     "name": "stdout",
     "output_type": "stream",
     "text": [
      " * mysql+mysqlconnector://root:***@db\n",
      "2 rows affected.\n"
     ]
    },
    {
     "data": {
      "text/html": [
       "<table>\n",
       "    <tr>\n",
       "        <th>Field</th>\n",
       "        <th>Type</th>\n",
       "        <th>Null</th>\n",
       "        <th>Key</th>\n",
       "        <th>Default</th>\n",
       "        <th>Extra</th>\n",
       "    </tr>\n",
       "    <tr>\n",
       "        <td>title_id</td>\n",
       "        <td>b&#x27;varchar(255)&#x27;</td>\n",
       "        <td>NO</td>\n",
       "        <td></td>\n",
       "        <td>None</td>\n",
       "        <td></td>\n",
       "    </tr>\n",
       "    <tr>\n",
       "        <td>genre</td>\n",
       "        <td>b&#x27;varchar(255)&#x27;</td>\n",
       "        <td>NO</td>\n",
       "        <td></td>\n",
       "        <td>None</td>\n",
       "        <td></td>\n",
       "    </tr>\n",
       "</table>"
      ],
      "text/plain": [
       "[('title_id', b'varchar(255)', 'NO', '', None, ''),\n",
       " ('genre', b'varchar(255)', 'NO', '', None, '')]"
      ]
     },
     "execution_count": 13,
     "metadata": {},
     "output_type": "execute_result"
    }
   ],
   "source": [
    "%sql DESCRIBE Title_genres;"
   ]
  },
  {
   "cell_type": "code",
   "execution_count": 93,
   "id": "b1e8574c",
   "metadata": {},
   "outputs": [],
   "source": [
    "dbc.execute(\"USE IMDb\")\n",
    "\n",
    "dbc.execute(\n",
    "    \"SELECT T.start_year AS year, \\\n",
    "            G.genre, \\\n",
    "            COUNT(*) AS num_titles, \\\n",
    "            AVG(R.average_rating) AS avg_rating, \\\n",
    "            STD(R.average_rating) AS std_rating \\\n",
    "     FROM Titles T \\\n",
    "     INNER JOIN Title_genres G \\\n",
    "             ON G.title_id = T.title_id \\\n",
    "     INNER JOIN Title_ratings R \\\n",
    "             ON R.title_id = T.title_id \\\n",
    "     WHERE (G.genre IN ('Action', 'Comedy', 'Drama', 'Thriller', 'Fantasy')) \\\n",
    "       AND (T.title_type = 'movie') \\\n",
    "       AND (T.start_year IS NOT NULL) \\\n",
    "     GROUP BY T.start_year, G.genre \\\n",
    "     ORDER BY T.start_year, G.genre\"\n",
    ")\n",
    "\n",
    "res = pd.DataFrame(dbc.fetchall(), columns=[\"year\", \"genre\", \"num_titles\", \"avg_rating\", \"std_rating\"])"
   ]
  },
  {
   "cell_type": "code",
   "execution_count": 82,
   "id": "c80afd05",
   "metadata": {},
   "outputs": [],
   "source": [
    "years = res[\"year\"][::5]\n",
    "action = res[res[\"genre\"] == \"Action\"]\n",
    "comedy = res[res[\"genre\"] == \"Comedy\"]\n",
    "drama = res[res[\"genre\"] == \"Drama\"]\n",
    "fantasy = res[res[\"genre\"] == \"Fantasy\"]\n",
    "thriller = res[res[\"genre\"] == \"Thriller\"]"
   ]
  },
  {
   "cell_type": "code",
   "execution_count": 86,
   "id": "b251239b",
   "metadata": {},
   "outputs": [
    {
     "data": {
      "image/png": "[encoded data removed]",
      "text/plain": [
       "<Figure size 640x480 with 1 Axes>"
      ]
     },
     "metadata": {},
     "output_type": "display_data"
    }
   ],
   "source": [
    "plt.stackplot(years, action[\"num_titles\"], comedy[\"num_titles\"],\n",
    "              drama[\"num_titles\"], fantasy[\"num_titles\"], thriller[\"num_titles\"],\n",
    "              baseline=\"zero\",\n",
    "              labels=[\"Action\", \"Comedy\", \"Drama\", \"Fantasy\", \"Thriller\"])\n",
    "plt.legend(loc=\"upper left\")\n",
    "plt.xlabel(\"Year\")\n",
    "plt.ylabel(\"Number of titles\")\n",
    "plt.margins(x=0)\n",
    "plt.show()"
   ]
  },
  {
   "cell_type": "code",
   "execution_count": 91,
   "id": "02debec3",
   "metadata": {},
   "outputs": [
    {
     "data": {
      "image/png": "[encoded data removed]",
      "text/plain": [
       "<Figure size 640x480 with 1 Axes>"
      ]
     },
     "metadata": {},
     "output_type": "display_data"
    }
   ],
   "source": [
    "plt.plot(years, action[\"avg_rating\"], label=\"Action\")\n",
    "plt.plot(years, comedy[\"avg_rating\"], label=\"Comedy\")\n",
    "plt.plot(years, drama[\"avg_rating\"], label=\"Drama\")\n",
    "plt.plot(years, fantasy[\"avg_rating\"], label=\"Fantasy\")\n",
    "plt.plot(years, thriller[\"avg_rating\"], label=\"Thriller\")\n",
    "\n",
    "plt.xlabel(\"Year\")\n",
    "plt.ylabel(\"Average rating\")\n",
    "plt.margins(x=0)\n",
    "plt.legend()\n",
    "plt.grid(True, alpha=0.5)\n",
    "plt.show()"
   ]
  }
 ],
 "metadata": {
  "kernelspec": {
   "display_name": "Python 3 (ipykernel)",
   "language": "python",
   "name": "python3"
  },
  "language_info": {
   "codemirror_mode": {
    "name": "ipython",
    "version": 3
   },
   "file_extension": ".py",
   "mimetype": "text/x-python",
   "name": "python",
   "nbconvert_exporter": "python",
   "pygments_lexer": "ipython3",
   "version": "3.9.12"
  }
 },
 "nbformat": 4,
 "nbformat_minor": 5
}
