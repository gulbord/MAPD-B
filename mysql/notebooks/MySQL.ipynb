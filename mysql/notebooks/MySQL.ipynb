{
 "cells": [
  {
   "cell_type": "markdown",
   "id": "938f871d",
   "metadata": {},
   "source": [
    "# RDBMS - MySQL \n",
    "\n",
    "## 00 - Introduction\n",
    "\n",
    "Among the Relational DBMSs, the most widely known are Oracle, SQLite, Postgress, MariaDB, MySQL.\n",
    "\n",
    "Each one of them is characterized by a different set of \"variations\" on top of the base SQL language, although usually minor.\n",
    "\n",
    "We will use **MySQL** to run exercises about Relational DB transactions using the SQL language, as it is *today* at the top of the list of most widely used RDBs. \n",
    "\n",
    "https://db-engines.com/en/ranking_trend/relational+dbms\n",
    "\n",
    "https://www.statista.com/statistics/809750/worldwide-popularity-ranking-database-management-systems/\n",
    "\n",
    "https://insights.stackoverflow.com/survey/2021#most-popular-technologies-database"
   ]
  },
  {
   "cell_type": "markdown",
   "id": "3ce38833",
   "metadata": {},
   "source": [
    "MySQL programming interfaces exist for many languages, including C, C++, Go, Java, Perl, PHP, Python, etc...\n",
    "\n",
    "Even simply referring to Python, we can count on several options to connect and interact with the DBs. \n",
    "\n",
    "Let's explore a couple of them..."
   ]
  },
  {
   "cell_type": "markdown",
   "id": "4e97fb3a",
   "metadata": {},
   "source": [
    "## 01 - Create a connection to MySQL \n",
    "\n",
    "A MySQL server is in execution on one of your Docker containers.\n",
    "\n",
    "We can access it via the MySQL server credential we have defined in the docker-compose yml.\n",
    "\n",
    "A `root` user is created by default with:\n",
    "- user: `root`\n",
    "- password: `root_pwd`\n",
    "\n",
    "A non-`root` user is also created by default with:\n",
    "- user: `my_user`\n",
    "- password: `my_pwd`"
   ]
  },
  {
   "cell_type": "markdown",
   "id": "d66684cf",
   "metadata": {},
   "source": [
    "#### Interactive \n",
    "\n",
    "We can interact with the MySQL server by logging in interactively to its docker container.\n",
    "\n",
    "Check the `CONTAINER ID` of the container named `mysql_db` via:\n",
    "    \n",
    "```bash \n",
    "$ docker ps \n",
    "```\n",
    "\n",
    "And run `bash` (or `/bin/bash`) in interactive mode attaching it to the terminal (`-it`) on the container:\n",
    "\n",
    "```bash\n",
    "$ docker exec -it <YOUR CONTAINER ID> bash\n",
    "```\n",
    "\n",
    "From inside the container we can use the RDBMS interface as if we were logged into a remote MySQL server hosting our DBs\n",
    "\n",
    "```bash\n",
    "$ mysql -u <EITHER ROOT OR USER> -p\n",
    "``` "
   ]
  },
  {
   "cell_type": "markdown",
   "id": "1f0cb7ff",
   "metadata": {},
   "source": [
    "We can then inspect the MySQL server to show us all DBs:\n",
    "    \n",
    "```mysql\n",
    "SHOW DATABASES;\n",
    "```\n",
    "\n",
    "_NB_: remember to end a SQL command with a semicolon `;`"
   ]
  },
  {
   "cell_type": "markdown",
   "id": "55d9f2b8",
   "metadata": {},
   "source": [
    "#### mysql.connector"
   ]
  },
  {
   "cell_type": "markdown",
   "id": "bcb48d85",
   "metadata": {},
   "source": [
    "A more pythonic way of communicating with a MySQL server is by using a dedicated driver.\n",
    "\n",
    "We will use `mysql.connector`, which has already been installed in the Jupyter-notebook container for you.\n",
    "\n",
    "The connector offers an interface to declare a connection object to the server, and provides a series of functionalities to issue transactions and fetch records from DBs.\n",
    "\n",
    "We start by declaring a connection to our MySQL server.\n",
    "\n",
    "_NB_: the server is hosted in a different container from the notebook... we are simulating a connection between two differen machines, a client and a server."
   ]
  },
  {
   "cell_type": "code",
   "execution_count": 2,
   "id": "5591a13f",
   "metadata": {},
   "outputs": [
    {
     "name": "stdout",
     "output_type": "stream",
     "text": [
      "<mysql.connector.connection_cext.CMySQLConnection object at 0x7f6788698430>\n"
     ]
    }
   ],
   "source": [
    "# import the connector\n",
    "import mysql.connector\n",
    "\n",
    "# declare a connection to the MySQL server \n",
    "# the hostname (or IP) of the server machine should be passed\n",
    "db = mysql.connector.connect(\n",
    "  user = \"root\",\n",
    "  password = \"root_pwd\",\n",
    "  host = \"db\", # in this case 'db' is the equivalent of the IP address of the server \n",
    "               # or 'localhost' if running mysql locally\n",
    ")\n",
    "\n",
    "print(db)"
   ]
  },
  {
   "cell_type": "markdown",
   "id": "93eb72df",
   "metadata": {},
   "source": [
    "At this point a DB connection is enstablished\n",
    "\n",
    "To interact with the DB via python and mysql.connector we need a \"handle\", known as a cursor, which has to be instantiated.\n",
    "\n",
    "Using this connector to interact with the DB, all SQL statements are executed using the cursor."
   ]
  },
  {
   "cell_type": "code",
   "execution_count": 3,
   "id": "052b7a2c",
   "metadata": {},
   "outputs": [],
   "source": [
    "# create our db cursor object\n",
    "dbc = db.cursor()"
   ]
  },
  {
   "cell_type": "markdown",
   "id": "42686539",
   "metadata": {},
   "source": [
    "The cursor allows to execute all SQL transactions on the DB as if we were logged into the server.\n",
    "\n",
    "If a transaction will fetch a result from the DB (a set of records are returned), the connector object will retain the results.\n",
    "\n",
    "This might come in handy for us to use it in a more \"pythonic\" way later on, interfacing our DB query with other Python statements.\n",
    "\n",
    "The syntax for issuing a generic SQL statement is the following:\n",
    "\n",
    "```python\n",
    "connector_object.execute(my_sql_query)\n",
    "```\n",
    "\n",
    "For instance, let's try to execute the same check as before, by asking MySQL to show us all available DBs..."
   ]
  },
  {
   "cell_type": "code",
   "execution_count": 4,
   "id": "2bdcf2ff",
   "metadata": {},
   "outputs": [],
   "source": [
    "# show all available databases\n",
    "dbc.execute(\n",
    "\"SHOW DATABASES\"\n",
    ")"
   ]
  },
  {
   "cell_type": "markdown",
   "id": "e1325e30",
   "metadata": {},
   "source": [
    "No output is printed as the result of this SQL transaction is in fact \"collected\" into the cursor as a list of records (tuples).\n",
    "\n",
    "We can simply loop over them to return the results."
   ]
  },
  {
   "cell_type": "code",
   "execution_count": 5,
   "id": "663dd988",
   "metadata": {},
   "outputs": [
    {
     "name": "stdout",
     "output_type": "stream",
     "text": [
      "('information_schema',)\n",
      "('my_db',)\n",
      "('mysql',)\n",
      "('performance_schema',)\n",
      "('sys',)\n"
     ]
    }
   ],
   "source": [
    "# loop over the container to fetch the results\n",
    "for _ in dbc:\n",
    "    print(_)"
   ]
  },
  {
   "cell_type": "markdown",
   "id": "b11de704",
   "metadata": {},
   "source": [
    "If we are `root` users in this example, we are able to see inner structure of the mysql server, which already contains a few dbs by default. \n",
    "\n",
    "Once fetched the output of the transaction, the cursor reaches \"the end\" of the records, and is available to perform a new transaction"
   ]
  },
  {
   "cell_type": "code",
   "execution_count": 6,
   "id": "fe7dbbb5",
   "metadata": {},
   "outputs": [],
   "source": [
    "# use fetch to retrieve one, many, or all entries in the cursor\n",
    "dbc.fetchone()\n",
    "\n",
    "# dbc.fetchmany(2)\n",
    "\n",
    "# dbc.fetchall()"
   ]
  },
  {
   "cell_type": "markdown",
   "id": "91be5564",
   "metadata": {},
   "source": [
    "In the case one wants to perform a new transaction without collecting the output of the previos one from the cursor, a reset have to be issued first:\n",
    "\n",
    "```python \n",
    "connector_object.reset()\n",
    "```\n"
   ]
  },
  {
   "cell_type": "markdown",
   "id": "ea86a443",
   "metadata": {},
   "source": [
    "In the case a generic user is instead logged into the db (i.e. non the `root` user), it will not have access to a set of functionalities, and will not be able to see the previous list of all databases.\n",
    "\n",
    "Some of those are in fact protected and used to store additional information on the state of the MySQL server, the users connected, ..."
   ]
  },
  {
   "cell_type": "code",
   "execution_count": 7,
   "id": "1f71b747",
   "metadata": {},
   "outputs": [
    {
     "data": {
      "text/plain": [
       "[('information_schema',), ('performance_schema',)]"
      ]
     },
     "execution_count": 7,
     "metadata": {},
     "output_type": "execute_result"
    }
   ],
   "source": [
    "udb = mysql.connector.connect(\n",
    "  user=\"my_user\",\n",
    "  password=\"my_pwd\",\n",
    "  host=\"db\",\n",
    ")\n",
    "\n",
    "udbc = udb.cursor()\n",
    "\n",
    "udbc.execute(\n",
    "\"SHOW DATABASES\"\n",
    ")\n",
    "\n",
    "udbc.fetchall()"
   ]
  },
  {
   "cell_type": "markdown",
   "id": "b10b13ac",
   "metadata": {},
   "source": [
    "#### iPython magic\n",
    "\n",
    "An alternative way to perform queries from Python over a Jupyter-notebook is by using some notebook \"magic\", based on iPython and SQLAlchemy.\n",
    "\n",
    "This is a similar thing to what is usually done to load inline a figure from matplotlib (the `%matplotlib inline` thingy).\n",
    "\n",
    "To instruct iPython to interpret SQL commands, and to connect to the proper DB we have to: \n",
    "1. load the extension for SQL language\n",
    "2. set the environment variable to point to the connection to the DB"
   ]
  },
  {
   "cell_type": "code",
   "execution_count": 1,
   "id": "ba19dac1",
   "metadata": {},
   "outputs": [
    {
     "name": "stdout",
     "output_type": "stream",
     "text": [
      "env: DATABASE_URL=mysql+mysqlconnector://root:root_pwd@db\n"
     ]
    }
   ],
   "source": [
    "%load_ext sql\n",
    "\n",
    "%env DATABASE_URL=mysql+mysqlconnector://root:root_pwd@db"
   ]
  },
  {
   "cell_type": "markdown",
   "id": "f0ccff35",
   "metadata": {},
   "source": [
    "Now, the notebooks cells can perform SQL transactions directly in plain SQL, by starting the cell with `%%sql`.\n",
    "\n",
    "By default, the result is also printed with the `pretty` pandas-like format."
   ]
  },
  {
   "cell_type": "code",
   "execution_count": 9,
   "id": "1e9995eb",
   "metadata": {},
   "outputs": [
    {
     "name": "stdout",
     "output_type": "stream",
     "text": [
      "5 rows affected.\n"
     ]
    },
    {
     "data": {
      "text/html": [
       "<table>\n",
       "    <tr>\n",
       "        <th>Database</th>\n",
       "    </tr>\n",
       "    <tr>\n",
       "        <td>information_schema</td>\n",
       "    </tr>\n",
       "    <tr>\n",
       "        <td>my_db</td>\n",
       "    </tr>\n",
       "    <tr>\n",
       "        <td>mysql</td>\n",
       "    </tr>\n",
       "    <tr>\n",
       "        <td>performance_schema</td>\n",
       "    </tr>\n",
       "    <tr>\n",
       "        <td>sys</td>\n",
       "    </tr>\n",
       "</table>"
      ],
      "text/plain": [
       "[('information_schema',),\n",
       " ('my_db',),\n",
       " ('mysql',),\n",
       " ('performance_schema',),\n",
       " ('sys',)]"
      ]
     },
     "execution_count": 9,
     "metadata": {},
     "output_type": "execute_result"
    }
   ],
   "source": [
    "%%sql\n",
    "\n",
    "SHOW DATABASES;"
   ]
  },
  {
   "cell_type": "markdown",
   "id": "b6c9f988",
   "metadata": {},
   "source": [
    "An additional benefit is that a single `%sql` (not a double `%%sql`) can be used to join a SQL query with any Python command"
   ]
  },
  {
   "cell_type": "code",
   "execution_count": null,
   "id": "2e3eb6c6",
   "metadata": {},
   "outputs": [],
   "source": [
    "my_python_var = %sql SHOW DATABASES\n",
    "\n",
    "print(my_python_var)"
   ]
  },
  {
   "cell_type": "markdown",
   "id": "d3885276",
   "metadata": {},
   "source": [
    "The combination of either of the two pythonic methods can be used to easily redirect the output of DB transactions to exploit all other well-known python modules, e.g. plotting with matplotlib"
   ]
  },
  {
   "cell_type": "code",
   "execution_count": null,
   "id": "ec00522f",
   "metadata": {},
   "outputs": [],
   "source": [
    "import matplotlib.pyplot as plt\n",
    "%matplotlib inline\n",
    "\n",
    "plt.hist(my_python_var);\n",
    "plt.xticks(rotation='vertical');"
   ]
  },
  {
   "cell_type": "markdown",
   "id": "651dcb6b",
   "metadata": {},
   "source": [
    "## 02 Database and Table creation"
   ]
  },
  {
   "cell_type": "markdown",
   "id": "045ce129",
   "metadata": {},
   "source": [
    "We have already seen how we inspect the server to see which DBs are present via the command:\n",
    "\n",
    "```mysql\n",
    "SHOW DATABASES;\n",
    "```\n",
    "\n",
    "We can start interacting with a specific DB by selecting which one to use via \n",
    "\n",
    "```mysql\n",
    "USE <DB_NAME>;\n",
    "```\n",
    "\n",
    "If instead we want to create a new DB to work with, we can use the command\n",
    "\n",
    "```mysql\n",
    "CREATE DATABASE <DB_NAME>;\n",
    "```\n",
    "\n",
    "A more complex sintax can be used to create a new DB if and only if no other DB with the same name already exists.\n",
    "\n",
    "```mysql\n",
    "CREATE DATABASE IF NOT EXISTS <DB_NAME>;\n",
    "```\n",
    "\n",
    "If the user has been granted the right to access this DB, it's possible to start investigating the content of the DB in use."
   ]
  },
  {
   "cell_type": "markdown",
   "id": "8c848513",
   "metadata": {},
   "source": [
    "Check if a DB named `my_db` exist, and if not, create one. \n",
    "Then, switch to the new DB to start using it."
   ]
  },
  {
   "cell_type": "code",
   "execution_count": null,
   "id": "8edbe225",
   "metadata": {},
   "outputs": [],
   "source": [
    "%%sql\n",
    "\n",
    "CREATE DATABASE IF NOT EXISTS my_db;"
   ]
  },
  {
   "cell_type": "code",
   "execution_count": null,
   "id": "40509cdf",
   "metadata": {},
   "outputs": [],
   "source": [
    "%%sql\n",
    "\n",
    "SHOW DATABASES;"
   ]
  },
  {
   "cell_type": "code",
   "execution_count": null,
   "id": "a88a58af",
   "metadata": {},
   "outputs": [],
   "source": [
    "%%sql\n",
    "\n",
    "USE my_db;"
   ]
  },
  {
   "cell_type": "markdown",
   "id": "01bd56f7",
   "metadata": {},
   "source": [
    "All tables contained in the DB are shown in a similar way to what used to show all DBs on the server:\n",
    "\n",
    "```mysql\n",
    "SHOW TABLES;\n",
    "```\n",
    "\n",
    "_NB_: we are inspecting the content of a specific DB (the one selected with `USE <DB_NAME>`)"
   ]
  },
  {
   "cell_type": "code",
   "execution_count": null,
   "id": "bae6e5c7",
   "metadata": {},
   "outputs": [],
   "source": [
    "%%sql \n",
    "\n",
    "SHOW TABLES;"
   ]
  },
  {
   "cell_type": "markdown",
   "id": "c27b3ca7",
   "metadata": {},
   "source": [
    "The analogous pythonic way to execute the same list of commands (using the mysql.connector driver) is the following.\n",
    "\n",
    "_NB_: This time, as we are not retrieving results from the server but we are instead creating a DB, we have to specify that we want to _commit_ a change to the server; "
   ]
  },
  {
   "cell_type": "code",
   "execution_count": 34,
   "id": "98b95e6e",
   "metadata": {},
   "outputs": [],
   "source": [
    "# defining the sql command line\n",
    "sql_ = \"CREATE DATABASE IF NOT EXISTS my_db;\"\n",
    "\n",
    "# instructing the cursor to execute it\n",
    "dbc.execute(sql_)\n",
    "\n",
    "# in this case the result of the sql transaction is not to return a list of items \n",
    "# it is instead a change in the DB structure\n",
    "# therefore, for the change to have effect, a the change is to be committed to the DB\n",
    "db.commit() "
   ]
  },
  {
   "cell_type": "markdown",
   "id": "5ece7e17",
   "metadata": {},
   "source": [
    "All other commands, `USE` and `SHOW`, do not require any change to be committed, therefore we can simply issue them via the cursor."
   ]
  },
  {
   "cell_type": "code",
   "execution_count": 35,
   "id": "0d96157a",
   "metadata": {},
   "outputs": [
    {
     "data": {
      "text/plain": [
       "[('products',), ('supplier_to_product',), ('suppliers',)]"
      ]
     },
     "execution_count": 35,
     "metadata": {},
     "output_type": "execute_result"
    }
   ],
   "source": [
    "dbc.execute(\"USE my_db\")\n",
    "\n",
    "dbc.execute(\"SHOW TABLES\")\n",
    "dbc.fetchall()"
   ]
  },
  {
   "cell_type": "markdown",
   "id": "17f8781c",
   "metadata": {},
   "source": [
    "So far the DB is empty, so let's use the same lines presented in the slides to create a dummy `Users` table.\n",
    "\n",
    "Any table can then be inspected to check its schema by listing all attributes.\n",
    "\n",
    "1. Create the `Users` table declaring the schema by defining each attributes\n",
    "2. Check if the table has been created on the DB via a `SHOW` command\n",
    "3. Check the Table schema by issuing `DESCRIBE <TABLE_NAME>`"
   ]
  },
  {
   "cell_type": "code",
   "execution_count": null,
   "id": "db09b101",
   "metadata": {},
   "outputs": [],
   "source": [
    "%%sql\n",
    "\n",
    "CREATE TABLE Users (\n",
    "    UserID varchar(30),\n",
    "    BadgeNum int(16),\n",
    "    FirstName varchar(255),\n",
    "    LastName varchar(255),\n",
    "    Age int,\n",
    "    OtherAttr float\n",
    ");"
   ]
  },
  {
   "cell_type": "code",
   "execution_count": null,
   "id": "d9c98a2c",
   "metadata": {
    "scrolled": true
   },
   "outputs": [],
   "source": [
    "%%sql \n",
    "\n",
    "SHOW TABLES;"
   ]
  },
  {
   "cell_type": "code",
   "execution_count": null,
   "id": "89052ab1",
   "metadata": {},
   "outputs": [],
   "source": [
    "%%sql\n",
    "\n",
    "DESCRIBE Users;"
   ]
  },
  {
   "cell_type": "markdown",
   "id": "959376c7",
   "metadata": {},
   "source": [
    "Following on the lines of the previous examples, perform the same transactions with the `mysql.connector` driver.\n",
    "\n",
    "This time, as the `Users` table already exists, we can create a `Users_py` table.\n",
    "\n",
    "Remember:\n",
    "- Use the DB Cursor to execute the transactions\n",
    "- Transaction that change the content of the DB have to be _committed_ to the DB\n",
    "- Transactions returing the content of the DB host their results _in the cursor_"
   ]
  },
  {
   "cell_type": "code",
   "execution_count": null,
   "id": "a9d01087",
   "metadata": {},
   "outputs": [],
   "source": [
    "dbc.reset()"
   ]
  },
  {
   "cell_type": "code",
   "execution_count": null,
   "id": "2159b935",
   "metadata": {},
   "outputs": [],
   "source": [
    "# create table\n",
    "sql_ = \"CREATE TABLE Users_py (\\\n",
    "    UserID varchar(30),\\\n",
    "    BadgeNum int(16),\\\n",
    "    FirstName varchar(255),\\\n",
    "    LastName varchar(255),\\\n",
    "    Age int,\\\n",
    "    OtherAttr float\\\n",
    ");\"\n",
    "\n",
    "dbc.execute(sql_)\n",
    "\n",
    "db.commit()"
   ]
  },
  {
   "cell_type": "code",
   "execution_count": null,
   "id": "4cb9e6ef",
   "metadata": {},
   "outputs": [],
   "source": [
    "dbc.execute(\"SHOW TABLES\")"
   ]
  },
  {
   "cell_type": "code",
   "execution_count": null,
   "id": "18992578",
   "metadata": {},
   "outputs": [],
   "source": [
    "dbc.fetchall()"
   ]
  },
  {
   "cell_type": "code",
   "execution_count": 36,
   "id": "21233ea2",
   "metadata": {},
   "outputs": [
    {
     "ename": "ProgrammingError",
     "evalue": "1146 (42S02): Table 'my_db.Users_py' doesn't exist",
     "output_type": "error",
     "traceback": [
      "\u001b[0;31m---------------------------------------------------------------------------\u001b[0m",
      "\u001b[0;31mMySQLInterfaceError\u001b[0m                       Traceback (most recent call last)",
      "File \u001b[0;32m/opt/conda/lib/python3.9/site-packages/mysql/connector/connection_cext.py:608\u001b[0m, in \u001b[0;36mCMySQLConnection.cmd_query\u001b[0;34m(self, query, raw, buffered, raw_as_string)\u001b[0m\n\u001b[1;32m    607\u001b[0m         query \u001b[38;5;241m=\u001b[39m query\u001b[38;5;241m.\u001b[39mencode(\u001b[38;5;124m\"\u001b[39m\u001b[38;5;124mutf-8\u001b[39m\u001b[38;5;124m\"\u001b[39m)\n\u001b[0;32m--> 608\u001b[0m     \u001b[38;5;28;43mself\u001b[39;49m\u001b[38;5;241;43m.\u001b[39;49m\u001b[43m_cmysql\u001b[49m\u001b[38;5;241;43m.\u001b[39;49m\u001b[43mquery\u001b[49m\u001b[43m(\u001b[49m\n\u001b[1;32m    609\u001b[0m \u001b[43m        \u001b[49m\u001b[43mquery\u001b[49m\u001b[43m,\u001b[49m\n\u001b[1;32m    610\u001b[0m \u001b[43m        \u001b[49m\u001b[43mraw\u001b[49m\u001b[38;5;241;43m=\u001b[39;49m\u001b[43mraw\u001b[49m\u001b[43m,\u001b[49m\n\u001b[1;32m    611\u001b[0m \u001b[43m        \u001b[49m\u001b[43mbuffered\u001b[49m\u001b[38;5;241;43m=\u001b[39;49m\u001b[43mbuffered\u001b[49m\u001b[43m,\u001b[49m\n\u001b[1;32m    612\u001b[0m \u001b[43m        \u001b[49m\u001b[43mraw_as_string\u001b[49m\u001b[38;5;241;43m=\u001b[39;49m\u001b[43mraw_as_string\u001b[49m\u001b[43m,\u001b[49m\n\u001b[1;32m    613\u001b[0m \u001b[43m        \u001b[49m\u001b[43mquery_attrs\u001b[49m\u001b[38;5;241;43m=\u001b[39;49m\u001b[38;5;28;43mself\u001b[39;49m\u001b[38;5;241;43m.\u001b[39;49m\u001b[43m_query_attrs\u001b[49m\u001b[43m,\u001b[49m\n\u001b[1;32m    614\u001b[0m \u001b[43m    \u001b[49m\u001b[43m)\u001b[49m\n\u001b[1;32m    615\u001b[0m \u001b[38;5;28;01mexcept\u001b[39;00m MySQLInterfaceError \u001b[38;5;28;01mas\u001b[39;00m err:\n",
      "\u001b[0;31mMySQLInterfaceError\u001b[0m: Table 'my_db.Users_py' doesn't exist",
      "\nThe above exception was the direct cause of the following exception:\n",
      "\u001b[0;31mProgrammingError\u001b[0m                          Traceback (most recent call last)",
      "Cell \u001b[0;32mIn[36], line 2\u001b[0m\n\u001b[1;32m      1\u001b[0m \u001b[38;5;66;03m# describe table\u001b[39;00m\n\u001b[0;32m----> 2\u001b[0m \u001b[43mdbc\u001b[49m\u001b[38;5;241;43m.\u001b[39;49m\u001b[43mexecute\u001b[49m\u001b[43m(\u001b[49m\u001b[38;5;124;43m\"\u001b[39;49m\u001b[38;5;124;43mDESCRIBE Users_py\u001b[39;49m\u001b[38;5;124;43m\"\u001b[39;49m\u001b[43m)\u001b[49m\n",
      "File \u001b[0;32m/opt/conda/lib/python3.9/site-packages/mysql/connector/cursor_cext.py:330\u001b[0m, in \u001b[0;36mCMySQLCursor.execute\u001b[0;34m(self, operation, params, multi)\u001b[0m\n\u001b[1;32m    325\u001b[0m             \u001b[38;5;28;01mraise\u001b[39;00m ProgrammingError(\n\u001b[1;32m    326\u001b[0m                 \u001b[38;5;124m\"\u001b[39m\u001b[38;5;124mNot all parameters were used in the SQL statement\u001b[39m\u001b[38;5;124m\"\u001b[39m\n\u001b[1;32m    327\u001b[0m             )\n\u001b[1;32m    329\u001b[0m \u001b[38;5;28;01mtry\u001b[39;00m:\n\u001b[0;32m--> 330\u001b[0m     result \u001b[38;5;241m=\u001b[39m \u001b[38;5;28;43mself\u001b[39;49m\u001b[38;5;241;43m.\u001b[39;49m\u001b[43m_cnx\u001b[49m\u001b[38;5;241;43m.\u001b[39;49m\u001b[43mcmd_query\u001b[49m\u001b[43m(\u001b[49m\n\u001b[1;32m    331\u001b[0m \u001b[43m        \u001b[49m\u001b[43mstmt\u001b[49m\u001b[43m,\u001b[49m\n\u001b[1;32m    332\u001b[0m \u001b[43m        \u001b[49m\u001b[43mraw\u001b[49m\u001b[38;5;241;43m=\u001b[39;49m\u001b[38;5;28;43mself\u001b[39;49m\u001b[38;5;241;43m.\u001b[39;49m\u001b[43m_raw\u001b[49m\u001b[43m,\u001b[49m\n\u001b[1;32m    333\u001b[0m \u001b[43m        \u001b[49m\u001b[43mbuffered\u001b[49m\u001b[38;5;241;43m=\u001b[39;49m\u001b[38;5;28;43mself\u001b[39;49m\u001b[38;5;241;43m.\u001b[39;49m\u001b[43m_buffered\u001b[49m\u001b[43m,\u001b[49m\n\u001b[1;32m    334\u001b[0m \u001b[43m        \u001b[49m\u001b[43mraw_as_string\u001b[49m\u001b[38;5;241;43m=\u001b[39;49m\u001b[38;5;28;43mself\u001b[39;49m\u001b[38;5;241;43m.\u001b[39;49m\u001b[43m_raw_as_string\u001b[49m\u001b[43m,\u001b[49m\n\u001b[1;32m    335\u001b[0m \u001b[43m    \u001b[49m\u001b[43m)\u001b[49m\n\u001b[1;32m    336\u001b[0m \u001b[38;5;28;01mexcept\u001b[39;00m MySQLInterfaceError \u001b[38;5;28;01mas\u001b[39;00m err:\n\u001b[1;32m    337\u001b[0m     \u001b[38;5;28;01mraise\u001b[39;00m get_mysql_exception(\n\u001b[1;32m    338\u001b[0m         msg\u001b[38;5;241m=\u001b[39merr\u001b[38;5;241m.\u001b[39mmsg, errno\u001b[38;5;241m=\u001b[39merr\u001b[38;5;241m.\u001b[39merrno, sqlstate\u001b[38;5;241m=\u001b[39merr\u001b[38;5;241m.\u001b[39msqlstate\n\u001b[1;32m    339\u001b[0m     ) \u001b[38;5;28;01mfrom\u001b[39;00m \u001b[38;5;21;01merr\u001b[39;00m\n",
      "File \u001b[0;32m/opt/conda/lib/python3.9/site-packages/mysql/connector/connection_cext.py:616\u001b[0m, in \u001b[0;36mCMySQLConnection.cmd_query\u001b[0;34m(self, query, raw, buffered, raw_as_string)\u001b[0m\n\u001b[1;32m    608\u001b[0m     \u001b[38;5;28mself\u001b[39m\u001b[38;5;241m.\u001b[39m_cmysql\u001b[38;5;241m.\u001b[39mquery(\n\u001b[1;32m    609\u001b[0m         query,\n\u001b[1;32m    610\u001b[0m         raw\u001b[38;5;241m=\u001b[39mraw,\n\u001b[0;32m   (...)\u001b[0m\n\u001b[1;32m    613\u001b[0m         query_attrs\u001b[38;5;241m=\u001b[39m\u001b[38;5;28mself\u001b[39m\u001b[38;5;241m.\u001b[39m_query_attrs,\n\u001b[1;32m    614\u001b[0m     )\n\u001b[1;32m    615\u001b[0m \u001b[38;5;28;01mexcept\u001b[39;00m MySQLInterfaceError \u001b[38;5;28;01mas\u001b[39;00m err:\n\u001b[0;32m--> 616\u001b[0m     \u001b[38;5;28;01mraise\u001b[39;00m get_mysql_exception(\n\u001b[1;32m    617\u001b[0m         err\u001b[38;5;241m.\u001b[39merrno, msg\u001b[38;5;241m=\u001b[39merr\u001b[38;5;241m.\u001b[39mmsg, sqlstate\u001b[38;5;241m=\u001b[39merr\u001b[38;5;241m.\u001b[39msqlstate\n\u001b[1;32m    618\u001b[0m     ) \u001b[38;5;28;01mfrom\u001b[39;00m \u001b[38;5;21;01merr\u001b[39;00m\n\u001b[1;32m    619\u001b[0m \u001b[38;5;28;01mexcept\u001b[39;00m \u001b[38;5;167;01mAttributeError\u001b[39;00m \u001b[38;5;28;01mas\u001b[39;00m err:\n\u001b[1;32m    620\u001b[0m     addr \u001b[38;5;241m=\u001b[39m (\n\u001b[1;32m    621\u001b[0m         \u001b[38;5;28mself\u001b[39m\u001b[38;5;241m.\u001b[39m_unix_socket \u001b[38;5;28;01mif\u001b[39;00m \u001b[38;5;28mself\u001b[39m\u001b[38;5;241m.\u001b[39m_unix_socket \u001b[38;5;28;01melse\u001b[39;00m \u001b[38;5;124mf\u001b[39m\u001b[38;5;124m\"\u001b[39m\u001b[38;5;132;01m{\u001b[39;00m\u001b[38;5;28mself\u001b[39m\u001b[38;5;241m.\u001b[39m_host\u001b[38;5;132;01m}\u001b[39;00m\u001b[38;5;124m:\u001b[39m\u001b[38;5;132;01m{\u001b[39;00m\u001b[38;5;28mself\u001b[39m\u001b[38;5;241m.\u001b[39m_port\u001b[38;5;132;01m}\u001b[39;00m\u001b[38;5;124m\"\u001b[39m\n\u001b[1;32m    622\u001b[0m     )\n",
      "\u001b[0;31mProgrammingError\u001b[0m: 1146 (42S02): Table 'my_db.Users_py' doesn't exist"
     ]
    }
   ],
   "source": [
    "# describe table\n",
    "dbc.execute(\"DESCRIBE Users_py\")"
   ]
  },
  {
   "cell_type": "code",
   "execution_count": null,
   "id": "aa0dde33",
   "metadata": {},
   "outputs": [],
   "source": [
    "dbc.fetchall()"
   ]
  },
  {
   "cell_type": "markdown",
   "id": "362814c1",
   "metadata": {},
   "source": [
    "## 03 Declaring contstraints and altering tables"
   ]
  },
  {
   "cell_type": "markdown",
   "id": "c0443720",
   "metadata": {},
   "source": [
    "Let's clean up all existing tables in our database.\n",
    "\n",
    "To remove an existing table from a DB we can issue the instruction:\n",
    "    \n",
    "```mysql\n",
    "DROP TABLE IF EXISTS <NAME OF YOUR TABLE>;\n",
    "```\n",
    "\n",
    "Be ***extremely careful*** when doing this... Dropping a Table means losing all records from that table, and severing all connections with other tables based on foreign keys. The entire DB might become unusable!\n"
   ]
  },
  {
   "cell_type": "code",
   "execution_count": null,
   "id": "04c9db37",
   "metadata": {},
   "outputs": [],
   "source": [
    "%%sql \n",
    "\n",
    "DROP TABLE IF EXISTS Users;"
   ]
  },
  {
   "cell_type": "markdown",
   "id": "710dad35",
   "metadata": {},
   "source": [
    "Let's also drop the `Users_py` table using the Python connetor"
   ]
  },
  {
   "cell_type": "code",
   "execution_count": null,
   "id": "9e69859f",
   "metadata": {
    "scrolled": true
   },
   "outputs": [],
   "source": [
    "dbc.execute(\"DROP TABLE IF EXISTS Users_py\")\n",
    "db.commit()"
   ]
  },
  {
   "cell_type": "markdown",
   "id": "6e686164",
   "metadata": {},
   "source": [
    "Create a new `products` table with the following schema:\n",
    "\n",
    "| Attribute | Type | Extra info | Constraint | \n",
    "| --- | --- | --- |--- |\n",
    "| productID   | Integer | | NOT NULL AUTO_INCREMENT |\n",
    "| productName | String | Max length 30 | DEFAULT \"\" |\n",
    "| unitPrice   | Float | | NOT NULL DEFAULT 99999.99|\n",
    "| unitsInStock | Integer | Unsigned | NOT NULL DEFAULT 0 |\n",
    "\n",
    "`productID` will also be our `PRIMARY KEY`\n",
    "\n",
    "This can be declared either inline or at the end of the table definition:\n",
    "\n",
    "```mysql\n",
    "productID INT NOT NULL UNIQUE AUTO_INCREMENT PRIMARY KEY\n",
    "```\n",
    "\n",
    "or \n",
    "\n",
    "```mysql\n",
    "productID INT NOT NULL UNIQUE AUTO_INCREMENT\n",
    "...\n",
    "PRIMARY KEY (productID)\n",
    "```"
   ]
  },
  {
   "cell_type": "code",
   "execution_count": null,
   "id": "76607839",
   "metadata": {},
   "outputs": [],
   "source": [
    "%%sql\n",
    "\n",
    "CREATE TABLE IF NOT EXISTS products (\n",
    "         productID    INT          NOT NULL UNIQUE AUTO_INCREMENT PRIMARY KEY,\n",
    "         productName  VARCHAR(30)  DEFAULT \"\" ,\n",
    "         unitPrice    FLOAT        NOT NULL DEFAULT 99999.99,\n",
    "         unitsInStock INT UNSIGNED NOT NULL DEFAULT 0\n",
    ");"
   ]
  },
  {
   "cell_type": "code",
   "execution_count": null,
   "id": "c15a1cad",
   "metadata": {
    "scrolled": true
   },
   "outputs": [],
   "source": [
    "%%sql\n",
    "\n",
    "DESCRIBE products;"
   ]
  },
  {
   "cell_type": "markdown",
   "id": "d6603107",
   "metadata": {},
   "source": [
    "The table does not contain any constraint, default values, or keys.\n",
    "\n",
    "A table can be altered by adding/removing Attributes, as well as by adding constraints.\n",
    "\n",
    "Let's first add a new attribute to the table:\n",
    "\n",
    "| Attribute | Type | Extra info | Constraint | \n",
    "| --- | --- | --- |--- |\n",
    "| productID   | Integer | | NOT NULL AUTO_INCREMENT |\n",
    "| productName | String | Max length 30 | DEFAULT \"\" |\n",
    "| unitPrice   | Float | | NOT NULL DEFAULT 99999.99|\n",
    "| unitsInStock | Integer | Unsigned | NOT NULL DEFAULT 0 |\n",
    "| **isDiscontinued**  | **Bool** | | NOT NULL |\n",
    "\n",
    "To alter a table and create a new column we can act on it with:\n",
    "\n",
    "```mysql\n",
    "ALTER TABLE <THE TABLE>\n",
    "ADD COLUMN <NEW COL> <THE NEW ATTRIBUTE DECLARATION>;\n",
    "```\n"
   ]
  },
  {
   "cell_type": "markdown",
   "id": "d0dda2e9",
   "metadata": {},
   "source": [
    "Alter the `products` table and add the `isDiscontinued` attribute"
   ]
  },
  {
   "cell_type": "code",
   "execution_count": null,
   "id": "56c92834",
   "metadata": {},
   "outputs": [],
   "source": [
    "%%sql\n",
    "\n",
    "ALTER TABLE products\n",
    "ADD COLUMN isDiscontinued BOOL NOT NULL;"
   ]
  },
  {
   "cell_type": "code",
   "execution_count": null,
   "id": "1898ced9",
   "metadata": {},
   "outputs": [],
   "source": [
    "%%sql \n",
    "\n",
    "DESCRIBE products;"
   ]
  },
  {
   "cell_type": "markdown",
   "id": "fb44152a",
   "metadata": {},
   "source": [
    "`isDiscontinued` does however not contain any meaningful constraint or default value.\n",
    "Let's consider `0` as a good default value:\n",
    "\n",
    "| Attribute | Type | Extra info | Constraint | \n",
    "| --- | --- | --- |--- |\n",
    "| productID   | Integer | | NOT NULL AUTO_INCREMENT |\n",
    "| productName | String | Max length 30 | DEFAULT \"\" |\n",
    "| unitPrice   | Float | | NOT NULL DEFAULT 99999.99|\n",
    "| unitsInStock | Integer | Unsigned | NOT NULL DEFAULT 0 |\n",
    "| isDiscontinued  | Bool | | NOT NULL **DEFAULT 0** |\n",
    "\n",
    "\n",
    "We can use the same `ALTER TABLE` instruction to do this:\n",
    "    \n",
    "```mysql\n",
    "ALTER TABLE <THE TABLE>\n",
    "ALTER <ATTRIBUTE> SET DEFAULT <NEW DEFAULT>;\n",
    "```"
   ]
  },
  {
   "cell_type": "code",
   "execution_count": null,
   "id": "588dca8b",
   "metadata": {},
   "outputs": [],
   "source": [
    "%%sql\n",
    "\n",
    "ALTER TABLE products\n",
    "ALTER isDiscontinued SET DEFAULT 0;"
   ]
  },
  {
   "cell_type": "code",
   "execution_count": null,
   "id": "93517bd8",
   "metadata": {},
   "outputs": [],
   "source": [
    "%%sql \n",
    "\n",
    "DESCRIBE products;"
   ]
  },
  {
   "cell_type": "markdown",
   "id": "1500dc54",
   "metadata": {},
   "source": [
    "We can also impose `productName` to be not-null altering the table one final time.\n",
    "\n",
    "| Attribute | Type | Extra info | Constraint | \n",
    "| --- | --- | --- |--- |\n",
    "| productID   | Integer | | NOT NULL AUTO_INCREMENT |\n",
    "| productName | String | Max length 30 | **NOT NULL** DEFAULT \"\" |\n",
    "| unitPrice   | Float | | NOT NULL DEFAULT 99999.99|\n",
    "| unitsInStock | Integer | Unsigned | NOT NULL DEFAULT 0 |\n",
    "| isDiscontinued  | Bool | | NOT NULL DEFAULT 0 |\n",
    "\n",
    "\n",
    "In MySQL, this implies to modify the entire attribute, thus the Type will have to be re-stated:\n",
    "    \n",
    "```mysql\n",
    "ALTER TABLE <THE TABLE>\n",
    "MODIFY <ATTRIBUTE> <ATTRIBUTE TYPE> <CONSTRAINT>;\n",
    "```"
   ]
  },
  {
   "cell_type": "code",
   "execution_count": null,
   "id": "ab4bb7ea",
   "metadata": {},
   "outputs": [],
   "source": [
    "%%sql\n",
    "\n",
    "ALTER TABLE products\n",
    "MODIFY productName VARCHAR(30) NOT NULL DEFAULT \"\";"
   ]
  },
  {
   "cell_type": "code",
   "execution_count": null,
   "id": "0a7aeef5",
   "metadata": {},
   "outputs": [],
   "source": [
    "%%sql\n",
    "\n",
    "DESCRIBE products;"
   ]
  },
  {
   "cell_type": "markdown",
   "id": "4f0cc301",
   "metadata": {},
   "source": [
    "Let's now create a `suppliers` table with the following description:\n",
    "\n",
    "| Attribute | Type | Extra info | Constraint | \n",
    "| --- | --- | --- |--- |\n",
    "| supplierID   | Integer | | NOT NULL AUTO_INCREMENT |\n",
    "| supplierName | String | Max length 30 | NOT NULL DEFAULT \"\" |\n",
    "| countryCode   | Char | Length 3 | NOT NULL |\n",
    "| email   | String | Max length 30  | NOT NULL |\n",
    "\n",
    "`supplierID` is going to act as the table's primary key in this case."
   ]
  },
  {
   "cell_type": "code",
   "execution_count": null,
   "id": "6148bc2a",
   "metadata": {},
   "outputs": [],
   "source": [
    "%%sql\n",
    "\n",
    "CREATE TABLE suppliers (\n",
    "    supplierID      INT NOT NULL UNIQUE AUTO_INCREMENT PRIMARY KEY,\n",
    "    supplierName    VARCHAR(30) NOT NULL DEFAULT \"\",\n",
    "    countryCode     CHAR(3) NOT NULL,\n",
    "    email           VARCHAR(30) NOT NULL\n",
    ");"
   ]
  },
  {
   "cell_type": "code",
   "execution_count": null,
   "id": "be2bcf16",
   "metadata": {},
   "outputs": [],
   "source": [
    "%%sql\n",
    "\n",
    "DESCRIBE suppliers;"
   ]
  },
  {
   "cell_type": "markdown",
   "id": "20235130",
   "metadata": {},
   "source": [
    "Alter the table to include a default \"ITA\" for `countryCode`"
   ]
  },
  {
   "cell_type": "code",
   "execution_count": null,
   "id": "b281a56f",
   "metadata": {},
   "outputs": [],
   "source": [
    "%%sql \n",
    "\n",
    "ALTER TABLE suppliers \n",
    "ALTER countryCode SET DEFAULT \"ITA\";"
   ]
  },
  {
   "cell_type": "code",
   "execution_count": null,
   "id": "1429a26a",
   "metadata": {},
   "outputs": [],
   "source": [
    "%%sql\n",
    "\n",
    "DESCRIBE suppliers;"
   ]
  },
  {
   "cell_type": "code",
   "execution_count": null,
   "id": "d6781a55",
   "metadata": {},
   "outputs": [],
   "source": [
    "%%sql\n",
    "\n",
    "SHOW TABLES;"
   ]
  },
  {
   "cell_type": "markdown",
   "id": "dc1acf30",
   "metadata": {},
   "source": [
    "To enstablish a relation between the `products` and `suppliers` tables, we have to consider that:\n",
    "    \n",
    "- a supplier can supply multiple products\n",
    "- a product can be supplied by multiple suppliers\n",
    "\n",
    "This is a many-to-many relationship, which requires a supporting external table.\n",
    "\n",
    "Create a new `supplier_to_product` table with the following attributes:\n",
    "    \n",
    "| Attribute | Type | Extra info | Constraint | \n",
    "| --- | --- | --- |--- |\n",
    "| prodID   | Integer | | NOT NULL |\n",
    "| supID    | Integer | | NOT NULL |\n"
   ]
  },
  {
   "cell_type": "code",
   "execution_count": null,
   "id": "db88cd48",
   "metadata": {},
   "outputs": [],
   "source": [
    "%%sql \n",
    "\n",
    "CREATE TABLE supplier_to_product(\n",
    "    prodID INT NOT NULL,\n",
    "    supID  INT NOT NULL\n",
    ");"
   ]
  },
  {
   "cell_type": "code",
   "execution_count": null,
   "id": "423c0c9d",
   "metadata": {},
   "outputs": [],
   "source": [
    "%%sql \n",
    "\n",
    "DESCRIBE supplier_to_product;"
   ]
  },
  {
   "cell_type": "markdown",
   "id": "c4a331ac",
   "metadata": {},
   "source": [
    "Neither prodID nor supID is a good primary key in this case, as we can have both appearing multiple times in the table.\n",
    "\n",
    "However, a good primary key for this table is the combination (prodID,supID) which is absolutely unique, and thus, a good key.\n",
    "\n",
    "We can alter the table to add the primary key statement:\n",
    "    \n",
    "```mysql\n",
    "ALTER TABLE <TABLE>\n",
    "ADD PRIMARY KEY <ATTRIBUTE COMBINATION>;\n",
    "```"
   ]
  },
  {
   "cell_type": "code",
   "execution_count": null,
   "id": "c9af8305",
   "metadata": {},
   "outputs": [],
   "source": [
    "%%sql\n",
    "\n",
    "ALTER TABLE supplier_to_product\n",
    "ADD PRIMARY KEY (prodID,supID);"
   ]
  },
  {
   "cell_type": "code",
   "execution_count": null,
   "id": "bcf46951",
   "metadata": {},
   "outputs": [],
   "source": [
    "%%sql\n",
    "\n",
    "DESCRIBE supplier_to_product;"
   ]
  },
  {
   "cell_type": "markdown",
   "id": "0cdf1d3f",
   "metadata": {},
   "source": [
    "Finally, we can link the 3 tables together by stating which attributes act as the foreign keys in the `supplier_to_product` table, and to which Attributes in the parent tables they refer to.\n",
    "\n",
    "- `prodID` points to the `productID` attribute of `products` table\n",
    "- `supID` points to the `supplierID` attribute of `supplier` table\n",
    "\n",
    "```mysql\n",
    "ALTER TABLE <TABLE>\n",
    "ADD FOREIGN KEY (<ATTRIBUTE IN THIS TABLE>) REFERENCES <OTHER TABLE>(<ATTRIBUTE IN OTHER TABLE>);\n",
    "```"
   ]
  },
  {
   "cell_type": "code",
   "execution_count": null,
   "id": "18a93107",
   "metadata": {},
   "outputs": [],
   "source": [
    "%%sql \n",
    "\n",
    "ALTER TABLE supplier_to_product \n",
    "ADD CONSTRAINT FK_prod\n",
    "FOREIGN KEY (prodID) REFERENCES products(productID);"
   ]
  },
  {
   "cell_type": "code",
   "execution_count": null,
   "id": "be11f100",
   "metadata": {},
   "outputs": [],
   "source": [
    "%%sql \n",
    "\n",
    "ALTER TABLE supplier_to_product \n",
    "ADD CONSTRAINT FK_sup\n",
    "FOREIGN KEY (supID) REFERENCES suppliers(supplierID);"
   ]
  },
  {
   "cell_type": "code",
   "execution_count": null,
   "id": "93af46b3",
   "metadata": {},
   "outputs": [],
   "source": [
    "%%sql\n",
    "\n",
    "DESCRIBE supplier_to_product;"
   ]
  },
  {
   "cell_type": "markdown",
   "id": "f814bec8",
   "metadata": {},
   "source": [
    "## 04 Inserting Updating and Deleting records"
   ]
  },
  {
   "cell_type": "markdown",
   "id": "fe24a550",
   "metadata": {},
   "source": [
    "The tables are currently empty. \n",
    "We can inspect the content of the tables by performing a simple query.\n",
    "\n",
    "```mysql\n",
    "SELECT * FROM <TABLE>;\n",
    "```\n",
    "\n",
    "To insert a single record into a table we can proceed in either of the two following ways:\n",
    "\n",
    "1. By explicitly specifying the names of the columns when passing the tuple containing the values\n",
    "```mysql\n",
    "INSERT INTO <TABLE> (<COLUMN1>, <COLUMN2>, <COLUMN3>, ...)\n",
    "VALUES (<VALUE1>, <VALUE2>, <VALUE3>, ...);\n",
    "```\n",
    "This will work also in the case attributes with a default value will not be explicitely passed\n",
    "\n",
    "\n",
    "2. By implicitly using all the columns when passing the tuple containing the values\n",
    "```mysql\n",
    "INSERT INTO <TABLE> \n",
    "VALUES (<VALUE1>, <VALUE2>, ..., <VALUEn>);\n",
    "```\n",
    "\n",
    "\n",
    "_NB_: 1. is the usually recommended way to perform a data insertion in SQL."
   ]
  },
  {
   "cell_type": "markdown",
   "id": "1df79446",
   "metadata": {},
   "source": [
    "Using the `mysql.connector` we can formulate the insert in a more pythonic way, e.g. to include this statement programmatically into a loop or a function call:\n",
    "    \n",
    "```python\n",
    "sql_ = \"INSERT INTO <TABLE> (<COLUMN1>, <COLUMN2>, <COLUMN3>, ...) VALUES (%s, %s, %s, ...)\"\n",
    "val_ = (<VALUE1>, <VALUE2>, <VALUE3>, ...)\n",
    "db_cursor.execute(sql_, val_)\n",
    "db.commit()\n",
    "```\n",
    "\n",
    "Being an active change to the DB istance (the data contained in the DB itself), remember to commit the insert."
   ]
  },
  {
   "cell_type": "markdown",
   "id": "1729007b",
   "metadata": {},
   "source": [
    "- Verify that the product table is actually empty\n",
    "- Isert the following list of products in the `products` table\n",
    "- Check the content of the table after the transaction, to verify that both the AUTO_INCREMENT key and the default values have taken into account\n",
    "\n",
    "\n",
    "| productName | unitPrice | unitsInStock | isDiscontinued | \n",
    "| --- | --- | --- |--- |\n",
    "| \"Founders Porter\" | 4.9 | 12 | 0 |\n"
   ]
  },
  {
   "cell_type": "code",
   "execution_count": null,
   "id": "0f48e84c",
   "metadata": {},
   "outputs": [],
   "source": [
    "%%sql\n",
    "\n",
    "SELECT * FROM products;"
   ]
  },
  {
   "cell_type": "code",
   "execution_count": null,
   "id": "5d0b4661",
   "metadata": {},
   "outputs": [],
   "source": [
    "%%sql\n",
    "\n",
    "INSERT INTO products (productName, unitPrice, unitsInStock, isDiscontinued)\n",
    "VALUES (\"Founders Porter\", 4.9, 12, 0);"
   ]
  },
  {
   "cell_type": "code",
   "execution_count": null,
   "id": "57ade142",
   "metadata": {},
   "outputs": [],
   "source": [
    "%%sql\n",
    "\n",
    "SELECT * FROM products;"
   ]
  },
  {
   "cell_type": "markdown",
   "id": "df5f4ee3",
   "metadata": {},
   "source": [
    "Multi-values insert can be performed in a completely similar way, by separating multiple tuples by a comma:\n",
    "    \n",
    "```mysql\n",
    "INSERT INTO <TABLE> (<COLUMN1>, <COLUMN2>, <COLUMN3>, ...)\n",
    "VALUES \n",
    "(<VALUE11>, <VALUE12>, <VALUE13>, ...), \n",
    "(<VALUE21>, <VALUE22>, <VALUE23>, ...), \n",
    "(<VALUE31>, <VALUE32>, <VALUE33>, ...), \n",
    "\n",
    "```\n",
    "\n",
    "The python-based command is similar to the previous one, but is drop the `execute` in favor of `executemany`, using as value a list of tuples\n",
    "\n",
    "```python\n",
    "sql_ = \"INSERT INTO <TABLE> (<COLUMN1>, <COLUMN2>, <COLUMN3>, ...) VALUES (%s, %s, %s, ...)\"\n",
    "val_ = [\n",
    "    (<VALUE11>, <VALUE12>, <VALUE13>, ...),\n",
    "    (<VALUE21>, <VALUE22>, <VALUE23>, ...),\n",
    "    (<VALUE31>, <VALUE32>, <VALUE33>, ...) ]\n",
    "db_cursor.executemany(sql_, val_)\n",
    "db.commit()\n",
    "```\n"
   ]
  },
  {
   "cell_type": "markdown",
   "id": "f463c2ef",
   "metadata": {},
   "source": [
    "Add a few more products to the `product` table:\n",
    "    \n",
    "| productName | unitPrice | unitsInStock | isDiscontinued | \n",
    "| --- | --- | --- |--- |\n",
    "| \"Punk IPA\" | 5.2 | 45 |  |\n",
    "| \"HB Dunkel\" | 4.5 | 250 |  |\n",
    "| \"Forst Xmas \" | 8.0 | 2 |  |\n",
    "| \"Damm Complot \" | 3.7 | 120 |  |\n",
    "     "
   ]
  },
  {
   "cell_type": "code",
   "execution_count": null,
   "id": "7f91ae53",
   "metadata": {},
   "outputs": [],
   "source": [
    "%%sql\n",
    "\n",
    "INSERT INTO products (productName, unitPrice, unitsInStock)\n",
    "VALUES     ('Punk IPA',     5.2,  45),\n",
    "    ('HB Dunkel',    4.5, 250),\n",
    "    ('Forst Xmas',   8.0,   2),\n",
    "    ('Damm Complot', 3.7, 120);"
   ]
  },
  {
   "cell_type": "code",
   "execution_count": null,
   "id": "c172ab09",
   "metadata": {},
   "outputs": [],
   "source": [
    "%%sql \n",
    "\n",
    "SELECT * FROM products;"
   ]
  },
  {
   "cell_type": "markdown",
   "id": "48a71bab",
   "metadata": {},
   "source": [
    "Updating entries is a more delicate issue, as in a DB we can in principle modify all records associated with a number of conditions.\n",
    "This makes the update operation quite powerful and possibly very error prone if not performed with extreme caution.\n",
    "\n",
    "```mysql\n",
    "UPDATE <TABLE>\n",
    "SET <ATTRIBUTE> = <NEW VALUE>\n",
    "WHERE <CONDITION>;\n",
    "```\n",
    "\n",
    "or\n",
    "\n",
    "```python\n",
    "sql_ = \"UPDATE <TABLE> SET <ATTRIBUTE> = <NEW VALUE> WHERE <CONDITION>\"\n",
    "db_cursor.execute(sql)\n",
    "db.commit()\n",
    "\n",
    "```\n",
    "\n",
    "Let's update a single record with a \"very explicit\" condition statement:\n",
    "\n",
    "- Assign `isDiscontinued` equal to 1 to the \"Forst Xmas\" product\n",
    "- Check if the update has taken place"
   ]
  },
  {
   "cell_type": "code",
   "execution_count": null,
   "id": "f2a45dbd",
   "metadata": {},
   "outputs": [],
   "source": [
    "%%sql\n",
    "\n",
    "UPDATE products\n",
    "SET isDiscontinued = 1\n",
    "WHERE (productName = \"Forst Xmas\");"
   ]
  },
  {
   "cell_type": "code",
   "execution_count": null,
   "id": "3c3ee12d",
   "metadata": {},
   "outputs": [],
   "source": [
    "%%sql\n",
    "\n",
    "SELECT * FROM products;"
   ]
  },
  {
   "cell_type": "markdown",
   "id": "211e9d47",
   "metadata": {},
   "source": [
    "Similarly, deleting entries is quite a risky task if not done with plenty of caution, as a wrong `WHERE` condition might inadvertly lead to the deletion of a large part of your DB records. \n",
    "\n",
    "Remember, with `DELETE` we do remove entire records (i.e. tuples) from the DB, not just the content of the `WHERE` conditional statement. \n",
    "\n",
    "```mysql\n",
    "DELETE FROM <TABLE>\n",
    "WHERE <CONDITION>;\n",
    "```\n",
    "\n",
    "or\n",
    "\n",
    "```python\n",
    "sql_ = \"DELETE FROM <TABLE> WHERE <CONDITION>\"\n",
    "db_cursor.execute(sql)\n",
    "db.commit()\n",
    "\n",
    "```\n",
    "\n",
    "- Delete all products whose name begins with 'F' and ends with 's'\n",
    "- Check if the update has taken place"
   ]
  },
  {
   "cell_type": "code",
   "execution_count": null,
   "id": "3d21c7f8",
   "metadata": {},
   "outputs": [],
   "source": [
    "%%sql\n",
    "\n",
    "DELETE FROM products\n",
    "WHERE (productName LIKE 'F%s');"
   ]
  },
  {
   "cell_type": "code",
   "execution_count": null,
   "id": "e97c9569",
   "metadata": {},
   "outputs": [],
   "source": [
    "%%sql\n",
    "\n",
    "SELECT * FROM products;"
   ]
  },
  {
   "cell_type": "markdown",
   "id": "b1d2c12b",
   "metadata": {},
   "source": [
    "- Populate the `suppliers` table according to the following list\n",
    "\n",
    "\n",
    "| supplierName | countryCode | email|\n",
    "| --- | --- | ---|\n",
    "| \"A hop in the park\" | \"USA\" | \"contactme@ahop.com\" |\n",
    "| \"Allez Hops! Cave à bièr\" | \"FRA\" | \"itsme@allezhops.com\" |\n",
    "| \"Wild Hops \" | \"ITA\" | \"myemail@wildhops.it\" |\n",
    "|\"Beer Paradise\"|\"ITA\"|\"beer@beerparadise.it\"|\n"
   ]
  },
  {
   "cell_type": "code",
   "execution_count": null,
   "id": "66a22046",
   "metadata": {},
   "outputs": [],
   "source": [
    "%%sql\n",
    "\n",
    "INSERT INTO suppliers (supplierName, countryCode, email) \n",
    "VALUES\n",
    "(\"A hop in the park\",\"USA\",\"contactme@ahop.com\"),\n",
    "(\"Allez Hops! Cave à bièr\",\"FRA\",\"itsme@allezhops.com\"),\n",
    "(\"Wild Hops\",\"ITA\",\"myemail@wildhops.it\"),\n",
    "(\"Beer Paradise\",\"ITA\",\"beer@beerparadise.it\");"
   ]
  },
  {
   "cell_type": "code",
   "execution_count": null,
   "id": "c7c83f1c",
   "metadata": {},
   "outputs": [],
   "source": [
    "%%sql\n",
    "\n",
    "SELECT * FROM suppliers;"
   ]
  },
  {
   "cell_type": "code",
   "execution_count": null,
   "id": "72c63eff",
   "metadata": {},
   "outputs": [],
   "source": [
    "%%sql\n",
    "\n",
    "SELECT supplierName, countryCode FROM suppliers;"
   ]
  },
  {
   "cell_type": "markdown",
   "id": "1ae2a140",
   "metadata": {},
   "source": [
    "Complete the DB with the two additional steps:\n",
    "\n",
    "- Update the \"A hop in the park\" email address to \"anewemail@ahop.com\"\n",
    "- Populate the table of connections between products and suppliers\n",
    "    - Remember that the `supplier_to_product` table is linked to the other two via the respective Foreign Keys \n",
    "\n",
    "| supplier | products provided |\n",
    "| --- | --- | \n",
    "| \"A hop in the park\" | \"Punk IPA\", \"HB Dunkel\" |"
   ]
  },
  {
   "cell_type": "code",
   "execution_count": null,
   "id": "fe906041",
   "metadata": {},
   "outputs": [],
   "source": [
    "sql_ = \"UPDATE suppliers SET email = %s WHERE supplierName LIKE %s;\"\n",
    "val_ = ('anewemail@ahop.com', 'A hop%')\n",
    "dbc.execute(sql_, val_)\n",
    "db.commit()\n",
    "     \n",
    "dbc.execute(\"SELECT * FROM suppliers\"); \n",
    "dbc.fetchall()"
   ]
  },
  {
   "cell_type": "code",
   "execution_count": null,
   "id": "60cf0f77",
   "metadata": {},
   "outputs": [],
   "source": [
    "%%sql \n",
    "\n",
    "SELECT * FROM products;"
   ]
  },
  {
   "cell_type": "code",
   "execution_count": null,
   "id": "40a10f7a",
   "metadata": {},
   "outputs": [],
   "source": [
    "%%sql \n",
    "\n",
    "SELECT * FROM suppliers;"
   ]
  },
  {
   "cell_type": "code",
   "execution_count": null,
   "id": "8b603496",
   "metadata": {},
   "outputs": [],
   "source": [
    "%%sql\n",
    "\n",
    "DESCRIBE supplier_to_product;"
   ]
  },
  {
   "cell_type": "code",
   "execution_count": null,
   "id": "ffeaa6eb",
   "metadata": {},
   "outputs": [],
   "source": [
    "%%sql\n",
    "\n",
    "INSERT INTO supplier_to_product (supID, prodID)\n",
    "VALUES (1, 2),\n",
    "       (1, 3);"
   ]
  },
  {
   "cell_type": "code",
   "execution_count": null,
   "id": "0770fc67",
   "metadata": {},
   "outputs": [],
   "source": [
    "%%sql \n",
    "\n",
    "SELECT * FROM supplier_to_product;"
   ]
  },
  {
   "cell_type": "markdown",
   "id": "6efb0512",
   "metadata": {},
   "source": [
    "Export the DB you have created into a .sql file, and store it for later use.\n",
    "\n",
    "1. connect to the \"server\" docker container using bash\n",
    "2. dump the DB via the command:\n",
    "    \n",
    "```bash\n",
    "$ mysqldump -u <USER> -p <DB NAME>  >  <FULL/PATH/TO/NEW/DB_DUMP.sql>\n",
    "```\n",
    "\n",
    "3. use the folder `/mapd-workspace/dbs` to store the file, as it's the one currently visible from both in- and out-side the container"
   ]
  },
  {
   "cell_type": "code",
   "execution_count": null,
   "id": "464e83d4",
   "metadata": {},
   "outputs": [],
   "source": [
    "%%sql\n",
    "\n",
    "SHOW DATABASES;"
   ]
  },
  {
   "cell_type": "code",
   "execution_count": null,
   "id": "f35de536",
   "metadata": {},
   "outputs": [],
   "source": [
    "%%sql\n",
    "\n",
    "SHOW TABLES;"
   ]
  },
  {
   "cell_type": "markdown",
   "id": "b6e3c94e",
   "metadata": {},
   "source": [
    "## 04 Basic queries "
   ]
  },
  {
   "cell_type": "markdown",
   "id": "cbdbb924",
   "metadata": {},
   "source": [
    "### EDIT (same info in Section 05) ###\n",
    "\n",
    "If you have saved your DB locally into a `.sql` file, you can restore it by loading it into the server.\n",
    "\n",
    "1. Create a new DB named `my_db`\n",
    "```\n",
    "CREATE DATABASE IF NOT EXISTS my_db;\n",
    "```\n",
    "2. Login in interactive mode into the MySQL server \n",
    "```bash \n",
    "$ docker exec -it mysql_db_1 bash\n",
    "```\n",
    "2. Import the content of the `.sql` file (e.g. `/mapd-workspace/dbs/my_db.sql`) into the newly created DB\n",
    "    \n",
    "```bash\n",
    "$ mysql -u root -p my_db < /mapd-workspace/dbs/my_db.sql\n",
    "```\n"
   ]
  },
  {
   "cell_type": "markdown",
   "id": "7f903ed5",
   "metadata": {},
   "source": [
    "The `SELECT` statement allows to perform queries and to retrieve data from a DB.\n",
    "\n",
    "We can perform queries on 1 single Table in the DB, as well as perform complex queries that span multiple interconnected Tables, with one-to-one, one-to-many and many-to-many relationships across records.\n",
    "\n",
    "Any `SELECT` statement is composed by at least:\n",
    "    \n",
    "```mysql\n",
    "SELECT <TABLE2.ATTRIBUTE1>, <TABLE1.ATTRIBUTE2>   --# the list of attributes to show\n",
    "                                                  --# the * wildcard symbol means ALL attributes\n",
    "    \n",
    "FROM <TABLE1>, <TABLE2>                           --# the table, or list of tables \n",
    "                                                  --# from which to extract the attributes\n",
    "\n",
    "WHERE <CONDITIONS>                                --# (optional) condition statement\n",
    "```\n",
    "\n",
    "The same goes for the pythonc connector-based way\n",
    "\n",
    "```python\n",
    "db_cursor.execute(\"\"\"SELECT <TABLE2.ATTRIBUTE1>, <TABLE1.ATTRIBUTE2>\"\"\"\n",
    "                  \"\"\"FROM <TABLE1>, <TABLE2>\"\"\"\n",
    "                  \"\"\"WHERE <CONDITIONS>\"\"\")\n",
    "res_ = db_cursor.fetchall()\n",
    "for _ in res_:\n",
    "    print(_)\n",
    "```\n",
    "\n",
    "As an alternative, `db_cursor.fetchone()` can be used to printout only 1 out of possibly many records.\n"
   ]
  },
  {
   "cell_type": "markdown",
   "id": "2a3bae29",
   "metadata": {},
   "source": [
    "- Get the email of all suppliers from Italy"
   ]
  },
  {
   "cell_type": "code",
   "execution_count": 11,
   "id": "cd1ed864",
   "metadata": {},
   "outputs": [
    {
     "name": "stdout",
     "output_type": "stream",
     "text": [
      " * mysql+mysqlconnector://root:***@db\n",
      "0 rows affected.\n",
      "3 rows affected.\n"
     ]
    },
    {
     "data": {
      "text/html": [
       "<table>\n",
       "    <tr>\n",
       "        <th>Tables_in_my_db</th>\n",
       "    </tr>\n",
       "    <tr>\n",
       "        <td>products</td>\n",
       "    </tr>\n",
       "    <tr>\n",
       "        <td>supplier_to_product</td>\n",
       "    </tr>\n",
       "    <tr>\n",
       "        <td>suppliers</td>\n",
       "    </tr>\n",
       "</table>"
      ],
      "text/plain": [
       "[('products',), ('supplier_to_product',), ('suppliers',)]"
      ]
     },
     "execution_count": 11,
     "metadata": {},
     "output_type": "execute_result"
    }
   ],
   "source": [
    "%%sql\n",
    "\n",
    "USE my_db;\n",
    "SHOW TABLES;"
   ]
  },
  {
   "cell_type": "code",
   "execution_count": 12,
   "id": "0e551aca",
   "metadata": {},
   "outputs": [
    {
     "name": "stdout",
     "output_type": "stream",
     "text": [
      " * mysql+mysqlconnector://root:***@db\n",
      "4 rows affected.\n"
     ]
    },
    {
     "data": {
      "text/html": [
       "<table>\n",
       "    <tr>\n",
       "        <th>Field</th>\n",
       "        <th>Type</th>\n",
       "        <th>Null</th>\n",
       "        <th>Key</th>\n",
       "        <th>Default</th>\n",
       "        <th>Extra</th>\n",
       "    </tr>\n",
       "    <tr>\n",
       "        <td>supplierID</td>\n",
       "        <td>b&#x27;int&#x27;</td>\n",
       "        <td>NO</td>\n",
       "        <td>PRI</td>\n",
       "        <td>None</td>\n",
       "        <td>auto_increment</td>\n",
       "    </tr>\n",
       "    <tr>\n",
       "        <td>supplierName</td>\n",
       "        <td>b&#x27;varchar(30)&#x27;</td>\n",
       "        <td>NO</td>\n",
       "        <td></td>\n",
       "        <td>b&#x27;&#x27;</td>\n",
       "        <td></td>\n",
       "    </tr>\n",
       "    <tr>\n",
       "        <td>countryCode</td>\n",
       "        <td>b&#x27;char(3)&#x27;</td>\n",
       "        <td>NO</td>\n",
       "        <td></td>\n",
       "        <td>b&#x27;ITA&#x27;</td>\n",
       "        <td></td>\n",
       "    </tr>\n",
       "    <tr>\n",
       "        <td>email</td>\n",
       "        <td>b&#x27;varchar(30)&#x27;</td>\n",
       "        <td>NO</td>\n",
       "        <td></td>\n",
       "        <td>None</td>\n",
       "        <td></td>\n",
       "    </tr>\n",
       "</table>"
      ],
      "text/plain": [
       "[('supplierID', b'int', 'NO', 'PRI', None, 'auto_increment'),\n",
       " ('supplierName', b'varchar(30)', 'NO', '', b'', ''),\n",
       " ('countryCode', b'char(3)', 'NO', '', b'ITA', ''),\n",
       " ('email', b'varchar(30)', 'NO', '', None, '')]"
      ]
     },
     "execution_count": 12,
     "metadata": {},
     "output_type": "execute_result"
    }
   ],
   "source": [
    "%%sql\n",
    "\n",
    "DESCRIBE suppliers;"
   ]
  },
  {
   "cell_type": "code",
   "execution_count": 13,
   "id": "ca3bdc10",
   "metadata": {},
   "outputs": [
    {
     "name": "stdout",
     "output_type": "stream",
     "text": [
      " * mysql+mysqlconnector://root:***@db\n",
      "2 rows affected.\n"
     ]
    },
    {
     "data": {
      "text/html": [
       "<table>\n",
       "    <tr>\n",
       "        <th>email</th>\n",
       "    </tr>\n",
       "    <tr>\n",
       "        <td>myemail@wildhops.it</td>\n",
       "    </tr>\n",
       "    <tr>\n",
       "        <td>beer@beerparadise.it</td>\n",
       "    </tr>\n",
       "</table>"
      ],
      "text/plain": [
       "[('myemail@wildhops.it',), ('beer@beerparadise.it',)]"
      ]
     },
     "execution_count": 13,
     "metadata": {},
     "output_type": "execute_result"
    }
   ],
   "source": [
    "%%sql\n",
    "\n",
    "SELECT email\n",
    "FROM suppliers\n",
    "WHERE (countryCode = \"ITA\");"
   ]
  },
  {
   "cell_type": "markdown",
   "id": "204da1bf",
   "metadata": {},
   "source": [
    "- Get all information for products with unit price greater than 4"
   ]
  },
  {
   "cell_type": "code",
   "execution_count": 14,
   "id": "da6f4538",
   "metadata": {},
   "outputs": [
    {
     "name": "stdout",
     "output_type": "stream",
     "text": [
      " * mysql+mysqlconnector://root:***@db\n",
      "5 rows affected.\n"
     ]
    },
    {
     "data": {
      "text/html": [
       "<table>\n",
       "    <tr>\n",
       "        <th>Field</th>\n",
       "        <th>Type</th>\n",
       "        <th>Null</th>\n",
       "        <th>Key</th>\n",
       "        <th>Default</th>\n",
       "        <th>Extra</th>\n",
       "    </tr>\n",
       "    <tr>\n",
       "        <td>productID</td>\n",
       "        <td>b&#x27;int&#x27;</td>\n",
       "        <td>NO</td>\n",
       "        <td>PRI</td>\n",
       "        <td>None</td>\n",
       "        <td>auto_increment</td>\n",
       "    </tr>\n",
       "    <tr>\n",
       "        <td>productName</td>\n",
       "        <td>b&#x27;varchar(30)&#x27;</td>\n",
       "        <td>NO</td>\n",
       "        <td></td>\n",
       "        <td>b&#x27;&#x27;</td>\n",
       "        <td></td>\n",
       "    </tr>\n",
       "    <tr>\n",
       "        <td>unitPrice</td>\n",
       "        <td>b&#x27;float&#x27;</td>\n",
       "        <td>NO</td>\n",
       "        <td></td>\n",
       "        <td>b&#x27;100000&#x27;</td>\n",
       "        <td></td>\n",
       "    </tr>\n",
       "    <tr>\n",
       "        <td>unitsInStock</td>\n",
       "        <td>b&#x27;int unsigned&#x27;</td>\n",
       "        <td>NO</td>\n",
       "        <td></td>\n",
       "        <td>b&#x27;0&#x27;</td>\n",
       "        <td></td>\n",
       "    </tr>\n",
       "    <tr>\n",
       "        <td>isDiscontinued</td>\n",
       "        <td>b&#x27;tinyint(1)&#x27;</td>\n",
       "        <td>NO</td>\n",
       "        <td></td>\n",
       "        <td>b&#x27;0&#x27;</td>\n",
       "        <td></td>\n",
       "    </tr>\n",
       "</table>"
      ],
      "text/plain": [
       "[('productID', b'int', 'NO', 'PRI', None, 'auto_increment'),\n",
       " ('productName', b'varchar(30)', 'NO', '', b'', ''),\n",
       " ('unitPrice', b'float', 'NO', '', b'100000', ''),\n",
       " ('unitsInStock', b'int unsigned', 'NO', '', b'0', ''),\n",
       " ('isDiscontinued', b'tinyint(1)', 'NO', '', b'0', '')]"
      ]
     },
     "execution_count": 14,
     "metadata": {},
     "output_type": "execute_result"
    }
   ],
   "source": [
    "%%sql\n",
    "\n",
    "DESCRIBE products;"
   ]
  },
  {
   "cell_type": "code",
   "execution_count": 15,
   "id": "e4251397",
   "metadata": {},
   "outputs": [
    {
     "name": "stdout",
     "output_type": "stream",
     "text": [
      " * mysql+mysqlconnector://root:***@db\n",
      "3 rows affected.\n"
     ]
    },
    {
     "data": {
      "text/html": [
       "<table>\n",
       "    <tr>\n",
       "        <th>productID</th>\n",
       "        <th>productName</th>\n",
       "        <th>unitPrice</th>\n",
       "        <th>unitsInStock</th>\n",
       "        <th>isDiscontinued</th>\n",
       "    </tr>\n",
       "    <tr>\n",
       "        <td>1</td>\n",
       "        <td>Founders Porter</td>\n",
       "        <td>4.9</td>\n",
       "        <td>12</td>\n",
       "        <td>0</td>\n",
       "    </tr>\n",
       "    <tr>\n",
       "        <td>2</td>\n",
       "        <td>Punk IPA</td>\n",
       "        <td>5.2</td>\n",
       "        <td>45</td>\n",
       "        <td>0</td>\n",
       "    </tr>\n",
       "    <tr>\n",
       "        <td>3</td>\n",
       "        <td>HB Dunkel</td>\n",
       "        <td>4.5</td>\n",
       "        <td>250</td>\n",
       "        <td>0</td>\n",
       "    </tr>\n",
       "</table>"
      ],
      "text/plain": [
       "[(1, 'Founders Porter', 4.9, 12, 0),\n",
       " (2, 'Punk IPA', 5.2, 45, 0),\n",
       " (3, 'HB Dunkel', 4.5, 250, 0)]"
      ]
     },
     "execution_count": 15,
     "metadata": {},
     "output_type": "execute_result"
    }
   ],
   "source": [
    "%%sql\n",
    "\n",
    "SELECT *\n",
    "FROM products\n",
    "WHERE (unitPrice > 4);"
   ]
  },
  {
   "cell_type": "markdown",
   "id": "3c3c7ce0",
   "metadata": {},
   "source": [
    "- Select all products with unit cost less than 5 and list them in descending order of units in stock"
   ]
  },
  {
   "cell_type": "code",
   "execution_count": 17,
   "id": "3fd373ea",
   "metadata": {},
   "outputs": [
    {
     "name": "stdout",
     "output_type": "stream",
     "text": [
      " * mysql+mysqlconnector://root:***@db\n",
      "3 rows affected.\n"
     ]
    },
    {
     "data": {
      "text/html": [
       "<table>\n",
       "    <tr>\n",
       "        <th>productID</th>\n",
       "        <th>productName</th>\n",
       "        <th>unitPrice</th>\n",
       "        <th>unitsInStock</th>\n",
       "        <th>isDiscontinued</th>\n",
       "    </tr>\n",
       "    <tr>\n",
       "        <td>3</td>\n",
       "        <td>HB Dunkel</td>\n",
       "        <td>4.5</td>\n",
       "        <td>250</td>\n",
       "        <td>0</td>\n",
       "    </tr>\n",
       "    <tr>\n",
       "        <td>5</td>\n",
       "        <td>Damm Complot</td>\n",
       "        <td>3.7</td>\n",
       "        <td>120</td>\n",
       "        <td>0</td>\n",
       "    </tr>\n",
       "    <tr>\n",
       "        <td>1</td>\n",
       "        <td>Founders Porter</td>\n",
       "        <td>4.9</td>\n",
       "        <td>12</td>\n",
       "        <td>0</td>\n",
       "    </tr>\n",
       "</table>"
      ],
      "text/plain": [
       "[(3, 'HB Dunkel', 4.5, 250, 0),\n",
       " (5, 'Damm Complot', 3.7, 120, 0),\n",
       " (1, 'Founders Porter', 4.9, 12, 0)]"
      ]
     },
     "execution_count": 17,
     "metadata": {},
     "output_type": "execute_result"
    }
   ],
   "source": [
    "%%sql\n",
    "\n",
    "SELECT *\n",
    "FROM products\n",
    "WHERE (unitPrice < 5)\n",
    "ORDER BY unitsInStock DESC;"
   ]
  },
  {
   "cell_type": "markdown",
   "id": "3c3b89b1",
   "metadata": {},
   "source": [
    "**Group by** is a common statement which allows to perform data aggregation.\n",
    "\n",
    "If familiar with `pandas`, this should not come any new to you.\n",
    "\n",
    "Just remember:\n",
    "1. No group by statement is possible without an aggregation function.\n",
    "2. Group by are quite computationally expensive. In case of large databases group by operations might require a long time to execute"
   ]
  },
  {
   "cell_type": "markdown",
   "id": "6ec4ca2b",
   "metadata": {},
   "source": [
    "- plot the distribution of suppliers by country"
   ]
  },
  {
   "cell_type": "code",
   "execution_count": 19,
   "id": "e93889be",
   "metadata": {},
   "outputs": [
    {
     "name": "stdout",
     "output_type": "stream",
     "text": [
      " * mysql+mysqlconnector://root:***@db\n",
      "3 rows affected.\n"
     ]
    },
    {
     "data": {
      "text/html": [
       "<table>\n",
       "    <tr>\n",
       "        <th>countryCode</th>\n",
       "        <th>nSupp</th>\n",
       "    </tr>\n",
       "    <tr>\n",
       "        <td>USA</td>\n",
       "        <td>1</td>\n",
       "    </tr>\n",
       "    <tr>\n",
       "        <td>FRA</td>\n",
       "        <td>1</td>\n",
       "    </tr>\n",
       "    <tr>\n",
       "        <td>ITA</td>\n",
       "        <td>2</td>\n",
       "    </tr>\n",
       "</table>"
      ],
      "text/plain": [
       "[('USA', 1), ('FRA', 1), ('ITA', 2)]"
      ]
     },
     "execution_count": 19,
     "metadata": {},
     "output_type": "execute_result"
    }
   ],
   "source": [
    "%%sql\n",
    "\n",
    "SELECT countryCode, COUNT(countryCode) AS nSupp\n",
    "FROM suppliers\n",
    "GROUP BY countryCode;"
   ]
  },
  {
   "cell_type": "code",
   "execution_count": 20,
   "id": "a201f6eb",
   "metadata": {},
   "outputs": [
    {
     "name": "stdout",
     "output_type": "stream",
     "text": [
      " * mysql+mysqlconnector://root:***@db\n",
      "3 rows affected.\n",
      "+-------+-------------+\n",
      "| count | countryCode |\n",
      "+-------+-------------+\n",
      "|   1   |     USA     |\n",
      "|   1   |     FRA     |\n",
      "|   2   |     ITA     |\n",
      "+-------+-------------+\n"
     ]
    }
   ],
   "source": [
    "res_ = %sql SELECT COUNT(countryCode) AS count, countryCode FROM suppliers GROUP BY countryCode;\n",
    "\n",
    "print (res_);"
   ]
  },
  {
   "cell_type": "code",
   "execution_count": 21,
   "id": "f509fa26",
   "metadata": {},
   "outputs": [
    {
     "data": {
      "image/png": "[encoded data removed]",
      "text/plain": [
       "<Figure size 640x480 with 1 Axes>"
      ]
     },
     "metadata": {},
     "output_type": "display_data"
    }
   ],
   "source": [
    "res_.bar();"
   ]
  },
  {
   "cell_type": "markdown",
   "id": "6e432001",
   "metadata": {},
   "source": [
    "The main strength of Relational DBs is the possibility of matching information from different tables though **Join** operations.\n",
    "\n",
    "A join, either performed explicitely or implicitely is:\n",
    "\n",
    "Just remember:\n",
    "1. Computationally expensive. In case of large databases group by operations might require a long time to execute\n",
    "2. Very easy to be done wrong, thus resulting in non-meaningful results\n",
    "\n",
    "Be sure on which attributes (most often keys) you are performing a join operation."
   ]
  },
  {
   "cell_type": "markdown",
   "id": "11a1d6a9",
   "metadata": {},
   "source": [
    "- Join the `supplier_to_product` table with the `suppliers` table "
   ]
  },
  {
   "cell_type": "code",
   "execution_count": 22,
   "id": "9413d43c",
   "metadata": {},
   "outputs": [
    {
     "name": "stdout",
     "output_type": "stream",
     "text": [
      " * mysql+mysqlconnector://root:***@db\n",
      "4 rows affected.\n"
     ]
    },
    {
     "data": {
      "text/html": [
       "<table>\n",
       "    <tr>\n",
       "        <th>Field</th>\n",
       "        <th>Type</th>\n",
       "        <th>Null</th>\n",
       "        <th>Key</th>\n",
       "        <th>Default</th>\n",
       "        <th>Extra</th>\n",
       "    </tr>\n",
       "    <tr>\n",
       "        <td>supplierID</td>\n",
       "        <td>b&#x27;int&#x27;</td>\n",
       "        <td>NO</td>\n",
       "        <td>PRI</td>\n",
       "        <td>None</td>\n",
       "        <td>auto_increment</td>\n",
       "    </tr>\n",
       "    <tr>\n",
       "        <td>supplierName</td>\n",
       "        <td>b&#x27;varchar(30)&#x27;</td>\n",
       "        <td>NO</td>\n",
       "        <td></td>\n",
       "        <td>b&#x27;&#x27;</td>\n",
       "        <td></td>\n",
       "    </tr>\n",
       "    <tr>\n",
       "        <td>countryCode</td>\n",
       "        <td>b&#x27;char(3)&#x27;</td>\n",
       "        <td>NO</td>\n",
       "        <td></td>\n",
       "        <td>b&#x27;ITA&#x27;</td>\n",
       "        <td></td>\n",
       "    </tr>\n",
       "    <tr>\n",
       "        <td>email</td>\n",
       "        <td>b&#x27;varchar(30)&#x27;</td>\n",
       "        <td>NO</td>\n",
       "        <td></td>\n",
       "        <td>None</td>\n",
       "        <td></td>\n",
       "    </tr>\n",
       "</table>"
      ],
      "text/plain": [
       "[('supplierID', b'int', 'NO', 'PRI', None, 'auto_increment'),\n",
       " ('supplierName', b'varchar(30)', 'NO', '', b'', ''),\n",
       " ('countryCode', b'char(3)', 'NO', '', b'ITA', ''),\n",
       " ('email', b'varchar(30)', 'NO', '', None, '')]"
      ]
     },
     "execution_count": 22,
     "metadata": {},
     "output_type": "execute_result"
    }
   ],
   "source": [
    "%%sql\n",
    "\n",
    "DESCRIBE suppliers;"
   ]
  },
  {
   "cell_type": "code",
   "execution_count": 23,
   "id": "d698cff7",
   "metadata": {},
   "outputs": [
    {
     "name": "stdout",
     "output_type": "stream",
     "text": [
      " * mysql+mysqlconnector://root:***@db\n",
      "2 rows affected.\n"
     ]
    },
    {
     "data": {
      "text/html": [
       "<table>\n",
       "    <tr>\n",
       "        <th>Field</th>\n",
       "        <th>Type</th>\n",
       "        <th>Null</th>\n",
       "        <th>Key</th>\n",
       "        <th>Default</th>\n",
       "        <th>Extra</th>\n",
       "    </tr>\n",
       "    <tr>\n",
       "        <td>prodID</td>\n",
       "        <td>b&#x27;int&#x27;</td>\n",
       "        <td>NO</td>\n",
       "        <td>PRI</td>\n",
       "        <td>None</td>\n",
       "        <td></td>\n",
       "    </tr>\n",
       "    <tr>\n",
       "        <td>supID</td>\n",
       "        <td>b&#x27;int&#x27;</td>\n",
       "        <td>NO</td>\n",
       "        <td>PRI</td>\n",
       "        <td>None</td>\n",
       "        <td></td>\n",
       "    </tr>\n",
       "</table>"
      ],
      "text/plain": [
       "[('prodID', b'int', 'NO', 'PRI', None, ''),\n",
       " ('supID', b'int', 'NO', 'PRI', None, '')]"
      ]
     },
     "execution_count": 23,
     "metadata": {},
     "output_type": "execute_result"
    }
   ],
   "source": [
    "%%sql\n",
    "\n",
    "DESCRIBE supplier_to_product;"
   ]
  },
  {
   "cell_type": "code",
   "execution_count": 24,
   "id": "40086239",
   "metadata": {},
   "outputs": [
    {
     "name": "stdout",
     "output_type": "stream",
     "text": [
      " * mysql+mysqlconnector://root:***@db\n",
      "2 rows affected.\n"
     ]
    },
    {
     "data": {
      "text/html": [
       "<table>\n",
       "    <tr>\n",
       "        <th>supplierID</th>\n",
       "        <th>supplierName</th>\n",
       "        <th>countryCode</th>\n",
       "        <th>email</th>\n",
       "        <th>prodID</th>\n",
       "        <th>supID</th>\n",
       "    </tr>\n",
       "    <tr>\n",
       "        <td>1</td>\n",
       "        <td>A hop in the park</td>\n",
       "        <td>USA</td>\n",
       "        <td>anewemail@ahop.com</td>\n",
       "        <td>2</td>\n",
       "        <td>1</td>\n",
       "    </tr>\n",
       "    <tr>\n",
       "        <td>1</td>\n",
       "        <td>A hop in the park</td>\n",
       "        <td>USA</td>\n",
       "        <td>anewemail@ahop.com</td>\n",
       "        <td>3</td>\n",
       "        <td>1</td>\n",
       "    </tr>\n",
       "</table>"
      ],
      "text/plain": [
       "[(1, 'A hop in the park', 'USA', 'anewemail@ahop.com', 2, 1),\n",
       " (1, 'A hop in the park', 'USA', 'anewemail@ahop.com', 3, 1)]"
      ]
     },
     "execution_count": 24,
     "metadata": {},
     "output_type": "execute_result"
    }
   ],
   "source": [
    "%%sql\n",
    "\n",
    "SELECT *\n",
    "FROM suppliers, supplier_to_product\n",
    "WHERE suppliers.supplierID = supplier_to_product.supID;"
   ]
  },
  {
   "cell_type": "code",
   "execution_count": 25,
   "id": "61d90336",
   "metadata": {},
   "outputs": [
    {
     "name": "stdout",
     "output_type": "stream",
     "text": [
      " * mysql+mysqlconnector://root:***@db\n",
      "2 rows affected.\n"
     ]
    },
    {
     "data": {
      "text/html": [
       "<table>\n",
       "    <tr>\n",
       "        <th>supplierID</th>\n",
       "        <th>supplierName</th>\n",
       "        <th>countryCode</th>\n",
       "        <th>email</th>\n",
       "        <th>prodID</th>\n",
       "        <th>supID</th>\n",
       "    </tr>\n",
       "    <tr>\n",
       "        <td>1</td>\n",
       "        <td>A hop in the park</td>\n",
       "        <td>USA</td>\n",
       "        <td>anewemail@ahop.com</td>\n",
       "        <td>2</td>\n",
       "        <td>1</td>\n",
       "    </tr>\n",
       "    <tr>\n",
       "        <td>1</td>\n",
       "        <td>A hop in the park</td>\n",
       "        <td>USA</td>\n",
       "        <td>anewemail@ahop.com</td>\n",
       "        <td>3</td>\n",
       "        <td>1</td>\n",
       "    </tr>\n",
       "</table>"
      ],
      "text/plain": [
       "[(1, 'A hop in the park', 'USA', 'anewemail@ahop.com', 2, 1),\n",
       " (1, 'A hop in the park', 'USA', 'anewemail@ahop.com', 3, 1)]"
      ]
     },
     "execution_count": 25,
     "metadata": {},
     "output_type": "execute_result"
    }
   ],
   "source": [
    "%%sql\n",
    "\n",
    "SELECT *\n",
    "FROM suppliers\n",
    "INNER JOIN supplier_to_product ON suppliers.supplierID = supplier_to_product.supID;"
   ]
  },
  {
   "cell_type": "code",
   "execution_count": 26,
   "id": "beb373b1",
   "metadata": {},
   "outputs": [
    {
     "name": "stdout",
     "output_type": "stream",
     "text": [
      " * mysql+mysqlconnector://root:***@db\n",
      "5 rows affected.\n"
     ]
    },
    {
     "data": {
      "text/html": [
       "<table>\n",
       "    <tr>\n",
       "        <th>supplierID</th>\n",
       "        <th>supplierName</th>\n",
       "        <th>countryCode</th>\n",
       "        <th>email</th>\n",
       "        <th>prodID</th>\n",
       "        <th>supID</th>\n",
       "    </tr>\n",
       "    <tr>\n",
       "        <td>1</td>\n",
       "        <td>A hop in the park</td>\n",
       "        <td>USA</td>\n",
       "        <td>anewemail@ahop.com</td>\n",
       "        <td>2</td>\n",
       "        <td>1</td>\n",
       "    </tr>\n",
       "    <tr>\n",
       "        <td>1</td>\n",
       "        <td>A hop in the park</td>\n",
       "        <td>USA</td>\n",
       "        <td>anewemail@ahop.com</td>\n",
       "        <td>3</td>\n",
       "        <td>1</td>\n",
       "    </tr>\n",
       "    <tr>\n",
       "        <td>2</td>\n",
       "        <td>Allez Hops! Cave à bièr</td>\n",
       "        <td>FRA</td>\n",
       "        <td>itsme@allezhops.com</td>\n",
       "        <td>None</td>\n",
       "        <td>None</td>\n",
       "    </tr>\n",
       "    <tr>\n",
       "        <td>3</td>\n",
       "        <td>Wild Hops</td>\n",
       "        <td>ITA</td>\n",
       "        <td>myemail@wildhops.it</td>\n",
       "        <td>None</td>\n",
       "        <td>None</td>\n",
       "    </tr>\n",
       "    <tr>\n",
       "        <td>4</td>\n",
       "        <td>Beer Paradise</td>\n",
       "        <td>ITA</td>\n",
       "        <td>beer@beerparadise.it</td>\n",
       "        <td>None</td>\n",
       "        <td>None</td>\n",
       "    </tr>\n",
       "</table>"
      ],
      "text/plain": [
       "[(1, 'A hop in the park', 'USA', 'anewemail@ahop.com', 2, 1),\n",
       " (1, 'A hop in the park', 'USA', 'anewemail@ahop.com', 3, 1),\n",
       " (2, 'Allez Hops! Cave à bièr', 'FRA', 'itsme@allezhops.com', None, None),\n",
       " (3, 'Wild Hops', 'ITA', 'myemail@wildhops.it', None, None),\n",
       " (4, 'Beer Paradise', 'ITA', 'beer@beerparadise.it', None, None)]"
      ]
     },
     "execution_count": 26,
     "metadata": {},
     "output_type": "execute_result"
    }
   ],
   "source": [
    "%%sql\n",
    "\n",
    "SELECT *\n",
    "FROM suppliers\n",
    "LEFT JOIN supplier_to_product ON suppliers.supplierID = supplier_to_product.supID;"
   ]
  },
  {
   "cell_type": "code",
   "execution_count": 27,
   "id": "8ec58e74",
   "metadata": {},
   "outputs": [
    {
     "name": "stdout",
     "output_type": "stream",
     "text": [
      " * mysql+mysqlconnector://root:***@db\n",
      "2 rows affected.\n"
     ]
    },
    {
     "data": {
      "text/html": [
       "<table>\n",
       "    <tr>\n",
       "        <th>supplierID</th>\n",
       "        <th>supplierName</th>\n",
       "        <th>countryCode</th>\n",
       "        <th>email</th>\n",
       "        <th>prodID</th>\n",
       "        <th>supID</th>\n",
       "    </tr>\n",
       "    <tr>\n",
       "        <td>1</td>\n",
       "        <td>A hop in the park</td>\n",
       "        <td>USA</td>\n",
       "        <td>anewemail@ahop.com</td>\n",
       "        <td>2</td>\n",
       "        <td>1</td>\n",
       "    </tr>\n",
       "    <tr>\n",
       "        <td>1</td>\n",
       "        <td>A hop in the park</td>\n",
       "        <td>USA</td>\n",
       "        <td>anewemail@ahop.com</td>\n",
       "        <td>3</td>\n",
       "        <td>1</td>\n",
       "    </tr>\n",
       "</table>"
      ],
      "text/plain": [
       "[(1, 'A hop in the park', 'USA', 'anewemail@ahop.com', 2, 1),\n",
       " (1, 'A hop in the park', 'USA', 'anewemail@ahop.com', 3, 1)]"
      ]
     },
     "execution_count": 27,
     "metadata": {},
     "output_type": "execute_result"
    }
   ],
   "source": [
    "%%sql\n",
    "\n",
    "SELECT *\n",
    "FROM suppliers\n",
    "RIGHT JOIN supplier_to_product ON suppliers.supplierID = supplier_to_product.supID;"
   ]
  },
  {
   "cell_type": "markdown",
   "id": "caf6e72f",
   "metadata": {},
   "source": [
    "We can concatenate multiple join operations to extract higher level information out of the connections stored in the DB\n",
    "\n",
    "- Add the corresponding product names the the previous join"
   ]
  },
  {
   "cell_type": "code",
   "execution_count": 28,
   "id": "bcef0fc0",
   "metadata": {},
   "outputs": [
    {
     "name": "stdout",
     "output_type": "stream",
     "text": [
      " * mysql+mysqlconnector://root:***@db\n",
      "5 rows affected.\n"
     ]
    },
    {
     "data": {
      "text/html": [
       "<table>\n",
       "    <tr>\n",
       "        <th>Field</th>\n",
       "        <th>Type</th>\n",
       "        <th>Null</th>\n",
       "        <th>Key</th>\n",
       "        <th>Default</th>\n",
       "        <th>Extra</th>\n",
       "    </tr>\n",
       "    <tr>\n",
       "        <td>productID</td>\n",
       "        <td>b&#x27;int&#x27;</td>\n",
       "        <td>NO</td>\n",
       "        <td>PRI</td>\n",
       "        <td>None</td>\n",
       "        <td>auto_increment</td>\n",
       "    </tr>\n",
       "    <tr>\n",
       "        <td>productName</td>\n",
       "        <td>b&#x27;varchar(30)&#x27;</td>\n",
       "        <td>NO</td>\n",
       "        <td></td>\n",
       "        <td>b&#x27;&#x27;</td>\n",
       "        <td></td>\n",
       "    </tr>\n",
       "    <tr>\n",
       "        <td>unitPrice</td>\n",
       "        <td>b&#x27;float&#x27;</td>\n",
       "        <td>NO</td>\n",
       "        <td></td>\n",
       "        <td>b&#x27;100000&#x27;</td>\n",
       "        <td></td>\n",
       "    </tr>\n",
       "    <tr>\n",
       "        <td>unitsInStock</td>\n",
       "        <td>b&#x27;int unsigned&#x27;</td>\n",
       "        <td>NO</td>\n",
       "        <td></td>\n",
       "        <td>b&#x27;0&#x27;</td>\n",
       "        <td></td>\n",
       "    </tr>\n",
       "    <tr>\n",
       "        <td>isDiscontinued</td>\n",
       "        <td>b&#x27;tinyint(1)&#x27;</td>\n",
       "        <td>NO</td>\n",
       "        <td></td>\n",
       "        <td>b&#x27;0&#x27;</td>\n",
       "        <td></td>\n",
       "    </tr>\n",
       "</table>"
      ],
      "text/plain": [
       "[('productID', b'int', 'NO', 'PRI', None, 'auto_increment'),\n",
       " ('productName', b'varchar(30)', 'NO', '', b'', ''),\n",
       " ('unitPrice', b'float', 'NO', '', b'100000', ''),\n",
       " ('unitsInStock', b'int unsigned', 'NO', '', b'0', ''),\n",
       " ('isDiscontinued', b'tinyint(1)', 'NO', '', b'0', '')]"
      ]
     },
     "execution_count": 28,
     "metadata": {},
     "output_type": "execute_result"
    }
   ],
   "source": [
    "%%sql\n",
    "\n",
    "DESCRIBE products;"
   ]
  },
  {
   "cell_type": "code",
   "execution_count": 31,
   "id": "48a34de8",
   "metadata": {},
   "outputs": [
    {
     "name": "stdout",
     "output_type": "stream",
     "text": [
      " * mysql+mysqlconnector://root:***@db\n",
      "2 rows affected.\n"
     ]
    },
    {
     "data": {
      "text/html": [
       "<table>\n",
       "    <tr>\n",
       "        <th>prodID</th>\n",
       "        <th>supID</th>\n",
       "        <th>supplierID</th>\n",
       "        <th>supplierName</th>\n",
       "        <th>countryCode</th>\n",
       "        <th>email</th>\n",
       "        <th>productID</th>\n",
       "        <th>productName</th>\n",
       "        <th>unitPrice</th>\n",
       "        <th>unitsInStock</th>\n",
       "        <th>isDiscontinued</th>\n",
       "    </tr>\n",
       "    <tr>\n",
       "        <td>2</td>\n",
       "        <td>1</td>\n",
       "        <td>1</td>\n",
       "        <td>A hop in the park</td>\n",
       "        <td>USA</td>\n",
       "        <td>anewemail@ahop.com</td>\n",
       "        <td>2</td>\n",
       "        <td>Punk IPA</td>\n",
       "        <td>5.2</td>\n",
       "        <td>45</td>\n",
       "        <td>0</td>\n",
       "    </tr>\n",
       "    <tr>\n",
       "        <td>3</td>\n",
       "        <td>1</td>\n",
       "        <td>1</td>\n",
       "        <td>A hop in the park</td>\n",
       "        <td>USA</td>\n",
       "        <td>anewemail@ahop.com</td>\n",
       "        <td>3</td>\n",
       "        <td>HB Dunkel</td>\n",
       "        <td>4.5</td>\n",
       "        <td>250</td>\n",
       "        <td>0</td>\n",
       "    </tr>\n",
       "</table>"
      ],
      "text/plain": [
       "[(2, 1, 1, 'A hop in the park', 'USA', 'anewemail@ahop.com', 2, 'Punk IPA', 5.2, 45, 0),\n",
       " (3, 1, 1, 'A hop in the park', 'USA', 'anewemail@ahop.com', 3, 'HB Dunkel', 4.5, 250, 0)]"
      ]
     },
     "execution_count": 31,
     "metadata": {},
     "output_type": "execute_result"
    }
   ],
   "source": [
    "%%sql\n",
    "\n",
    "SELECT *\n",
    "FROM supplier_to_product\n",
    "INNER JOIN suppliers ON suppliers.supplierID = supplier_to_product.supID\n",
    "INNER JOIN products  ON products.productID   = supplier_to_product.prodID;"
   ]
  },
  {
   "cell_type": "markdown",
   "id": "bdc02965",
   "metadata": {},
   "source": [
    "The conjunction of `SELECT`, `GROUP BY` and `JOIN` statements will allow us to extract non trivial information out of any Relational DB.\n",
    "\n",
    "Add the following records to the `supplier_to_product` table and perform the following queries:\n",
    "    \n",
    "| supplier | products provided |\n",
    "| --- | --- | \n",
    "| \"Wild Hops\" | \"Founders Porter\", \"Punk IPA\", \"HB Dunkel\", \"Damm Complot\" |    \n",
    "| \"Beer Paradise\" | \"Punk IPA\", \"Damm Complot\" |    \n",
    "| \"Allez Hops! Cave à bièr\" | \"Founders Porter\", \"HB Dunkel\" |    \n",
    "\n",
    "1. show all suppliers of \"Damm Complot\"\n",
    "2. retrieve the email address of all possible suppliers of \"Punk IPA\"\n",
    "3. list the unit price of all products supplied by Italian firms, listed in descending order   "
   ]
  },
  {
   "cell_type": "code",
   "execution_count": 37,
   "id": "54705bcd",
   "metadata": {},
   "outputs": [
    {
     "name": "stdout",
     "output_type": "stream",
     "text": [
      "(2, 1)\n",
      "(3, 1)\n",
      "(1, 2)\n",
      "(3, 2)\n",
      "(1, 3)\n",
      "(2, 3)\n",
      "(3, 3)\n",
      "(5, 3)\n",
      "(2, 4)\n",
      "(5, 4)\n"
     ]
    }
   ],
   "source": [
    "sql_ = \"INSERT INTO supplier_to_product (prodID, supID) VALUES (%s, %s)\"\n",
    "val_ = [\n",
    "    # supplier Allez Hops\n",
    "    (1, 2),\n",
    "    (3, 2),\n",
    "\n",
    "    # supplier Wild Hops\n",
    "    (1, 3),\n",
    "    (2, 3),\n",
    "    (3, 3),\n",
    "    (5, 3),\n",
    "\n",
    "    # supplier Beer Paradise\n",
    "    (2, 4),\n",
    "    (5, 4),\n",
    "]\n",
    "\n",
    "dbc.executemany(sql_, val_)\n",
    "db.commit()\n",
    "     \n",
    "dbc.execute(\"SELECT * FROM supplier_to_product\"); \n",
    "for _ in dbc:\n",
    "     print(_)"
   ]
  },
  {
   "cell_type": "markdown",
   "id": "5c00a32b",
   "metadata": {},
   "source": [
    "#### 1 - show all suppliers of \"Damm Complot\""
   ]
  },
  {
   "cell_type": "code",
   "execution_count": 38,
   "id": "f5a5c7b1",
   "metadata": {},
   "outputs": [
    {
     "name": "stdout",
     "output_type": "stream",
     "text": [
      " * mysql+mysqlconnector://root:***@db\n",
      "2 rows affected.\n"
     ]
    },
    {
     "data": {
      "text/html": [
       "<table>\n",
       "    <tr>\n",
       "        <th>supplierName</th>\n",
       "    </tr>\n",
       "    <tr>\n",
       "        <td>Wild Hops</td>\n",
       "    </tr>\n",
       "    <tr>\n",
       "        <td>Beer Paradise</td>\n",
       "    </tr>\n",
       "</table>"
      ],
      "text/plain": [
       "[('Wild Hops',), ('Beer Paradise',)]"
      ]
     },
     "execution_count": 38,
     "metadata": {},
     "output_type": "execute_result"
    }
   ],
   "source": [
    "%%sql\n",
    "\n",
    "SELECT suppliers.supplierName\n",
    "FROM supplier_to_product\n",
    "INNER JOIN suppliers ON supplier_to_product.supID = suppliers.supplierID\n",
    "INNER JOIN products ON supplier_to_product.prodID = products.productID\n",
    "WHERE products.productName = \"Damm Complot\";"
   ]
  },
  {
   "cell_type": "markdown",
   "id": "c98de550",
   "metadata": {},
   "source": [
    "#### 2 - retrieve the email address of all possible suppliers of \"Punk IPA\""
   ]
  },
  {
   "cell_type": "code",
   "execution_count": 44,
   "id": "539cc19f",
   "metadata": {
    "scrolled": true
   },
   "outputs": [
    {
     "name": "stdout",
     "output_type": "stream",
     "text": [
      " * mysql+mysqlconnector://root:***@db\n",
      "3 rows affected.\n"
     ]
    },
    {
     "data": {
      "text/html": [
       "<table>\n",
       "    <tr>\n",
       "        <th>supplierName</th>\n",
       "        <th>email</th>\n",
       "    </tr>\n",
       "    <tr>\n",
       "        <td>A hop in the park</td>\n",
       "        <td>anewemail@ahop.com</td>\n",
       "    </tr>\n",
       "    <tr>\n",
       "        <td>Wild Hops</td>\n",
       "        <td>myemail@wildhops.it</td>\n",
       "    </tr>\n",
       "    <tr>\n",
       "        <td>Beer Paradise</td>\n",
       "        <td>beer@beerparadise.it</td>\n",
       "    </tr>\n",
       "</table>"
      ],
      "text/plain": [
       "[('A hop in the park', 'anewemail@ahop.com'),\n",
       " ('Wild Hops', 'myemail@wildhops.it'),\n",
       " ('Beer Paradise', 'beer@beerparadise.it')]"
      ]
     },
     "execution_count": 44,
     "metadata": {},
     "output_type": "execute_result"
    }
   ],
   "source": [
    "%%sql\n",
    "\n",
    "SELECT suppliers.supplierName, suppliers.email\n",
    "FROM supplier_to_product\n",
    "INNER JOIN suppliers ON supplier_to_product.supID = suppliers.supplierID\n",
    "INNER JOIN products ON supplier_to_product.prodID = products.productID\n",
    "WHERE products.productName = \"Punk IPA\";"
   ]
  },
  {
   "cell_type": "markdown",
   "id": "2a352e19",
   "metadata": {},
   "source": [
    "#### 3 - list the unit price of all products supplied by Italian firms, listed in descending order   "
   ]
  },
  {
   "cell_type": "code",
   "execution_count": 45,
   "id": "4e189810",
   "metadata": {},
   "outputs": [
    {
     "name": "stdout",
     "output_type": "stream",
     "text": [
      " * mysql+mysqlconnector://root:***@db\n",
      "4 rows affected.\n"
     ]
    },
    {
     "data": {
      "text/html": [
       "<table>\n",
       "    <tr>\n",
       "        <th>unitPrice</th>\n",
       "        <th>productName</th>\n",
       "    </tr>\n",
       "    <tr>\n",
       "        <td>5.2</td>\n",
       "        <td>Punk IPA</td>\n",
       "    </tr>\n",
       "    <tr>\n",
       "        <td>4.9</td>\n",
       "        <td>Founders Porter</td>\n",
       "    </tr>\n",
       "    <tr>\n",
       "        <td>4.5</td>\n",
       "        <td>HB Dunkel</td>\n",
       "    </tr>\n",
       "    <tr>\n",
       "        <td>3.7</td>\n",
       "        <td>Damm Complot</td>\n",
       "    </tr>\n",
       "</table>"
      ],
      "text/plain": [
       "[(5.2, 'Punk IPA'),\n",
       " (4.9, 'Founders Porter'),\n",
       " (4.5, 'HB Dunkel'),\n",
       " (3.7, 'Damm Complot')]"
      ]
     },
     "execution_count": 45,
     "metadata": {},
     "output_type": "execute_result"
    }
   ],
   "source": [
    "%%sql\n",
    "\n",
    "SELECT DISTINCT products.unitPrice, products.productName\n",
    "FROM supplier_to_product\n",
    "INNER JOIN suppliers ON supplier_to_product.supID = suppliers.supplierID\n",
    "INNER JOIN products ON supplier_to_product.prodID = products.productID\n",
    "WHERE suppliers.countryCode = \"ITA\"\n",
    "ORDER BY unitPrice DESC;"
   ]
  },
  {
   "cell_type": "markdown",
   "id": "213be6c6",
   "metadata": {},
   "source": [
    "## 05 Queries on well-formed DBs\n",
    "\n",
    "In MySQL we can load entire DBs from external files.\n",
    "\n",
    "The files will contain the full DB structure (tables and constraints) and will populate all tables with all records \n",
    "\n",
    "To load a DB into the MySQL server from the interactive docker shell, we can simply do the following:\n",
    "\n",
    "1. Create a new DB named `world`\n",
    "2. Import the content of the file `/mapd-workspace/dbs/world.sql` into the newly created DB via\n",
    "    \n",
    "```bash\n",
    "$ mysql -u root -p world < /mapd-workspace/dbs/world.sql\n",
    "```\n",
    "\n",
    "_NB_: The `opt/workspace` directory has been defined as a Docker Volume, and is a shared location with your computer..."
   ]
  },
  {
   "cell_type": "markdown",
   "id": "33389e65",
   "metadata": {},
   "source": [
    "Using the `world` DB, perform queries to answer the folliwing questions.\n",
    "\n",
    "Additional references can be found here https://dev.mysql.com/doc/world-setup/en/\n",
    "\n",
    "\n",
    "Use a single query to answer the questions\n",
    "\n",
    "1. Which country has the largest population?\n",
    "2. Get the total number of cities in Canada.\n",
    "3. Select the country with the most cities.\n",
    "4. List all the languages spoken in the Southeast Asia region.\n",
    "5. Identify the 5 most spoken language by number of countries.\n",
    "6. What is the total population of the cities in the Caribbean region?\n",
    "7. What Countries have a City named \"Kingston\"?\n",
    "8. Plot the population density by country, limiting to the 25 with least density.\n",
    "9. Plot the GNP (Gross Nation Product) of all countries that become independent between 1850 and 1910, limiting to the 10 with highest GNP.\n",
    "10. Create a scatter plot of the life expentency vs the GNP of all countries that have Spanish as their Official language.\n",
    "\n",
    "\n",
    "Suggestions:\n",
    "- Start by inspecting the DB tables structure\n",
    "- When in doubt, check the table content by selecting a few lines (use `LIMIT` to avoid returining all records)\n",
    "- Before finalizing the query, you can always perform \"intermediate\" queries to check if complex operations (groupby and join mostly) are stated correctly"
   ]
  },
  {
   "cell_type": "code",
   "execution_count": 2,
   "id": "55584aaf",
   "metadata": {},
   "outputs": [
    {
     "name": "stdout",
     "output_type": "stream",
     "text": [
      "0 rows affected.\n",
      "3 rows affected.\n"
     ]
    },
    {
     "data": {
      "text/html": [
       "<table>\n",
       "    <tr>\n",
       "        <th>Tables_in_world</th>\n",
       "    </tr>\n",
       "    <tr>\n",
       "        <td>city</td>\n",
       "    </tr>\n",
       "    <tr>\n",
       "        <td>country</td>\n",
       "    </tr>\n",
       "    <tr>\n",
       "        <td>countrylanguage</td>\n",
       "    </tr>\n",
       "</table>"
      ],
      "text/plain": [
       "[('city',), ('country',), ('countrylanguage',)]"
      ]
     },
     "execution_count": 2,
     "metadata": {},
     "output_type": "execute_result"
    }
   ],
   "source": [
    "%%sql\n",
    "\n",
    "USE world; \n",
    "\n",
    "SHOW TABLES;"
   ]
  },
  {
   "cell_type": "markdown",
   "id": "962bf1c9",
   "metadata": {},
   "source": [
    "#### 1 - Which country has the largest population?"
   ]
  },
  {
   "cell_type": "code",
   "execution_count": 3,
   "id": "82ba1e41",
   "metadata": {},
   "outputs": [
    {
     "name": "stdout",
     "output_type": "stream",
     "text": [
      " * mysql+mysqlconnector://root:***@db\n",
      "1 rows affected.\n"
     ]
    },
    {
     "data": {
      "text/html": [
       "<table>\n",
       "    <tr>\n",
       "        <th>Name</th>\n",
       "        <th>Population</th>\n",
       "    </tr>\n",
       "    <tr>\n",
       "        <td>China</td>\n",
       "        <td>1277558000</td>\n",
       "    </tr>\n",
       "</table>"
      ],
      "text/plain": [
       "[('China', 1277558000)]"
      ]
     },
     "execution_count": 3,
     "metadata": {},
     "output_type": "execute_result"
    }
   ],
   "source": [
    "%%sql \n",
    "\n",
    "SELECT Name, Population\n",
    "FROM country\n",
    "ORDER BY Population DESC\n",
    "LIMIT 1;"
   ]
  },
  {
   "cell_type": "markdown",
   "id": "132f54ba",
   "metadata": {},
   "source": [
    "#### 2 - Get the total number of cities in Canada."
   ]
  },
  {
   "cell_type": "code",
   "execution_count": 15,
   "id": "221ca3ab",
   "metadata": {},
   "outputs": [
    {
     "name": "stdout",
     "output_type": "stream",
     "text": [
      " * mysql+mysqlconnector://root:***@db\n",
      "1 rows affected.\n"
     ]
    },
    {
     "data": {
      "text/html": [
       "<table>\n",
       "    <tr>\n",
       "        <th>CitiesInCanada</th>\n",
       "    </tr>\n",
       "    <tr>\n",
       "        <td>49</td>\n",
       "    </tr>\n",
       "</table>"
      ],
      "text/plain": [
       "[(49,)]"
      ]
     },
     "execution_count": 15,
     "metadata": {},
     "output_type": "execute_result"
    }
   ],
   "source": [
    "%%sql\n",
    "\n",
    "SELECT COUNT(1) AS CitiesInCanada\n",
    "FROM city\n",
    "WHERE CountryCode = \"CAN\";"
   ]
  },
  {
   "cell_type": "markdown",
   "id": "3aa6bf99",
   "metadata": {},
   "source": [
    "#### 3 - Select the country with the most cities."
   ]
  },
  {
   "cell_type": "code",
   "execution_count": 16,
   "id": "d934f4d9",
   "metadata": {},
   "outputs": [
    {
     "name": "stdout",
     "output_type": "stream",
     "text": [
      " * mysql+mysqlconnector://root:***@db\n",
      "10 rows affected.\n"
     ]
    },
    {
     "data": {
      "text/html": [
       "<table>\n",
       "    <tr>\n",
       "        <th>Name</th>\n",
       "        <th>CityCount</th>\n",
       "    </tr>\n",
       "    <tr>\n",
       "        <td>China</td>\n",
       "        <td>363</td>\n",
       "    </tr>\n",
       "    <tr>\n",
       "        <td>India</td>\n",
       "        <td>341</td>\n",
       "    </tr>\n",
       "    <tr>\n",
       "        <td>United States</td>\n",
       "        <td>274</td>\n",
       "    </tr>\n",
       "    <tr>\n",
       "        <td>Brazil</td>\n",
       "        <td>250</td>\n",
       "    </tr>\n",
       "    <tr>\n",
       "        <td>Japan</td>\n",
       "        <td>248</td>\n",
       "    </tr>\n",
       "    <tr>\n",
       "        <td>Russian Federation</td>\n",
       "        <td>189</td>\n",
       "    </tr>\n",
       "    <tr>\n",
       "        <td>Mexico</td>\n",
       "        <td>173</td>\n",
       "    </tr>\n",
       "    <tr>\n",
       "        <td>Philippines</td>\n",
       "        <td>136</td>\n",
       "    </tr>\n",
       "    <tr>\n",
       "        <td>Germany</td>\n",
       "        <td>93</td>\n",
       "    </tr>\n",
       "    <tr>\n",
       "        <td>Indonesia</td>\n",
       "        <td>85</td>\n",
       "    </tr>\n",
       "</table>"
      ],
      "text/plain": [
       "[('China', 363),\n",
       " ('India', 341),\n",
       " ('United States', 274),\n",
       " ('Brazil', 250),\n",
       " ('Japan', 248),\n",
       " ('Russian Federation', 189),\n",
       " ('Mexico', 173),\n",
       " ('Philippines', 136),\n",
       " ('Germany', 93),\n",
       " ('Indonesia', 85)]"
      ]
     },
     "execution_count": 16,
     "metadata": {},
     "output_type": "execute_result"
    }
   ],
   "source": [
    "%%sql \n",
    "\n",
    "SELECT country.Name, COUNT(1) AS CityCount\n",
    "FROM city\n",
    "INNER JOIN country ON country.Code = CountryCode\n",
    "GROUP BY CountryCode\n",
    "ORDER BY CityCount DESC\n",
    "LIMIT 10;"
   ]
  },
  {
   "cell_type": "markdown",
   "id": "ede586ff",
   "metadata": {},
   "source": [
    "#### 4 - List all the languages spoken in the 'Southeast Asia' region."
   ]
  },
  {
   "cell_type": "code",
   "execution_count": 19,
   "id": "9b49e27b",
   "metadata": {},
   "outputs": [
    {
     "name": "stdout",
     "output_type": "stream",
     "text": [
      " * mysql+mysqlconnector://root:***@db\n",
      "3 rows affected.\n"
     ]
    },
    {
     "data": {
      "text/html": [
       "<table>\n",
       "    <tr>\n",
       "        <th>Region</th>\n",
       "        <th>COUNT(1)</th>\n",
       "    </tr>\n",
       "    <tr>\n",
       "        <td>Southern and Central Asia</td>\n",
       "        <td>14</td>\n",
       "    </tr>\n",
       "    <tr>\n",
       "        <td>Southeast Asia</td>\n",
       "        <td>11</td>\n",
       "    </tr>\n",
       "    <tr>\n",
       "        <td>Eastern Asia</td>\n",
       "        <td>8</td>\n",
       "    </tr>\n",
       "</table>"
      ],
      "text/plain": [
       "[('Southern and Central Asia', 14),\n",
       " ('Southeast Asia', 11),\n",
       " ('Eastern Asia', 8)]"
      ]
     },
     "execution_count": 19,
     "metadata": {},
     "output_type": "execute_result"
    }
   ],
   "source": [
    "%%sql\n",
    "\n",
    "SELECT Region, COUNT(1)\n",
    "FROM country\n",
    "WHERE Region LIKE \"%Asia\"\n",
    "GROUP BY Region"
   ]
  },
  {
   "cell_type": "code",
   "execution_count": 17,
   "id": "cdbcecc3",
   "metadata": {},
   "outputs": [
    {
     "name": "stdout",
     "output_type": "stream",
     "text": [
      " * mysql+mysqlconnector://root:***@db\n",
      "47 rows affected.\n"
     ]
    },
    {
     "data": {
      "text/html": [
       "<table>\n",
       "    <tr>\n",
       "        <th>Language</th>\n",
       "    </tr>\n",
       "    <tr>\n",
       "        <td>Bali</td>\n",
       "    </tr>\n",
       "    <tr>\n",
       "        <td>Banja</td>\n",
       "    </tr>\n",
       "    <tr>\n",
       "        <td>Batakki</td>\n",
       "    </tr>\n",
       "    <tr>\n",
       "        <td>Bicol</td>\n",
       "    </tr>\n",
       "    <tr>\n",
       "        <td>Bugi</td>\n",
       "    </tr>\n",
       "    <tr>\n",
       "        <td>Burmese</td>\n",
       "    </tr>\n",
       "    <tr>\n",
       "        <td>Cebuano</td>\n",
       "    </tr>\n",
       "    <tr>\n",
       "        <td>Chin</td>\n",
       "    </tr>\n",
       "    <tr>\n",
       "        <td>Chinese</td>\n",
       "    </tr>\n",
       "    <tr>\n",
       "        <td>Dusun</td>\n",
       "    </tr>\n",
       "    <tr>\n",
       "        <td>English</td>\n",
       "    </tr>\n",
       "    <tr>\n",
       "        <td>Hiligaynon</td>\n",
       "    </tr>\n",
       "    <tr>\n",
       "        <td>Iban</td>\n",
       "    </tr>\n",
       "    <tr>\n",
       "        <td>Ilocano</td>\n",
       "    </tr>\n",
       "    <tr>\n",
       "        <td>Javanese</td>\n",
       "    </tr>\n",
       "    <tr>\n",
       "        <td>Kachin</td>\n",
       "    </tr>\n",
       "    <tr>\n",
       "        <td>Karen</td>\n",
       "    </tr>\n",
       "    <tr>\n",
       "        <td>Kayah</td>\n",
       "    </tr>\n",
       "    <tr>\n",
       "        <td>Khmer</td>\n",
       "    </tr>\n",
       "    <tr>\n",
       "        <td>Kuy</td>\n",
       "    </tr>\n",
       "    <tr>\n",
       "        <td>Lao</td>\n",
       "    </tr>\n",
       "    <tr>\n",
       "        <td>Lao-Soung</td>\n",
       "    </tr>\n",
       "    <tr>\n",
       "        <td>Madura</td>\n",
       "    </tr>\n",
       "    <tr>\n",
       "        <td>Maguindanao</td>\n",
       "    </tr>\n",
       "    <tr>\n",
       "        <td>Malay</td>\n",
       "    </tr>\n",
       "    <tr>\n",
       "        <td>Malay-English</td>\n",
       "    </tr>\n",
       "    <tr>\n",
       "        <td>Man</td>\n",
       "    </tr>\n",
       "    <tr>\n",
       "        <td>Maranao</td>\n",
       "    </tr>\n",
       "    <tr>\n",
       "        <td>Miao</td>\n",
       "    </tr>\n",
       "    <tr>\n",
       "        <td>Minangkabau</td>\n",
       "    </tr>\n",
       "    <tr>\n",
       "        <td>Mon</td>\n",
       "    </tr>\n",
       "    <tr>\n",
       "        <td>Mon-khmer</td>\n",
       "    </tr>\n",
       "    <tr>\n",
       "        <td>Muong</td>\n",
       "    </tr>\n",
       "    <tr>\n",
       "        <td>Nung</td>\n",
       "    </tr>\n",
       "    <tr>\n",
       "        <td>Pampango</td>\n",
       "    </tr>\n",
       "    <tr>\n",
       "        <td>Pangasinan</td>\n",
       "    </tr>\n",
       "    <tr>\n",
       "        <td>Pilipino</td>\n",
       "    </tr>\n",
       "    <tr>\n",
       "        <td>Portuguese</td>\n",
       "    </tr>\n",
       "    <tr>\n",
       "        <td>Rakhine</td>\n",
       "    </tr>\n",
       "    <tr>\n",
       "        <td>Shan</td>\n",
       "    </tr>\n",
       "    <tr>\n",
       "        <td>Sunda</td>\n",
       "    </tr>\n",
       "    <tr>\n",
       "        <td>Tamil</td>\n",
       "    </tr>\n",
       "    <tr>\n",
       "        <td>Thai</td>\n",
       "    </tr>\n",
       "    <tr>\n",
       "        <td>Tho</td>\n",
       "    </tr>\n",
       "    <tr>\n",
       "        <td>Tšam</td>\n",
       "    </tr>\n",
       "    <tr>\n",
       "        <td>Vietnamese</td>\n",
       "    </tr>\n",
       "    <tr>\n",
       "        <td>Waray-waray</td>\n",
       "    </tr>\n",
       "</table>"
      ],
      "text/plain": [
       "[('Bali',),\n",
       " ('Banja',),\n",
       " ('Batakki',),\n",
       " ('Bicol',),\n",
       " ('Bugi',),\n",
       " ('Burmese',),\n",
       " ('Cebuano',),\n",
       " ('Chin',),\n",
       " ('Chinese',),\n",
       " ('Dusun',),\n",
       " ('English',),\n",
       " ('Hiligaynon',),\n",
       " ('Iban',),\n",
       " ('Ilocano',),\n",
       " ('Javanese',),\n",
       " ('Kachin',),\n",
       " ('Karen',),\n",
       " ('Kayah',),\n",
       " ('Khmer',),\n",
       " ('Kuy',),\n",
       " ('Lao',),\n",
       " ('Lao-Soung',),\n",
       " ('Madura',),\n",
       " ('Maguindanao',),\n",
       " ('Malay',),\n",
       " ('Malay-English',),\n",
       " ('Man',),\n",
       " ('Maranao',),\n",
       " ('Miao',),\n",
       " ('Minangkabau',),\n",
       " ('Mon',),\n",
       " ('Mon-khmer',),\n",
       " ('Muong',),\n",
       " ('Nung',),\n",
       " ('Pampango',),\n",
       " ('Pangasinan',),\n",
       " ('Pilipino',),\n",
       " ('Portuguese',),\n",
       " ('Rakhine',),\n",
       " ('Shan',),\n",
       " ('Sunda',),\n",
       " ('Tamil',),\n",
       " ('Thai',),\n",
       " ('Tho',),\n",
       " ('Tšam',),\n",
       " ('Vietnamese',),\n",
       " ('Waray-waray',)]"
      ]
     },
     "execution_count": 17,
     "metadata": {},
     "output_type": "execute_result"
    }
   ],
   "source": [
    "%%sql\n",
    "\n",
    "SELECT DISTINCT Language\n",
    "FROM countrylanguage\n",
    "INNER JOIN country ON country.Code = CountryCode\n",
    "WHERE (country.Region = \"Southeast Asia\")\n",
    "ORDER BY Language;"
   ]
  },
  {
   "cell_type": "markdown",
   "id": "e78c356c",
   "metadata": {},
   "source": [
    "#### 5 - Identify the 5 most spoken language by number of countries."
   ]
  },
  {
   "cell_type": "code",
   "execution_count": 18,
   "id": "f0a4bd62",
   "metadata": {},
   "outputs": [
    {
     "name": "stdout",
     "output_type": "stream",
     "text": [
      " * mysql+mysqlconnector://root:***@db\n",
      "5 rows affected.\n"
     ]
    },
    {
     "data": {
      "text/html": [
       "<table>\n",
       "    <tr>\n",
       "        <th>Language</th>\n",
       "        <th>CountryCount</th>\n",
       "    </tr>\n",
       "    <tr>\n",
       "        <td>English</td>\n",
       "        <td>60</td>\n",
       "    </tr>\n",
       "    <tr>\n",
       "        <td>Arabic</td>\n",
       "        <td>33</td>\n",
       "    </tr>\n",
       "    <tr>\n",
       "        <td>Spanish</td>\n",
       "        <td>28</td>\n",
       "    </tr>\n",
       "    <tr>\n",
       "        <td>French</td>\n",
       "        <td>25</td>\n",
       "    </tr>\n",
       "    <tr>\n",
       "        <td>German</td>\n",
       "        <td>19</td>\n",
       "    </tr>\n",
       "</table>"
      ],
      "text/plain": [
       "[('English', 60),\n",
       " ('Arabic', 33),\n",
       " ('Spanish', 28),\n",
       " ('French', 25),\n",
       " ('German', 19)]"
      ]
     },
     "execution_count": 18,
     "metadata": {},
     "output_type": "execute_result"
    }
   ],
   "source": [
    "%%sql\n",
    "\n",
    "SELECT Language, COUNT(1) AS CountryCount\n",
    "FROM countrylanguage\n",
    "GROUP BY Language\n",
    "ORDER BY CountryCount DESC\n",
    "LIMIT 5;"
   ]
  },
  {
   "cell_type": "markdown",
   "id": "0c6bd462",
   "metadata": {},
   "source": [
    "#### 6 - What is the total population of the cities in the Caribbean region?"
   ]
  },
  {
   "cell_type": "code",
   "execution_count": null,
   "id": "e9391107",
   "metadata": {},
   "outputs": [],
   "source": [
    "%%sql\n",
    "\n",
    "\n",
    "# SELECT \n",
    "# FROM \n",
    "# LEFT JOIN  ON\n",
    "# WHERE ;"
   ]
  },
  {
   "cell_type": "markdown",
   "id": "88ca7683",
   "metadata": {},
   "source": [
    "#### 7 - What Countries have a City named \"Kingston\"?"
   ]
  },
  {
   "cell_type": "code",
   "execution_count": null,
   "id": "39ed0c03",
   "metadata": {},
   "outputs": [],
   "source": [
    "%%sql\n",
    "\n",
    "# SELECT \n",
    "# FROM \n",
    "# RIGHT JOIN  ON \n",
    "# WHERE ;"
   ]
  },
  {
   "cell_type": "markdown",
   "id": "51b4dbf2",
   "metadata": {},
   "source": [
    "#### 8 - Plot the population density by country, limiting to the 25 with least density."
   ]
  },
  {
   "cell_type": "code",
   "execution_count": null,
   "id": "7f953dd0",
   "metadata": {},
   "outputs": [],
   "source": [
    "res_ = %sql SELECT     FROM     ORDER BY        LIMIT ;\n",
    "\n",
    "print(res_)\n",
    "\n",
    "plt.figure(figsize=(16,3))\n",
    "res_.bar();\n",
    "plt.xticks(rotation='vertical');"
   ]
  },
  {
   "cell_type": "markdown",
   "id": "03f10978",
   "metadata": {},
   "source": [
    "#### 9 - Plot the GNP (Gross Nation Product) of all countries that become independent between 1850 and 1910, limiting to the 10 with highest GNP."
   ]
  },
  {
   "cell_type": "code",
   "execution_count": null,
   "id": "1c792e1b",
   "metadata": {},
   "outputs": [],
   "source": [
    "res_ = %sql SELECT     FROM      WHERE      ORDER BY   ;\n",
    "\n",
    "print(res_)\n",
    "\n",
    "plt.figure(figsize=(16,3))\n",
    "res_.bar();\n",
    "plt.xticks(rotation='vertical');"
   ]
  },
  {
   "cell_type": "markdown",
   "id": "ca8c72b6",
   "metadata": {},
   "source": [
    "#### 10 - Create a scatter plot of the life expentency vs the GNP of all countries that have Spanish as their Official language."
   ]
  },
  {
   "cell_type": "code",
   "execution_count": null,
   "id": "8879653b",
   "metadata": {},
   "outputs": [],
   "source": [
    "res_ = %sql SELECT  \\\n",
    "            FROM  \\\n",
    "            RIGHT JOIN   ON   \\\n",
    "            WHERE \\\n",
    "            AND ;\n",
    "\n",
    "print(res_)\n",
    "\n",
    "plt.figure(figsize=(8,6))\n",
    "for _ in res_:\n",
    "    plt.scatter(_[0], _[1], s=50);\n",
    "    plt.annotate(_[2], (float(_[0]) * 1.002, float(_[1]) * 1.002));\n",
    "plt.ylabel('GNP')\n",
    "plt.xlabel('LifeExpectancy')\n"
   ]
  },
  {
   "cell_type": "markdown",
   "id": "f65b5e6a",
   "metadata": {},
   "source": [
    "## 06 More on queries "
   ]
  },
  {
   "cell_type": "markdown",
   "id": "4d0da673",
   "metadata": {},
   "source": [
    "Let' import a well-structured DB, with several tables and relationships, to be used as a sandbox for further exercises on queries.\n",
    "\n",
    "The `.sql` file can be found at: `/mapd-workspace/dbs/IMDb_pruned.sql`.\n",
    "\n",
    "The DB is freely available and is taken from the IMDb (Internet Movie Database) website (https://www.imdb.com/interfaces/).\n",
    "\n",
    "The entire database is composed of a dozen of tables, hosing all people involved in Movies, Shorts, TV Show Epidoses and more since the 1890s. \n",
    "\n",
    "To simplify the execution of queries, we will work with a slimmed-down version of the entire DB, with still plenty of records for us to extract interesting information."
   ]
  },
  {
   "cell_type": "markdown",
   "id": "aa986853",
   "metadata": {},
   "source": [
    "1. Create a new DB named `IMDb`\n",
    "2. Import the content of the file `/mapd-workspace/dbs/IMDb_pruned.sql` into the newly created DB\n",
    "(this might take a minute or two...)"
   ]
  },
  {
   "cell_type": "markdown",
   "id": "33480edc",
   "metadata": {},
   "source": [
    "### Check which tables are available"
   ]
  },
  {
   "cell_type": "code",
   "execution_count": null,
   "id": "afa74a9f",
   "metadata": {},
   "outputs": [],
   "source": []
  },
  {
   "cell_type": "markdown",
   "id": "3f1328fb",
   "metadata": {},
   "source": [
    "### Describe the content of table Names_"
   ]
  },
  {
   "cell_type": "code",
   "execution_count": null,
   "id": "01d462ae",
   "metadata": {},
   "outputs": [],
   "source": []
  },
  {
   "cell_type": "markdown",
   "id": "f5c88b21",
   "metadata": {},
   "source": [
    "### People by birth year\n",
    "\n",
    "A) Start by limiting the query to 1000 entries\n",
    "\n",
    "1. Draw an histogram of the year of birth\n",
    "2. Draw a second histogram with the year of birth of the 1000 youngest people in the list"
   ]
  },
  {
   "cell_type": "code",
   "execution_count": null,
   "id": "104f01c6",
   "metadata": {},
   "outputs": [],
   "source": [
    "# A.1"
   ]
  },
  {
   "cell_type": "code",
   "execution_count": null,
   "id": "f30292c0",
   "metadata": {},
   "outputs": [],
   "source": [
    "# A.2"
   ]
  },
  {
   "cell_type": "markdown",
   "id": "4ddda65c",
   "metadata": {},
   "source": [
    "B) Extend the query to all records in the table\n",
    "\n",
    "1. Check for outliers (inspect min and max)\n",
    "2. If any outlier is found, limit the query to a reasonable range (at least people born after 1850)\n",
    "3. Draw a new histogram with the year of birth\n",
    "4. Compute the mean and std of year of birth"
   ]
  },
  {
   "cell_type": "code",
   "execution_count": null,
   "id": "89f6b059",
   "metadata": {},
   "outputs": [],
   "source": [
    "# B.1"
   ]
  },
  {
   "cell_type": "code",
   "execution_count": null,
   "id": "080eec52",
   "metadata": {},
   "outputs": [],
   "source": [
    "# B.2"
   ]
  },
  {
   "cell_type": "code",
   "execution_count": null,
   "id": "b9dd4a70",
   "metadata": {},
   "outputs": [],
   "source": [
    "# B.3"
   ]
  },
  {
   "cell_type": "code",
   "execution_count": null,
   "id": "4fd5c24f",
   "metadata": {},
   "outputs": [],
   "source": [
    "# B.4"
   ]
  },
  {
   "cell_type": "markdown",
   "id": "3b00fe99",
   "metadata": {},
   "source": [
    "### Movie stats\n",
    "\n",
    "1. Plot how many titles can be found in the DB per year, over the past 25 years\n",
    "2. List the names of all actors who have had the role of Spider-Man and the corresponding Title\n",
    "3. List and count the 10 people who appeared the most in movies by \"Wes Anderson\""
   ]
  },
  {
   "cell_type": "markdown",
   "id": "892b2c35",
   "metadata": {},
   "source": [
    "#### 1 - Plot how many titles can be found in the DB per year, over the past 25 years"
   ]
  },
  {
   "cell_type": "code",
   "execution_count": null,
   "id": "650e01bc",
   "metadata": {},
   "outputs": [],
   "source": []
  },
  {
   "cell_type": "markdown",
   "id": "5022d3c3",
   "metadata": {},
   "source": [
    "#### 2 - List the names of all actors who have had the role of Spider-Man and the corresponding Title "
   ]
  },
  {
   "cell_type": "code",
   "execution_count": null,
   "id": "92cf36e0",
   "metadata": {},
   "outputs": [],
   "source": []
  },
  {
   "cell_type": "markdown",
   "id": "db261245",
   "metadata": {},
   "source": [
    "#### 3 - List and count the 10 people who appeared the most in movies by \"Wes Anderson\""
   ]
  },
  {
   "cell_type": "code",
   "execution_count": null,
   "id": "c0d000b7",
   "metadata": {},
   "outputs": [],
   "source": []
  },
  {
   "cell_type": "markdown",
   "id": "00c0c411",
   "metadata": {},
   "source": [
    "### Is the IMDB only about movies? \n",
    "\n",
    "1. Check the number of different media types contained in the DB\n",
    "2. Plot an histogram about the number of media types per group\n",
    "3. Find the name and rating of the oldest videogame stored in the DB "
   ]
  },
  {
   "cell_type": "markdown",
   "id": "f963733e",
   "metadata": {},
   "source": [
    "#### 1 - Check the number of different media types contained in the DB"
   ]
  },
  {
   "cell_type": "code",
   "execution_count": null,
   "id": "4d16e40f",
   "metadata": {},
   "outputs": [],
   "source": []
  },
  {
   "cell_type": "markdown",
   "id": "2ce1e02e",
   "metadata": {},
   "source": [
    "#### 2 - Plot an histogram about the number of media types per group"
   ]
  },
  {
   "cell_type": "code",
   "execution_count": null,
   "id": "ad5bc141",
   "metadata": {},
   "outputs": [],
   "source": []
  },
  {
   "cell_type": "markdown",
   "id": "37952def",
   "metadata": {},
   "source": [
    "#### 3 - Find the name and rating of the oldest videogame stored in the DB "
   ]
  },
  {
   "cell_type": "code",
   "execution_count": null,
   "id": "a32cf1aa",
   "metadata": {},
   "outputs": [],
   "source": []
  },
  {
   "cell_type": "markdown",
   "id": "e2830a48",
   "metadata": {},
   "source": [
    "### Identify interesting outliers \n",
    "\n",
    "1. List the names of movies whose title begin with \"The\" have a runtime between 3 and 4 hours.\n",
    "2. What actor had the most roles as 'Self'?\n",
    "3. Identify what TV series had more than 1,000 episodes, and check the first- and last-episod year"
   ]
  },
  {
   "cell_type": "markdown",
   "id": "80811ded",
   "metadata": {},
   "source": [
    "#### 1 - List the names of movies whose title begin with \"The\" have a runtime between 3 and 4 hours."
   ]
  },
  {
   "cell_type": "code",
   "execution_count": null,
   "id": "cb54fe28",
   "metadata": {},
   "outputs": [],
   "source": []
  },
  {
   "cell_type": "markdown",
   "id": "b0b10f31",
   "metadata": {},
   "source": [
    "#### 2 - What actor had the most roles as 'Self'?"
   ]
  },
  {
   "cell_type": "code",
   "execution_count": null,
   "id": "fc47a7b9",
   "metadata": {},
   "outputs": [],
   "source": []
  },
  {
   "cell_type": "markdown",
   "id": "0b55feae",
   "metadata": {},
   "source": [
    "#### 3 - Identify what TV series had more than 1,000 episodes, and check the first- and last-episod year"
   ]
  },
  {
   "cell_type": "code",
   "execution_count": null,
   "id": "922a64ab",
   "metadata": {},
   "outputs": [],
   "source": []
  },
  {
   "cell_type": "markdown",
   "id": "b82192a7",
   "metadata": {},
   "source": [
    "### It's all about the ratings \n",
    "\n",
    "1. Group all movies by decade and plot the rating distribution. Limit the query to the movies with at least 1000 ratings.\n",
    "2. Plot the average rating of each episode of Games of Thrones. Group by season and compute the average and std for each season\n",
    "3. Plot the total numer of movies per year, divided by genre (Action, Comedy, Drama, Thriller, Fantasy), and the yearly rating average per genre"
   ]
  },
  {
   "cell_type": "markdown",
   "id": "dada1b9b",
   "metadata": {},
   "source": [
    "#### 1 - Group all movies by decade and plot the rating distribution. Limit the query to the movies with at least 1000 ratings."
   ]
  },
  {
   "cell_type": "code",
   "execution_count": null,
   "id": "1ae8f835",
   "metadata": {},
   "outputs": [],
   "source": []
  },
  {
   "cell_type": "markdown",
   "id": "0545fe7b",
   "metadata": {},
   "source": [
    "#### 2 - Plot the average rating of each episode of Games of Thrones. Group by season and compute the average and std for each season"
   ]
  },
  {
   "cell_type": "code",
   "execution_count": null,
   "id": "f3d04fa7",
   "metadata": {},
   "outputs": [],
   "source": []
  },
  {
   "cell_type": "markdown",
   "id": "b9b7a15b",
   "metadata": {},
   "source": [
    "#### 3 - Plot the total numer of movies per year, divided by genre (Action, Comedy, Drama, Thriller, Fantasy), and the yearly rating average per genre"
   ]
  },
  {
   "cell_type": "code",
   "execution_count": null,
   "id": "a9073bb5",
   "metadata": {},
   "outputs": [],
   "source": []
  }
 ],
 "metadata": {
  "kernelspec": {
   "display_name": "Python 3 (ipykernel)",
   "language": "python",
   "name": "python3"
  },
  "language_info": {
   "codemirror_mode": {
    "name": "ipython",
    "version": 3
   },
   "file_extension": ".py",
   "mimetype": "text/x-python",
   "name": "python",
   "nbconvert_exporter": "python",
   "pygments_lexer": "ipython3",
   "version": "3.9.12"
  }
 },
 "nbformat": 4,
 "nbformat_minor": 5
}
