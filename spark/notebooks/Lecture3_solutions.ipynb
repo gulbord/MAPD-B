{
 "cells": [
  {
   "cell_type": "markdown",
   "id": "bb40c3f9",
   "metadata": {},
   "source": [
    "# Lecture 3: Spark Streaming\n",
    "\n",
    "_Spark Streaming_ is an extension of the Spark API that enables scalabe stream processing.\n",
    "\n",
    "The continous stream of input data can be ingested from many data sources such as **Kafka**, **Amazon s3** or **TCP sockets**. \n",
    "\n",
    "The Spark API allows to process data via high-level functions such as *map* and *reduce*. As we are going to see, it is also possible to use dataframe operations. \n",
    "\n",
    "Processed data can be exported to an external database and used to make live dashboards or offline analyses, or stored in files, or be used in a further stage of a Kafka pipeline. \n",
    "\n",
    "Overall, the practice of reading data from a set of sources, pre-process it, and then store it in a different format for later analysis is extremely common, and has its own name: **realtime ETL pipelines**.\n",
    "- **E**xtract\n",
    "- **T**transform\n",
    "- **L**oad"
   ]
  },
  {
   "cell_type": "markdown",
   "id": "64c9d87b",
   "metadata": {},
   "source": [
    "Spark streaming works by dividing the input data into _micro-batches_ that can be treated as static datasets. In Spark this is referred to as a *discretized stream* (*DStream*). The DStream is represented using RDDs.\n",
    "\n",
    "![DStream](imgs/lecture3/DStream.png)\n",
    "\n",
    "Any transformation applied on the DStream, i.e. anything like a `Dstream.map()`, will act independently on each batch. For example, in the image below, we can filter the original RDD to remove some data and produce a new stream. \n",
    "\n",
    "![DStream_filter](imgs/lecture3/Dstream_filter.png)\n",
    "\n",
    "In this lecture we will see how to setup a simple stream using a TCP socket as a data source."
   ]
  },
  {
   "cell_type": "markdown",
   "id": "14513840",
   "metadata": {},
   "source": [
    "## Create and Start a Spark Session"
   ]
  },
  {
   "cell_type": "code",
   "execution_count": 1,
   "id": "86d10fc5",
   "metadata": {},
   "outputs": [
    {
     "name": "stderr",
     "output_type": "stream",
     "text": [
      "Setting default log level to \"WARN\".\n",
      "To adjust logging level use sc.setLogLevel(newLevel). For SparkR, use setLogLevel(newLevel).\n"
     ]
    },
    {
     "name": "stdout",
     "output_type": "stream",
     "text": [
      "23/05/01 08:49:12 WARN NativeCodeLoader: Unable to load native-hadoop library for your platform... using builtin-java classes where applicable\n"
     ]
    }
   ],
   "source": [
    "# import the python libraries to create/connect to a Spark Session\n",
    "from pyspark.sql import SparkSession\n",
    "\n",
    "# build a SparkSession \n",
    "#   connect to the master node on the port where the master node is listening (7077)\n",
    "#   declare the app name \n",
    "#   configure the executor memory to 512 MB\n",
    "#   either *connect* or *create* a new Spark Context\n",
    "spark = SparkSession.builder \\\n",
    "    .master(\"spark://spark-master:7077\")\\\n",
    "    .appName(\"My streaming spark application\")\\\n",
    "    .config(\"spark.executor.memory\", \"512m\")\\\n",
    "    .config(\"spark.sql.execution.arrow.pyspark.enabled\", \"true\")\\\n",
    "    .config(\"spark.sql.execution.arrow.pyspark.fallback.enabled\", \"false\")\\\n",
    "    .getOrCreate()"
   ]
  },
  {
   "cell_type": "code",
   "execution_count": 2,
   "id": "e155269b",
   "metadata": {},
   "outputs": [
    {
     "data": {
      "text/html": [
       "\n",
       "            <div>\n",
       "                <p><b>SparkSession - in-memory</b></p>\n",
       "                \n",
       "        <div>\n",
       "            <p><b>SparkContext</b></p>\n",
       "\n",
       "            <p><a href=\"http://3fd5b6750b5a:4040\">Spark UI</a></p>\n",
       "\n",
       "            <dl>\n",
       "              <dt>Version</dt>\n",
       "                <dd><code>v3.3.2</code></dd>\n",
       "              <dt>Master</dt>\n",
       "                <dd><code>spark://spark-master:7077</code></dd>\n",
       "              <dt>AppName</dt>\n",
       "                <dd><code>My streaming spark application</code></dd>\n",
       "            </dl>\n",
       "        </div>\n",
       "        \n",
       "            </div>\n",
       "        "
      ],
      "text/plain": [
       "<pyspark.sql.session.SparkSession at 0x7fa3d49d7fa0>"
      ]
     },
     "execution_count": 2,
     "metadata": {},
     "output_type": "execute_result"
    }
   ],
   "source": [
    "spark"
   ]
  },
  {
   "cell_type": "code",
   "execution_count": 3,
   "id": "323d6601",
   "metadata": {},
   "outputs": [
    {
     "data": {
      "text/html": [
       "\n",
       "        <div>\n",
       "            <p><b>SparkContext</b></p>\n",
       "\n",
       "            <p><a href=\"http://3fd5b6750b5a:4040\">Spark UI</a></p>\n",
       "\n",
       "            <dl>\n",
       "              <dt>Version</dt>\n",
       "                <dd><code>v3.3.2</code></dd>\n",
       "              <dt>Master</dt>\n",
       "                <dd><code>spark://spark-master:7077</code></dd>\n",
       "              <dt>AppName</dt>\n",
       "                <dd><code>My streaming spark application</code></dd>\n",
       "            </dl>\n",
       "        </div>\n",
       "        "
      ],
      "text/plain": [
       "<SparkContext master=spark://spark-master:7077 appName=My streaming spark application>"
      ]
     },
     "execution_count": 3,
     "metadata": {},
     "output_type": "execute_result"
    }
   ],
   "source": [
    "# create a spark context\n",
    "sc = spark.sparkContext\n",
    "\n",
    "# print its status\n",
    "sc"
   ]
  },
  {
   "cell_type": "markdown",
   "id": "7b253c26",
   "metadata": {},
   "source": [
    "## Spark _Streaming_ context\n",
    "\n",
    "The first step of a Spark streaming application is the creation of a `StreamingContext`. \n",
    "\n",
    "The `StreamingContext` is a crucial component in Spark Streaming. It's responsible for initializing the Spark Streaming application and specifying how to handle micro-batches of data. \n",
    "\n",
    "The `StreamingContext` is a similar concept to the `sparkContext` but it requires to be initialized with some additional information to know how to handle the micro-batches.\n",
    "\n",
    "To create a `StreamingContext`, you can use the `StreamingContext(SparkContext, batch_interval)` constructor. The `SparkContext` object provides the necessary environment for Spark Streaming, while the `batch_interval` parameter determines the (wall-time) duration of each batch in seconds.\n",
    "\n",
    "It's important to note that you can only have at most **one** `StreamingContext` for each Spark application. Attempting to create multiple `StreamingContext` objects in a single application will result in errors."
   ]
  },
  {
   "cell_type": "markdown",
   "id": "8d6d5a18",
   "metadata": {},
   "source": [
    "Create a Spark `StreamingContext` with a batch interval of 2 seconds"
   ]
  },
  {
   "cell_type": "code",
   "execution_count": 4,
   "id": "256cf2be",
   "metadata": {},
   "outputs": [],
   "source": [
    "from pyspark.streaming import StreamingContext\n",
    "\n",
    "# create a streaming context with a batch interval of 2 seconds\n",
    "ssc = StreamingContext(sc, 2) "
   ]
  },
  {
   "cell_type": "markdown",
   "id": "530aaeae",
   "metadata": {},
   "source": [
    "### Starting and Stopping Spark Streaming\n",
    "\n",
    "To process data in real-time using Spark, we need to create a `StreamingContext`, define the operations to perform on the data, and specify the data source and sink to connect to.\n",
    "\n",
    "Once the streaming operations are defined, we can start processing the stream by calling the `.start()` method of the `StreamingContext` object (`ssc` in our case). Similarly, we can stop the streaming processing by calling the `.stop()` method.\n",
    "\n",
    "**NOTE:** It's important to note that when we stop the `StreamingContext`, the default behavior is to also stop the `SparkContext`. This means that the entire Spark application will be closed by default. To prevent this, we can pass the `stopSparkContext=False` option when stopping the `StreamingContext`."
   ]
  },
  {
   "cell_type": "markdown",
   "id": "922cfde8",
   "metadata": {},
   "source": [
    "### TCP Socket Source\n",
    "\n",
    "For this example spark will read data from a TCP socket using Spark Streaming.\n",
    "\n",
    "A TCP socket is a communication endpoint used to establish a connection between two devices over a network.\n",
    "You can think of it as a telephone connection: two endpoints have to enstablish a connection; once the connection is enstablished, a communication can occur, with a data transfer; as soon as one of the two ends interrupts the connection the whole communcation is lost. \n",
    "\n",
    "We will generate a dummy data stream representing fake credit card transactions.\n",
    "\n",
    "A simple python program will be used to create this data stream.\n",
    "You will be able to find it in `utils/producer.py`. \n",
    "When executed, the producer will try to enstablish a TCP connection and send data on port `5555` of a given `host` (`spark-master` in our case). \n",
    "\n",
    "Before executing the producer program, take a moment to review the `producer.py` code to understand how it works. It's important to understand the logic of the program before using it to generate the streaming data."
   ]
  },
  {
   "cell_type": "code",
   "execution_count": 5,
   "id": "ab8d890a",
   "metadata": {},
   "outputs": [
    {
     "name": "stdout",
     "output_type": "stream",
     "text": [
      "import socket\r\n",
      "import json\r\n",
      "import time\r\n",
      "import random\r\n",
      "import argparse\r\n",
      "\r\n",
      "# Define some lists of first and last names to use for generating random messages\r\n",
      "first_names=('John','Andy','Joe','Alice','Jill')\r\n",
      "last_names=('Johnson','Smith','Jones', 'Millers','Darby')\r\n",
      "\r\n",
      "# Define a function for sending messages over the socket\r\n",
      "def send_messages(client_socket):\r\n",
      "    try:\r\n",
      "        while 1:\r\n",
      "            # Generate a random message with a random name, surname, amount, delta_t, and flag\r\n",
      "            msg = {\r\n",
      "                'name': random.choice(first_names),\r\n",
      "                'surname': random.choice(last_names),\r\n",
      "                'amount': '{:.2f}'.format(random.random()*1000),\r\n",
      "                'delta_t': '{:.2f}'.format(random.random()*10),\r\n",
      "                'flag': random.choices([0,1], weights=[0.8, 0.2])[0]\r\n",
      "            }\r\n",
      "            # Encode the message as JSON and send it over the socket\r\n",
      "            client_socket.send((json.dumps(msg)+\"\\n\").encode('utf-8'))\r\n",
      "            # Sleep for a short amount of time to avoid overwhelming the network\r\n",
      "            time.sleep(0.1)\r\n",
      "\r\n",
      "    except KeyboardInterrupt:\r\n",
      "        # If the user presses Ctrl+C, exit gracefully\r\n",
      "        exit()\r\n",
      "\r\n",
      "if __name__ == \"__main__\":\r\n",
      "\r\n",
      "    # Parse command-line arguments to determine the hostname to use\r\n",
      "    parser = argparse.ArgumentParser()\r\n",
      "    parser.add_argument('--hostname', type=str, required=True)\r\n",
      "    args = parser.parse_args()\r\n",
      "    print('Using hostname:', args.hostname)\r\n",
      "\r\n",
      "    # Create a new socket and bind it to the specified hostname and port\r\n",
      "    new_skt = socket.socket()\r\n",
      "    host = args.hostname\r\n",
      "    port = 5555 \r\n",
      "    new_skt.bind((host, port))\r\n",
      "    print(\"Now listening on port: %s\" % str(port))\r\n",
      "\r\n",
      "    # Wait for a client to connect to the socket\r\n",
      "    new_skt.listen(5) #  waiting for client connection.\r\n",
      "    c, addr = new_skt.accept()\r\n",
      "    print(\"Received request from: \" + str(addr))\r\n",
      "    # connection established, send messaged\r\n",
      "    send_messages(c)\r\n"
     ]
    }
   ],
   "source": [
    "! cat utils/producer.py"
   ]
  },
  {
   "cell_type": "markdown",
   "id": "478a375f",
   "metadata": {},
   "source": [
    "The producer will generate new records in the form of a random combination of:\n",
    "- `name`\n",
    "- `surname`\n",
    "- `amount`: amount of the credit card transaction\n",
    "- `delta_t`: time between transactions\n",
    "- `flag`: random flag to indicate if potentially fraudolent or not\n",
    "\n",
    "These information will be formatted into a `.json` data format"
   ]
  },
  {
   "cell_type": "markdown",
   "id": "3d127aa0",
   "metadata": {},
   "source": [
    "### Declaring the `StreamingContext` data source as a TCP socket\n",
    "\n",
    "To inform Spark that the StreamingContext data source will be a TCP socket located at a specific `hostname` and `port`, we can use the `socketTextStream(hostname, port)` method.\n",
    "\n",
    "Refer to the [StreamingContext documentation](https://spark.apache.org/docs/latest/api/python/reference/api/pyspark.streaming.StreamingContext.html) for additional available options.\n"
   ]
  },
  {
   "cell_type": "code",
   "execution_count": 6,
   "id": "4b95ad16",
   "metadata": {},
   "outputs": [],
   "source": [
    "# the hostname and port number\n",
    "hostname = \"spark-master\"\n",
    "portnumber = 5555\n",
    "\n",
    "# declare the Spark Streaming source as TCP socket \n",
    "socket_stream = ssc.socketTextStream(hostname, portnumber)"
   ]
  },
  {
   "cell_type": "markdown",
   "id": "92ad88b4",
   "metadata": {},
   "source": [
    "### Start the python producer.py script\n",
    "\n",
    "From a terminal/WSL, connect to the `spark-master` Docker container using the command\n",
    "```bash\n",
    "docker exec -it spark-master bash\n",
    "``` \n",
    "\n",
    "From inside the docker container, move to the `/mapd-workspace` folder and execute the python script with the option `--hostname spark-master`:\n",
    "\n",
    "```bash\n",
    "python notebooks/utils/producer.py --hostname spark-master\n",
    "```"
   ]
  },
  {
   "cell_type": "markdown",
   "id": "163466ca",
   "metadata": {},
   "source": [
    "## Exploring the data stream\n",
    "\n",
    "The first thing we need to to is load the data describing each transaction, formatted as `json`."
   ]
  },
  {
   "cell_type": "code",
   "execution_count": 7,
   "id": "a3e7ab07",
   "metadata": {},
   "outputs": [],
   "source": [
    "import json\n",
    "\n",
    "# use the map() transformation to apply the same function to all rdds\n",
    "# the function we want to run is the json.loads() of the messages\n",
    "json_stream = socket_stream.map(lambda msg: json.loads(msg))"
   ]
  },
  {
   "cell_type": "markdown",
   "id": "64806443",
   "metadata": {},
   "source": [
    "It is possible to print some elements of each batch with `pprint()`. This can be used to explore the RDDs."
   ]
  },
  {
   "cell_type": "code",
   "execution_count": 8,
   "id": "49c29264",
   "metadata": {},
   "outputs": [],
   "source": [
    "json_stream.pprint()"
   ]
  },
  {
   "cell_type": "markdown",
   "id": "dfa0ad3b",
   "metadata": {},
   "source": [
    "**Start the computations with `ssc.start()` and stop with `ssc.stop(stopSparkContext=False)`.** \n",
    "\n",
    "_Remember that once the StreamingContext has been stopped, it must be redefined anew if we want to restart the streaming computations._"
   ]
  },
  {
   "cell_type": "code",
   "execution_count": 9,
   "id": "21738d69",
   "metadata": {
    "scrolled": true
   },
   "outputs": [
    {
     "name": "stderr",
     "output_type": "stream",
     "text": [
      "                                                                                \r"
     ]
    },
    {
     "name": "stdout",
     "output_type": "stream",
     "text": [
      "-------------------------------------------\n",
      "Time: 2023-05-01 08:49:48\n",
      "-------------------------------------------\n",
      "{'name': 'Alice', 'surname': 'Millers', 'amount': '653.56', 'delta_t': '6.86', 'flag': 0}\n",
      "{'name': 'Andy', 'surname': 'Smith', 'amount': '822.73', 'delta_t': '2.51', 'flag': 0}\n",
      "{'name': 'Jill', 'surname': 'Millers', 'amount': '218.77', 'delta_t': '5.55', 'flag': 0}\n",
      "{'name': 'Jill', 'surname': 'Smith', 'amount': '507.11', 'delta_t': '5.60', 'flag': 0}\n",
      "{'name': 'Andy', 'surname': 'Millers', 'amount': '848.11', 'delta_t': '5.19', 'flag': 0}\n",
      "{'name': 'Jill', 'surname': 'Jones', 'amount': '268.81', 'delta_t': '1.82', 'flag': 0}\n",
      "{'name': 'Joe', 'surname': 'Jones', 'amount': '627.61', 'delta_t': '7.85', 'flag': 0}\n",
      "{'name': 'Alice', 'surname': 'Smith', 'amount': '272.17', 'delta_t': '6.92', 'flag': 0}\n",
      "{'name': 'Joe', 'surname': 'Johnson', 'amount': '475.46', 'delta_t': '0.71', 'flag': 0}\n",
      "{'name': 'Andy', 'surname': 'Johnson', 'amount': '296.66', 'delta_t': '6.33', 'flag': 0}\n",
      "\n",
      "-------------------------------------------\n",
      "Time: 2023-05-01 08:49:50\n",
      "-------------------------------------------\n",
      "{'name': 'Joe', 'surname': 'Johnson', 'amount': '139.42', 'delta_t': '7.27', 'flag': 0}\n",
      "{'name': 'Joe', 'surname': 'Smith', 'amount': '882.32', 'delta_t': '6.09', 'flag': 1}\n",
      "{'name': 'Jill', 'surname': 'Johnson', 'amount': '775.17', 'delta_t': '4.94', 'flag': 1}\n",
      "{'name': 'John', 'surname': 'Millers', 'amount': '710.31', 'delta_t': '5.37', 'flag': 0}\n",
      "{'name': 'Joe', 'surname': 'Darby', 'amount': '886.31', 'delta_t': '9.97', 'flag': 0}\n",
      "{'name': 'Alice', 'surname': 'Millers', 'amount': '12.81', 'delta_t': '0.85', 'flag': 1}\n",
      "{'name': 'Joe', 'surname': 'Johnson', 'amount': '674.12', 'delta_t': '1.93', 'flag': 0}\n",
      "{'name': 'Joe', 'surname': 'Darby', 'amount': '746.10', 'delta_t': '4.73', 'flag': 1}\n",
      "{'name': 'Joe', 'surname': 'Johnson', 'amount': '653.15', 'delta_t': '2.26', 'flag': 0}\n",
      "{'name': 'Jill', 'surname': 'Jones', 'amount': '216.05', 'delta_t': '1.59', 'flag': 0}\n",
      "...\n",
      "\n"
     ]
    },
    {
     "name": "stderr",
     "output_type": "stream",
     "text": [
      "\r",
      "[Stage 2:>                                                          (0 + 1) / 1]\r"
     ]
    }
   ],
   "source": [
    "ssc.start()"
   ]
  },
  {
   "cell_type": "code",
   "execution_count": 10,
   "id": "c3b52cdb",
   "metadata": {
    "scrolled": false
   },
   "outputs": [
    {
     "name": "stdout",
     "output_type": "stream",
     "text": [
      "23/05/01 08:49:51 ERROR ReceiverTracker: Deregistered receiver for stream 0: Stopped by driver\n",
      "23/05/01 08:49:52 ERROR TaskSchedulerImpl: Lost executor 1 on 192.168.160.6: Remote RPC client disassociated. Likely due to containers exceeding thresholds, or network issues. Check driver logs for WARN messages.\n"
     ]
    },
    {
     "name": "stderr",
     "output_type": "stream",
     "text": [
      "\r",
      "                                                                                \r"
     ]
    },
    {
     "name": "stdout",
     "output_type": "stream",
     "text": [
      "-------------------------------------------\n",
      "Time: 2023-05-01 08:49:52\n",
      "-------------------------------------------\n",
      "{'name': 'John', 'surname': 'Jones', 'amount': '395.48', 'delta_t': '8.76', 'flag': 1}\n",
      "{'name': 'Jill', 'surname': 'Darby', 'amount': '195.46', 'delta_t': '7.89', 'flag': 0}\n",
      "{'name': 'Jill', 'surname': 'Johnson', 'amount': '418.01', 'delta_t': '7.13', 'flag': 0}\n",
      "{'name': 'John', 'surname': 'Johnson', 'amount': '728.47', 'delta_t': '7.73', 'flag': 1}\n",
      "{'name': 'Alice', 'surname': 'Millers', 'amount': '370.59', 'delta_t': '1.75', 'flag': 0}\n",
      "{'name': 'Jill', 'surname': 'Darby', 'amount': '227.28', 'delta_t': '1.27', 'flag': 0}\n",
      "{'name': 'Jill', 'surname': 'Johnson', 'amount': '199.19', 'delta_t': '7.78', 'flag': 0}\n",
      "{'name': 'Jill', 'surname': 'Jones', 'amount': '342.27', 'delta_t': '5.98', 'flag': 0}\n",
      "{'name': 'Joe', 'surname': 'Jones', 'amount': '962.43', 'delta_t': '6.29', 'flag': 0}\n",
      "{'name': 'Alice', 'surname': 'Jones', 'amount': '418.33', 'delta_t': '6.73', 'flag': 1}\n",
      "...\n",
      "\n"
     ]
    }
   ],
   "source": [
    "ssc.stop(stopSparkContext=False)"
   ]
  },
  {
   "cell_type": "markdown",
   "id": "5b8962c5",
   "metadata": {},
   "source": [
    "## Working with Streaming data\n",
    "\n",
    "Now that we know how to stream data into Spark, let's explore how we can perform basic distributed operations on the data.\n",
    "\n",
    "However, before we can proceed, we need to make sure that we have properly restarted the `StreamingContext` object, as the connection between the socket and Spark will be lost when the context is stopped.\n",
    "\n",
    "To restart the streaming context, we need to:\n",
    "1. Create a new `StreamingContext` object (we can reuse the `ssc` object in our case).\n",
    "2. Point it to the correct TCP socket and port where the data is being streamed from.\n",
    "3. Restart the Python producer application.\n",
    "\n",
    "Once the `StreamingContext` is properly set up and running, we can start applying distributed operations to the streaming data. "
   ]
  },
  {
   "cell_type": "code",
   "execution_count": 11,
   "id": "90b929f8",
   "metadata": {},
   "outputs": [],
   "source": [
    "# create a new Spark StreamingContext with a batch wall-time of 2 seconds\n",
    "ssc = StreamingContext(sc, 2) "
   ]
  },
  {
   "cell_type": "code",
   "execution_count": 12,
   "id": "d77b1a11",
   "metadata": {},
   "outputs": [],
   "source": [
    "# define the socket stream using the appropriate endpoint and port\n",
    "socket_stream = ssc.socketTextStream(hostname, 5555)"
   ]
  },
  {
   "cell_type": "code",
   "execution_count": 13,
   "id": "81adcd1c",
   "metadata": {},
   "outputs": [],
   "source": [
    "# start the python producer script\n",
    "### from the terminal/WSL shell"
   ]
  },
  {
   "cell_type": "markdown",
   "id": "74bb5cc3",
   "metadata": {},
   "source": [
    "We now start listening on the TCP socket, interpreting the input data stream as `json` loads.\n",
    "\n",
    "**Remember to get rid of the `pprint()` action, that would otherwise be performed continously, dumping the input data into the Jupyter cells.**"
   ]
  },
  {
   "cell_type": "code",
   "execution_count": 14,
   "id": "e75fce98",
   "metadata": {},
   "outputs": [],
   "source": [
    "# create a new json_stream object by reading the json loads from the socket\n",
    "json_stream = socket_stream.map(lambda msg: json.loads(msg))"
   ]
  },
  {
   "cell_type": "markdown",
   "id": "d35f25ac",
   "metadata": {},
   "source": [
    "#### Converting Streaming Data to a DataFrame\n",
    "\n",
    "To make use of Spark's higher-level APIs, we can convert each batch of streaming data into a DataFrame. \n",
    "\n",
    "To do so, we'll first need to convert the numeric features of the incoming JSON data into Python floats and integers. This is a simple type cast operation that can be easily parallelized.\n",
    "\n",
    "After casting the data, we can create a `Row` object for each transaction using the resulting Python dictionary. These `Row` objects can then be used to create a DataFrame, allowing us to use Spark's higher-level APIs for data processing."
   ]
  },
  {
   "cell_type": "code",
   "execution_count": 15,
   "id": "c0782d9c",
   "metadata": {},
   "outputs": [],
   "source": [
    "from pyspark.sql import Row\n",
    "\n",
    "# create a row for each message \n",
    "#   convert each numerical value to the proper python type\n",
    "#   create a row from each message\n",
    "def create_row_rdd(t):\n",
    "    t['amount'] = float(t['amount'])\n",
    "    t['delta_t'] = float(t['delta_t'])\n",
    "    t['flag'] = int(t['flag'])\n",
    "    \n",
    "    return Row(**t)\n",
    "\n",
    "# apply the transformation to the json_stream rdd\n",
    "row_stream = json_stream.map(create_row_rdd)"
   ]
  },
  {
   "cell_type": "markdown",
   "id": "fceaa05f",
   "metadata": {},
   "source": [
    "The method `DStream.foreachRDD` can be used to apply custom transformations to each *batch* of data. \n",
    "\n",
    "In our case, we are insterested in converting each batch of data into a Spark DataFrame and perform operations, such as counting the number of transactions for each user. \n",
    "\n",
    "In this specific use-case, we can identify batches where a user has performed more than one transaction with the `flag` field equal to one as fraudulent. For simplicity, we will assume that these batches represent fraudulent activity.\n",
    "\n",
    "In reality, this might be a flag you might set on the fly using statig-rules or a ML-based model."
   ]
  },
  {
   "cell_type": "markdown",
   "id": "3a261177",
   "metadata": {},
   "source": [
    "**NOTE**: If left unconstrained, Spark might want to create a very large number of partitions for this streaming application.\n",
    "\n",
    "Using way more partitions than necessary always results in a huge over-head due to the partition-to-partition communications.\n",
    "\n",
    "We can force Spark to use a small yet reasonable (given the problem and resources we have) number of partitions\n",
    "thus making it more efficient in the case of small workloads and few executors"
   ]
  },
  {
   "cell_type": "code",
   "execution_count": 16,
   "id": "7224636b",
   "metadata": {},
   "outputs": [],
   "source": [
    "# this line is a trick to force Spark to use a small number of partitions (4 in this example)\n",
    "spark.conf.set(\"spark.sql.shuffle.partitions\", 4)"
   ]
  },
  {
   "cell_type": "markdown",
   "id": "c981912f",
   "metadata": {},
   "source": [
    "### Process each bach to identify possibly fraudolent transactions\n",
    "\n",
    "\n",
    "1. convert the RDD into a DataFrame (provide the schema if necessary)\n",
    "2. compute the _number of flagged transactions per batch per user_ (create a unique `userID` field as the combination of _FirstLastname_ to idenfity individual users)\n",
    "3. identify all the \"suspicios\" transactions per user: all users with more than one flagged transaction per batch will be assigned a `isFraud` boolean variable\n",
    "4. format the resulting `userID` and `isFraud` information in a DataFrame to mimick a \"live-report\" of the suspicious transactions"
   ]
  },
  {
   "cell_type": "code",
   "execution_count": 17,
   "id": "81cbd75c",
   "metadata": {},
   "outputs": [],
   "source": [
    "from pyspark.sql.functions import concat, col, lit, countDistinct\n",
    "\n",
    "def process_batch(rdd):\n",
    "    # convert rdd to df\n",
    "    #   check the documentation and/or the Lecture2 notebook \n",
    "    #   for details on how to create and pass a schema to a dataframe   \n",
    "    df = rdd.toDF(\n",
    "        schema='name string, surname string, amount float, delta_t float, flag int'\n",
    "    )\n",
    "    \n",
    "    # find number of transactions for each user when flag = 1 \n",
    "    #    declare a new column to create a unique user identifier \n",
    "    #    this can be easily done by concatenating first- and last-name fields\n",
    "    #    check the concat function from pyspark.sql.functions \n",
    "    num_transactions = df.where(col('flag')==1)\\\n",
    "                         .withColumn('id', concat(col('name'), col('surname')))\\\n",
    "                         .groupBy('id')\\\n",
    "                        .count()\n",
    "    \n",
    "    # find suspicious transactions\n",
    "    #    filter only users with more than one transaction per batch\n",
    "    #    create a \"fraud\" column with a value of 1 for the selected users (check the lit function)\n",
    "    #    from the dataframe, project only the unique id and fraud columns\n",
    "    sus_transactions = num_transactions.where(col('count')>1)\\\n",
    "                                       .withColumn('fraud', lit(1))\\\n",
    "                                       .select(col('id'), col('fraud'))\n",
    "    \n",
    "    # (trigger an automatic alert)\n",
    "    # print the first 5 items of the resulting dataframe\n",
    "    sus_transactions.show(5)"
   ]
  },
  {
   "cell_type": "markdown",
   "id": "d5bc37b0",
   "metadata": {},
   "source": [
    "Finally, instruct Spark to execute this `process_batch` function **for each RDD** you will have in your DStream"
   ]
  },
  {
   "cell_type": "code",
   "execution_count": 18,
   "id": "6ac381b8",
   "metadata": {},
   "outputs": [],
   "source": [
    "row_stream.foreachRDD(process_batch)"
   ]
  },
  {
   "cell_type": "markdown",
   "id": "5d51b635",
   "metadata": {},
   "source": [
    "Now you should be ready to start the spark streaming context"
   ]
  },
  {
   "cell_type": "code",
   "execution_count": 19,
   "id": "07b9ee85",
   "metadata": {
    "scrolled": true
   },
   "outputs": [
    {
     "name": "stderr",
     "output_type": "stream",
     "text": [
      "[Stage 13:>                 (0 + 1) / 1][Stage 14:=========>        (1 + 1) / 2]\r"
     ]
    },
    {
     "name": "stdout",
     "output_type": "stream",
     "text": [
      "+---+-----+\n",
      "| id|fraud|\n",
      "+---+-----+\n",
      "+---+-----+\n",
      "\n"
     ]
    },
    {
     "name": "stderr",
     "output_type": "stream",
     "text": [
      "                                                                                \r"
     ]
    },
    {
     "name": "stdout",
     "output_type": "stream",
     "text": [
      "+---------+-----+\n",
      "|       id|fraud|\n",
      "+---------+-----+\n",
      "|JohnJones|    1|\n",
      "|JohnDarby|    1|\n",
      "+---------+-----+\n",
      "\n"
     ]
    },
    {
     "name": "stderr",
     "output_type": "stream",
     "text": [
      "                                                                                \r"
     ]
    },
    {
     "name": "stdout",
     "output_type": "stream",
     "text": [
      "+---+-----+\n",
      "| id|fraud|\n",
      "+---+-----+\n",
      "+---+-----+\n",
      "\n"
     ]
    },
    {
     "name": "stderr",
     "output_type": "stream",
     "text": [
      "                                                                                \r"
     ]
    },
    {
     "name": "stdout",
     "output_type": "stream",
     "text": [
      "+---+-----+\n",
      "| id|fraud|\n",
      "+---+-----+\n",
      "+---+-----+\n",
      "\n"
     ]
    },
    {
     "name": "stderr",
     "output_type": "stream",
     "text": [
      "                                                                                \r"
     ]
    },
    {
     "name": "stdout",
     "output_type": "stream",
     "text": [
      "+---+-----+\n",
      "| id|fraud|\n",
      "+---+-----+\n",
      "+---+-----+\n",
      "\n"
     ]
    }
   ],
   "source": [
    "ssc.start()"
   ]
  },
  {
   "cell_type": "code",
   "execution_count": 20,
   "id": "b834a208",
   "metadata": {
    "scrolled": false
   },
   "outputs": [
    {
     "name": "stderr",
     "output_type": "stream",
     "text": [
      "\r",
      "[Stage 13:>                                                         (0 + 1) / 1]\r"
     ]
    },
    {
     "name": "stdout",
     "output_type": "stream",
     "text": [
      "23/05/01 08:50:34 ERROR ReceiverTracker: Deregistered receiver for stream 0: Stopped by driver\n",
      "+---+-----+\n",
      "| id|fraud|\n",
      "+---+-----+\n",
      "+---+-----+\n",
      "\n"
     ]
    },
    {
     "name": "stderr",
     "output_type": "stream",
     "text": [
      "\r",
      "                                                                                \r"
     ]
    },
    {
     "name": "stdout",
     "output_type": "stream",
     "text": [
      "23/05/01 08:50:35 ERROR TaskSchedulerImpl: Lost executor 0 on 192.168.160.4: Remote RPC client disassociated. Likely due to containers exceeding thresholds, or network issues. Check driver logs for WARN messages.\n",
      "23/05/01 08:50:35 WARN BlockManagerMasterEndpoint: No more replicas available for input-0-1682930988800 !\n",
      "23/05/01 08:50:35 WARN BlockManagerMasterEndpoint: No more replicas available for input-0-1682930990200 !\n",
      "23/05/01 08:50:35 WARN BlockManagerMasterEndpoint: No more replicas available for input-0-1682930989200 !\n",
      "23/05/01 08:50:35 WARN BlockManagerMasterEndpoint: No more replicas available for input-0-1682930991000 !\n",
      "23/05/01 08:50:35 WARN BlockManagerMasterEndpoint: No more replicas available for input-0-1682930989600 !\n",
      "23/05/01 08:50:35 WARN BlockManagerMasterEndpoint: No more replicas available for input-0-1682930989400 !\n",
      "23/05/01 08:50:35 WARN BlockManagerMasterEndpoint: No more replicas available for input-0-1682930988200 !\n",
      "23/05/01 08:50:35 WARN BlockManagerMasterEndpoint: No more replicas available for input-0-1682930990800 !\n"
     ]
    }
   ],
   "source": [
    "# stop streaming context\n",
    "ssc.stop(stopSparkContext=False)"
   ]
  },
  {
   "cell_type": "markdown",
   "id": "96ded7c6",
   "metadata": {},
   "source": [
    "## Stop worker and master"
   ]
  },
  {
   "cell_type": "code",
   "execution_count": 21,
   "id": "1ebe7a5f",
   "metadata": {},
   "outputs": [],
   "source": [
    "sc.stop()\n",
    "spark.stop()"
   ]
  },
  {
   "cell_type": "markdown",
   "id": "a1b1d5d3",
   "metadata": {},
   "source": [
    "Finally, use `docker compose down` to stop and clear all running containers."
   ]
  },
  {
   "cell_type": "code",
   "execution_count": null,
   "id": "f989b717",
   "metadata": {},
   "outputs": [],
   "source": []
  }
 ],
 "metadata": {
  "kernelspec": {
   "display_name": "Python 3 (ipykernel)",
   "language": "python",
   "name": "python3"
  },
  "language_info": {
   "codemirror_mode": {
    "name": "ipython",
    "version": 3
   },
   "file_extension": ".py",
   "mimetype": "text/x-python",
   "name": "python",
   "nbconvert_exporter": "python",
   "pygments_lexer": "ipython3",
   "version": "3.9.12"
  }
 },
 "nbformat": 4,
 "nbformat_minor": 5
}
